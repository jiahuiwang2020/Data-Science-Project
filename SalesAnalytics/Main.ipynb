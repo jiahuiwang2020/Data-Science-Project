{
 "cells": [
  {
   "cell_type": "markdown",
   "metadata": {},
   "source": [
    "# Sales of summer clothes in E-commerce Wish\n",
    "### Data Science project from Kaggle: \n",
    "https://www.kaggle.com/jmmvutu/summer-products-and-sales-in-ecommerce-wish\n",
    "\n",
    "#### \n",
    "### Task description\n",
    "Re-stocking products with the best potential is crucial for shops and businesses around the world.\n",
    "Through this dataset and task, you are requested to build a model that can help predict how well a product is going to sell.\n",
    "Such a model has many implications and could be used in many different ways, the most straightforward being to adjust how much of a product should be kept in stock.\n",
    "This would allow you to better understand e-commerce sales and get you a certain expertise for helping businesses optimize their stocks and sales."
   ]
  },
  {
   "cell_type": "markdown",
   "metadata": {},
   "source": [
    "### Load dataset"
   ]
  },
  {
   "cell_type": "code",
   "execution_count": 1,
   "metadata": {},
   "outputs": [],
   "source": [
    "# import libraries for exploratory data analysis\n",
    "import pandas as pd # data analysis\n",
    "import numpy as np # linear algebra\n",
    "\n",
    "# import libraries to visualise the data\n",
    "import matplotlib.pyplot as plt\n",
    "import seaborn as sns\n",
    "%matplotlib inline\n",
    "\n",
    "# to encode with feature-engine\n",
    "from feature_engine.encoding import CountFrequencyEncoder"
   ]
  },
  {
   "cell_type": "code",
   "execution_count": 2,
   "metadata": {},
   "outputs": [
    {
     "data": {
      "text/html": [
       "<div>\n",
       "<style scoped>\n",
       "    .dataframe tbody tr th:only-of-type {\n",
       "        vertical-align: middle;\n",
       "    }\n",
       "\n",
       "    .dataframe tbody tr th {\n",
       "        vertical-align: top;\n",
       "    }\n",
       "\n",
       "    .dataframe thead th {\n",
       "        text-align: right;\n",
       "    }\n",
       "</style>\n",
       "<table border=\"1\" class=\"dataframe\">\n",
       "  <thead>\n",
       "    <tr style=\"text-align: right;\">\n",
       "      <th></th>\n",
       "      <th>title</th>\n",
       "      <th>title_orig</th>\n",
       "      <th>price</th>\n",
       "      <th>retail_price</th>\n",
       "      <th>currency_buyer</th>\n",
       "      <th>units_sold</th>\n",
       "      <th>uses_ad_boosts</th>\n",
       "      <th>rating</th>\n",
       "      <th>rating_count</th>\n",
       "      <th>rating_five_count</th>\n",
       "      <th>...</th>\n",
       "      <th>merchant_rating_count</th>\n",
       "      <th>merchant_rating</th>\n",
       "      <th>merchant_id</th>\n",
       "      <th>merchant_has_profile_picture</th>\n",
       "      <th>merchant_profile_picture</th>\n",
       "      <th>product_url</th>\n",
       "      <th>product_picture</th>\n",
       "      <th>product_id</th>\n",
       "      <th>theme</th>\n",
       "      <th>crawl_month</th>\n",
       "    </tr>\n",
       "  </thead>\n",
       "  <tbody>\n",
       "    <tr>\n",
       "      <th>0</th>\n",
       "      <td>2020 Summer Vintage Flamingo Print  Pajamas Se...</td>\n",
       "      <td>2020 Summer Vintage Flamingo Print  Pajamas Se...</td>\n",
       "      <td>16.00</td>\n",
       "      <td>14</td>\n",
       "      <td>EUR</td>\n",
       "      <td>100</td>\n",
       "      <td>0</td>\n",
       "      <td>3.76</td>\n",
       "      <td>54</td>\n",
       "      <td>26.0</td>\n",
       "      <td>...</td>\n",
       "      <td>568</td>\n",
       "      <td>4.128521</td>\n",
       "      <td>595097d6a26f6e070cb878d1</td>\n",
       "      <td>0</td>\n",
       "      <td>NaN</td>\n",
       "      <td>https://www.wish.com/c/5e9ae51d43d6a96e303acdb0</td>\n",
       "      <td>https://contestimg.wish.com/api/webimage/5e9ae...</td>\n",
       "      <td>5e9ae51d43d6a96e303acdb0</td>\n",
       "      <td>summer</td>\n",
       "      <td>2020-08</td>\n",
       "    </tr>\n",
       "    <tr>\n",
       "      <th>1</th>\n",
       "      <td>SSHOUSE Summer Casual Sleeveless Soirée Party ...</td>\n",
       "      <td>Women's Casual Summer Sleeveless Sexy Mini Dress</td>\n",
       "      <td>8.00</td>\n",
       "      <td>22</td>\n",
       "      <td>EUR</td>\n",
       "      <td>20000</td>\n",
       "      <td>1</td>\n",
       "      <td>3.45</td>\n",
       "      <td>6135</td>\n",
       "      <td>2269.0</td>\n",
       "      <td>...</td>\n",
       "      <td>17752</td>\n",
       "      <td>3.899673</td>\n",
       "      <td>56458aa03a698c35c9050988</td>\n",
       "      <td>0</td>\n",
       "      <td>NaN</td>\n",
       "      <td>https://www.wish.com/c/58940d436a0d3d5da4e95a38</td>\n",
       "      <td>https://contestimg.wish.com/api/webimage/58940...</td>\n",
       "      <td>58940d436a0d3d5da4e95a38</td>\n",
       "      <td>summer</td>\n",
       "      <td>2020-08</td>\n",
       "    </tr>\n",
       "    <tr>\n",
       "      <th>2</th>\n",
       "      <td>2020 Nouvelle Arrivée Femmes Printemps et Été ...</td>\n",
       "      <td>2020 New Arrival Women Spring and Summer Beach...</td>\n",
       "      <td>8.00</td>\n",
       "      <td>43</td>\n",
       "      <td>EUR</td>\n",
       "      <td>100</td>\n",
       "      <td>0</td>\n",
       "      <td>3.57</td>\n",
       "      <td>14</td>\n",
       "      <td>5.0</td>\n",
       "      <td>...</td>\n",
       "      <td>295</td>\n",
       "      <td>3.989831</td>\n",
       "      <td>5d464a1ffdf7bc44ee933c65</td>\n",
       "      <td>0</td>\n",
       "      <td>NaN</td>\n",
       "      <td>https://www.wish.com/c/5ea10e2c617580260d55310a</td>\n",
       "      <td>https://contestimg.wish.com/api/webimage/5ea10...</td>\n",
       "      <td>5ea10e2c617580260d55310a</td>\n",
       "      <td>summer</td>\n",
       "      <td>2020-08</td>\n",
       "    </tr>\n",
       "    <tr>\n",
       "      <th>3</th>\n",
       "      <td>Hot Summer Cool T-shirt pour les femmes Mode T...</td>\n",
       "      <td>Hot Summer Cool T Shirt for Women Fashion Tops...</td>\n",
       "      <td>8.00</td>\n",
       "      <td>8</td>\n",
       "      <td>EUR</td>\n",
       "      <td>5000</td>\n",
       "      <td>1</td>\n",
       "      <td>4.03</td>\n",
       "      <td>579</td>\n",
       "      <td>295.0</td>\n",
       "      <td>...</td>\n",
       "      <td>23832</td>\n",
       "      <td>4.020435</td>\n",
       "      <td>58cfdefdacb37b556efdff7c</td>\n",
       "      <td>0</td>\n",
       "      <td>NaN</td>\n",
       "      <td>https://www.wish.com/c/5cedf17ad1d44c52c59e4aca</td>\n",
       "      <td>https://contestimg.wish.com/api/webimage/5cedf...</td>\n",
       "      <td>5cedf17ad1d44c52c59e4aca</td>\n",
       "      <td>summer</td>\n",
       "      <td>2020-08</td>\n",
       "    </tr>\n",
       "    <tr>\n",
       "      <th>4</th>\n",
       "      <td>Femmes Shorts d'été à lacets taille élastique ...</td>\n",
       "      <td>Women Summer Shorts Lace Up Elastic Waistband ...</td>\n",
       "      <td>2.72</td>\n",
       "      <td>3</td>\n",
       "      <td>EUR</td>\n",
       "      <td>100</td>\n",
       "      <td>1</td>\n",
       "      <td>3.10</td>\n",
       "      <td>20</td>\n",
       "      <td>6.0</td>\n",
       "      <td>...</td>\n",
       "      <td>14482</td>\n",
       "      <td>4.001588</td>\n",
       "      <td>5ab3b592c3911a095ad5dadb</td>\n",
       "      <td>0</td>\n",
       "      <td>NaN</td>\n",
       "      <td>https://www.wish.com/c/5ebf5819ebac372b070b0e70</td>\n",
       "      <td>https://contestimg.wish.com/api/webimage/5ebf5...</td>\n",
       "      <td>5ebf5819ebac372b070b0e70</td>\n",
       "      <td>summer</td>\n",
       "      <td>2020-08</td>\n",
       "    </tr>\n",
       "  </tbody>\n",
       "</table>\n",
       "<p>5 rows × 43 columns</p>\n",
       "</div>"
      ],
      "text/plain": [
       "                                               title  \\\n",
       "0  2020 Summer Vintage Flamingo Print  Pajamas Se...   \n",
       "1  SSHOUSE Summer Casual Sleeveless Soirée Party ...   \n",
       "2  2020 Nouvelle Arrivée Femmes Printemps et Été ...   \n",
       "3  Hot Summer Cool T-shirt pour les femmes Mode T...   \n",
       "4  Femmes Shorts d'été à lacets taille élastique ...   \n",
       "\n",
       "                                          title_orig  price  retail_price  \\\n",
       "0  2020 Summer Vintage Flamingo Print  Pajamas Se...  16.00            14   \n",
       "1   Women's Casual Summer Sleeveless Sexy Mini Dress   8.00            22   \n",
       "2  2020 New Arrival Women Spring and Summer Beach...   8.00            43   \n",
       "3  Hot Summer Cool T Shirt for Women Fashion Tops...   8.00             8   \n",
       "4  Women Summer Shorts Lace Up Elastic Waistband ...   2.72             3   \n",
       "\n",
       "  currency_buyer  units_sold  uses_ad_boosts  rating  rating_count  \\\n",
       "0            EUR         100               0    3.76            54   \n",
       "1            EUR       20000               1    3.45          6135   \n",
       "2            EUR         100               0    3.57            14   \n",
       "3            EUR        5000               1    4.03           579   \n",
       "4            EUR         100               1    3.10            20   \n",
       "\n",
       "   rating_five_count  ...  merchant_rating_count  merchant_rating  \\\n",
       "0               26.0  ...                    568         4.128521   \n",
       "1             2269.0  ...                  17752         3.899673   \n",
       "2                5.0  ...                    295         3.989831   \n",
       "3              295.0  ...                  23832         4.020435   \n",
       "4                6.0  ...                  14482         4.001588   \n",
       "\n",
       "                merchant_id  merchant_has_profile_picture  \\\n",
       "0  595097d6a26f6e070cb878d1                             0   \n",
       "1  56458aa03a698c35c9050988                             0   \n",
       "2  5d464a1ffdf7bc44ee933c65                             0   \n",
       "3  58cfdefdacb37b556efdff7c                             0   \n",
       "4  5ab3b592c3911a095ad5dadb                             0   \n",
       "\n",
       "   merchant_profile_picture                                      product_url  \\\n",
       "0                       NaN  https://www.wish.com/c/5e9ae51d43d6a96e303acdb0   \n",
       "1                       NaN  https://www.wish.com/c/58940d436a0d3d5da4e95a38   \n",
       "2                       NaN  https://www.wish.com/c/5ea10e2c617580260d55310a   \n",
       "3                       NaN  https://www.wish.com/c/5cedf17ad1d44c52c59e4aca   \n",
       "4                       NaN  https://www.wish.com/c/5ebf5819ebac372b070b0e70   \n",
       "\n",
       "                                     product_picture  \\\n",
       "0  https://contestimg.wish.com/api/webimage/5e9ae...   \n",
       "1  https://contestimg.wish.com/api/webimage/58940...   \n",
       "2  https://contestimg.wish.com/api/webimage/5ea10...   \n",
       "3  https://contestimg.wish.com/api/webimage/5cedf...   \n",
       "4  https://contestimg.wish.com/api/webimage/5ebf5...   \n",
       "\n",
       "                 product_id   theme crawl_month  \n",
       "0  5e9ae51d43d6a96e303acdb0  summer     2020-08  \n",
       "1  58940d436a0d3d5da4e95a38  summer     2020-08  \n",
       "2  5ea10e2c617580260d55310a  summer     2020-08  \n",
       "3  5cedf17ad1d44c52c59e4aca  summer     2020-08  \n",
       "4  5ebf5819ebac372b070b0e70  summer     2020-08  \n",
       "\n",
       "[5 rows x 43 columns]"
      ]
     },
     "execution_count": 2,
     "metadata": {},
     "output_type": "execute_result"
    }
   ],
   "source": [
    "# load dataset\n",
    "data = pd.read_csv('dataset/summer-products-with-rating-and-performance_2020-08.csv')\n",
    "\n",
    "data.head()"
   ]
  },
  {
   "cell_type": "code",
   "execution_count": 3,
   "metadata": {
    "scrolled": false
   },
   "outputs": [
    {
     "data": {
      "text/plain": [
       "Index(['title', 'title_orig', 'price', 'retail_price', 'currency_buyer',\n",
       "       'units_sold', 'uses_ad_boosts', 'rating', 'rating_count',\n",
       "       'rating_five_count', 'rating_four_count', 'rating_three_count',\n",
       "       'rating_two_count', 'rating_one_count', 'badges_count',\n",
       "       'badge_local_product', 'badge_product_quality', 'badge_fast_shipping',\n",
       "       'tags', 'product_color', 'product_variation_size_id',\n",
       "       'product_variation_inventory', 'shipping_option_name',\n",
       "       'shipping_option_price', 'shipping_is_express', 'countries_shipped_to',\n",
       "       'inventory_total', 'has_urgency_banner', 'urgency_text',\n",
       "       'origin_country', 'merchant_title', 'merchant_name',\n",
       "       'merchant_info_subtitle', 'merchant_rating_count', 'merchant_rating',\n",
       "       'merchant_id', 'merchant_has_profile_picture',\n",
       "       'merchant_profile_picture', 'product_url', 'product_picture',\n",
       "       'product_id', 'theme', 'crawl_month'],\n",
       "      dtype='object')"
      ]
     },
     "execution_count": 3,
     "metadata": {},
     "output_type": "execute_result"
    }
   ],
   "source": [
    "# columns of dataset\n",
    "data.columns"
   ]
  },
  {
   "cell_type": "code",
   "execution_count": 4,
   "metadata": {},
   "outputs": [
    {
     "name": "stdout",
     "output_type": "stream",
     "text": [
      "<class 'pandas.core.frame.DataFrame'>\n",
      "RangeIndex: 1573 entries, 0 to 1572\n",
      "Data columns (total 43 columns):\n",
      " #   Column                        Non-Null Count  Dtype  \n",
      "---  ------                        --------------  -----  \n",
      " 0   title                         1573 non-null   object \n",
      " 1   title_orig                    1573 non-null   object \n",
      " 2   price                         1573 non-null   float64\n",
      " 3   retail_price                  1573 non-null   int64  \n",
      " 4   currency_buyer                1573 non-null   object \n",
      " 5   units_sold                    1573 non-null   int64  \n",
      " 6   uses_ad_boosts                1573 non-null   int64  \n",
      " 7   rating                        1573 non-null   float64\n",
      " 8   rating_count                  1573 non-null   int64  \n",
      " 9   rating_five_count             1528 non-null   float64\n",
      " 10  rating_four_count             1528 non-null   float64\n",
      " 11  rating_three_count            1528 non-null   float64\n",
      " 12  rating_two_count              1528 non-null   float64\n",
      " 13  rating_one_count              1528 non-null   float64\n",
      " 14  badges_count                  1573 non-null   int64  \n",
      " 15  badge_local_product           1573 non-null   int64  \n",
      " 16  badge_product_quality         1573 non-null   int64  \n",
      " 17  badge_fast_shipping           1573 non-null   int64  \n",
      " 18  tags                          1573 non-null   object \n",
      " 19  product_color                 1532 non-null   object \n",
      " 20  product_variation_size_id     1559 non-null   object \n",
      " 21  product_variation_inventory   1573 non-null   int64  \n",
      " 22  shipping_option_name          1573 non-null   object \n",
      " 23  shipping_option_price         1573 non-null   int64  \n",
      " 24  shipping_is_express           1573 non-null   int64  \n",
      " 25  countries_shipped_to          1573 non-null   int64  \n",
      " 26  inventory_total               1573 non-null   int64  \n",
      " 27  has_urgency_banner            473 non-null    float64\n",
      " 28  urgency_text                  473 non-null    object \n",
      " 29  origin_country                1556 non-null   object \n",
      " 30  merchant_title                1573 non-null   object \n",
      " 31  merchant_name                 1569 non-null   object \n",
      " 32  merchant_info_subtitle        1572 non-null   object \n",
      " 33  merchant_rating_count         1573 non-null   int64  \n",
      " 34  merchant_rating               1573 non-null   float64\n",
      " 35  merchant_id                   1573 non-null   object \n",
      " 36  merchant_has_profile_picture  1573 non-null   int64  \n",
      " 37  merchant_profile_picture      226 non-null    object \n",
      " 38  product_url                   1573 non-null   object \n",
      " 39  product_picture               1573 non-null   object \n",
      " 40  product_id                    1573 non-null   object \n",
      " 41  theme                         1573 non-null   object \n",
      " 42  crawl_month                   1573 non-null   object \n",
      "dtypes: float64(9), int64(15), object(19)\n",
      "memory usage: 528.6+ KB\n"
     ]
    }
   ],
   "source": [
    "data.info()"
   ]
  },
  {
   "cell_type": "markdown",
   "metadata": {},
   "source": [
    "### Data cleaning and feature engineering"
   ]
  },
  {
   "cell_type": "markdown",
   "metadata": {},
   "source": [
    "### Handle Missing value"
   ]
  },
  {
   "cell_type": "code",
   "execution_count": 5,
   "metadata": {},
   "outputs": [
    {
     "data": {
      "text/plain": [
       "43"
      ]
     },
     "execution_count": 5,
     "metadata": {},
     "output_type": "execute_result"
    }
   ],
   "source": [
    "# number of columns with missing values\n",
    "len(data.isnull().sum())"
   ]
  },
  {
   "cell_type": "code",
   "execution_count": 6,
   "metadata": {},
   "outputs": [
    {
     "data": {
      "text/plain": [
       "merchant_profile_picture        1347\n",
       "has_urgency_banner              1100\n",
       "urgency_text                    1100\n",
       "rating_one_count                  45\n",
       "rating_two_count                  45\n",
       "rating_three_count                45\n",
       "rating_four_count                 45\n",
       "rating_five_count                 45\n",
       "product_color                     41\n",
       "origin_country                    17\n",
       "product_variation_size_id         14\n",
       "merchant_name                      4\n",
       "merchant_info_subtitle             1\n",
       "crawl_month                        0\n",
       "badges_count                       0\n",
       "rating_count                       0\n",
       "badge_product_quality              0\n",
       "rating                             0\n",
       "uses_ad_boosts                     0\n",
       "units_sold                         0\n",
       "currency_buyer                     0\n",
       "retail_price                       0\n",
       "price                              0\n",
       "title_orig                         0\n",
       "badge_local_product                0\n",
       "product_variation_inventory        0\n",
       "badge_fast_shipping                0\n",
       "merchant_rating_count              0\n",
       "product_id                         0\n",
       "product_picture                    0\n",
       "product_url                        0\n",
       "merchant_has_profile_picture       0\n",
       "merchant_id                        0\n",
       "merchant_rating                    0\n",
       "merchant_title                     0\n",
       "tags                               0\n",
       "inventory_total                    0\n",
       "countries_shipped_to               0\n",
       "shipping_is_express                0\n",
       "shipping_option_price              0\n",
       "shipping_option_name               0\n",
       "theme                              0\n",
       "title                              0\n",
       "dtype: int64"
      ]
     },
     "execution_count": 6,
     "metadata": {},
     "output_type": "execute_result"
    }
   ],
   "source": [
    "# number of missing values in each columns\n",
    "data.isnull().sum().sort_values(ascending=False)"
   ]
  },
  {
   "cell_type": "code",
   "execution_count": 7,
   "metadata": {},
   "outputs": [
    {
     "name": "stdout",
     "output_type": "stream",
     "text": [
      "100       509\n",
      "1000      405\n",
      "5000      217\n",
      "10000     177\n",
      "20000     103\n",
      "50         76\n",
      "10         49\n",
      "50000      17\n",
      "100000      6\n",
      "8           4\n",
      "1           3\n",
      "7           2\n",
      "3           2\n",
      "2           2\n",
      "6           1\n",
      "Name: units_sold, dtype: int64\n"
     ]
    },
    {
     "data": {
      "text/plain": [
       "<AxesSubplot:xlabel='units_sold'>"
      ]
     },
     "execution_count": 7,
     "metadata": {},
     "output_type": "execute_result"
    },
    {
     "data": {
      "image/png": "[encoded data removed]",
      "text/plain": [
       "<Figure size 432x288 with 1 Axes>"
      ]
     },
     "metadata": {
      "needs_background": "light"
     },
     "output_type": "display_data"
    }
   ],
   "source": [
    "# values that represent the success of products\n",
    "print(data['units_sold'].value_counts())\n",
    "sns.boxplot(x='units_sold',data=data)"
   ]
  },
  {
   "cell_type": "code",
   "execution_count": 8,
   "metadata": {},
   "outputs": [
    {
     "data": {
      "text/plain": [
       "100       509\n",
       "1000      405\n",
       "5000      217\n",
       "10000     177\n",
       "20000     103\n",
       "50         76\n",
       "10         63\n",
       "50000      17\n",
       "100000      6\n",
       "Name: units_sold, dtype: int64"
      ]
     },
     "execution_count": 8,
     "metadata": {},
     "output_type": "execute_result"
    }
   ],
   "source": [
    "# treat sales units below 10 as outlier\n",
    "data['units_sold'].replace(range(10),10,inplace=True)\n",
    "data['units_sold'].value_counts()"
   ]
  },
  {
   "cell_type": "code",
   "execution_count": 9,
   "metadata": {},
   "outputs": [
    {
     "data": {
      "text/plain": [
       "<AxesSubplot:xlabel='units_sold', ylabel='count'>"
      ]
     },
     "execution_count": 9,
     "metadata": {},
     "output_type": "execute_result"
    },
    {
     "data": {
      "image/png": "[encoded data removed]",
      "text/plain": [
       "<Figure size 432x288 with 1 Axes>"
      ]
     },
     "metadata": {
      "needs_background": "light"
     },
     "output_type": "display_data"
    }
   ],
   "source": [
    "# show the distribution of units_sold\n",
    "sns.countplot(x='units_sold',data=data)"
   ]
  },
  {
   "cell_type": "code",
   "execution_count": 10,
   "metadata": {},
   "outputs": [],
   "source": [
    "# To determin whether a product is successful or not successful\n",
    "# we introduce a new binary value 'successful_product' depending on sales units\n",
    "# and set the criteria at 10000 items\n",
    "data['units_sold'].replace([10000,20000,50000,100000],1,inplace=True)\n",
    "data['units_sold'].replace([10,50,100,1000,5000],0,inplace=True)"
   ]
  },
  {
   "cell_type": "code",
   "execution_count": 11,
   "metadata": {},
   "outputs": [
    {
     "name": "stdout",
     "output_type": "stream",
     "text": [
      "0    1270\n",
      "1     303\n",
      "Name: successful_product, dtype: int64\n"
     ]
    },
    {
     "data": {
      "text/plain": [
       "<AxesSubplot:xlabel='successful_product', ylabel='Count'>"
      ]
     },
     "execution_count": 11,
     "metadata": {},
     "output_type": "execute_result"
    },
    {
     "data": {
      "image/png": "[encoded data removed]",
      "text/plain": [
       "<Figure size 432x288 with 1 Axes>"
      ]
     },
     "metadata": {
      "needs_background": "light"
     },
     "output_type": "display_data"
    }
   ],
   "source": [
    "data.rename(columns={'units_sold':'successful_product'},inplace=True)\n",
    "\n",
    "# Show the changed values\n",
    "print(data['successful_product'].value_counts())\n",
    "sns.histplot(data['successful_product'])"
   ]
  },
  {
   "cell_type": "code",
   "execution_count": 12,
   "metadata": {},
   "outputs": [
    {
     "data": {
      "text/plain": [
       "merchant_profile_picture    1347\n",
       "has_urgency_banner          1100\n",
       "urgency_text                1100\n",
       "dtype: int64"
      ]
     },
     "execution_count": 12,
     "metadata": {},
     "output_type": "execute_result"
    }
   ],
   "source": [
    "# Three columns have over 1000 missing values\n",
    "data.isnull().sum().sort_values(ascending=False).head(3)"
   ]
  },
  {
   "cell_type": "code",
   "execution_count": 13,
   "metadata": {},
   "outputs": [
    {
     "data": {
      "text/plain": [
       "array([nan,\n",
       "       'https://s3-us-west-1.amazonaws.com/sweeper-production-merchantimage/dp_5652f4053a698c76dc9a3f37.jpg',\n",
       "       'https://s3-us-west-1.amazonaws.com/sweeper-production-merchantimage/dp_55ed5a3362e273427107759e.jpg',\n",
       "       'https://s3-us-west-1.amazonaws.com/sweeper-production-merchantimage/dp_539937d634067e06707b1a8e.jpg',\n",
       "       'https://s3-us-west-1.amazonaws.com/sweeper-production-merchantimage/dp_57108cd6a995b507211ef8fb.jpg',\n",
       "       'https://s3-us-west-1.amazonaws.com/sweeper-production-merchantimage/dp_5268759b736046671957190c.jpg',\n",
       "       'https://s3-us-west-1.amazonaws.com/sweeper-production-merchantimage/dp_5660e53e769a564b3e3aeca0.jpg',\n",
       "       'https://s3-us-west-1.amazonaws.com/sweeper-production-merchantimage/dp_55e7e41e606d0a18fdfc67d1.jpg',\n",
       "       'https://s3-us-west-1.amazonaws.com/sweeper-production-merchantimage/dp_580f06685250a20783d33e56.jpg',\n",
       "       'https://s3-us-west-1.amazonaws.com/sweeper-production-merchantimage/dp_577fb2b368116418674befd9.jpg',\n",
       "       'https://s3-us-west-1.amazonaws.com/sweeper-production-merchantimage/dp_5b14d31d7e43f22f255ea98c.jpg',\n",
       "       'https://s3-us-west-1.amazonaws.com/sweeper-production-merchantimage/dp_55c8a4c33a698c6010edcd9e.jpg',\n",
       "       'https://s3-us-west-1.amazonaws.com/sweeper-production-merchantimage/dp_5d462e58f320403871a78593.jpg',\n",
       "       'https://s3-us-west-1.amazonaws.com/sweeper-production-merchantimage/dp_58ad449708de0c6dc59d9e06.jpg',\n",
       "       'https://s3-us-west-1.amazonaws.com/sweeper-production-merchantimage/dp_53f2beb39020ee03566d6e18.jpg',\n",
       "       'https://s3-us-west-1.amazonaws.com/sweeper-production-merchantimage/dp_55c8029641d799421d41fe3a.jpg',\n",
       "       'https://s3-us-west-1.amazonaws.com/sweeper-production-merchantimage/dp_54db03867851097093c0efe7.jpg',\n",
       "       'https://s3-us-west-1.amazonaws.com/sweeper-production-merchantimage/dp_5db248327c0d0800c24fc084.jpg',\n",
       "       'https://s3-us-west-1.amazonaws.com/sweeper-production-merchantimage/dp_565537c7a9a8a4572be0bef5.jpg',\n",
       "       'https://s3-us-west-1.amazonaws.com/sweeper-production-merchantimage/dp_58c910072be00b51c601ccee.jpg',\n",
       "       'https://s3-us-west-1.amazonaws.com/sweeper-production-merchantimage/dp_5acaf29d5ebcfd72403106a8.jpg',\n",
       "       'https://s3-us-west-1.amazonaws.com/sweeper-production-merchantimage/dp_5533c83986ff95173dc017d0.jpg',\n",
       "       'https://s3-us-west-1.amazonaws.com/sweeper-production-merchantimage/dp_567eb3a5d8a1043c0ab70707.jpg',\n",
       "       'https://s3-us-west-1.amazonaws.com/sweeper-production-merchantimage/dp_55ed54947e8372421830b946.jpg',\n",
       "       'https://s3-us-west-1.amazonaws.com/sweeper-production-merchantimage/dp_557ed5b886d66519ff242099.jpg',\n",
       "       'https://s3-us-west-1.amazonaws.com/sweeper-production-merchantimage/dp_5853765779b45e0b58ad30f4.jpg',\n",
       "       'https://s3-us-west-1.amazonaws.com/sweeper-production-merchantimage/dp_5817f156d8ef7848c3b400cc.jpg',\n",
       "       'https://s3-us-west-1.amazonaws.com/sweeper-production-merchantimage/dp_582173d6797f2308a87626e7.jpg',\n",
       "       'https://s3-us-west-1.amazonaws.com/sweeper-production-merchantimage/dp_57713183bd6b18740117229d.jpg',\n",
       "       'https://s3-us-west-1.amazonaws.com/sweeper-production-merchantimage/dp_57c306d73a698c06f98ed450.jpg',\n",
       "       'https://s3-us-west-1.amazonaws.com/sweeper-production-merchantimage/dp_5417aada4ad3ab27e954b76c.jpg',\n",
       "       'https://s3-us-west-1.amazonaws.com/sweeper-production-merchantimage/dp_582bd2fde18c0f0a402ba101.jpg',\n",
       "       'https://s3-us-west-1.amazonaws.com/sweeper-production-merchantimage/dp_546d44001280fa3ce1bf80fa.jpg',\n",
       "       'https://s3-us-west-1.amazonaws.com/sweeper-production-merchantimage/dp_56680c90e363a3613607ea61.jpg',\n",
       "       'https://s3-us-west-1.amazonaws.com/sweeper-production-merchantimage/dp_550ab2be8e8def0b2c654d4b.jpg',\n",
       "       'https://s3-us-west-1.amazonaws.com/sweeper-production-merchantimage/dp_530306fe34067e3f15c41d87.jpg',\n",
       "       'https://s3-us-west-1.amazonaws.com/sweeper-production-merchantimage/dp_5df71a34092d7302140be245.jpg',\n",
       "       'https://s3-us-west-1.amazonaws.com/sweeper-production-merchantimage/dp_547465748edcfa6ceab14f70.jpg',\n",
       "       'https://s3-us-west-1.amazonaws.com/sweeper-production-merchantimage/dp_57973560cb38dd77d126e9f1.jpg',\n",
       "       'https://s3-us-west-1.amazonaws.com/sweeper-production-merchantimage/dp_58b011e82e27bf506cee1ace.jpg',\n",
       "       'https://s3-us-west-1.amazonaws.com/sweeper-production-merchantimage/dp_56669d89eb4b14361d45090f.jpg',\n",
       "       'https://s3-us-west-1.amazonaws.com/sweeper-production-merchantimage/dp_5902b4eab3e322098d3b41eb.jpg',\n",
       "       'https://s3-us-west-1.amazonaws.com/sweeper-production-merchantimage/dp_5609de679b11090d3bafce69.jpg',\n",
       "       'https://s3-us-west-1.amazonaws.com/sweeper-production-merchantimage/dp_593aa1956a74d26d7914a7e4.jpg',\n",
       "       'https://s3-us-west-1.amazonaws.com/sweeper-production-merchantimage/dp_5ba08911269570054ba2b669.jpg',\n",
       "       'https://s3-us-west-1.amazonaws.com/sweeper-production-merchantimage/dp_55ed4e573a698c3a9daa8b2b.jpg',\n",
       "       'https://s3-us-west-1.amazonaws.com/sweeper-production-merchantimage/dp_56f0f2bdc3c3715871ade946.jpg',\n",
       "       'https://s3-us-west-1.amazonaws.com/sweeper-production-merchantimage/dp_58fde9517c09181253b0ef86.jpg',\n",
       "       'https://s3-us-west-1.amazonaws.com/sweeper-production-merchantimage/dp_55cc3e5f845591103477a2f8.jpg',\n",
       "       'https://s3-us-west-1.amazonaws.com/sweeper-production-merchantimage/dp_5495976a40b3782bc8b3654a.jpg',\n",
       "       'https://s3-us-west-1.amazonaws.com/sweeper-production-merchantimage/dp_55d18ce6183a5d103f970011.jpg',\n",
       "       'https://s3-us-west-1.amazonaws.com/sweeper-production-merchantimage/dp_5541ba455252290c0b225b1f.jpg',\n",
       "       'https://s3-us-west-1.amazonaws.com/sweeper-production-merchantimage/dp_54869cf344a28275e008fb00.jpg',\n",
       "       'https://s3-us-west-1.amazonaws.com/sweeper-production-merchantimage/dp_53e03f56ff4d6d36d2285ab0.jpg',\n",
       "       'https://s3-us-west-1.amazonaws.com/sweeper-production-merchantimage/dp_58d12c00b9d9d6505a44c4e6.jpg',\n",
       "       'https://s3-us-west-1.amazonaws.com/sweeper-production-merchantimage/dp_590189980094b829518713b8.jpg',\n",
       "       'https://s3-us-west-1.amazonaws.com/sweeper-production-merchantimage/dp_53facca81c105e3d5866e212.jpg',\n",
       "       'https://s3-us-west-1.amazonaws.com/sweeper-production-merchantimage/dp_570d017b1b4ca758e18e407d.jpg',\n",
       "       'https://s3-us-west-1.amazonaws.com/sweeper-production-merchantimage/dp_53e4bb20ff4d6d1b68bdb6d1.jpg',\n",
       "       'https://s3-us-west-1.amazonaws.com/sweeper-production-merchantimage/dp_5620c3b23a698c4bc7d17e8c.jpg',\n",
       "       'https://s3-us-west-1.amazonaws.com/sweeper-production-merchantimage/dp_56db028b3a9cb801c374b3c6.jpg',\n",
       "       'https://s3-us-west-1.amazonaws.com/sweeper-production-merchantimage/dp_5384613a796f680f9d78a127.jpg',\n",
       "       'https://s3-us-west-1.amazonaws.com/sweeper-production-merchantimage/dp_56e43d9e3a698c3826a5feff.jpg',\n",
       "       'https://s3-us-west-1.amazonaws.com/sweeper-production-merchantimage/dp_58131ddf6f55296033923a7c.jpg',\n",
       "       'https://s3-us-west-1.amazonaws.com/sweeper-production-merchantimage/dp_5abb2cf26be8733b5bf6844f.jpg',\n",
       "       'https://s3-us-west-1.amazonaws.com/sweeper-production-merchantimage/dp_57875ba40cb30d38ba46f57d.jpg',\n",
       "       'https://s3-us-west-1.amazonaws.com/sweeper-production-merchantimage/dp_58f6f47891a95f10f0c54b8c.jpg',\n",
       "       'https://s3-us-west-1.amazonaws.com/sweeper-production-merchantimage/dp_53db691bd911395c8b2f92be.jpg',\n",
       "       'https://s3-us-west-1.amazonaws.com/sweeper-production-merchantimage/dp_58a3f270e269ee522580e6bb.jpg',\n",
       "       'https://s3-us-west-1.amazonaws.com/sweeper-production-merchantimage/dp_5512b0d98e8def07a462e1d7.jpg',\n",
       "       'https://s3-us-west-1.amazonaws.com/sweeper-production-merchantimage/dp_59c7610621064f2f6c8c9fe7.jpg',\n",
       "       'https://s3-us-west-1.amazonaws.com/sweeper-production-merchantimage/dp_589e67aa3205e17175ced38e.jpg',\n",
       "       'https://s3-us-west-1.amazonaws.com/sweeper-production-merchantimage/dp_5646025ecb3a45127928c032.jpg',\n",
       "       'https://s3-us-west-1.amazonaws.com/sweeper-production-merchantimage/dp_55d480c092e9ba1242bd816a.jpg',\n",
       "       'https://s3-us-west-1.amazonaws.com/sweeper-production-merchantimage/dp_561dc58d1f1ffb54d008b82f.jpg',\n",
       "       'https://s3-us-west-1.amazonaws.com/sweeper-production-merchantimage/dp_58dceeb2a6d6757401114dfd.jpg',\n",
       "       'https://s3-us-west-1.amazonaws.com/sweeper-production-merchantimage/dp_570ceafac277d445e3cbebe5.jpg',\n",
       "       'https://s3-us-west-1.amazonaws.com/sweeper-production-merchantimage/dp_553c93bcd57a0156022b1598.jpg',\n",
       "       'https://s3-us-west-1.amazonaws.com/sweeper-production-merchantimage/dp_5542fcb264b4f014ce88ecae.jpg',\n",
       "       'https://s3-us-west-1.amazonaws.com/sweeper-production-merchantimage/dp_5885a7e767f7c84d7657d220.jpg',\n",
       "       'https://s3-us-west-1.amazonaws.com/sweeper-production-merchantimage/dp_559f4066577ce11970f7f7fa.jpg',\n",
       "       'https://s3-us-west-1.amazonaws.com/sweeper-production-merchantimage/dp_55419b79439bb51755098f63.jpg',\n",
       "       'https://s3-us-west-1.amazonaws.com/sweeper-production-merchantimage/dp_57ee6909567a8d101913df98.jpg',\n",
       "       'https://s3-us-west-1.amazonaws.com/sweeper-production-merchantimage/dp_587f85cbb8038f4cb049c56c.jpg',\n",
       "       'https://s3-us-west-1.amazonaws.com/sweeper-production-merchantimage/dp_5b8deaae2eb51f6d30ff9a3d.jpg',\n",
       "       'https://s3-us-west-1.amazonaws.com/sweeper-production-merchantimage/dp_53ad2f5a46188e43c8b6bef6.jpg',\n",
       "       'https://s3-us-west-1.amazonaws.com/sweeper-production-merchantimage/dp_53994751796f684b7f2193b5.jpg',\n",
       "       'https://s3-us-west-1.amazonaws.com/sweeper-production-merchantimage/dp_582872761004352e57ee38a1.jpg',\n",
       "       'https://s3-us-west-1.amazonaws.com/sweeper-production-merchantimage/dp_57568f454054c95cbd8d1619.jpg',\n",
       "       'https://s3-us-west-1.amazonaws.com/sweeper-production-merchantimage/dp_556425de56aea60ea1d17778.jpg',\n",
       "       'https://s3-us-west-1.amazonaws.com/sweeper-production-merchantimage/dp_584bcf7bfef409603f39b619.jpg',\n",
       "       'https://s3-us-west-1.amazonaws.com/sweeper-production-merchantimage/dp_550bed073fca100d87116858.jpg',\n",
       "       'https://s3-us-west-1.amazonaws.com/sweeper-production-merchantimage/dp_5440df5815133758cf40f1e3.jpg',\n",
       "       'https://s3-us-west-1.amazonaws.com/sweeper-production-merchantimage/dp_57fcc26f1c813a50b2a86956.jpg',\n",
       "       'https://s3-us-west-1.amazonaws.com/sweeper-production-merchantimage/dp_57e5db02e7f40f131adeeaf8.jpg',\n",
       "       'https://s3-us-west-1.amazonaws.com/sweeper-production-merchantimage/dp_59aebfa350df6107c1eff8c8.jpg',\n",
       "       'https://s3-us-west-1.amazonaws.com/sweeper-production-merchantimage/dp_56effd3864d54a58a619bdb1.jpg',\n",
       "       'https://s3-us-west-1.amazonaws.com/sweeper-production-merchantimage/dp_5466f5ea1280fa5c9c7ba98e.jpg',\n",
       "       'https://s3-us-west-1.amazonaws.com/sweeper-production-merchantimage/dp_5357bcf2bb72c5504882e889.jpg',\n",
       "       'https://s3-us-west-1.amazonaws.com/sweeper-production-merchantimage/dp_5489a2fe546ead1ec9215829.jpg',\n",
       "       'https://s3-us-west-1.amazonaws.com/sweeper-production-merchantimage/dp_547bfcda3dabbe37af5818b1.jpg',\n",
       "       'https://s3-us-west-1.amazonaws.com/sweeper-production-merchantimage/dp_58539804afa5ec4cae2cdce8.jpg',\n",
       "       'https://s3-us-west-1.amazonaws.com/sweeper-production-merchantimage/dp_55311a071a8a220c1b804371.jpg',\n",
       "       'https://s3-us-west-1.amazonaws.com/sweeper-production-merchantimage/dp_5466fad41280fa5ca27ba85d.jpg',\n",
       "       'https://s3-us-west-1.amazonaws.com/sweeper-production-merchantimage/dp_5927d9ead7f65462c5a1d409.jpg',\n",
       "       'https://s3-us-west-1.amazonaws.com/sweeper-production-merchantimage/dp_578e0488ba8cd20e9b1b4a3b.jpg',\n",
       "       'https://s3-us-west-1.amazonaws.com/sweeper-production-merchantimage/dp_566a25e33a698c1f131fd872.jpg',\n",
       "       'https://s3-us-west-1.amazonaws.com/sweeper-production-merchantimage/dp_55e7ed3230a9764b0761fc82.jpg',\n",
       "       'https://s3-us-west-1.amazonaws.com/sweeper-production-merchantimage/dp_5756d060b833235cbc250227.jpg',\n",
       "       'https://s3-us-west-1.amazonaws.com/sweeper-production-merchantimage/dp_51aff6a38e221e2cafcdc0cb.jpg',\n",
       "       'https://s3-us-west-1.amazonaws.com/sweeper-production-merchantimage/dp_564b2fb5c126a0127af8441e.jpg',\n",
       "       'https://s3-us-west-1.amazonaws.com/sweeper-production-merchantimage/dp_5860cbf734de6c4d4803523d.jpg',\n",
       "       'https://s3-us-west-1.amazonaws.com/sweeper-production-merchantimage/dp_561df3a23a698c711e5e5efa.jpg',\n",
       "       'https://s3-us-west-1.amazonaws.com/sweeper-production-merchantimage/dp_54a2cd4940b3782666e8a5bf.jpg',\n",
       "       'https://s3-us-west-1.amazonaws.com/sweeper-production-merchantimage/dp_5435ef5d01c0c057210e6b32.jpg',\n",
       "       'https://s3-us-west-1.amazonaws.com/sweeper-production-merchantimage/dp_53bd3edad911396c5b3fb0aa.jpg',\n",
       "       'https://s3-us-west-1.amazonaws.com/sweeper-production-merchantimage/dp_5b8f992a2eb51f465ffd388d.jpg',\n",
       "       'https://s3-us-west-1.amazonaws.com/sweeper-production-merchantimage/dp_538f4f18ab980a5167a1d722.jpg',\n",
       "       'https://s3-us-west-1.amazonaws.com/sweeper-production-merchantimage/dp_55a641ddfa6d460ba65ce3b8.jpg',\n",
       "       'https://s3-us-west-1.amazonaws.com/sweeper-production-merchantimage/dp_5556c60071e86d19fe7590d4.jpg',\n",
       "       'https://s3-us-west-1.amazonaws.com/sweeper-production-merchantimage/dp_5466e6343dabbe66ab062be8.jpg',\n",
       "       'https://s3-us-west-1.amazonaws.com/sweeper-production-merchantimage/dp_59146c0c71a2f21160479ee5.jpg',\n",
       "       'https://s3-us-west-1.amazonaws.com/sweeper-production-merchantimage/dp_54b8872d40b37856baa55e38.jpg',\n",
       "       'https://s3-us-west-1.amazonaws.com/sweeper-production-merchantimage/dp_54869f80546ead6e5b318f5b.jpg',\n",
       "       'https://s3-us-west-1.amazonaws.com/sweeper-production-merchantimage/dp_551506dc18b2791039a7286d.jpg',\n",
       "       'https://s3-us-west-1.amazonaws.com/sweeper-production-merchantimage/dp_56c3c5d830d9795c3bad3124.jpg'],\n",
       "      dtype=object)"
      ]
     },
     "execution_count": 13,
     "metadata": {},
     "output_type": "execute_result"
    }
   ],
   "source": [
    "# Take an inspect of the three coloumns\n",
    "data['merchant_profile_picture'].unique()"
   ]
  },
  {
   "cell_type": "code",
   "execution_count": 14,
   "metadata": {},
   "outputs": [
    {
     "data": {
      "text/plain": [
       "1.0    473\n",
       "Name: has_urgency_banner, dtype: int64"
      ]
     },
     "execution_count": 14,
     "metadata": {},
     "output_type": "execute_result"
    }
   ],
   "source": [
    "data['has_urgency_banner'].value_counts()"
   ]
  },
  {
   "cell_type": "code",
   "execution_count": 15,
   "metadata": {
    "scrolled": true
   },
   "outputs": [
    {
     "data": {
      "text/plain": [
       "Quantité limitée !                  472\n",
       "Réduction sur les achats en gros      1\n",
       "Name: urgency_text, dtype: int64"
      ]
     },
     "execution_count": 15,
     "metadata": {},
     "output_type": "execute_result"
    }
   ],
   "source": [
    "data['urgency_text'].value_counts()"
   ]
  },
  {
   "cell_type": "code",
   "execution_count": 16,
   "metadata": {},
   "outputs": [],
   "source": [
    "# encode these columns\n",
    "data['merchant_profile_picture'].replace(np.nan,0,inplace=True)\n",
    "data['has_urgency_banner'].replace(np.nan,0,inplace=True)\n",
    "data['urgency_text'].replace(np.nan,0,inplace=True)"
   ]
  },
  {
   "cell_type": "code",
   "execution_count": 17,
   "metadata": {},
   "outputs": [],
   "source": [
    "data['merchant_profile_picture'].replace([i for i in data['merchant_profile_picture'] if i != 0],1,inplace=True)\n",
    "\n",
    "# drop the column merchant_has_profile_picture to avoid redundancy\n",
    "data.drop(labels='merchant_has_profile_picture',axis=1,inplace=True)"
   ]
  },
  {
   "cell_type": "code",
   "execution_count": 18,
   "metadata": {},
   "outputs": [],
   "source": [
    "data['urgency_text'].replace('Quantité limitée !',1,inplace=True)\n",
    "data['urgency_text'].replace('Réduction sur les achats en gros',1,inplace=True)"
   ]
  },
  {
   "cell_type": "code",
   "execution_count": 19,
   "metadata": {},
   "outputs": [],
   "source": [
    "data.rename({'urgency_text':'quantity_limited'},inplace=True)"
   ]
  },
  {
   "cell_type": "code",
   "execution_count": 20,
   "metadata": {},
   "outputs": [
    {
     "name": "stdout",
     "output_type": "stream",
     "text": [
      "rating_one_count               45\n",
      "rating_two_count               45\n",
      "rating_three_count             45\n",
      "rating_four_count              45\n",
      "rating_five_count              45\n",
      "product_color                  41\n",
      "origin_country                 17\n",
      "product_variation_size_id      14\n",
      "merchant_name                   4\n",
      "merchant_info_subtitle          1\n",
      "rating                          0\n",
      "tags                            0\n",
      "uses_ad_boosts                  0\n",
      "successful_product              0\n",
      "currency_buyer                  0\n",
      "retail_price                    0\n",
      "price                           0\n",
      "title_orig                      0\n",
      "badges_count                    0\n",
      "badge_local_product             0\n",
      "badge_product_quality           0\n",
      "badge_fast_shipping             0\n",
      "rating_count                    0\n",
      "crawl_month                     0\n",
      "theme                           0\n",
      "product_variation_inventory     0\n",
      "product_id                      0\n",
      "product_picture                 0\n",
      "product_url                     0\n",
      "merchant_profile_picture        0\n",
      "merchant_id                     0\n",
      "merchant_rating                 0\n",
      "merchant_rating_count           0\n",
      "merchant_title                  0\n",
      "urgency_text                    0\n",
      "has_urgency_banner              0\n",
      "inventory_total                 0\n",
      "countries_shipped_to            0\n",
      "shipping_is_express             0\n",
      "shipping_option_price           0\n",
      "shipping_option_name            0\n",
      "title                           0\n",
      "dtype: int64\n"
     ]
    },
    {
     "data": {
      "text/plain": [
       "<AxesSubplot:>"
      ]
     },
     "execution_count": 20,
     "metadata": {},
     "output_type": "execute_result"
    },
    {
     "data": {
      "image/png": "[encoded data removed]",
      "text/plain": [
       "<Figure size 432x288 with 2 Axes>"
      ]
     },
     "metadata": {
      "needs_background": "light"
     },
     "output_type": "display_data"
    }
   ],
   "source": [
    "# check the missing values again\n",
    "print(data.isnull().sum().sort_values(ascending=False))\n",
    "sns.heatmap(data.isnull())"
   ]
  },
  {
   "cell_type": "code",
   "execution_count": 21,
   "metadata": {},
   "outputs": [
    {
     "data": {
      "text/html": [
       "<div>\n",
       "<style scoped>\n",
       "    .dataframe tbody tr th:only-of-type {\n",
       "        vertical-align: middle;\n",
       "    }\n",
       "\n",
       "    .dataframe tbody tr th {\n",
       "        vertical-align: top;\n",
       "    }\n",
       "\n",
       "    .dataframe thead th {\n",
       "        text-align: right;\n",
       "    }\n",
       "</style>\n",
       "<table border=\"1\" class=\"dataframe\">\n",
       "  <thead>\n",
       "    <tr style=\"text-align: right;\">\n",
       "      <th></th>\n",
       "      <th>rating_count</th>\n",
       "      <th>rating_five_count</th>\n",
       "      <th>rating_four_count</th>\n",
       "      <th>rating_three_count</th>\n",
       "      <th>rating_two_count</th>\n",
       "      <th>rating_one_count</th>\n",
       "    </tr>\n",
       "  </thead>\n",
       "  <tbody>\n",
       "    <tr>\n",
       "      <th>74</th>\n",
       "      <td>0</td>\n",
       "      <td>NaN</td>\n",
       "      <td>NaN</td>\n",
       "      <td>NaN</td>\n",
       "      <td>NaN</td>\n",
       "      <td>NaN</td>\n",
       "    </tr>\n",
       "    <tr>\n",
       "      <th>112</th>\n",
       "      <td>0</td>\n",
       "      <td>NaN</td>\n",
       "      <td>NaN</td>\n",
       "      <td>NaN</td>\n",
       "      <td>NaN</td>\n",
       "      <td>NaN</td>\n",
       "    </tr>\n",
       "    <tr>\n",
       "      <th>126</th>\n",
       "      <td>0</td>\n",
       "      <td>NaN</td>\n",
       "      <td>NaN</td>\n",
       "      <td>NaN</td>\n",
       "      <td>NaN</td>\n",
       "      <td>NaN</td>\n",
       "    </tr>\n",
       "    <tr>\n",
       "      <th>189</th>\n",
       "      <td>0</td>\n",
       "      <td>NaN</td>\n",
       "      <td>NaN</td>\n",
       "      <td>NaN</td>\n",
       "      <td>NaN</td>\n",
       "      <td>NaN</td>\n",
       "    </tr>\n",
       "    <tr>\n",
       "      <th>216</th>\n",
       "      <td>0</td>\n",
       "      <td>NaN</td>\n",
       "      <td>NaN</td>\n",
       "      <td>NaN</td>\n",
       "      <td>NaN</td>\n",
       "      <td>NaN</td>\n",
       "    </tr>\n",
       "    <tr>\n",
       "      <th>248</th>\n",
       "      <td>0</td>\n",
       "      <td>NaN</td>\n",
       "      <td>NaN</td>\n",
       "      <td>NaN</td>\n",
       "      <td>NaN</td>\n",
       "      <td>NaN</td>\n",
       "    </tr>\n",
       "    <tr>\n",
       "      <th>309</th>\n",
       "      <td>0</td>\n",
       "      <td>NaN</td>\n",
       "      <td>NaN</td>\n",
       "      <td>NaN</td>\n",
       "      <td>NaN</td>\n",
       "      <td>NaN</td>\n",
       "    </tr>\n",
       "    <tr>\n",
       "      <th>346</th>\n",
       "      <td>0</td>\n",
       "      <td>NaN</td>\n",
       "      <td>NaN</td>\n",
       "      <td>NaN</td>\n",
       "      <td>NaN</td>\n",
       "      <td>NaN</td>\n",
       "    </tr>\n",
       "    <tr>\n",
       "      <th>348</th>\n",
       "      <td>0</td>\n",
       "      <td>NaN</td>\n",
       "      <td>NaN</td>\n",
       "      <td>NaN</td>\n",
       "      <td>NaN</td>\n",
       "      <td>NaN</td>\n",
       "    </tr>\n",
       "    <tr>\n",
       "      <th>375</th>\n",
       "      <td>0</td>\n",
       "      <td>NaN</td>\n",
       "      <td>NaN</td>\n",
       "      <td>NaN</td>\n",
       "      <td>NaN</td>\n",
       "      <td>NaN</td>\n",
       "    </tr>\n",
       "    <tr>\n",
       "      <th>438</th>\n",
       "      <td>0</td>\n",
       "      <td>NaN</td>\n",
       "      <td>NaN</td>\n",
       "      <td>NaN</td>\n",
       "      <td>NaN</td>\n",
       "      <td>NaN</td>\n",
       "    </tr>\n",
       "    <tr>\n",
       "      <th>447</th>\n",
       "      <td>0</td>\n",
       "      <td>NaN</td>\n",
       "      <td>NaN</td>\n",
       "      <td>NaN</td>\n",
       "      <td>NaN</td>\n",
       "      <td>NaN</td>\n",
       "    </tr>\n",
       "    <tr>\n",
       "      <th>481</th>\n",
       "      <td>0</td>\n",
       "      <td>NaN</td>\n",
       "      <td>NaN</td>\n",
       "      <td>NaN</td>\n",
       "      <td>NaN</td>\n",
       "      <td>NaN</td>\n",
       "    </tr>\n",
       "    <tr>\n",
       "      <th>487</th>\n",
       "      <td>0</td>\n",
       "      <td>NaN</td>\n",
       "      <td>NaN</td>\n",
       "      <td>NaN</td>\n",
       "      <td>NaN</td>\n",
       "      <td>NaN</td>\n",
       "    </tr>\n",
       "    <tr>\n",
       "      <th>555</th>\n",
       "      <td>0</td>\n",
       "      <td>NaN</td>\n",
       "      <td>NaN</td>\n",
       "      <td>NaN</td>\n",
       "      <td>NaN</td>\n",
       "      <td>NaN</td>\n",
       "    </tr>\n",
       "    <tr>\n",
       "      <th>597</th>\n",
       "      <td>0</td>\n",
       "      <td>NaN</td>\n",
       "      <td>NaN</td>\n",
       "      <td>NaN</td>\n",
       "      <td>NaN</td>\n",
       "      <td>NaN</td>\n",
       "    </tr>\n",
       "    <tr>\n",
       "      <th>618</th>\n",
       "      <td>0</td>\n",
       "      <td>NaN</td>\n",
       "      <td>NaN</td>\n",
       "      <td>NaN</td>\n",
       "      <td>NaN</td>\n",
       "      <td>NaN</td>\n",
       "    </tr>\n",
       "    <tr>\n",
       "      <th>634</th>\n",
       "      <td>0</td>\n",
       "      <td>NaN</td>\n",
       "      <td>NaN</td>\n",
       "      <td>NaN</td>\n",
       "      <td>NaN</td>\n",
       "      <td>NaN</td>\n",
       "    </tr>\n",
       "    <tr>\n",
       "      <th>670</th>\n",
       "      <td>0</td>\n",
       "      <td>NaN</td>\n",
       "      <td>NaN</td>\n",
       "      <td>NaN</td>\n",
       "      <td>NaN</td>\n",
       "      <td>NaN</td>\n",
       "    </tr>\n",
       "    <tr>\n",
       "      <th>732</th>\n",
       "      <td>0</td>\n",
       "      <td>NaN</td>\n",
       "      <td>NaN</td>\n",
       "      <td>NaN</td>\n",
       "      <td>NaN</td>\n",
       "      <td>NaN</td>\n",
       "    </tr>\n",
       "    <tr>\n",
       "      <th>746</th>\n",
       "      <td>0</td>\n",
       "      <td>NaN</td>\n",
       "      <td>NaN</td>\n",
       "      <td>NaN</td>\n",
       "      <td>NaN</td>\n",
       "      <td>NaN</td>\n",
       "    </tr>\n",
       "    <tr>\n",
       "      <th>774</th>\n",
       "      <td>0</td>\n",
       "      <td>NaN</td>\n",
       "      <td>NaN</td>\n",
       "      <td>NaN</td>\n",
       "      <td>NaN</td>\n",
       "      <td>NaN</td>\n",
       "    </tr>\n",
       "    <tr>\n",
       "      <th>781</th>\n",
       "      <td>0</td>\n",
       "      <td>NaN</td>\n",
       "      <td>NaN</td>\n",
       "      <td>NaN</td>\n",
       "      <td>NaN</td>\n",
       "      <td>NaN</td>\n",
       "    </tr>\n",
       "    <tr>\n",
       "      <th>864</th>\n",
       "      <td>0</td>\n",
       "      <td>NaN</td>\n",
       "      <td>NaN</td>\n",
       "      <td>NaN</td>\n",
       "      <td>NaN</td>\n",
       "      <td>NaN</td>\n",
       "    </tr>\n",
       "    <tr>\n",
       "      <th>865</th>\n",
       "      <td>0</td>\n",
       "      <td>NaN</td>\n",
       "      <td>NaN</td>\n",
       "      <td>NaN</td>\n",
       "      <td>NaN</td>\n",
       "      <td>NaN</td>\n",
       "    </tr>\n",
       "    <tr>\n",
       "      <th>904</th>\n",
       "      <td>0</td>\n",
       "      <td>NaN</td>\n",
       "      <td>NaN</td>\n",
       "      <td>NaN</td>\n",
       "      <td>NaN</td>\n",
       "      <td>NaN</td>\n",
       "    </tr>\n",
       "    <tr>\n",
       "      <th>959</th>\n",
       "      <td>0</td>\n",
       "      <td>NaN</td>\n",
       "      <td>NaN</td>\n",
       "      <td>NaN</td>\n",
       "      <td>NaN</td>\n",
       "      <td>NaN</td>\n",
       "    </tr>\n",
       "    <tr>\n",
       "      <th>976</th>\n",
       "      <td>0</td>\n",
       "      <td>NaN</td>\n",
       "      <td>NaN</td>\n",
       "      <td>NaN</td>\n",
       "      <td>NaN</td>\n",
       "      <td>NaN</td>\n",
       "    </tr>\n",
       "    <tr>\n",
       "      <th>1094</th>\n",
       "      <td>0</td>\n",
       "      <td>NaN</td>\n",
       "      <td>NaN</td>\n",
       "      <td>NaN</td>\n",
       "      <td>NaN</td>\n",
       "      <td>NaN</td>\n",
       "    </tr>\n",
       "    <tr>\n",
       "      <th>1117</th>\n",
       "      <td>0</td>\n",
       "      <td>NaN</td>\n",
       "      <td>NaN</td>\n",
       "      <td>NaN</td>\n",
       "      <td>NaN</td>\n",
       "      <td>NaN</td>\n",
       "    </tr>\n",
       "    <tr>\n",
       "      <th>1127</th>\n",
       "      <td>0</td>\n",
       "      <td>NaN</td>\n",
       "      <td>NaN</td>\n",
       "      <td>NaN</td>\n",
       "      <td>NaN</td>\n",
       "      <td>NaN</td>\n",
       "    </tr>\n",
       "    <tr>\n",
       "      <th>1148</th>\n",
       "      <td>0</td>\n",
       "      <td>NaN</td>\n",
       "      <td>NaN</td>\n",
       "      <td>NaN</td>\n",
       "      <td>NaN</td>\n",
       "      <td>NaN</td>\n",
       "    </tr>\n",
       "    <tr>\n",
       "      <th>1156</th>\n",
       "      <td>0</td>\n",
       "      <td>NaN</td>\n",
       "      <td>NaN</td>\n",
       "      <td>NaN</td>\n",
       "      <td>NaN</td>\n",
       "      <td>NaN</td>\n",
       "    </tr>\n",
       "    <tr>\n",
       "      <th>1186</th>\n",
       "      <td>0</td>\n",
       "      <td>NaN</td>\n",
       "      <td>NaN</td>\n",
       "      <td>NaN</td>\n",
       "      <td>NaN</td>\n",
       "      <td>NaN</td>\n",
       "    </tr>\n",
       "    <tr>\n",
       "      <th>1190</th>\n",
       "      <td>0</td>\n",
       "      <td>NaN</td>\n",
       "      <td>NaN</td>\n",
       "      <td>NaN</td>\n",
       "      <td>NaN</td>\n",
       "      <td>NaN</td>\n",
       "    </tr>\n",
       "    <tr>\n",
       "      <th>1192</th>\n",
       "      <td>0</td>\n",
       "      <td>NaN</td>\n",
       "      <td>NaN</td>\n",
       "      <td>NaN</td>\n",
       "      <td>NaN</td>\n",
       "      <td>NaN</td>\n",
       "    </tr>\n",
       "    <tr>\n",
       "      <th>1242</th>\n",
       "      <td>0</td>\n",
       "      <td>NaN</td>\n",
       "      <td>NaN</td>\n",
       "      <td>NaN</td>\n",
       "      <td>NaN</td>\n",
       "      <td>NaN</td>\n",
       "    </tr>\n",
       "    <tr>\n",
       "      <th>1245</th>\n",
       "      <td>0</td>\n",
       "      <td>NaN</td>\n",
       "      <td>NaN</td>\n",
       "      <td>NaN</td>\n",
       "      <td>NaN</td>\n",
       "      <td>NaN</td>\n",
       "    </tr>\n",
       "    <tr>\n",
       "      <th>1270</th>\n",
       "      <td>0</td>\n",
       "      <td>NaN</td>\n",
       "      <td>NaN</td>\n",
       "      <td>NaN</td>\n",
       "      <td>NaN</td>\n",
       "      <td>NaN</td>\n",
       "    </tr>\n",
       "    <tr>\n",
       "      <th>1292</th>\n",
       "      <td>0</td>\n",
       "      <td>NaN</td>\n",
       "      <td>NaN</td>\n",
       "      <td>NaN</td>\n",
       "      <td>NaN</td>\n",
       "      <td>NaN</td>\n",
       "    </tr>\n",
       "    <tr>\n",
       "      <th>1355</th>\n",
       "      <td>0</td>\n",
       "      <td>NaN</td>\n",
       "      <td>NaN</td>\n",
       "      <td>NaN</td>\n",
       "      <td>NaN</td>\n",
       "      <td>NaN</td>\n",
       "    </tr>\n",
       "    <tr>\n",
       "      <th>1468</th>\n",
       "      <td>0</td>\n",
       "      <td>NaN</td>\n",
       "      <td>NaN</td>\n",
       "      <td>NaN</td>\n",
       "      <td>NaN</td>\n",
       "      <td>NaN</td>\n",
       "    </tr>\n",
       "    <tr>\n",
       "      <th>1481</th>\n",
       "      <td>0</td>\n",
       "      <td>NaN</td>\n",
       "      <td>NaN</td>\n",
       "      <td>NaN</td>\n",
       "      <td>NaN</td>\n",
       "      <td>NaN</td>\n",
       "    </tr>\n",
       "    <tr>\n",
       "      <th>1488</th>\n",
       "      <td>0</td>\n",
       "      <td>NaN</td>\n",
       "      <td>NaN</td>\n",
       "      <td>NaN</td>\n",
       "      <td>NaN</td>\n",
       "      <td>NaN</td>\n",
       "    </tr>\n",
       "    <tr>\n",
       "      <th>1532</th>\n",
       "      <td>0</td>\n",
       "      <td>NaN</td>\n",
       "      <td>NaN</td>\n",
       "      <td>NaN</td>\n",
       "      <td>NaN</td>\n",
       "      <td>NaN</td>\n",
       "    </tr>\n",
       "  </tbody>\n",
       "</table>\n",
       "</div>"
      ],
      "text/plain": [
       "      rating_count  rating_five_count  rating_four_count  rating_three_count  \\\n",
       "74               0                NaN                NaN                 NaN   \n",
       "112              0                NaN                NaN                 NaN   \n",
       "126              0                NaN                NaN                 NaN   \n",
       "189              0                NaN                NaN                 NaN   \n",
       "216              0                NaN                NaN                 NaN   \n",
       "248              0                NaN                NaN                 NaN   \n",
       "309              0                NaN                NaN                 NaN   \n",
       "346              0                NaN                NaN                 NaN   \n",
       "348              0                NaN                NaN                 NaN   \n",
       "375              0                NaN                NaN                 NaN   \n",
       "438              0                NaN                NaN                 NaN   \n",
       "447              0                NaN                NaN                 NaN   \n",
       "481              0                NaN                NaN                 NaN   \n",
       "487              0                NaN                NaN                 NaN   \n",
       "555              0                NaN                NaN                 NaN   \n",
       "597              0                NaN                NaN                 NaN   \n",
       "618              0                NaN                NaN                 NaN   \n",
       "634              0                NaN                NaN                 NaN   \n",
       "670              0                NaN                NaN                 NaN   \n",
       "732              0                NaN                NaN                 NaN   \n",
       "746              0                NaN                NaN                 NaN   \n",
       "774              0                NaN                NaN                 NaN   \n",
       "781              0                NaN                NaN                 NaN   \n",
       "864              0                NaN                NaN                 NaN   \n",
       "865              0                NaN                NaN                 NaN   \n",
       "904              0                NaN                NaN                 NaN   \n",
       "959              0                NaN                NaN                 NaN   \n",
       "976              0                NaN                NaN                 NaN   \n",
       "1094             0                NaN                NaN                 NaN   \n",
       "1117             0                NaN                NaN                 NaN   \n",
       "1127             0                NaN                NaN                 NaN   \n",
       "1148             0                NaN                NaN                 NaN   \n",
       "1156             0                NaN                NaN                 NaN   \n",
       "1186             0                NaN                NaN                 NaN   \n",
       "1190             0                NaN                NaN                 NaN   \n",
       "1192             0                NaN                NaN                 NaN   \n",
       "1242             0                NaN                NaN                 NaN   \n",
       "1245             0                NaN                NaN                 NaN   \n",
       "1270             0                NaN                NaN                 NaN   \n",
       "1292             0                NaN                NaN                 NaN   \n",
       "1355             0                NaN                NaN                 NaN   \n",
       "1468             0                NaN                NaN                 NaN   \n",
       "1481             0                NaN                NaN                 NaN   \n",
       "1488             0                NaN                NaN                 NaN   \n",
       "1532             0                NaN                NaN                 NaN   \n",
       "\n",
       "      rating_two_count  rating_one_count  \n",
       "74                 NaN               NaN  \n",
       "112                NaN               NaN  \n",
       "126                NaN               NaN  \n",
       "189                NaN               NaN  \n",
       "216                NaN               NaN  \n",
       "248                NaN               NaN  \n",
       "309                NaN               NaN  \n",
       "346                NaN               NaN  \n",
       "348                NaN               NaN  \n",
       "375                NaN               NaN  \n",
       "438                NaN               NaN  \n",
       "447                NaN               NaN  \n",
       "481                NaN               NaN  \n",
       "487                NaN               NaN  \n",
       "555                NaN               NaN  \n",
       "597                NaN               NaN  \n",
       "618                NaN               NaN  \n",
       "634                NaN               NaN  \n",
       "670                NaN               NaN  \n",
       "732                NaN               NaN  \n",
       "746                NaN               NaN  \n",
       "774                NaN               NaN  \n",
       "781                NaN               NaN  \n",
       "864                NaN               NaN  \n",
       "865                NaN               NaN  \n",
       "904                NaN               NaN  \n",
       "959                NaN               NaN  \n",
       "976                NaN               NaN  \n",
       "1094               NaN               NaN  \n",
       "1117               NaN               NaN  \n",
       "1127               NaN               NaN  \n",
       "1148               NaN               NaN  \n",
       "1156               NaN               NaN  \n",
       "1186               NaN               NaN  \n",
       "1190               NaN               NaN  \n",
       "1192               NaN               NaN  \n",
       "1242               NaN               NaN  \n",
       "1245               NaN               NaN  \n",
       "1270               NaN               NaN  \n",
       "1292               NaN               NaN  \n",
       "1355               NaN               NaN  \n",
       "1468               NaN               NaN  \n",
       "1481               NaN               NaN  \n",
       "1488               NaN               NaN  \n",
       "1532               NaN               NaN  "
      ]
     },
     "execution_count": 21,
     "metadata": {},
     "output_type": "execute_result"
    }
   ],
   "source": [
    "# the missing values in columns rating count are almost identical\n",
    "# check these columns\n",
    "\n",
    "a = data['rating_five_count'][data['rating_five_count'].isnull()].index.to_list()\n",
    "data.iloc[a,[8,9,10,11,12,13]]"
   ]
  },
  {
   "cell_type": "code",
   "execution_count": 22,
   "metadata": {},
   "outputs": [],
   "source": [
    "# impute the missing value with zero\n",
    "data['rating_five_count'].replace(np.nan,0,inplace=True)\n",
    "data['rating_four_count'].replace(np.nan,0,inplace=True)\n",
    "data['rating_three_count'].replace(np.nan,0,inplace=True)\n",
    "data['rating_two_count'].replace(np.nan,0,inplace=True)\n",
    "data['rating_one_count'].replace(np.nan,0,inplace=True)"
   ]
  },
  {
   "cell_type": "code",
   "execution_count": 23,
   "metadata": {},
   "outputs": [
    {
     "data": {
      "text/plain": [
       "product_color                  41\n",
       "origin_country                 17\n",
       "product_variation_size_id      14\n",
       "merchant_name                   4\n",
       "merchant_info_subtitle          1\n",
       "price                           0\n",
       "rating_four_count               0\n",
       "badge_fast_shipping             0\n",
       "badge_product_quality           0\n",
       "badge_local_product             0\n",
       "badges_count                    0\n",
       "rating_one_count                0\n",
       "rating_two_count                0\n",
       "rating_three_count              0\n",
       "rating_five_count               0\n",
       "retail_price                    0\n",
       "title_orig                      0\n",
       "tags                            0\n",
       "rating                          0\n",
       "uses_ad_boosts                  0\n",
       "successful_product              0\n",
       "currency_buyer                  0\n",
       "rating_count                    0\n",
       "crawl_month                     0\n",
       "theme                           0\n",
       "product_variation_inventory     0\n",
       "product_id                      0\n",
       "product_picture                 0\n",
       "product_url                     0\n",
       "merchant_profile_picture        0\n",
       "merchant_id                     0\n",
       "merchant_rating                 0\n",
       "merchant_rating_count           0\n",
       "merchant_title                  0\n",
       "urgency_text                    0\n",
       "has_urgency_banner              0\n",
       "inventory_total                 0\n",
       "countries_shipped_to            0\n",
       "shipping_is_express             0\n",
       "shipping_option_price           0\n",
       "shipping_option_name            0\n",
       "title                           0\n",
       "dtype: int64"
      ]
     },
     "execution_count": 23,
     "metadata": {},
     "output_type": "execute_result"
    }
   ],
   "source": [
    "# check the missing value again\n",
    "data.isnull().sum().sort_values(ascending=False)"
   ]
  },
  {
   "cell_type": "code",
   "execution_count": 24,
   "metadata": {},
   "outputs": [
    {
     "data": {
      "text/html": [
       "<div>\n",
       "<style scoped>\n",
       "    .dataframe tbody tr th:only-of-type {\n",
       "        vertical-align: middle;\n",
       "    }\n",
       "\n",
       "    .dataframe tbody tr th {\n",
       "        vertical-align: top;\n",
       "    }\n",
       "\n",
       "    .dataframe thead th {\n",
       "        text-align: right;\n",
       "    }\n",
       "</style>\n",
       "<table border=\"1\" class=\"dataframe\">\n",
       "  <thead>\n",
       "    <tr style=\"text-align: right;\">\n",
       "      <th></th>\n",
       "      <th>product_color</th>\n",
       "      <th>percentage</th>\n",
       "    </tr>\n",
       "  </thead>\n",
       "  <tbody>\n",
       "    <tr>\n",
       "      <th>black</th>\n",
       "      <td>302</td>\n",
       "      <td>0.191990</td>\n",
       "    </tr>\n",
       "    <tr>\n",
       "      <th>white</th>\n",
       "      <td>254</td>\n",
       "      <td>0.161475</td>\n",
       "    </tr>\n",
       "    <tr>\n",
       "      <th>yellow</th>\n",
       "      <td>105</td>\n",
       "      <td>0.066751</td>\n",
       "    </tr>\n",
       "    <tr>\n",
       "      <th>pink</th>\n",
       "      <td>99</td>\n",
       "      <td>0.062937</td>\n",
       "    </tr>\n",
       "    <tr>\n",
       "      <th>blue</th>\n",
       "      <td>99</td>\n",
       "      <td>0.062937</td>\n",
       "    </tr>\n",
       "    <tr>\n",
       "      <th>red</th>\n",
       "      <td>93</td>\n",
       "      <td>0.059123</td>\n",
       "    </tr>\n",
       "    <tr>\n",
       "      <th>green</th>\n",
       "      <td>90</td>\n",
       "      <td>0.057216</td>\n",
       "    </tr>\n",
       "    <tr>\n",
       "      <th>grey</th>\n",
       "      <td>71</td>\n",
       "      <td>0.045137</td>\n",
       "    </tr>\n",
       "    <tr>\n",
       "      <th>purple</th>\n",
       "      <td>53</td>\n",
       "      <td>0.033694</td>\n",
       "    </tr>\n",
       "    <tr>\n",
       "      <th>armygreen</th>\n",
       "      <td>31</td>\n",
       "      <td>0.019708</td>\n",
       "    </tr>\n",
       "    <tr>\n",
       "      <th>navyblue</th>\n",
       "      <td>28</td>\n",
       "      <td>0.017800</td>\n",
       "    </tr>\n",
       "    <tr>\n",
       "      <th>winered</th>\n",
       "      <td>28</td>\n",
       "      <td>0.017800</td>\n",
       "    </tr>\n",
       "    <tr>\n",
       "      <th>orange</th>\n",
       "      <td>27</td>\n",
       "      <td>0.017165</td>\n",
       "    </tr>\n",
       "    <tr>\n",
       "      <th>multicolor</th>\n",
       "      <td>20</td>\n",
       "      <td>0.012715</td>\n",
       "    </tr>\n",
       "    <tr>\n",
       "      <th>beige</th>\n",
       "      <td>14</td>\n",
       "      <td>0.008900</td>\n",
       "    </tr>\n",
       "    <tr>\n",
       "      <th>khaki</th>\n",
       "      <td>12</td>\n",
       "      <td>0.007629</td>\n",
       "    </tr>\n",
       "    <tr>\n",
       "      <th>lightblue</th>\n",
       "      <td>12</td>\n",
       "      <td>0.007629</td>\n",
       "    </tr>\n",
       "    <tr>\n",
       "      <th>gray</th>\n",
       "      <td>11</td>\n",
       "      <td>0.006993</td>\n",
       "    </tr>\n",
       "    <tr>\n",
       "      <th>white &amp; green</th>\n",
       "      <td>10</td>\n",
       "      <td>0.006357</td>\n",
       "    </tr>\n",
       "    <tr>\n",
       "      <th>skyblue</th>\n",
       "      <td>8</td>\n",
       "      <td>0.005086</td>\n",
       "    </tr>\n",
       "  </tbody>\n",
       "</table>\n",
       "</div>"
      ],
      "text/plain": [
       "               product_color  percentage\n",
       "black                    302    0.191990\n",
       "white                    254    0.161475\n",
       "yellow                   105    0.066751\n",
       "pink                      99    0.062937\n",
       "blue                      99    0.062937\n",
       "red                       93    0.059123\n",
       "green                     90    0.057216\n",
       "grey                      71    0.045137\n",
       "purple                    53    0.033694\n",
       "armygreen                 31    0.019708\n",
       "navyblue                  28    0.017800\n",
       "winered                   28    0.017800\n",
       "orange                    27    0.017165\n",
       "multicolor                20    0.012715\n",
       "beige                     14    0.008900\n",
       "khaki                     12    0.007629\n",
       "lightblue                 12    0.007629\n",
       "gray                      11    0.006993\n",
       "white & green             10    0.006357\n",
       "skyblue                    8    0.005086"
      ]
     },
     "execution_count": 24,
     "metadata": {},
     "output_type": "execute_result"
    }
   ],
   "source": [
    "# check the column product color\n",
    "color = pd.DataFrame(data['product_color'].value_counts())\n",
    "color['percentage'] = color['product_color'] / len(data)\n",
    "color.head(20)"
   ]
  },
  {
   "cell_type": "code",
   "execution_count": 25,
   "metadata": {},
   "outputs": [],
   "source": [
    "less_color = list(set(color.index) - set(color.head(8).index))\n",
    "\n",
    "#encode the values\n",
    "data['product_color'].replace(np.nan,'other',inplace=True)\n",
    "data['product_color'].replace(less_color,'other',inplace=True)"
   ]
  },
  {
   "cell_type": "code",
   "execution_count": 26,
   "metadata": {},
   "outputs": [
    {
     "data": {
      "text/plain": [
       "other     460\n",
       "black     302\n",
       "white     254\n",
       "yellow    105\n",
       "blue       99\n",
       "pink       99\n",
       "red        93\n",
       "green      90\n",
       "grey       71\n",
       "Name: product_color, dtype: int64"
      ]
     },
     "execution_count": 26,
     "metadata": {},
     "output_type": "execute_result"
    }
   ],
   "source": [
    "data['product_color'].value_counts()"
   ]
  },
  {
   "cell_type": "code",
   "execution_count": 27,
   "metadata": {},
   "outputs": [
    {
     "data": {
      "text/plain": [
       "CN    1516\n",
       "US      31\n",
       "VE       5\n",
       "SG       2\n",
       "GB       1\n",
       "AT       1\n",
       "Name: origin_country, dtype: int64"
      ]
     },
     "execution_count": 27,
     "metadata": {},
     "output_type": "execute_result"
    }
   ],
   "source": [
    "# check the colum origin country\n",
    "data['origin_country'].value_counts()"
   ]
  },
  {
   "cell_type": "code",
   "execution_count": 28,
   "metadata": {},
   "outputs": [],
   "source": [
    "# encode this column\n",
    "data['origin_country'].replace(['VE','SG','GB','AT',np.nan],'Other',inplace=True)"
   ]
  },
  {
   "cell_type": "code",
   "execution_count": 29,
   "metadata": {},
   "outputs": [
    {
     "name": "stdout",
     "output_type": "stream",
     "text": [
      "S                  641\n",
      "XS                 356\n",
      "M                  200\n",
      "XXS                100\n",
      "L                   49\n",
      "                  ... \n",
      "Baby Float Boat      1\n",
      "60                   1\n",
      "5                    1\n",
      "04-3XL               1\n",
      "Round                1\n",
      "Name: product_variation_size_id, Length: 106, dtype: int64\n",
      "\n",
      " ['M' 'XS' 'S' 'Size-XS' 'M.' 'XXS' 'L' 'XXL' nan 'S.' 's' 'choose a size'\n",
      " 'XS.' '32/L' 'Suit-S' 'XXXXXL' 'EU 35' '4' 'Size S.' '1m by 3m' '3XL'\n",
      " 'Size S' 'XL' 'Women Size 36' 'US 6.5 (EU 37)' 'XXXS' 'SIZE XS'\n",
      " '26(Waist 72cm 28inch)' 'Size XXS' '29' '1pc' '100 cm' 'One Size'\n",
      " 'SIZE-4XL' '1' 'S/M(child)' '2pcs' 'XXXL' 'S..' '30 cm' '5XL' '33'\n",
      " 'Size M' '100 x 100cm(39.3 x 39.3inch)' '100pcs' '2XL' '4XL' 'SizeL'\n",
      " 'SIZE XXS' 'XXXXL' 'Base & Top & Matte Top Coat' 'size S' '35' '34'\n",
      " 'SIZE-XXS' 'S(bust 88cm)' 'S (waist58-62cm)' 'S(Pink & Black)' '20pcs'\n",
      " 'US-S' 'Size -XXS' 'X   L' 'White' '25' 'Size-S' 'Round' 'Pack of 1'\n",
      " '1 pc.' 'S Diameter 30cm' '6XL' 'AU plug Low quality' '5PAIRS' '25-S'\n",
      " 'Size/S' 'S Pink' 'Size-5XL' 'daughter 24M' '2' 'Baby Float Boat' '10 ml'\n",
      " '60' 'Size-L' 'US5.5-EU35' '10pcs' '17' 'Size-XXS' 'Women Size 37'\n",
      " '3 layered anklet' '4-5 Years' 'Size4XL' 'first  generation'\n",
      " '80 X 200 CM' 'EU39(US8)' 'L.' 'Base Coat' '36' '04-3XL' 'pants-S'\n",
      " 'Floating Chair for Kid' '20PCS-10PAIRS' 'B' 'Size--S' '5' '1 PC - XL'\n",
      " 'H01' '40 cm' 'SIZE S']\n"
     ]
    }
   ],
   "source": [
    "# check product_variation_size_id \n",
    "print(data['product_variation_size_id'].value_counts())\n",
    "print(\"\\n\",data['product_variation_size_id'].unique())"
   ]
  },
  {
   "cell_type": "code",
   "execution_count": 30,
   "metadata": {},
   "outputs": [
    {
     "data": {
      "text/plain": [
       "43"
      ]
     },
     "execution_count": 30,
     "metadata": {},
     "output_type": "execute_result"
    }
   ],
   "source": [
    "sum(data['product_variation_size_id'].value_counts()>1)"
   ]
  },
  {
   "cell_type": "code",
   "execution_count": 31,
   "metadata": {},
   "outputs": [
    {
     "data": {
      "text/plain": [
       "(['S', 'XS', 'M', 'XXS', 'L', 'S.', 'XL', 'XXL'],\n",
       " [nan,\n",
       "  'Round',\n",
       "  '17',\n",
       "  'XXXS',\n",
       "  'S/M(child)',\n",
       "  '1',\n",
       "  'One Size',\n",
       "  'H01',\n",
       "  'White',\n",
       "  'US 6.5 (EU 37)',\n",
       "  '34',\n",
       "  '5XL',\n",
       "  '20pcs',\n",
       "  'SIZE S',\n",
       "  'daughter 24M',\n",
       "  'EU39(US8)',\n",
       "  'Base & Top & Matte Top Coat',\n",
       "  '30 cm',\n",
       "  'Baby Float Boat',\n",
       "  '33',\n",
       "  'S Diameter 30cm',\n",
       "  'B',\n",
       "  'S(bust 88cm)',\n",
       "  'Base Coat',\n",
       "  's',\n",
       "  'SIZE XXS',\n",
       "  '1 pc.',\n",
       "  'Size-L',\n",
       "  'Size XXS',\n",
       "  '2pcs',\n",
       "  'choose a size',\n",
       "  'size S',\n",
       "  '100 x 100cm(39.3 x 39.3inch)',\n",
       "  '80 X 200 CM',\n",
       "  '3 layered anklet',\n",
       "  'Size S',\n",
       "  'SIZE XS',\n",
       "  '10pcs',\n",
       "  'pants-S',\n",
       "  'Size-XS',\n",
       "  '4XL',\n",
       "  '20PCS-10PAIRS',\n",
       "  'SIZE-XXS',\n",
       "  'M.',\n",
       "  '1pc',\n",
       "  'L.',\n",
       "  'S (waist58-62cm)',\n",
       "  '100pcs',\n",
       "  '6XL',\n",
       "  '3XL',\n",
       "  '10 ml',\n",
       "  'Floating Chair for Kid',\n",
       "  'Suit-S',\n",
       "  '60',\n",
       "  'Size--S',\n",
       "  '5',\n",
       "  '04-3XL',\n",
       "  'Women Size 37',\n",
       "  '35',\n",
       "  '2',\n",
       "  '25',\n",
       "  '4-5 Years',\n",
       "  'SizeL',\n",
       "  'Size M',\n",
       "  '1 PC - XL',\n",
       "  '5PAIRS',\n",
       "  '40 cm',\n",
       "  'S(Pink & Black)',\n",
       "  'AU plug Low quality',\n",
       "  'XXXXL',\n",
       "  'Size-5XL',\n",
       "  'Pack of 1',\n",
       "  'XS.',\n",
       "  '100 cm',\n",
       "  'Size-XXS',\n",
       "  '32/L',\n",
       "  '26(Waist 72cm 28inch)',\n",
       "  '2XL',\n",
       "  'Size S.',\n",
       "  'Size -XXS',\n",
       "  'X   L',\n",
       "  'Size-S',\n",
       "  'US-S',\n",
       "  '25-S',\n",
       "  '36',\n",
       "  'first  generation',\n",
       "  'S Pink',\n",
       "  '4',\n",
       "  'S..',\n",
       "  'XXXXXL',\n",
       "  '1m by 3m',\n",
       "  'Size/S',\n",
       "  'EU 35',\n",
       "  'SIZE-4XL',\n",
       "  'Women Size 36',\n",
       "  'XXXL',\n",
       "  'US5.5-EU35',\n",
       "  'Size4XL',\n",
       "  '29'])"
      ]
     },
     "execution_count": 31,
     "metadata": {},
     "output_type": "execute_result"
    }
   ],
   "source": [
    "# encode this column\n",
    "common_size = list(data['product_variation_size_id'].value_counts().head(8).index)\n",
    "rare_size = list(set(data['product_variation_size_id'].unique())-set(common_size))\n",
    "\n",
    "common_size, rare_size"
   ]
  },
  {
   "cell_type": "code",
   "execution_count": 32,
   "metadata": {},
   "outputs": [],
   "source": [
    "data['product_variation_size_id'].replace('S.','S',inplace=True)\n",
    "data['product_variation_size_id'].replace(rare_size,'other',inplace=True)"
   ]
  },
  {
   "cell_type": "code",
   "execution_count": 33,
   "metadata": {},
   "outputs": [
    {
     "data": {
      "text/plain": [
       "S        659\n",
       "XS       356\n",
       "M        200\n",
       "other    177\n",
       "XXS      100\n",
       "L         49\n",
       "XL        17\n",
       "XXL       15\n",
       "Name: product_variation_size_id, dtype: int64"
      ]
     },
     "execution_count": 33,
     "metadata": {},
     "output_type": "execute_result"
    }
   ],
   "source": [
    "data['product_variation_size_id'].value_counts()"
   ]
  },
  {
   "cell_type": "code",
   "execution_count": 34,
   "metadata": {},
   "outputs": [
    {
     "data": {
      "text/plain": [
       "title                          0\n",
       "title_orig                     0\n",
       "price                          0\n",
       "retail_price                   0\n",
       "currency_buyer                 0\n",
       "successful_product             0\n",
       "uses_ad_boosts                 0\n",
       "rating                         0\n",
       "rating_count                   0\n",
       "rating_five_count              0\n",
       "rating_four_count              0\n",
       "rating_three_count             0\n",
       "rating_two_count               0\n",
       "rating_one_count               0\n",
       "badges_count                   0\n",
       "badge_local_product            0\n",
       "badge_product_quality          0\n",
       "badge_fast_shipping            0\n",
       "tags                           0\n",
       "product_color                  0\n",
       "product_variation_size_id      0\n",
       "product_variation_inventory    0\n",
       "shipping_option_name           0\n",
       "shipping_option_price          0\n",
       "shipping_is_express            0\n",
       "countries_shipped_to           0\n",
       "inventory_total                0\n",
       "has_urgency_banner             0\n",
       "urgency_text                   0\n",
       "origin_country                 0\n",
       "merchant_title                 0\n",
       "merchant_name                  4\n",
       "merchant_info_subtitle         1\n",
       "merchant_rating_count          0\n",
       "merchant_rating                0\n",
       "merchant_id                    0\n",
       "merchant_profile_picture       0\n",
       "product_url                    0\n",
       "product_picture                0\n",
       "product_id                     0\n",
       "theme                          0\n",
       "crawl_month                    0\n",
       "dtype: int64"
      ]
     },
     "execution_count": 34,
     "metadata": {},
     "output_type": "execute_result"
    }
   ],
   "source": [
    "# check if there is missing value\n",
    "data.isnull().sum()"
   ]
  },
  {
   "cell_type": "code",
   "execution_count": 35,
   "metadata": {},
   "outputs": [],
   "source": [
    "# drop the missing values in columns merchant_name, merchant_info_subtitle\n",
    "data = data.dropna() # now only two columns with missing value"
   ]
  },
  {
   "cell_type": "code",
   "execution_count": 36,
   "metadata": {},
   "outputs": [
    {
     "data": {
      "text/plain": [
       "title                          False\n",
       "title_orig                     False\n",
       "price                          False\n",
       "retail_price                   False\n",
       "currency_buyer                 False\n",
       "successful_product             False\n",
       "uses_ad_boosts                 False\n",
       "rating                         False\n",
       "rating_count                   False\n",
       "rating_five_count              False\n",
       "rating_four_count              False\n",
       "rating_three_count             False\n",
       "rating_two_count               False\n",
       "rating_one_count               False\n",
       "badges_count                   False\n",
       "badge_local_product            False\n",
       "badge_product_quality          False\n",
       "badge_fast_shipping            False\n",
       "tags                           False\n",
       "product_color                  False\n",
       "product_variation_size_id      False\n",
       "product_variation_inventory    False\n",
       "shipping_option_name           False\n",
       "shipping_option_price          False\n",
       "shipping_is_express            False\n",
       "countries_shipped_to           False\n",
       "inventory_total                False\n",
       "has_urgency_banner             False\n",
       "urgency_text                   False\n",
       "origin_country                 False\n",
       "merchant_title                 False\n",
       "merchant_name                  False\n",
       "merchant_info_subtitle         False\n",
       "merchant_rating_count          False\n",
       "merchant_rating                False\n",
       "merchant_id                    False\n",
       "merchant_profile_picture       False\n",
       "product_url                    False\n",
       "product_picture                False\n",
       "product_id                     False\n",
       "theme                          False\n",
       "crawl_month                    False\n",
       "dtype: bool"
      ]
     },
     "execution_count": 36,
     "metadata": {},
     "output_type": "execute_result"
    }
   ],
   "source": [
    "# check again\n",
    "data.isnull().sum()>0"
   ]
  },
  {
   "cell_type": "markdown",
   "metadata": {},
   "source": [
    "### Categorical encoding"
   ]
  },
  {
   "cell_type": "code",
   "execution_count": 37,
   "metadata": {},
   "outputs": [
    {
     "name": "stdout",
     "output_type": "stream",
     "text": [
      "title :  object\n",
      "title_orig :  object\n",
      "price :  float64\n",
      "retail_price :  int64\n",
      "currency_buyer :  object\n",
      "successful_product :  int64\n",
      "uses_ad_boosts :  int64\n",
      "rating :  float64\n",
      "rating_count :  int64\n",
      "rating_five_count :  float64\n",
      "rating_four_count :  float64\n",
      "rating_three_count :  float64\n",
      "rating_two_count :  float64\n",
      "rating_one_count :  float64\n",
      "badges_count :  int64\n",
      "badge_local_product :  int64\n",
      "badge_product_quality :  int64\n",
      "badge_fast_shipping :  int64\n",
      "tags :  object\n",
      "product_color :  object\n",
      "product_variation_size_id :  object\n",
      "product_variation_inventory :  int64\n",
      "shipping_option_name :  object\n",
      "shipping_option_price :  int64\n",
      "shipping_is_express :  int64\n",
      "countries_shipped_to :  int64\n",
      "inventory_total :  int64\n",
      "has_urgency_banner :  float64\n",
      "urgency_text :  int64\n",
      "origin_country :  object\n",
      "merchant_title :  object\n",
      "merchant_name :  object\n",
      "merchant_info_subtitle :  object\n",
      "merchant_rating_count :  int64\n",
      "merchant_rating :  float64\n",
      "merchant_id :  object\n",
      "merchant_profile_picture :  int64\n",
      "product_url :  object\n",
      "product_picture :  object\n",
      "product_id :  object\n",
      "theme :  object\n",
      "crawl_month :  object\n",
      "\n",
      "There are 11 discrete variables\n",
      "There are 14 continuous variables\n",
      "There are 17 categorical variables\n"
     ]
    }
   ],
   "source": [
    "# check the data type of each columns\n",
    "for col in data.columns:\n",
    "    print(col,\": \",data[col].dtype)\n",
    "\n",
    "# make list of variables types\n",
    "\n",
    "# numerical: discrete and continuous\n",
    "discrete = [var for var in data.columns if data[var].dtype!='O'and data[var].nunique()<10]\n",
    "continuous = [var for var in data.columns if data[var].dtype!='O'and var not in discrete]\n",
    "\n",
    "# categorical\n",
    "categorical = [var for var in data.columns if data[var].dtype=='O']\n",
    "\n",
    "print('\\nThere are {} discrete variables'.format(len(discrete)))\n",
    "print('There are {} continuous variables'.format(len(continuous)))\n",
    "print('There are {} categorical variables'.format(len(categorical)))"
   ]
  },
  {
   "cell_type": "code",
   "execution_count": 38,
   "metadata": {},
   "outputs": [
    {
     "data": {
      "text/plain": [
       "['title',\n",
       " 'title_orig',\n",
       " 'currency_buyer',\n",
       " 'tags',\n",
       " 'product_color',\n",
       " 'product_variation_size_id',\n",
       " 'shipping_option_name',\n",
       " 'origin_country',\n",
       " 'merchant_title',\n",
       " 'merchant_name',\n",
       " 'merchant_info_subtitle',\n",
       " 'merchant_id',\n",
       " 'product_url',\n",
       " 'product_picture',\n",
       " 'product_id',\n",
       " 'theme',\n",
       " 'crawl_month']"
      ]
     },
     "execution_count": 38,
     "metadata": {},
     "output_type": "execute_result"
    }
   ],
   "source": [
    "# In this section we handle object data\n",
    "categorical"
   ]
  },
  {
   "cell_type": "code",
   "execution_count": 39,
   "metadata": {},
   "outputs": [
    {
     "data": {
      "text/plain": [
       "title                        1199\n",
       "title_orig                   1201\n",
       "currency_buyer                  1\n",
       "tags                         1228\n",
       "product_color                   9\n",
       "product_variation_size_id       8\n",
       "shipping_option_name           15\n",
       "origin_country                  3\n",
       "merchant_title                956\n",
       "merchant_name                 956\n",
       "merchant_info_subtitle       1056\n",
       "merchant_id                   956\n",
       "product_url                  1338\n",
       "product_picture              1338\n",
       "product_id                   1338\n",
       "theme                           1\n",
       "crawl_month                     1\n",
       "dtype: int64"
      ]
     },
     "execution_count": 39,
     "metadata": {},
     "output_type": "execute_result"
    }
   ],
   "source": [
    "data[categorical].nunique()"
   ]
  },
  {
   "cell_type": "code",
   "execution_count": 40,
   "metadata": {},
   "outputs": [
    {
     "data": {
      "text/plain": [
       "array(['Livraison standard', 'Envio Padrão', 'Standart Gönderi',\n",
       "       'Standardversand', 'Envío normal', 'Standardowa wysyłka',\n",
       "       'الشحن القياسي', 'Expediere Standard', 'การส่งสินค้ามาตรฐาน',\n",
       "       'Standard Shipping', 'ការដឹកជញ្ជូនតាមស្តង់ដារ',\n",
       "       'Livraison Express', 'Стандартная доставка', 'Spedizione standard',\n",
       "       'Ekspresowa wysyłka'], dtype=object)"
      ]
     },
     "execution_count": 40,
     "metadata": {},
     "output_type": "execute_result"
    }
   ],
   "source": [
    "# check the column shipping option\n",
    "data['shipping_option_name'].unique()"
   ]
  },
  {
   "cell_type": "code",
   "execution_count": 41,
   "metadata": {},
   "outputs": [
    {
     "data": {
      "text/plain": [
       "array([1, 0], dtype=int64)"
      ]
     },
     "execution_count": 41,
     "metadata": {},
     "output_type": "execute_result"
    }
   ],
   "source": [
    "# encode this column into binary variables\n",
    "data['shipping_option_name'].replace(['Livraison standard', 'Envio Padrão', 'Standart Gönderi',\n",
    "       'Standardversand', 'Envío normal', 'Standardowa wysyłka','الشحن القياسي', 'Expediere Standard', \n",
    "       'การส่งสินค้ามาตรฐาน','Standard Shipping', 'ការដឹកជញ្ជូនតាមស្តង់ដារ','Стандартная доставка', \n",
    "       'Spedizione standard'],1,inplace=True)\n",
    "data['shipping_option_name'].replace(['Livraison Express','Ekspresowa wysyłka'],0,inplace=True)\n",
    "\n",
    "\n",
    "data.rename({'shipping_option_name':'standard_shipping'},axis=1,inplace=True)\n",
    "data['standard_shipping'].unique()"
   ]
  },
  {
   "cell_type": "code",
   "execution_count": 42,
   "metadata": {},
   "outputs": [
    {
     "data": {
      "text/html": [
       "<div>\n",
       "<style scoped>\n",
       "    .dataframe tbody tr th:only-of-type {\n",
       "        vertical-align: middle;\n",
       "    }\n",
       "\n",
       "    .dataframe tbody tr th {\n",
       "        vertical-align: top;\n",
       "    }\n",
       "\n",
       "    .dataframe thead th {\n",
       "        text-align: right;\n",
       "    }\n",
       "</style>\n",
       "<table border=\"1\" class=\"dataframe\">\n",
       "  <thead>\n",
       "    <tr style=\"text-align: right;\">\n",
       "      <th></th>\n",
       "      <th>title</th>\n",
       "      <th>title_orig</th>\n",
       "      <th>merchant_title</th>\n",
       "      <th>merchant_name</th>\n",
       "      <th>merchant_info_subtitle</th>\n",
       "      <th>merchant_id</th>\n",
       "      <th>product_url</th>\n",
       "      <th>product_picture</th>\n",
       "      <th>product_id</th>\n",
       "    </tr>\n",
       "  </thead>\n",
       "  <tbody>\n",
       "    <tr>\n",
       "      <th>0</th>\n",
       "      <td>2020 Summer Vintage Flamingo Print  Pajamas Se...</td>\n",
       "      <td>2020 Summer Vintage Flamingo Print  Pajamas Se...</td>\n",
       "      <td>zgrdejia</td>\n",
       "      <td>zgrdejia</td>\n",
       "      <td>(568 notes)</td>\n",
       "      <td>595097d6a26f6e070cb878d1</td>\n",
       "      <td>https://www.wish.com/c/5e9ae51d43d6a96e303acdb0</td>\n",
       "      <td>https://contestimg.wish.com/api/webimage/5e9ae...</td>\n",
       "      <td>5e9ae51d43d6a96e303acdb0</td>\n",
       "    </tr>\n",
       "    <tr>\n",
       "      <th>1</th>\n",
       "      <td>SSHOUSE Summer Casual Sleeveless Soirée Party ...</td>\n",
       "      <td>Women's Casual Summer Sleeveless Sexy Mini Dress</td>\n",
       "      <td>SaraHouse</td>\n",
       "      <td>sarahouse</td>\n",
       "      <td>83 % avis positifs (17,752 notes)</td>\n",
       "      <td>56458aa03a698c35c9050988</td>\n",
       "      <td>https://www.wish.com/c/58940d436a0d3d5da4e95a38</td>\n",
       "      <td>https://contestimg.wish.com/api/webimage/58940...</td>\n",
       "      <td>58940d436a0d3d5da4e95a38</td>\n",
       "    </tr>\n",
       "    <tr>\n",
       "      <th>2</th>\n",
       "      <td>2020 Nouvelle Arrivée Femmes Printemps et Été ...</td>\n",
       "      <td>2020 New Arrival Women Spring and Summer Beach...</td>\n",
       "      <td>hxt520</td>\n",
       "      <td>hxt520</td>\n",
       "      <td>86 % avis positifs (295 notes)</td>\n",
       "      <td>5d464a1ffdf7bc44ee933c65</td>\n",
       "      <td>https://www.wish.com/c/5ea10e2c617580260d55310a</td>\n",
       "      <td>https://contestimg.wish.com/api/webimage/5ea10...</td>\n",
       "      <td>5ea10e2c617580260d55310a</td>\n",
       "    </tr>\n",
       "  </tbody>\n",
       "</table>\n",
       "</div>"
      ],
      "text/plain": [
       "                                               title  \\\n",
       "0  2020 Summer Vintage Flamingo Print  Pajamas Se...   \n",
       "1  SSHOUSE Summer Casual Sleeveless Soirée Party ...   \n",
       "2  2020 Nouvelle Arrivée Femmes Printemps et Été ...   \n",
       "\n",
       "                                          title_orig merchant_title  \\\n",
       "0  2020 Summer Vintage Flamingo Print  Pajamas Se...       zgrdejia   \n",
       "1   Women's Casual Summer Sleeveless Sexy Mini Dress      SaraHouse   \n",
       "2  2020 New Arrival Women Spring and Summer Beach...         hxt520   \n",
       "\n",
       "  merchant_name             merchant_info_subtitle               merchant_id  \\\n",
       "0      zgrdejia                        (568 notes)  595097d6a26f6e070cb878d1   \n",
       "1     sarahouse  83 % avis positifs (17,752 notes)  56458aa03a698c35c9050988   \n",
       "2        hxt520     86 % avis positifs (295 notes)  5d464a1ffdf7bc44ee933c65   \n",
       "\n",
       "                                       product_url  \\\n",
       "0  https://www.wish.com/c/5e9ae51d43d6a96e303acdb0   \n",
       "1  https://www.wish.com/c/58940d436a0d3d5da4e95a38   \n",
       "2  https://www.wish.com/c/5ea10e2c617580260d55310a   \n",
       "\n",
       "                                     product_picture                product_id  \n",
       "0  https://contestimg.wish.com/api/webimage/5e9ae...  5e9ae51d43d6a96e303acdb0  \n",
       "1  https://contestimg.wish.com/api/webimage/58940...  58940d436a0d3d5da4e95a38  \n",
       "2  https://contestimg.wish.com/api/webimage/5ea10...  5ea10e2c617580260d55310a  "
      ]
     },
     "execution_count": 42,
     "metadata": {},
     "output_type": "execute_result"
    }
   ],
   "source": [
    "# show the categorical variables with high cardinality\n",
    "data[['title','title_orig','merchant_title',\n",
    "      'merchant_name','merchant_info_subtitle','merchant_id',\n",
    "      'product_url','product_picture','product_id']].head(3)"
   ]
  },
  {
   "cell_type": "code",
   "execution_count": 43,
   "metadata": {},
   "outputs": [
    {
     "data": {
      "text/plain": [
       "0"
      ]
     },
     "execution_count": 43,
     "metadata": {},
     "output_type": "execute_result"
    }
   ],
   "source": [
    "# extract the specifi string from two columns\n",
    "product_url = data['product_url'].str.split(pat='com/c/').apply(lambda x: x[-1])\n",
    "product_picture = data['product_picture'].str.split(pat='webimage/').apply(lambda x: x[-1])\n",
    "\n",
    "# check if the id are identical\n",
    "(product_picture == product_url).sum()"
   ]
  },
  {
   "cell_type": "code",
   "execution_count": 44,
   "metadata": {},
   "outputs": [],
   "source": [
    "# drop the duplicated columns\n",
    "data.drop(labels=['product_url','product_picture'],axis=1,inplace=True)"
   ]
  },
  {
   "cell_type": "code",
   "execution_count": 45,
   "metadata": {},
   "outputs": [],
   "source": [
    "# column title_orig is the English version of column title\n",
    "# drop the column title to avoid redundancy\n",
    "data.drop(labels='title',axis=1,inplace=True)"
   ]
  },
  {
   "cell_type": "code",
   "execution_count": 46,
   "metadata": {},
   "outputs": [
    {
     "data": {
      "text/plain": [
       "merchant_title             956\n",
       "merchant_name              956\n",
       "merchant_info_subtitle    1056\n",
       "merchant_id                956\n",
       "dtype: int64"
      ]
     },
     "execution_count": 46,
     "metadata": {},
     "output_type": "execute_result"
    }
   ],
   "source": [
    "# check the columns about merchant\n",
    "data_merchant = data[['merchant_title','merchant_name','merchant_info_subtitle','merchant_id']]\n",
    "data_merchant.nunique()"
   ]
  },
  {
   "cell_type": "code",
   "execution_count": 47,
   "metadata": {},
   "outputs": [],
   "source": [
    "# columns about merchant are too complicated and seems not useful for building the algorithm\n",
    "# drop these columns\n",
    "data.drop(labels=data_merchant.columns,axis=1,inplace=True)"
   ]
  },
  {
   "cell_type": "code",
   "execution_count": 48,
   "metadata": {},
   "outputs": [
    {
     "data": {
      "text/html": [
       "<div>\n",
       "<style scoped>\n",
       "    .dataframe tbody tr th:only-of-type {\n",
       "        vertical-align: middle;\n",
       "    }\n",
       "\n",
       "    .dataframe tbody tr th {\n",
       "        vertical-align: top;\n",
       "    }\n",
       "\n",
       "    .dataframe thead th {\n",
       "        text-align: right;\n",
       "    }\n",
       "</style>\n",
       "<table border=\"1\" class=\"dataframe\">\n",
       "  <thead>\n",
       "    <tr style=\"text-align: right;\">\n",
       "      <th></th>\n",
       "      <th>price</th>\n",
       "      <th>retail_price</th>\n",
       "      <th>successful_product</th>\n",
       "      <th>uses_ad_boosts</th>\n",
       "      <th>rating</th>\n",
       "      <th>rating_count</th>\n",
       "      <th>rating_five_count</th>\n",
       "      <th>rating_four_count</th>\n",
       "      <th>rating_three_count</th>\n",
       "      <th>rating_two_count</th>\n",
       "      <th>...</th>\n",
       "      <th>shipping_option_price</th>\n",
       "      <th>shipping_is_express</th>\n",
       "      <th>countries_shipped_to</th>\n",
       "      <th>inventory_total</th>\n",
       "      <th>has_urgency_banner</th>\n",
       "      <th>urgency_text</th>\n",
       "      <th>origin_country</th>\n",
       "      <th>merchant_rating_count</th>\n",
       "      <th>merchant_rating</th>\n",
       "      <th>merchant_profile_picture</th>\n",
       "    </tr>\n",
       "  </thead>\n",
       "  <tbody>\n",
       "    <tr>\n",
       "      <th>0</th>\n",
       "      <td>16.0</td>\n",
       "      <td>14</td>\n",
       "      <td>0</td>\n",
       "      <td>0</td>\n",
       "      <td>3.76</td>\n",
       "      <td>54</td>\n",
       "      <td>26.0</td>\n",
       "      <td>8.0</td>\n",
       "      <td>10.0</td>\n",
       "      <td>1.0</td>\n",
       "      <td>...</td>\n",
       "      <td>4</td>\n",
       "      <td>0</td>\n",
       "      <td>34</td>\n",
       "      <td>50</td>\n",
       "      <td>1.0</td>\n",
       "      <td>1</td>\n",
       "      <td>CN</td>\n",
       "      <td>568</td>\n",
       "      <td>4.128521</td>\n",
       "      <td>0</td>\n",
       "    </tr>\n",
       "    <tr>\n",
       "      <th>1</th>\n",
       "      <td>8.0</td>\n",
       "      <td>22</td>\n",
       "      <td>1</td>\n",
       "      <td>1</td>\n",
       "      <td>3.45</td>\n",
       "      <td>6135</td>\n",
       "      <td>2269.0</td>\n",
       "      <td>1027.0</td>\n",
       "      <td>1118.0</td>\n",
       "      <td>644.0</td>\n",
       "      <td>...</td>\n",
       "      <td>2</td>\n",
       "      <td>0</td>\n",
       "      <td>41</td>\n",
       "      <td>50</td>\n",
       "      <td>1.0</td>\n",
       "      <td>1</td>\n",
       "      <td>CN</td>\n",
       "      <td>17752</td>\n",
       "      <td>3.899673</td>\n",
       "      <td>0</td>\n",
       "    </tr>\n",
       "    <tr>\n",
       "      <th>2</th>\n",
       "      <td>8.0</td>\n",
       "      <td>43</td>\n",
       "      <td>0</td>\n",
       "      <td>0</td>\n",
       "      <td>3.57</td>\n",
       "      <td>14</td>\n",
       "      <td>5.0</td>\n",
       "      <td>4.0</td>\n",
       "      <td>2.0</td>\n",
       "      <td>0.0</td>\n",
       "      <td>...</td>\n",
       "      <td>3</td>\n",
       "      <td>0</td>\n",
       "      <td>36</td>\n",
       "      <td>50</td>\n",
       "      <td>1.0</td>\n",
       "      <td>1</td>\n",
       "      <td>CN</td>\n",
       "      <td>295</td>\n",
       "      <td>3.989831</td>\n",
       "      <td>0</td>\n",
       "    </tr>\n",
       "    <tr>\n",
       "      <th>3</th>\n",
       "      <td>8.0</td>\n",
       "      <td>8</td>\n",
       "      <td>0</td>\n",
       "      <td>1</td>\n",
       "      <td>4.03</td>\n",
       "      <td>579</td>\n",
       "      <td>295.0</td>\n",
       "      <td>119.0</td>\n",
       "      <td>87.0</td>\n",
       "      <td>42.0</td>\n",
       "      <td>...</td>\n",
       "      <td>2</td>\n",
       "      <td>0</td>\n",
       "      <td>41</td>\n",
       "      <td>50</td>\n",
       "      <td>0.0</td>\n",
       "      <td>0</td>\n",
       "      <td>CN</td>\n",
       "      <td>23832</td>\n",
       "      <td>4.020435</td>\n",
       "      <td>0</td>\n",
       "    </tr>\n",
       "  </tbody>\n",
       "</table>\n",
       "<p>4 rows × 29 columns</p>\n",
       "</div>"
      ],
      "text/plain": [
       "   price  retail_price  successful_product  uses_ad_boosts  rating  \\\n",
       "0   16.0            14                   0               0    3.76   \n",
       "1    8.0            22                   1               1    3.45   \n",
       "2    8.0            43                   0               0    3.57   \n",
       "3    8.0             8                   0               1    4.03   \n",
       "\n",
       "   rating_count  rating_five_count  rating_four_count  rating_three_count  \\\n",
       "0            54               26.0                8.0                10.0   \n",
       "1          6135             2269.0             1027.0              1118.0   \n",
       "2            14                5.0                4.0                 2.0   \n",
       "3           579              295.0              119.0                87.0   \n",
       "\n",
       "   rating_two_count  ...  shipping_option_price  shipping_is_express  \\\n",
       "0               1.0  ...                      4                    0   \n",
       "1             644.0  ...                      2                    0   \n",
       "2               0.0  ...                      3                    0   \n",
       "3              42.0  ...                      2                    0   \n",
       "\n",
       "   countries_shipped_to  inventory_total  has_urgency_banner urgency_text  \\\n",
       "0                    34               50                 1.0            1   \n",
       "1                    41               50                 1.0            1   \n",
       "2                    36               50                 1.0            1   \n",
       "3                    41               50                 0.0            0   \n",
       "\n",
       "  origin_country  merchant_rating_count  merchant_rating  \\\n",
       "0             CN                    568         4.128521   \n",
       "1             CN                  17752         3.899673   \n",
       "2             CN                    295         3.989831   \n",
       "3             CN                  23832         4.020435   \n",
       "\n",
       "   merchant_profile_picture  \n",
       "0                         0  \n",
       "1                         0  \n",
       "2                         0  \n",
       "3                         0  \n",
       "\n",
       "[4 rows x 29 columns]"
      ]
     },
     "execution_count": 48,
     "metadata": {},
     "output_type": "execute_result"
    }
   ],
   "source": [
    "# categorical variables with only one category are usually useless for the algorithm\n",
    "data.drop(labels=['theme','crawl_month','currency_buyer'],inplace=True,axis=1)\n",
    "\n",
    "# drop column title, tags and product_id\n",
    "data.drop(labels=['title_orig','product_id','tags'],axis=1,inplace=True)\n",
    "# check the data again\n",
    "data.head(4)"
   ]
  },
  {
   "cell_type": "code",
   "execution_count": 49,
   "metadata": {},
   "outputs": [
    {
     "name": "stdout",
     "output_type": "stream",
     "text": [
      "<class 'pandas.core.frame.DataFrame'>\n",
      "Int64Index: 1568 entries, 0 to 1572\n",
      "Data columns (total 29 columns):\n",
      " #   Column                       Non-Null Count  Dtype  \n",
      "---  ------                       --------------  -----  \n",
      " 0   price                        1568 non-null   float64\n",
      " 1   retail_price                 1568 non-null   int64  \n",
      " 2   successful_product           1568 non-null   int64  \n",
      " 3   uses_ad_boosts               1568 non-null   int64  \n",
      " 4   rating                       1568 non-null   float64\n",
      " 5   rating_count                 1568 non-null   int64  \n",
      " 6   rating_five_count            1568 non-null   float64\n",
      " 7   rating_four_count            1568 non-null   float64\n",
      " 8   rating_three_count           1568 non-null   float64\n",
      " 9   rating_two_count             1568 non-null   float64\n",
      " 10  rating_one_count             1568 non-null   float64\n",
      " 11  badges_count                 1568 non-null   int64  \n",
      " 12  badge_local_product          1568 non-null   int64  \n",
      " 13  badge_product_quality        1568 non-null   int64  \n",
      " 14  badge_fast_shipping          1568 non-null   int64  \n",
      " 15  product_color                1568 non-null   object \n",
      " 16  product_variation_size_id    1568 non-null   object \n",
      " 17  product_variation_inventory  1568 non-null   int64  \n",
      " 18  standard_shipping            1568 non-null   int64  \n",
      " 19  shipping_option_price        1568 non-null   int64  \n",
      " 20  shipping_is_express          1568 non-null   int64  \n",
      " 21  countries_shipped_to         1568 non-null   int64  \n",
      " 22  inventory_total              1568 non-null   int64  \n",
      " 23  has_urgency_banner           1568 non-null   float64\n",
      " 24  urgency_text                 1568 non-null   int64  \n",
      " 25  origin_country               1568 non-null   object \n",
      " 26  merchant_rating_count        1568 non-null   int64  \n",
      " 27  merchant_rating              1568 non-null   float64\n",
      " 28  merchant_profile_picture     1568 non-null   int64  \n",
      "dtypes: float64(9), int64(17), object(3)\n",
      "memory usage: 367.5+ KB\n"
     ]
    }
   ],
   "source": [
    "data.info()"
   ]
  },
  {
   "cell_type": "markdown",
   "metadata": {},
   "source": [
    "### Feature Selection with feature engine"
   ]
  },
  {
   "cell_type": "code",
   "execution_count": 50,
   "metadata": {},
   "outputs": [
    {
     "data": {
      "text/plain": [
       "((1097, 28), (471, 28))"
      ]
     },
     "execution_count": 50,
     "metadata": {},
     "output_type": "execute_result"
    }
   ],
   "source": [
    "# separate dataset into train and test\n",
    "from sklearn.model_selection import train_test_split\n",
    "\n",
    "X_train, X_test, y_train, y_test = train_test_split(\n",
    "    data.drop(labels='successful_product', axis=1),\n",
    "    data['successful_product'],\n",
    "    test_size=0.3,\n",
    "    random_state=101)\n",
    "\n",
    "X_train.shape, X_test.shape"
   ]
  },
  {
   "cell_type": "code",
   "execution_count": 51,
   "metadata": {},
   "outputs": [
    {
     "data": {
      "text/plain": [
       "CountFrequencyEncoder(variables=['product_color', 'product_variation_size_id',\n",
       "                                 'origin_country'])"
      ]
     },
     "execution_count": 51,
     "metadata": {},
     "output_type": "execute_result"
    }
   ],
   "source": [
    "# encode the category product color\n",
    "count_enc = CountFrequencyEncoder(\n",
    "    encoding_method='count', \n",
    "    variables=['product_color','product_variation_size_id','origin_country'])\n",
    "\n",
    "count_enc.fit(X_train)"
   ]
  },
  {
   "cell_type": "code",
   "execution_count": 52,
   "metadata": {},
   "outputs": [
    {
     "data": {
      "text/plain": [
       "{'product_color': {'other': 324,\n",
       "  'black': 211,\n",
       "  'white': 178,\n",
       "  'blue': 74,\n",
       "  'yellow': 69,\n",
       "  'pink': 67,\n",
       "  'red': 60,\n",
       "  'green': 57,\n",
       "  'grey': 57},\n",
       " 'product_variation_size_id': {'S': 451,\n",
       "  'XS': 242,\n",
       "  'M': 141,\n",
       "  'other': 132,\n",
       "  'XXS': 74,\n",
       "  'L': 36,\n",
       "  'XL': 11,\n",
       "  'XXL': 10},\n",
       " 'origin_country': {'CN': 1063, 'US': 18, 'Other': 16}}"
      ]
     },
     "execution_count": 52,
     "metadata": {},
     "output_type": "execute_result"
    }
   ],
   "source": [
    "# observations per category for each variable\n",
    "count_enc.encoder_dict_"
   ]
  },
  {
   "cell_type": "code",
   "execution_count": 53,
   "metadata": {},
   "outputs": [
    {
     "name": "stdout",
     "output_type": "stream",
     "text": [
      "<class 'pandas.core.frame.DataFrame'>\n",
      "Int64Index: 1097 entries, 1516 to 866\n",
      "Data columns (total 28 columns):\n",
      " #   Column                       Non-Null Count  Dtype  \n",
      "---  ------                       --------------  -----  \n",
      " 0   price                        1097 non-null   float64\n",
      " 1   retail_price                 1097 non-null   int64  \n",
      " 2   uses_ad_boosts               1097 non-null   int64  \n",
      " 3   rating                       1097 non-null   float64\n",
      " 4   rating_count                 1097 non-null   int64  \n",
      " 5   rating_five_count            1097 non-null   float64\n",
      " 6   rating_four_count            1097 non-null   float64\n",
      " 7   rating_three_count           1097 non-null   float64\n",
      " 8   rating_two_count             1097 non-null   float64\n",
      " 9   rating_one_count             1097 non-null   float64\n",
      " 10  badges_count                 1097 non-null   int64  \n",
      " 11  badge_local_product          1097 non-null   int64  \n",
      " 12  badge_product_quality        1097 non-null   int64  \n",
      " 13  badge_fast_shipping          1097 non-null   int64  \n",
      " 14  product_color                1097 non-null   int64  \n",
      " 15  product_variation_size_id    1097 non-null   int64  \n",
      " 16  product_variation_inventory  1097 non-null   int64  \n",
      " 17  standard_shipping            1097 non-null   int64  \n",
      " 18  shipping_option_price        1097 non-null   int64  \n",
      " 19  shipping_is_express          1097 non-null   int64  \n",
      " 20  countries_shipped_to         1097 non-null   int64  \n",
      " 21  inventory_total              1097 non-null   int64  \n",
      " 22  has_urgency_banner           1097 non-null   float64\n",
      " 23  urgency_text                 1097 non-null   int64  \n",
      " 24  origin_country               1097 non-null   int64  \n",
      " 25  merchant_rating_count        1097 non-null   int64  \n",
      " 26  merchant_rating              1097 non-null   float64\n",
      " 27  merchant_profile_picture     1097 non-null   int64  \n",
      "dtypes: float64(9), int64(19)\n",
      "memory usage: 248.5 KB\n"
     ]
    }
   ],
   "source": [
    "X_train = count_enc.transform(X_train)\n",
    "X_test = count_enc.transform(X_test)\n",
    "\n",
    "# let's explore the result,all variables are numerical now\n",
    "X_train.info()"
   ]
  },
  {
   "cell_type": "code",
   "execution_count": 54,
   "metadata": {},
   "outputs": [
    {
     "data": {
      "text/html": [
       "<div>\n",
       "<style scoped>\n",
       "    .dataframe tbody tr th:only-of-type {\n",
       "        vertical-align: middle;\n",
       "    }\n",
       "\n",
       "    .dataframe tbody tr th {\n",
       "        vertical-align: top;\n",
       "    }\n",
       "\n",
       "    .dataframe thead th {\n",
       "        text-align: right;\n",
       "    }\n",
       "</style>\n",
       "<table border=\"1\" class=\"dataframe\">\n",
       "  <thead>\n",
       "    <tr style=\"text-align: right;\">\n",
       "      <th></th>\n",
       "      <th>price</th>\n",
       "      <th>retail_price</th>\n",
       "      <th>uses_ad_boosts</th>\n",
       "      <th>rating</th>\n",
       "      <th>rating_count</th>\n",
       "      <th>rating_five_count</th>\n",
       "      <th>rating_four_count</th>\n",
       "      <th>rating_three_count</th>\n",
       "      <th>rating_two_count</th>\n",
       "      <th>rating_one_count</th>\n",
       "      <th>...</th>\n",
       "      <th>shipping_option_price</th>\n",
       "      <th>shipping_is_express</th>\n",
       "      <th>countries_shipped_to</th>\n",
       "      <th>inventory_total</th>\n",
       "      <th>has_urgency_banner</th>\n",
       "      <th>urgency_text</th>\n",
       "      <th>origin_country</th>\n",
       "      <th>merchant_rating_count</th>\n",
       "      <th>merchant_rating</th>\n",
       "      <th>merchant_profile_picture</th>\n",
       "    </tr>\n",
       "  </thead>\n",
       "  <tbody>\n",
       "    <tr>\n",
       "      <th>1516</th>\n",
       "      <td>15.0</td>\n",
       "      <td>13</td>\n",
       "      <td>0</td>\n",
       "      <td>4.34</td>\n",
       "      <td>3845</td>\n",
       "      <td>2458.0</td>\n",
       "      <td>726.0</td>\n",
       "      <td>355.0</td>\n",
       "      <td>134.0</td>\n",
       "      <td>172.0</td>\n",
       "      <td>...</td>\n",
       "      <td>4</td>\n",
       "      <td>0</td>\n",
       "      <td>10</td>\n",
       "      <td>50</td>\n",
       "      <td>0.0</td>\n",
       "      <td>0</td>\n",
       "      <td>1063</td>\n",
       "      <td>18910</td>\n",
       "      <td>4.387414</td>\n",
       "      <td>1</td>\n",
       "    </tr>\n",
       "    <tr>\n",
       "      <th>254</th>\n",
       "      <td>9.0</td>\n",
       "      <td>34</td>\n",
       "      <td>1</td>\n",
       "      <td>3.14</td>\n",
       "      <td>28</td>\n",
       "      <td>8.0</td>\n",
       "      <td>6.0</td>\n",
       "      <td>3.0</td>\n",
       "      <td>4.0</td>\n",
       "      <td>7.0</td>\n",
       "      <td>...</td>\n",
       "      <td>3</td>\n",
       "      <td>0</td>\n",
       "      <td>40</td>\n",
       "      <td>50</td>\n",
       "      <td>1.0</td>\n",
       "      <td>1</td>\n",
       "      <td>1063</td>\n",
       "      <td>1472</td>\n",
       "      <td>3.534647</td>\n",
       "      <td>0</td>\n",
       "    </tr>\n",
       "    <tr>\n",
       "      <th>451</th>\n",
       "      <td>7.0</td>\n",
       "      <td>13</td>\n",
       "      <td>0</td>\n",
       "      <td>3.12</td>\n",
       "      <td>567</td>\n",
       "      <td>170.0</td>\n",
       "      <td>89.0</td>\n",
       "      <td>91.0</td>\n",
       "      <td>72.0</td>\n",
       "      <td>145.0</td>\n",
       "      <td>...</td>\n",
       "      <td>2</td>\n",
       "      <td>0</td>\n",
       "      <td>42</td>\n",
       "      <td>50</td>\n",
       "      <td>1.0</td>\n",
       "      <td>1</td>\n",
       "      <td>1063</td>\n",
       "      <td>5934</td>\n",
       "      <td>3.849511</td>\n",
       "      <td>0</td>\n",
       "    </tr>\n",
       "    <tr>\n",
       "      <th>383</th>\n",
       "      <td>9.0</td>\n",
       "      <td>8</td>\n",
       "      <td>0</td>\n",
       "      <td>3.58</td>\n",
       "      <td>81</td>\n",
       "      <td>29.0</td>\n",
       "      <td>20.0</td>\n",
       "      <td>13.0</td>\n",
       "      <td>7.0</td>\n",
       "      <td>12.0</td>\n",
       "      <td>...</td>\n",
       "      <td>3</td>\n",
       "      <td>0</td>\n",
       "      <td>43</td>\n",
       "      <td>50</td>\n",
       "      <td>0.0</td>\n",
       "      <td>0</td>\n",
       "      <td>1063</td>\n",
       "      <td>13814</td>\n",
       "      <td>3.856884</td>\n",
       "      <td>0</td>\n",
       "    </tr>\n",
       "    <tr>\n",
       "      <th>351</th>\n",
       "      <td>11.0</td>\n",
       "      <td>10</td>\n",
       "      <td>1</td>\n",
       "      <td>4.26</td>\n",
       "      <td>1273</td>\n",
       "      <td>735.0</td>\n",
       "      <td>295.0</td>\n",
       "      <td>134.0</td>\n",
       "      <td>55.0</td>\n",
       "      <td>54.0</td>\n",
       "      <td>...</td>\n",
       "      <td>2</td>\n",
       "      <td>0</td>\n",
       "      <td>38</td>\n",
       "      <td>50</td>\n",
       "      <td>1.0</td>\n",
       "      <td>1</td>\n",
       "      <td>1063</td>\n",
       "      <td>67171</td>\n",
       "      <td>4.102321</td>\n",
       "      <td>0</td>\n",
       "    </tr>\n",
       "  </tbody>\n",
       "</table>\n",
       "<p>5 rows × 28 columns</p>\n",
       "</div>"
      ],
      "text/plain": [
       "      price  retail_price  uses_ad_boosts  rating  rating_count  \\\n",
       "1516   15.0            13               0    4.34          3845   \n",
       "254     9.0            34               1    3.14            28   \n",
       "451     7.0            13               0    3.12           567   \n",
       "383     9.0             8               0    3.58            81   \n",
       "351    11.0            10               1    4.26          1273   \n",
       "\n",
       "      rating_five_count  rating_four_count  rating_three_count  \\\n",
       "1516             2458.0              726.0               355.0   \n",
       "254                 8.0                6.0                 3.0   \n",
       "451               170.0               89.0                91.0   \n",
       "383                29.0               20.0                13.0   \n",
       "351               735.0              295.0               134.0   \n",
       "\n",
       "      rating_two_count  rating_one_count  ...  shipping_option_price  \\\n",
       "1516             134.0             172.0  ...                      4   \n",
       "254                4.0               7.0  ...                      3   \n",
       "451               72.0             145.0  ...                      2   \n",
       "383                7.0              12.0  ...                      3   \n",
       "351               55.0              54.0  ...                      2   \n",
       "\n",
       "      shipping_is_express  countries_shipped_to  inventory_total  \\\n",
       "1516                    0                    10               50   \n",
       "254                     0                    40               50   \n",
       "451                     0                    42               50   \n",
       "383                     0                    43               50   \n",
       "351                     0                    38               50   \n",
       "\n",
       "      has_urgency_banner  urgency_text  origin_country  merchant_rating_count  \\\n",
       "1516                 0.0             0            1063                  18910   \n",
       "254                  1.0             1            1063                   1472   \n",
       "451                  1.0             1            1063                   5934   \n",
       "383                  0.0             0            1063                  13814   \n",
       "351                  1.0             1            1063                  67171   \n",
       "\n",
       "      merchant_rating  merchant_profile_picture  \n",
       "1516         4.387414                         1  \n",
       "254          3.534647                         0  \n",
       "451          3.849511                         0  \n",
       "383          3.856884                         0  \n",
       "351          4.102321                         0  \n",
       "\n",
       "[5 rows x 28 columns]"
      ]
     },
     "execution_count": 54,
     "metadata": {},
     "output_type": "execute_result"
    }
   ],
   "source": [
    "X_train.head()"
   ]
  },
  {
   "cell_type": "code",
   "execution_count": 55,
   "metadata": {},
   "outputs": [
    {
     "name": "stdout",
     "output_type": "stream",
     "text": [
      "[]\n"
     ]
    }
   ],
   "source": [
    "# find the columns with constant and quasi-constant feature\n",
    "constant_features = [feat for feat in X_train.columns if X_train[feat].std() == 0]\n",
    "print(constant_features) # there are no constant features"
   ]
  },
  {
   "cell_type": "code",
   "execution_count": 56,
   "metadata": {},
   "outputs": [
    {
     "data": {
      "text/plain": [
       "VarianceThreshold(threshold=0.01)"
      ]
     },
     "execution_count": 56,
     "metadata": {},
     "output_type": "execute_result"
    }
   ],
   "source": [
    "# select coloumns with quasi_constant feature\n",
    "from sklearn.feature_selection import VarianceThreshold\n",
    "\n",
    "sel = VarianceThreshold(threshold = 0.01)\n",
    "sel.fit(X_train)"
   ]
  },
  {
   "cell_type": "code",
   "execution_count": 57,
   "metadata": {},
   "outputs": [
    {
     "data": {
      "text/plain": [
       "3"
      ]
     },
     "execution_count": 57,
     "metadata": {},
     "output_type": "execute_result"
    }
   ],
   "source": [
    "# print the number of quasi-constant features\n",
    "\n",
    "quasi_constant = X_train.columns[~sel.get_support()]\n",
    "\n",
    "len(quasi_constant)"
   ]
  },
  {
   "cell_type": "code",
   "execution_count": 58,
   "metadata": {},
   "outputs": [
    {
     "name": "stdout",
     "output_type": "stream",
     "text": [
      "badge_fast_shipping \n",
      " 0    0.990884\n",
      "1    0.009116\n",
      "Name: badge_fast_shipping, dtype: float64 \n",
      "\n",
      "standard_shipping \n",
      " 1    0.998177\n",
      "0    0.001823\n",
      "Name: standard_shipping, dtype: float64 \n",
      "\n",
      "shipping_is_express \n",
      " 0    0.998177\n",
      "1    0.001823\n",
      "Name: shipping_is_express, dtype: float64 \n",
      "\n"
     ]
    }
   ],
   "source": [
    "# show the percentage of quasi-constant values\n",
    "for feature in quasi_constant:\n",
    "    print(feature, '\\n', X_train[feature].value_counts()/np.float(len(X_train)),'\\n')"
   ]
  },
  {
   "cell_type": "code",
   "execution_count": 59,
   "metadata": {},
   "outputs": [],
   "source": [
    "# drop these columns\n",
    "features_to_keep = X_train.columns[sel.get_support()]\n",
    "X_train = sel.transform(X_train)\n",
    "X_test = sel.transform(X_test)\n",
    "\n",
    "X_train= pd.DataFrame(X_train)\n",
    "X_train.columns = features_to_keep\n",
    "\n",
    "X_test= pd.DataFrame(X_test)\n",
    "X_test.columns = features_to_keep"
   ]
  },
  {
   "cell_type": "code",
   "execution_count": 60,
   "metadata": {},
   "outputs": [
    {
     "name": "stdout",
     "output_type": "stream",
     "text": [
      "0\n",
      "10\n",
      "20\n"
     ]
    },
    {
     "data": {
      "text/plain": [
       "1"
      ]
     },
     "execution_count": 60,
     "metadata": {},
     "output_type": "execute_result"
    }
   ],
   "source": [
    "# check for duplicated features in the training set\n",
    "\n",
    "duplicated_feat = []\n",
    "for i in range(0, len(X_train.columns)):\n",
    "    if i % 10 == 0:\n",
    "        print(i)\n",
    "\n",
    "    col_1 = X_train.columns[i]\n",
    "\n",
    "    for col_2 in X_train.columns[i + 1:]:\n",
    "        if X_train[col_1].equals(X_train[col_2]):\n",
    "            duplicated_feat.append(col_2)\n",
    "            \n",
    "len(duplicated_feat)"
   ]
  },
  {
   "cell_type": "code",
   "execution_count": 61,
   "metadata": {},
   "outputs": [
    {
     "data": {
      "text/plain": [
       "((1097, 24), (471, 24))"
      ]
     },
     "execution_count": 61,
     "metadata": {},
     "output_type": "execute_result"
    }
   ],
   "source": [
    "# remove duplicated features\n",
    "X_train.drop(labels=duplicated_feat, axis=1, inplace=True)\n",
    "X_test.drop(labels=duplicated_feat, axis=1, inplace=True)\n",
    "\n",
    "X_train.shape, X_test.shape"
   ]
  },
  {
   "cell_type": "code",
   "execution_count": 62,
   "metadata": {},
   "outputs": [
    {
     "name": "stdout",
     "output_type": "stream",
     "text": [
      "correlated features:  5\n"
     ]
    },
    {
     "data": {
      "text/plain": [
       "((1097, 19), (471, 19))"
      ]
     },
     "execution_count": 62,
     "metadata": {},
     "output_type": "execute_result"
    }
   ],
   "source": [
    "# find and drop correlated features\n",
    "def correlation(dataset, threshold):\n",
    "    col_corr = set()\n",
    "    corr_matrix = dataset.corr()\n",
    "    for i in range(len(corr_matrix.columns)):\n",
    "        for j in range(i):\n",
    "            if abs(corr_matrix.iloc[i, j]) > threshold: \n",
    "                colname = corr_matrix.columns[i]  # getting the name of column\n",
    "                col_corr.add(colname)\n",
    "    return col_corr\n",
    "\n",
    "corr_features = correlation(X_train, 0.9)\n",
    "print('correlated features: ', len(set(corr_features)) )\n",
    "\n",
    "# removed correlated  features\n",
    "X_train.drop(labels=corr_features, axis=1, inplace=True)\n",
    "X_test.drop(labels=corr_features, axis=1, inplace=True)\n",
    "\n",
    "X_train.shape, X_test.shape"
   ]
  },
  {
   "cell_type": "markdown",
   "metadata": {},
   "source": [
    "### Model building"
   ]
  },
  {
   "cell_type": "code",
   "execution_count": 63,
   "metadata": {},
   "outputs": [
    {
     "data": {
      "text/plain": [
       "DecisionTreeClassifier()"
      ]
     },
     "execution_count": 63,
     "metadata": {},
     "output_type": "execute_result"
    }
   ],
   "source": [
    "# import machine learning algorithm\n",
    "from sklearn.tree import DecisionTreeClassifier\n",
    "\n",
    "dtree = DecisionTreeClassifier()\n",
    "dtree.fit(X_train,y_train)"
   ]
  },
  {
   "cell_type": "code",
   "execution_count": 64,
   "metadata": {},
   "outputs": [
    {
     "name": "stdout",
     "output_type": "stream",
     "text": [
      "              precision    recall  f1-score   support\n",
      "\n",
      "           0       0.97      0.96      0.97       390\n",
      "           1       0.82      0.85      0.84        81\n",
      "\n",
      "    accuracy                           0.94       471\n",
      "   macro avg       0.90      0.91      0.90       471\n",
      "weighted avg       0.94      0.94      0.94       471\n",
      "\n",
      "[[375  15]\n",
      " [ 12  69]]\n"
     ]
    }
   ],
   "source": [
    "# evaluate the algorithm we build\n",
    "from sklearn.metrics import classification_report,confusion_matrix\n",
    "\n",
    "pred = dtree.predict(X_test)\n",
    "\n",
    "print(classification_report(y_test,pred))\n",
    "\n",
    "print(confusion_matrix(y_test,pred))"
   ]
  },
  {
   "cell_type": "code",
   "execution_count": null,
   "metadata": {},
   "outputs": [],
   "source": []
  }
 ],
 "metadata": {
  "kernelspec": {
   "display_name": "Python 3",
   "language": "python",
   "name": "python3"
  },
  "language_info": {
   "codemirror_mode": {
    "name": "ipython",
    "version": 3
   },
   "file_extension": ".py",
   "mimetype": "text/x-python",
   "name": "python",
   "nbconvert_exporter": "python",
   "pygments_lexer": "ipython3",
   "version": "3.8.5"
  }
 },
 "nbformat": 4,
 "nbformat_minor": 4
}
