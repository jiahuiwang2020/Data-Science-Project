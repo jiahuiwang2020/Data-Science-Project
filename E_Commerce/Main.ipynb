{
 "cells": [
  {
   "cell_type": "markdown",
   "metadata": {},
   "source": [
    "#### \n",
    "# Brazilian E-Commerce Public Dataset by Olist\n",
    "### 100,000 Orders with product, customer and reviews info\n",
    "### Data Science project from Kaggle: \n",
    "https://www.kaggle.com/olistbr/brazilian-ecommerce\n",
    "\n",
    "#### \n",
    "### Task description\n",
    "This is a Brazilian ecommerce public dataset of orders made at Olist Store. The dataset has information of 100k orders from 2016 to 2018 made at multiple marketplaces in Brazil. Its features allows viewing an order from multiple dimensions: from order status, price, payment and freight performance to customer location, product attributes and finally reviews written by customers. \n",
    "\n",
    "This is real commercial data, it has been anonymised, and references to the companies and partners in the review text have been replaced with the names of Game of Thrones great houses.This dataset was generously provided by Olist, the largest department store in Brazilian marketplaces. Olist connects small businesses from all over Brazil to channels without hassle and with a single contract. Those merchants are able to sell their products through the Olist Store and ship them directly to the customers using Olist logistics partners.After a customer purchases the product from Olist Store a seller gets notified to fulfill that order. \n",
    "\n",
    "Goal of this project is to predict the category of products based on information of the transactions.\n",
    "#### "
   ]
  },
  {
   "cell_type": "markdown",
   "metadata": {},
   "source": [
    "### Import libraries and datasets"
   ]
  },
  {
   "cell_type": "code",
   "execution_count": 1,
   "metadata": {},
   "outputs": [],
   "source": [
    "# import libraries for exploratory data analysis\n",
    "import pandas as pd # data analysis\n",
    "import numpy as np # linear algebra\n",
    "\n",
    "# import libraries to visualise the data\n",
    "import matplotlib.pyplot as plt\n",
    "import seaborn as sns\n",
    "sns.set_style('whitegrid')\n",
    "%matplotlib inline\n",
    "\n",
    "import warnings\n",
    "warnings.filterwarnings('ignore')"
   ]
  },
  {
   "cell_type": "code",
   "execution_count": 2,
   "metadata": {},
   "outputs": [],
   "source": [
    "# load datasets\n",
    "customers = pd.read_csv('dataset/customers.csv')\n",
    "sellers = pd.read_csv('dataset/sellers.csv')\n",
    "products = pd.read_csv('dataset/products.csv')\n",
    "orders = pd.read_csv('dataset/orders.csv')\n",
    "order_items = pd.read_csv('dataset/order_items.csv')\n",
    "order_payments = pd.read_csv('dataset/order_payments.csv')\n",
    "product_category_name_translation = pd.read_csv('dataset/product_category_name_translation.csv')\n",
    "geolocation = pd.read_csv('dataset/geolocation.csv')"
   ]
  },
  {
   "cell_type": "markdown",
   "metadata": {},
   "source": [
    "Check the head of every datasets at first"
   ]
  },
  {
   "cell_type": "code",
   "execution_count": 3,
   "metadata": {
    "scrolled": true
   },
   "outputs": [
    {
     "data": {
      "text/html": [
       "<div>\n",
       "<style scoped>\n",
       "    .dataframe tbody tr th:only-of-type {\n",
       "        vertical-align: middle;\n",
       "    }\n",
       "\n",
       "    .dataframe tbody tr th {\n",
       "        vertical-align: top;\n",
       "    }\n",
       "\n",
       "    .dataframe thead th {\n",
       "        text-align: right;\n",
       "    }\n",
       "</style>\n",
       "<table border=\"1\" class=\"dataframe\">\n",
       "  <thead>\n",
       "    <tr style=\"text-align: right;\">\n",
       "      <th></th>\n",
       "      <th>customer_id</th>\n",
       "      <th>customer_unique_id</th>\n",
       "      <th>customer_zip_code_prefix</th>\n",
       "      <th>customer_city</th>\n",
       "      <th>customer_state</th>\n",
       "    </tr>\n",
       "  </thead>\n",
       "  <tbody>\n",
       "    <tr>\n",
       "      <th>0</th>\n",
       "      <td>06b8999e2fba1a1fbc88172c00ba8bc7</td>\n",
       "      <td>861eff4711a542e4b93843c6dd7febb0</td>\n",
       "      <td>14409</td>\n",
       "      <td>franca</td>\n",
       "      <td>SP</td>\n",
       "    </tr>\n",
       "    <tr>\n",
       "      <th>1</th>\n",
       "      <td>18955e83d337fd6b2def6b18a428ac77</td>\n",
       "      <td>290c77bc529b7ac935b93aa66c333dc3</td>\n",
       "      <td>9790</td>\n",
       "      <td>sao bernardo do campo</td>\n",
       "      <td>SP</td>\n",
       "    </tr>\n",
       "    <tr>\n",
       "      <th>2</th>\n",
       "      <td>4e7b3e00288586ebd08712fdd0374a03</td>\n",
       "      <td>060e732b5b29e8181a18229c7b0b2b5e</td>\n",
       "      <td>1151</td>\n",
       "      <td>sao paulo</td>\n",
       "      <td>SP</td>\n",
       "    </tr>\n",
       "    <tr>\n",
       "      <th>3</th>\n",
       "      <td>b2b6027bc5c5109e529d4dc6358b12c3</td>\n",
       "      <td>259dac757896d24d7702b9acbbff3f3c</td>\n",
       "      <td>8775</td>\n",
       "      <td>mogi das cruzes</td>\n",
       "      <td>SP</td>\n",
       "    </tr>\n",
       "    <tr>\n",
       "      <th>4</th>\n",
       "      <td>4f2d8ab171c80ec8364f7c12e35b23ad</td>\n",
       "      <td>345ecd01c38d18a9036ed96c73b8d066</td>\n",
       "      <td>13056</td>\n",
       "      <td>campinas</td>\n",
       "      <td>SP</td>\n",
       "    </tr>\n",
       "  </tbody>\n",
       "</table>\n",
       "</div>"
      ],
      "text/plain": [
       "                        customer_id                customer_unique_id  \\\n",
       "0  06b8999e2fba1a1fbc88172c00ba8bc7  861eff4711a542e4b93843c6dd7febb0   \n",
       "1  18955e83d337fd6b2def6b18a428ac77  290c77bc529b7ac935b93aa66c333dc3   \n",
       "2  4e7b3e00288586ebd08712fdd0374a03  060e732b5b29e8181a18229c7b0b2b5e   \n",
       "3  b2b6027bc5c5109e529d4dc6358b12c3  259dac757896d24d7702b9acbbff3f3c   \n",
       "4  4f2d8ab171c80ec8364f7c12e35b23ad  345ecd01c38d18a9036ed96c73b8d066   \n",
       "\n",
       "   customer_zip_code_prefix          customer_city customer_state  \n",
       "0                     14409                 franca             SP  \n",
       "1                      9790  sao bernardo do campo             SP  \n",
       "2                      1151              sao paulo             SP  \n",
       "3                      8775        mogi das cruzes             SP  \n",
       "4                     13056               campinas             SP  "
      ]
     },
     "execution_count": 3,
     "metadata": {},
     "output_type": "execute_result"
    }
   ],
   "source": [
    "customers.head()"
   ]
  },
  {
   "cell_type": "code",
   "execution_count": 4,
   "metadata": {},
   "outputs": [
    {
     "data": {
      "text/html": [
       "<div>\n",
       "<style scoped>\n",
       "    .dataframe tbody tr th:only-of-type {\n",
       "        vertical-align: middle;\n",
       "    }\n",
       "\n",
       "    .dataframe tbody tr th {\n",
       "        vertical-align: top;\n",
       "    }\n",
       "\n",
       "    .dataframe thead th {\n",
       "        text-align: right;\n",
       "    }\n",
       "</style>\n",
       "<table border=\"1\" class=\"dataframe\">\n",
       "  <thead>\n",
       "    <tr style=\"text-align: right;\">\n",
       "      <th></th>\n",
       "      <th>seller_id</th>\n",
       "      <th>seller_zip_code_prefix</th>\n",
       "      <th>seller_city</th>\n",
       "      <th>seller_state</th>\n",
       "    </tr>\n",
       "  </thead>\n",
       "  <tbody>\n",
       "    <tr>\n",
       "      <th>0</th>\n",
       "      <td>3442f8959a84dea7ee197c632cb2df15</td>\n",
       "      <td>13023</td>\n",
       "      <td>campinas</td>\n",
       "      <td>SP</td>\n",
       "    </tr>\n",
       "    <tr>\n",
       "      <th>1</th>\n",
       "      <td>d1b65fc7debc3361ea86b5f14c68d2e2</td>\n",
       "      <td>13844</td>\n",
       "      <td>mogi guacu</td>\n",
       "      <td>SP</td>\n",
       "    </tr>\n",
       "    <tr>\n",
       "      <th>2</th>\n",
       "      <td>ce3ad9de960102d0677a81f5d0bb7b2d</td>\n",
       "      <td>20031</td>\n",
       "      <td>rio de janeiro</td>\n",
       "      <td>RJ</td>\n",
       "    </tr>\n",
       "    <tr>\n",
       "      <th>3</th>\n",
       "      <td>c0f3eea2e14555b6faeea3dd58c1b1c3</td>\n",
       "      <td>4195</td>\n",
       "      <td>sao paulo</td>\n",
       "      <td>SP</td>\n",
       "    </tr>\n",
       "    <tr>\n",
       "      <th>4</th>\n",
       "      <td>51a04a8a6bdcb23deccc82b0b80742cf</td>\n",
       "      <td>12914</td>\n",
       "      <td>braganca paulista</td>\n",
       "      <td>SP</td>\n",
       "    </tr>\n",
       "  </tbody>\n",
       "</table>\n",
       "</div>"
      ],
      "text/plain": [
       "                          seller_id  seller_zip_code_prefix  \\\n",
       "0  3442f8959a84dea7ee197c632cb2df15                   13023   \n",
       "1  d1b65fc7debc3361ea86b5f14c68d2e2                   13844   \n",
       "2  ce3ad9de960102d0677a81f5d0bb7b2d                   20031   \n",
       "3  c0f3eea2e14555b6faeea3dd58c1b1c3                    4195   \n",
       "4  51a04a8a6bdcb23deccc82b0b80742cf                   12914   \n",
       "\n",
       "         seller_city seller_state  \n",
       "0           campinas           SP  \n",
       "1         mogi guacu           SP  \n",
       "2     rio de janeiro           RJ  \n",
       "3          sao paulo           SP  \n",
       "4  braganca paulista           SP  "
      ]
     },
     "execution_count": 4,
     "metadata": {},
     "output_type": "execute_result"
    }
   ],
   "source": [
    "sellers.head()"
   ]
  },
  {
   "cell_type": "code",
   "execution_count": 5,
   "metadata": {},
   "outputs": [
    {
     "data": {
      "text/html": [
       "<div>\n",
       "<style scoped>\n",
       "    .dataframe tbody tr th:only-of-type {\n",
       "        vertical-align: middle;\n",
       "    }\n",
       "\n",
       "    .dataframe tbody tr th {\n",
       "        vertical-align: top;\n",
       "    }\n",
       "\n",
       "    .dataframe thead th {\n",
       "        text-align: right;\n",
       "    }\n",
       "</style>\n",
       "<table border=\"1\" class=\"dataframe\">\n",
       "  <thead>\n",
       "    <tr style=\"text-align: right;\">\n",
       "      <th></th>\n",
       "      <th>product_id</th>\n",
       "      <th>product_category_name</th>\n",
       "      <th>product_name_lenght</th>\n",
       "      <th>product_description_lenght</th>\n",
       "      <th>product_photos_qty</th>\n",
       "      <th>product_weight_g</th>\n",
       "      <th>product_length_cm</th>\n",
       "      <th>product_height_cm</th>\n",
       "      <th>product_width_cm</th>\n",
       "    </tr>\n",
       "  </thead>\n",
       "  <tbody>\n",
       "    <tr>\n",
       "      <th>0</th>\n",
       "      <td>1e9e8ef04dbcff4541ed26657ea517e5</td>\n",
       "      <td>perfumaria</td>\n",
       "      <td>40.0</td>\n",
       "      <td>287.0</td>\n",
       "      <td>1.0</td>\n",
       "      <td>225.0</td>\n",
       "      <td>16.0</td>\n",
       "      <td>10.0</td>\n",
       "      <td>14.0</td>\n",
       "    </tr>\n",
       "    <tr>\n",
       "      <th>1</th>\n",
       "      <td>3aa071139cb16b67ca9e5dea641aaa2f</td>\n",
       "      <td>artes</td>\n",
       "      <td>44.0</td>\n",
       "      <td>276.0</td>\n",
       "      <td>1.0</td>\n",
       "      <td>1000.0</td>\n",
       "      <td>30.0</td>\n",
       "      <td>18.0</td>\n",
       "      <td>20.0</td>\n",
       "    </tr>\n",
       "    <tr>\n",
       "      <th>2</th>\n",
       "      <td>96bd76ec8810374ed1b65e291975717f</td>\n",
       "      <td>esporte_lazer</td>\n",
       "      <td>46.0</td>\n",
       "      <td>250.0</td>\n",
       "      <td>1.0</td>\n",
       "      <td>154.0</td>\n",
       "      <td>18.0</td>\n",
       "      <td>9.0</td>\n",
       "      <td>15.0</td>\n",
       "    </tr>\n",
       "    <tr>\n",
       "      <th>3</th>\n",
       "      <td>cef67bcfe19066a932b7673e239eb23d</td>\n",
       "      <td>bebes</td>\n",
       "      <td>27.0</td>\n",
       "      <td>261.0</td>\n",
       "      <td>1.0</td>\n",
       "      <td>371.0</td>\n",
       "      <td>26.0</td>\n",
       "      <td>4.0</td>\n",
       "      <td>26.0</td>\n",
       "    </tr>\n",
       "    <tr>\n",
       "      <th>4</th>\n",
       "      <td>9dc1a7de274444849c219cff195d0b71</td>\n",
       "      <td>utilidades_domesticas</td>\n",
       "      <td>37.0</td>\n",
       "      <td>402.0</td>\n",
       "      <td>4.0</td>\n",
       "      <td>625.0</td>\n",
       "      <td>20.0</td>\n",
       "      <td>17.0</td>\n",
       "      <td>13.0</td>\n",
       "    </tr>\n",
       "  </tbody>\n",
       "</table>\n",
       "</div>"
      ],
      "text/plain": [
       "                         product_id  product_category_name  \\\n",
       "0  1e9e8ef04dbcff4541ed26657ea517e5             perfumaria   \n",
       "1  3aa071139cb16b67ca9e5dea641aaa2f                  artes   \n",
       "2  96bd76ec8810374ed1b65e291975717f          esporte_lazer   \n",
       "3  cef67bcfe19066a932b7673e239eb23d                  bebes   \n",
       "4  9dc1a7de274444849c219cff195d0b71  utilidades_domesticas   \n",
       "\n",
       "   product_name_lenght  product_description_lenght  product_photos_qty  \\\n",
       "0                 40.0                       287.0                 1.0   \n",
       "1                 44.0                       276.0                 1.0   \n",
       "2                 46.0                       250.0                 1.0   \n",
       "3                 27.0                       261.0                 1.0   \n",
       "4                 37.0                       402.0                 4.0   \n",
       "\n",
       "   product_weight_g  product_length_cm  product_height_cm  product_width_cm  \n",
       "0             225.0               16.0               10.0              14.0  \n",
       "1            1000.0               30.0               18.0              20.0  \n",
       "2             154.0               18.0                9.0              15.0  \n",
       "3             371.0               26.0                4.0              26.0  \n",
       "4             625.0               20.0               17.0              13.0  "
      ]
     },
     "execution_count": 5,
     "metadata": {},
     "output_type": "execute_result"
    }
   ],
   "source": [
    "products.head()"
   ]
  },
  {
   "cell_type": "code",
   "execution_count": 6,
   "metadata": {},
   "outputs": [
    {
     "data": {
      "text/html": [
       "<div>\n",
       "<style scoped>\n",
       "    .dataframe tbody tr th:only-of-type {\n",
       "        vertical-align: middle;\n",
       "    }\n",
       "\n",
       "    .dataframe tbody tr th {\n",
       "        vertical-align: top;\n",
       "    }\n",
       "\n",
       "    .dataframe thead th {\n",
       "        text-align: right;\n",
       "    }\n",
       "</style>\n",
       "<table border=\"1\" class=\"dataframe\">\n",
       "  <thead>\n",
       "    <tr style=\"text-align: right;\">\n",
       "      <th></th>\n",
       "      <th>order_id</th>\n",
       "      <th>customer_id</th>\n",
       "      <th>order_status</th>\n",
       "      <th>order_purchase_timestamp</th>\n",
       "      <th>order_approved_at</th>\n",
       "      <th>order_delivered_carrier_date</th>\n",
       "      <th>order_delivered_customer_date</th>\n",
       "      <th>order_estimated_delivery_date</th>\n",
       "    </tr>\n",
       "  </thead>\n",
       "  <tbody>\n",
       "    <tr>\n",
       "      <th>0</th>\n",
       "      <td>e481f51cbdc54678b7cc49136f2d6af7</td>\n",
       "      <td>9ef432eb6251297304e76186b10a928d</td>\n",
       "      <td>delivered</td>\n",
       "      <td>2017-10-02 10:56:33</td>\n",
       "      <td>2017-10-02 11:07:15</td>\n",
       "      <td>2017-10-04 19:55:00</td>\n",
       "      <td>2017-10-10 21:25:13</td>\n",
       "      <td>2017-10-18 00:00:00</td>\n",
       "    </tr>\n",
       "    <tr>\n",
       "      <th>1</th>\n",
       "      <td>53cdb2fc8bc7dce0b6741e2150273451</td>\n",
       "      <td>b0830fb4747a6c6d20dea0b8c802d7ef</td>\n",
       "      <td>delivered</td>\n",
       "      <td>2018-07-24 20:41:37</td>\n",
       "      <td>2018-07-26 03:24:27</td>\n",
       "      <td>2018-07-26 14:31:00</td>\n",
       "      <td>2018-08-07 15:27:45</td>\n",
       "      <td>2018-08-13 00:00:00</td>\n",
       "    </tr>\n",
       "    <tr>\n",
       "      <th>2</th>\n",
       "      <td>47770eb9100c2d0c44946d9cf07ec65d</td>\n",
       "      <td>41ce2a54c0b03bf3443c3d931a367089</td>\n",
       "      <td>delivered</td>\n",
       "      <td>2018-08-08 08:38:49</td>\n",
       "      <td>2018-08-08 08:55:23</td>\n",
       "      <td>2018-08-08 13:50:00</td>\n",
       "      <td>2018-08-17 18:06:29</td>\n",
       "      <td>2018-09-04 00:00:00</td>\n",
       "    </tr>\n",
       "    <tr>\n",
       "      <th>3</th>\n",
       "      <td>949d5b44dbf5de918fe9c16f97b45f8a</td>\n",
       "      <td>f88197465ea7920adcdbec7375364d82</td>\n",
       "      <td>delivered</td>\n",
       "      <td>2017-11-18 19:28:06</td>\n",
       "      <td>2017-11-18 19:45:59</td>\n",
       "      <td>2017-11-22 13:39:59</td>\n",
       "      <td>2017-12-02 00:28:42</td>\n",
       "      <td>2017-12-15 00:00:00</td>\n",
       "    </tr>\n",
       "    <tr>\n",
       "      <th>4</th>\n",
       "      <td>ad21c59c0840e6cb83a9ceb5573f8159</td>\n",
       "      <td>8ab97904e6daea8866dbdbc4fb7aad2c</td>\n",
       "      <td>delivered</td>\n",
       "      <td>2018-02-13 21:18:39</td>\n",
       "      <td>2018-02-13 22:20:29</td>\n",
       "      <td>2018-02-14 19:46:34</td>\n",
       "      <td>2018-02-16 18:17:02</td>\n",
       "      <td>2018-02-26 00:00:00</td>\n",
       "    </tr>\n",
       "  </tbody>\n",
       "</table>\n",
       "</div>"
      ],
      "text/plain": [
       "                           order_id                       customer_id  \\\n",
       "0  e481f51cbdc54678b7cc49136f2d6af7  9ef432eb6251297304e76186b10a928d   \n",
       "1  53cdb2fc8bc7dce0b6741e2150273451  b0830fb4747a6c6d20dea0b8c802d7ef   \n",
       "2  47770eb9100c2d0c44946d9cf07ec65d  41ce2a54c0b03bf3443c3d931a367089   \n",
       "3  949d5b44dbf5de918fe9c16f97b45f8a  f88197465ea7920adcdbec7375364d82   \n",
       "4  ad21c59c0840e6cb83a9ceb5573f8159  8ab97904e6daea8866dbdbc4fb7aad2c   \n",
       "\n",
       "  order_status order_purchase_timestamp    order_approved_at  \\\n",
       "0    delivered      2017-10-02 10:56:33  2017-10-02 11:07:15   \n",
       "1    delivered      2018-07-24 20:41:37  2018-07-26 03:24:27   \n",
       "2    delivered      2018-08-08 08:38:49  2018-08-08 08:55:23   \n",
       "3    delivered      2017-11-18 19:28:06  2017-11-18 19:45:59   \n",
       "4    delivered      2018-02-13 21:18:39  2018-02-13 22:20:29   \n",
       "\n",
       "  order_delivered_carrier_date order_delivered_customer_date  \\\n",
       "0          2017-10-04 19:55:00           2017-10-10 21:25:13   \n",
       "1          2018-07-26 14:31:00           2018-08-07 15:27:45   \n",
       "2          2018-08-08 13:50:00           2018-08-17 18:06:29   \n",
       "3          2017-11-22 13:39:59           2017-12-02 00:28:42   \n",
       "4          2018-02-14 19:46:34           2018-02-16 18:17:02   \n",
       "\n",
       "  order_estimated_delivery_date  \n",
       "0           2017-10-18 00:00:00  \n",
       "1           2018-08-13 00:00:00  \n",
       "2           2018-09-04 00:00:00  \n",
       "3           2017-12-15 00:00:00  \n",
       "4           2018-02-26 00:00:00  "
      ]
     },
     "execution_count": 6,
     "metadata": {},
     "output_type": "execute_result"
    }
   ],
   "source": [
    "orders.head()"
   ]
  },
  {
   "cell_type": "code",
   "execution_count": 7,
   "metadata": {},
   "outputs": [
    {
     "data": {
      "text/html": [
       "<div>\n",
       "<style scoped>\n",
       "    .dataframe tbody tr th:only-of-type {\n",
       "        vertical-align: middle;\n",
       "    }\n",
       "\n",
       "    .dataframe tbody tr th {\n",
       "        vertical-align: top;\n",
       "    }\n",
       "\n",
       "    .dataframe thead th {\n",
       "        text-align: right;\n",
       "    }\n",
       "</style>\n",
       "<table border=\"1\" class=\"dataframe\">\n",
       "  <thead>\n",
       "    <tr style=\"text-align: right;\">\n",
       "      <th></th>\n",
       "      <th>order_id</th>\n",
       "      <th>order_item_id</th>\n",
       "      <th>product_id</th>\n",
       "      <th>seller_id</th>\n",
       "      <th>shipping_limit_date</th>\n",
       "      <th>price</th>\n",
       "      <th>freight_value</th>\n",
       "    </tr>\n",
       "  </thead>\n",
       "  <tbody>\n",
       "    <tr>\n",
       "      <th>0</th>\n",
       "      <td>00010242fe8c5a6d1ba2dd792cb16214</td>\n",
       "      <td>1</td>\n",
       "      <td>4244733e06e7ecb4970a6e2683c13e61</td>\n",
       "      <td>48436dade18ac8b2bce089ec2a041202</td>\n",
       "      <td>2017-09-19 09:45:35</td>\n",
       "      <td>58.90</td>\n",
       "      <td>13.29</td>\n",
       "    </tr>\n",
       "    <tr>\n",
       "      <th>1</th>\n",
       "      <td>00018f77f2f0320c557190d7a144bdd3</td>\n",
       "      <td>1</td>\n",
       "      <td>e5f2d52b802189ee658865ca93d83a8f</td>\n",
       "      <td>dd7ddc04e1b6c2c614352b383efe2d36</td>\n",
       "      <td>2017-05-03 11:05:13</td>\n",
       "      <td>239.90</td>\n",
       "      <td>19.93</td>\n",
       "    </tr>\n",
       "    <tr>\n",
       "      <th>2</th>\n",
       "      <td>000229ec398224ef6ca0657da4fc703e</td>\n",
       "      <td>1</td>\n",
       "      <td>c777355d18b72b67abbeef9df44fd0fd</td>\n",
       "      <td>5b51032eddd242adc84c38acab88f23d</td>\n",
       "      <td>2018-01-18 14:48:30</td>\n",
       "      <td>199.00</td>\n",
       "      <td>17.87</td>\n",
       "    </tr>\n",
       "    <tr>\n",
       "      <th>3</th>\n",
       "      <td>00024acbcdf0a6daa1e931b038114c75</td>\n",
       "      <td>1</td>\n",
       "      <td>7634da152a4610f1595efa32f14722fc</td>\n",
       "      <td>9d7a1d34a5052409006425275ba1c2b4</td>\n",
       "      <td>2018-08-15 10:10:18</td>\n",
       "      <td>12.99</td>\n",
       "      <td>12.79</td>\n",
       "    </tr>\n",
       "    <tr>\n",
       "      <th>4</th>\n",
       "      <td>00042b26cf59d7ce69dfabb4e55b4fd9</td>\n",
       "      <td>1</td>\n",
       "      <td>ac6c3623068f30de03045865e4e10089</td>\n",
       "      <td>df560393f3a51e74553ab94004ba5c87</td>\n",
       "      <td>2017-02-13 13:57:51</td>\n",
       "      <td>199.90</td>\n",
       "      <td>18.14</td>\n",
       "    </tr>\n",
       "  </tbody>\n",
       "</table>\n",
       "</div>"
      ],
      "text/plain": [
       "                           order_id  order_item_id  \\\n",
       "0  00010242fe8c5a6d1ba2dd792cb16214              1   \n",
       "1  00018f77f2f0320c557190d7a144bdd3              1   \n",
       "2  000229ec398224ef6ca0657da4fc703e              1   \n",
       "3  00024acbcdf0a6daa1e931b038114c75              1   \n",
       "4  00042b26cf59d7ce69dfabb4e55b4fd9              1   \n",
       "\n",
       "                         product_id                         seller_id  \\\n",
       "0  4244733e06e7ecb4970a6e2683c13e61  48436dade18ac8b2bce089ec2a041202   \n",
       "1  e5f2d52b802189ee658865ca93d83a8f  dd7ddc04e1b6c2c614352b383efe2d36   \n",
       "2  c777355d18b72b67abbeef9df44fd0fd  5b51032eddd242adc84c38acab88f23d   \n",
       "3  7634da152a4610f1595efa32f14722fc  9d7a1d34a5052409006425275ba1c2b4   \n",
       "4  ac6c3623068f30de03045865e4e10089  df560393f3a51e74553ab94004ba5c87   \n",
       "\n",
       "   shipping_limit_date   price  freight_value  \n",
       "0  2017-09-19 09:45:35   58.90          13.29  \n",
       "1  2017-05-03 11:05:13  239.90          19.93  \n",
       "2  2018-01-18 14:48:30  199.00          17.87  \n",
       "3  2018-08-15 10:10:18   12.99          12.79  \n",
       "4  2017-02-13 13:57:51  199.90          18.14  "
      ]
     },
     "execution_count": 7,
     "metadata": {},
     "output_type": "execute_result"
    }
   ],
   "source": [
    "order_items.head()"
   ]
  },
  {
   "cell_type": "code",
   "execution_count": 8,
   "metadata": {},
   "outputs": [
    {
     "data": {
      "text/html": [
       "<div>\n",
       "<style scoped>\n",
       "    .dataframe tbody tr th:only-of-type {\n",
       "        vertical-align: middle;\n",
       "    }\n",
       "\n",
       "    .dataframe tbody tr th {\n",
       "        vertical-align: top;\n",
       "    }\n",
       "\n",
       "    .dataframe thead th {\n",
       "        text-align: right;\n",
       "    }\n",
       "</style>\n",
       "<table border=\"1\" class=\"dataframe\">\n",
       "  <thead>\n",
       "    <tr style=\"text-align: right;\">\n",
       "      <th></th>\n",
       "      <th>order_id</th>\n",
       "      <th>payment_sequential</th>\n",
       "      <th>payment_type</th>\n",
       "      <th>payment_installments</th>\n",
       "      <th>payment_value</th>\n",
       "    </tr>\n",
       "  </thead>\n",
       "  <tbody>\n",
       "    <tr>\n",
       "      <th>0</th>\n",
       "      <td>b81ef226f3fe1789b1e8b2acac839d17</td>\n",
       "      <td>1</td>\n",
       "      <td>credit_card</td>\n",
       "      <td>8</td>\n",
       "      <td>99.33</td>\n",
       "    </tr>\n",
       "    <tr>\n",
       "      <th>1</th>\n",
       "      <td>a9810da82917af2d9aefd1278f1dcfa0</td>\n",
       "      <td>1</td>\n",
       "      <td>credit_card</td>\n",
       "      <td>1</td>\n",
       "      <td>24.39</td>\n",
       "    </tr>\n",
       "    <tr>\n",
       "      <th>2</th>\n",
       "      <td>25e8ea4e93396b6fa0d3dd708e76c1bd</td>\n",
       "      <td>1</td>\n",
       "      <td>credit_card</td>\n",
       "      <td>1</td>\n",
       "      <td>65.71</td>\n",
       "    </tr>\n",
       "    <tr>\n",
       "      <th>3</th>\n",
       "      <td>ba78997921bbcdc1373bb41e913ab953</td>\n",
       "      <td>1</td>\n",
       "      <td>credit_card</td>\n",
       "      <td>8</td>\n",
       "      <td>107.78</td>\n",
       "    </tr>\n",
       "    <tr>\n",
       "      <th>4</th>\n",
       "      <td>42fdf880ba16b47b59251dd489d4441a</td>\n",
       "      <td>1</td>\n",
       "      <td>credit_card</td>\n",
       "      <td>2</td>\n",
       "      <td>128.45</td>\n",
       "    </tr>\n",
       "  </tbody>\n",
       "</table>\n",
       "</div>"
      ],
      "text/plain": [
       "                           order_id  payment_sequential payment_type  \\\n",
       "0  b81ef226f3fe1789b1e8b2acac839d17                   1  credit_card   \n",
       "1  a9810da82917af2d9aefd1278f1dcfa0                   1  credit_card   \n",
       "2  25e8ea4e93396b6fa0d3dd708e76c1bd                   1  credit_card   \n",
       "3  ba78997921bbcdc1373bb41e913ab953                   1  credit_card   \n",
       "4  42fdf880ba16b47b59251dd489d4441a                   1  credit_card   \n",
       "\n",
       "   payment_installments  payment_value  \n",
       "0                     8          99.33  \n",
       "1                     1          24.39  \n",
       "2                     1          65.71  \n",
       "3                     8         107.78  \n",
       "4                     2         128.45  "
      ]
     },
     "execution_count": 8,
     "metadata": {},
     "output_type": "execute_result"
    }
   ],
   "source": [
    "order_payments.head()"
   ]
  },
  {
   "cell_type": "code",
   "execution_count": 9,
   "metadata": {
    "scrolled": true
   },
   "outputs": [
    {
     "data": {
      "text/html": [
       "<div>\n",
       "<style scoped>\n",
       "    .dataframe tbody tr th:only-of-type {\n",
       "        vertical-align: middle;\n",
       "    }\n",
       "\n",
       "    .dataframe tbody tr th {\n",
       "        vertical-align: top;\n",
       "    }\n",
       "\n",
       "    .dataframe thead th {\n",
       "        text-align: right;\n",
       "    }\n",
       "</style>\n",
       "<table border=\"1\" class=\"dataframe\">\n",
       "  <thead>\n",
       "    <tr style=\"text-align: right;\">\n",
       "      <th></th>\n",
       "      <th>product_category_name</th>\n",
       "      <th>product_category_name_english</th>\n",
       "    </tr>\n",
       "  </thead>\n",
       "  <tbody>\n",
       "    <tr>\n",
       "      <th>0</th>\n",
       "      <td>beleza_saude</td>\n",
       "      <td>health_beauty</td>\n",
       "    </tr>\n",
       "    <tr>\n",
       "      <th>1</th>\n",
       "      <td>informatica_acessorios</td>\n",
       "      <td>computers_accessories</td>\n",
       "    </tr>\n",
       "    <tr>\n",
       "      <th>2</th>\n",
       "      <td>automotivo</td>\n",
       "      <td>auto</td>\n",
       "    </tr>\n",
       "    <tr>\n",
       "      <th>3</th>\n",
       "      <td>cama_mesa_banho</td>\n",
       "      <td>bed_bath_table</td>\n",
       "    </tr>\n",
       "    <tr>\n",
       "      <th>4</th>\n",
       "      <td>moveis_decoracao</td>\n",
       "      <td>furniture_decor</td>\n",
       "    </tr>\n",
       "  </tbody>\n",
       "</table>\n",
       "</div>"
      ],
      "text/plain": [
       "    product_category_name product_category_name_english\n",
       "0            beleza_saude                 health_beauty\n",
       "1  informatica_acessorios         computers_accessories\n",
       "2              automotivo                          auto\n",
       "3         cama_mesa_banho                bed_bath_table\n",
       "4        moveis_decoracao               furniture_decor"
      ]
     },
     "execution_count": 9,
     "metadata": {},
     "output_type": "execute_result"
    }
   ],
   "source": [
    "product_category_name_translation.head()"
   ]
  },
  {
   "cell_type": "code",
   "execution_count": 10,
   "metadata": {},
   "outputs": [
    {
     "data": {
      "text/html": [
       "<div>\n",
       "<style scoped>\n",
       "    .dataframe tbody tr th:only-of-type {\n",
       "        vertical-align: middle;\n",
       "    }\n",
       "\n",
       "    .dataframe tbody tr th {\n",
       "        vertical-align: top;\n",
       "    }\n",
       "\n",
       "    .dataframe thead th {\n",
       "        text-align: right;\n",
       "    }\n",
       "</style>\n",
       "<table border=\"1\" class=\"dataframe\">\n",
       "  <thead>\n",
       "    <tr style=\"text-align: right;\">\n",
       "      <th></th>\n",
       "      <th>geolocation_zip_code_prefix</th>\n",
       "      <th>geolocation_lat</th>\n",
       "      <th>geolocation_lng</th>\n",
       "      <th>geolocation_city</th>\n",
       "      <th>geolocation_state</th>\n",
       "    </tr>\n",
       "  </thead>\n",
       "  <tbody>\n",
       "    <tr>\n",
       "      <th>0</th>\n",
       "      <td>1037</td>\n",
       "      <td>-23.545621</td>\n",
       "      <td>-46.639292</td>\n",
       "      <td>sao paulo</td>\n",
       "      <td>SP</td>\n",
       "    </tr>\n",
       "    <tr>\n",
       "      <th>1</th>\n",
       "      <td>1046</td>\n",
       "      <td>-23.546081</td>\n",
       "      <td>-46.644820</td>\n",
       "      <td>sao paulo</td>\n",
       "      <td>SP</td>\n",
       "    </tr>\n",
       "    <tr>\n",
       "      <th>2</th>\n",
       "      <td>1046</td>\n",
       "      <td>-23.546129</td>\n",
       "      <td>-46.642951</td>\n",
       "      <td>sao paulo</td>\n",
       "      <td>SP</td>\n",
       "    </tr>\n",
       "    <tr>\n",
       "      <th>3</th>\n",
       "      <td>1041</td>\n",
       "      <td>-23.544392</td>\n",
       "      <td>-46.639499</td>\n",
       "      <td>sao paulo</td>\n",
       "      <td>SP</td>\n",
       "    </tr>\n",
       "    <tr>\n",
       "      <th>4</th>\n",
       "      <td>1035</td>\n",
       "      <td>-23.541578</td>\n",
       "      <td>-46.641607</td>\n",
       "      <td>sao paulo</td>\n",
       "      <td>SP</td>\n",
       "    </tr>\n",
       "  </tbody>\n",
       "</table>\n",
       "</div>"
      ],
      "text/plain": [
       "   geolocation_zip_code_prefix  geolocation_lat  geolocation_lng  \\\n",
       "0                         1037       -23.545621       -46.639292   \n",
       "1                         1046       -23.546081       -46.644820   \n",
       "2                         1046       -23.546129       -46.642951   \n",
       "3                         1041       -23.544392       -46.639499   \n",
       "4                         1035       -23.541578       -46.641607   \n",
       "\n",
       "  geolocation_city geolocation_state  \n",
       "0        sao paulo                SP  \n",
       "1        sao paulo                SP  \n",
       "2        sao paulo                SP  \n",
       "3        sao paulo                SP  \n",
       "4        sao paulo                SP  "
      ]
     },
     "execution_count": 10,
     "metadata": {},
     "output_type": "execute_result"
    }
   ],
   "source": [
    "geolocation.head()"
   ]
  },
  {
   "cell_type": "markdown",
   "metadata": {},
   "source": [
    "Initial data cleaning and datasets merging"
   ]
  },
  {
   "cell_type": "code",
   "execution_count": 11,
   "metadata": {},
   "outputs": [],
   "source": [
    "# firstly we need english name of product category instead of original name\n",
    "products_data = pd.merge(products, product_category_name_translation, on='product_category_name', how='left')\n",
    "\n",
    "# delete 'product_category_name' column and rename the column\n",
    "del products_data['product_category_name']\n",
    "\n",
    "products_data.rename(columns={'product_category_name_english': 'product_category'}, inplace=True)"
   ]
  },
  {
   "cell_type": "code",
   "execution_count": 12,
   "metadata": {},
   "outputs": [
    {
     "data": {
      "text/html": [
       "<div>\n",
       "<style scoped>\n",
       "    .dataframe tbody tr th:only-of-type {\n",
       "        vertical-align: middle;\n",
       "    }\n",
       "\n",
       "    .dataframe tbody tr th {\n",
       "        vertical-align: top;\n",
       "    }\n",
       "\n",
       "    .dataframe thead th {\n",
       "        text-align: right;\n",
       "    }\n",
       "</style>\n",
       "<table border=\"1\" class=\"dataframe\">\n",
       "  <thead>\n",
       "    <tr style=\"text-align: right;\">\n",
       "      <th></th>\n",
       "      <th>product_id</th>\n",
       "      <th>product_name_lenght</th>\n",
       "      <th>product_description_lenght</th>\n",
       "      <th>product_photos_qty</th>\n",
       "      <th>product_weight_g</th>\n",
       "      <th>product_length_cm</th>\n",
       "      <th>product_height_cm</th>\n",
       "      <th>product_width_cm</th>\n",
       "      <th>product_category</th>\n",
       "    </tr>\n",
       "  </thead>\n",
       "  <tbody>\n",
       "    <tr>\n",
       "      <th>0</th>\n",
       "      <td>1e9e8ef04dbcff4541ed26657ea517e5</td>\n",
       "      <td>40.0</td>\n",
       "      <td>287.0</td>\n",
       "      <td>1.0</td>\n",
       "      <td>225.0</td>\n",
       "      <td>16.0</td>\n",
       "      <td>10.0</td>\n",
       "      <td>14.0</td>\n",
       "      <td>perfumery</td>\n",
       "    </tr>\n",
       "    <tr>\n",
       "      <th>1</th>\n",
       "      <td>3aa071139cb16b67ca9e5dea641aaa2f</td>\n",
       "      <td>44.0</td>\n",
       "      <td>276.0</td>\n",
       "      <td>1.0</td>\n",
       "      <td>1000.0</td>\n",
       "      <td>30.0</td>\n",
       "      <td>18.0</td>\n",
       "      <td>20.0</td>\n",
       "      <td>art</td>\n",
       "    </tr>\n",
       "    <tr>\n",
       "      <th>2</th>\n",
       "      <td>96bd76ec8810374ed1b65e291975717f</td>\n",
       "      <td>46.0</td>\n",
       "      <td>250.0</td>\n",
       "      <td>1.0</td>\n",
       "      <td>154.0</td>\n",
       "      <td>18.0</td>\n",
       "      <td>9.0</td>\n",
       "      <td>15.0</td>\n",
       "      <td>sports_leisure</td>\n",
       "    </tr>\n",
       "    <tr>\n",
       "      <th>3</th>\n",
       "      <td>cef67bcfe19066a932b7673e239eb23d</td>\n",
       "      <td>27.0</td>\n",
       "      <td>261.0</td>\n",
       "      <td>1.0</td>\n",
       "      <td>371.0</td>\n",
       "      <td>26.0</td>\n",
       "      <td>4.0</td>\n",
       "      <td>26.0</td>\n",
       "      <td>baby</td>\n",
       "    </tr>\n",
       "    <tr>\n",
       "      <th>4</th>\n",
       "      <td>9dc1a7de274444849c219cff195d0b71</td>\n",
       "      <td>37.0</td>\n",
       "      <td>402.0</td>\n",
       "      <td>4.0</td>\n",
       "      <td>625.0</td>\n",
       "      <td>20.0</td>\n",
       "      <td>17.0</td>\n",
       "      <td>13.0</td>\n",
       "      <td>housewares</td>\n",
       "    </tr>\n",
       "  </tbody>\n",
       "</table>\n",
       "</div>"
      ],
      "text/plain": [
       "                         product_id  product_name_lenght  \\\n",
       "0  1e9e8ef04dbcff4541ed26657ea517e5                 40.0   \n",
       "1  3aa071139cb16b67ca9e5dea641aaa2f                 44.0   \n",
       "2  96bd76ec8810374ed1b65e291975717f                 46.0   \n",
       "3  cef67bcfe19066a932b7673e239eb23d                 27.0   \n",
       "4  9dc1a7de274444849c219cff195d0b71                 37.0   \n",
       "\n",
       "   product_description_lenght  product_photos_qty  product_weight_g  \\\n",
       "0                       287.0                 1.0             225.0   \n",
       "1                       276.0                 1.0            1000.0   \n",
       "2                       250.0                 1.0             154.0   \n",
       "3                       261.0                 1.0             371.0   \n",
       "4                       402.0                 4.0             625.0   \n",
       "\n",
       "   product_length_cm  product_height_cm  product_width_cm product_category  \n",
       "0               16.0               10.0              14.0        perfumery  \n",
       "1               30.0               18.0              20.0              art  \n",
       "2               18.0                9.0              15.0   sports_leisure  \n",
       "3               26.0                4.0              26.0             baby  \n",
       "4               20.0               17.0              13.0       housewares  "
      ]
     },
     "execution_count": 12,
     "metadata": {},
     "output_type": "execute_result"
    }
   ],
   "source": [
    "# check if it successed\n",
    "products_data.head()"
   ]
  },
  {
   "cell_type": "code",
   "execution_count": 13,
   "metadata": {},
   "outputs": [
    {
     "data": {
      "text/html": [
       "<div>\n",
       "<style scoped>\n",
       "    .dataframe tbody tr th:only-of-type {\n",
       "        vertical-align: middle;\n",
       "    }\n",
       "\n",
       "    .dataframe tbody tr th {\n",
       "        vertical-align: top;\n",
       "    }\n",
       "\n",
       "    .dataframe thead th {\n",
       "        text-align: right;\n",
       "    }\n",
       "</style>\n",
       "<table border=\"1\" class=\"dataframe\">\n",
       "  <thead>\n",
       "    <tr style=\"text-align: right;\">\n",
       "      <th></th>\n",
       "      <th>order_id</th>\n",
       "      <th>customer_id</th>\n",
       "      <th>order_status</th>\n",
       "      <th>order_purchase_timestamp</th>\n",
       "      <th>order_approved_at</th>\n",
       "      <th>order_delivered_carrier_date</th>\n",
       "      <th>order_delivered_customer_date</th>\n",
       "      <th>order_estimated_delivery_date</th>\n",
       "      <th>customer_unique_id</th>\n",
       "      <th>customer_zip_code_prefix</th>\n",
       "      <th>...</th>\n",
       "      <th>product_description_lenght</th>\n",
       "      <th>product_photos_qty</th>\n",
       "      <th>product_weight_g</th>\n",
       "      <th>product_length_cm</th>\n",
       "      <th>product_height_cm</th>\n",
       "      <th>product_width_cm</th>\n",
       "      <th>product_category</th>\n",
       "      <th>seller_zip_code_prefix</th>\n",
       "      <th>seller_city</th>\n",
       "      <th>seller_state</th>\n",
       "    </tr>\n",
       "  </thead>\n",
       "  <tbody>\n",
       "    <tr>\n",
       "      <th>0</th>\n",
       "      <td>e481f51cbdc54678b7cc49136f2d6af7</td>\n",
       "      <td>9ef432eb6251297304e76186b10a928d</td>\n",
       "      <td>delivered</td>\n",
       "      <td>2017-10-02 10:56:33</td>\n",
       "      <td>2017-10-02 11:07:15</td>\n",
       "      <td>2017-10-04 19:55:00</td>\n",
       "      <td>2017-10-10 21:25:13</td>\n",
       "      <td>2017-10-18 00:00:00</td>\n",
       "      <td>7c396fd4830fd04220f754e42b4e5bff</td>\n",
       "      <td>3149</td>\n",
       "      <td>...</td>\n",
       "      <td>268.0</td>\n",
       "      <td>4.0</td>\n",
       "      <td>500.0</td>\n",
       "      <td>19.0</td>\n",
       "      <td>8.0</td>\n",
       "      <td>13.0</td>\n",
       "      <td>housewares</td>\n",
       "      <td>9350</td>\n",
       "      <td>maua</td>\n",
       "      <td>SP</td>\n",
       "    </tr>\n",
       "    <tr>\n",
       "      <th>1</th>\n",
       "      <td>e481f51cbdc54678b7cc49136f2d6af7</td>\n",
       "      <td>9ef432eb6251297304e76186b10a928d</td>\n",
       "      <td>delivered</td>\n",
       "      <td>2017-10-02 10:56:33</td>\n",
       "      <td>2017-10-02 11:07:15</td>\n",
       "      <td>2017-10-04 19:55:00</td>\n",
       "      <td>2017-10-10 21:25:13</td>\n",
       "      <td>2017-10-18 00:00:00</td>\n",
       "      <td>7c396fd4830fd04220f754e42b4e5bff</td>\n",
       "      <td>3149</td>\n",
       "      <td>...</td>\n",
       "      <td>268.0</td>\n",
       "      <td>4.0</td>\n",
       "      <td>500.0</td>\n",
       "      <td>19.0</td>\n",
       "      <td>8.0</td>\n",
       "      <td>13.0</td>\n",
       "      <td>housewares</td>\n",
       "      <td>9350</td>\n",
       "      <td>maua</td>\n",
       "      <td>SP</td>\n",
       "    </tr>\n",
       "    <tr>\n",
       "      <th>2</th>\n",
       "      <td>e481f51cbdc54678b7cc49136f2d6af7</td>\n",
       "      <td>9ef432eb6251297304e76186b10a928d</td>\n",
       "      <td>delivered</td>\n",
       "      <td>2017-10-02 10:56:33</td>\n",
       "      <td>2017-10-02 11:07:15</td>\n",
       "      <td>2017-10-04 19:55:00</td>\n",
       "      <td>2017-10-10 21:25:13</td>\n",
       "      <td>2017-10-18 00:00:00</td>\n",
       "      <td>7c396fd4830fd04220f754e42b4e5bff</td>\n",
       "      <td>3149</td>\n",
       "      <td>...</td>\n",
       "      <td>268.0</td>\n",
       "      <td>4.0</td>\n",
       "      <td>500.0</td>\n",
       "      <td>19.0</td>\n",
       "      <td>8.0</td>\n",
       "      <td>13.0</td>\n",
       "      <td>housewares</td>\n",
       "      <td>9350</td>\n",
       "      <td>maua</td>\n",
       "      <td>SP</td>\n",
       "    </tr>\n",
       "    <tr>\n",
       "      <th>3</th>\n",
       "      <td>128e10d95713541c87cd1a2e48201934</td>\n",
       "      <td>a20e8105f23924cd00833fd87daa0831</td>\n",
       "      <td>delivered</td>\n",
       "      <td>2017-08-15 18:29:31</td>\n",
       "      <td>2017-08-15 20:05:16</td>\n",
       "      <td>2017-08-17 15:28:33</td>\n",
       "      <td>2017-08-18 14:44:43</td>\n",
       "      <td>2017-08-28 00:00:00</td>\n",
       "      <td>3a51803cc0d012c3b5dc8b7528cb05f7</td>\n",
       "      <td>3366</td>\n",
       "      <td>...</td>\n",
       "      <td>268.0</td>\n",
       "      <td>4.0</td>\n",
       "      <td>500.0</td>\n",
       "      <td>19.0</td>\n",
       "      <td>8.0</td>\n",
       "      <td>13.0</td>\n",
       "      <td>housewares</td>\n",
       "      <td>9350</td>\n",
       "      <td>maua</td>\n",
       "      <td>SP</td>\n",
       "    </tr>\n",
       "    <tr>\n",
       "      <th>4</th>\n",
       "      <td>0e7e841ddf8f8f2de2bad69267ecfbcf</td>\n",
       "      <td>26c7ac168e1433912a51b924fbd34d34</td>\n",
       "      <td>delivered</td>\n",
       "      <td>2017-08-02 18:24:47</td>\n",
       "      <td>2017-08-02 18:43:15</td>\n",
       "      <td>2017-08-04 17:35:43</td>\n",
       "      <td>2017-08-07 18:30:01</td>\n",
       "      <td>2017-08-15 00:00:00</td>\n",
       "      <td>ef0996a1a279c26e7ecbd737be23d235</td>\n",
       "      <td>2290</td>\n",
       "      <td>...</td>\n",
       "      <td>268.0</td>\n",
       "      <td>4.0</td>\n",
       "      <td>500.0</td>\n",
       "      <td>19.0</td>\n",
       "      <td>8.0</td>\n",
       "      <td>13.0</td>\n",
       "      <td>housewares</td>\n",
       "      <td>9350</td>\n",
       "      <td>maua</td>\n",
       "      <td>SP</td>\n",
       "    </tr>\n",
       "  </tbody>\n",
       "</table>\n",
       "<p>5 rows × 33 columns</p>\n",
       "</div>"
      ],
      "text/plain": [
       "                           order_id                       customer_id  \\\n",
       "0  e481f51cbdc54678b7cc49136f2d6af7  9ef432eb6251297304e76186b10a928d   \n",
       "1  e481f51cbdc54678b7cc49136f2d6af7  9ef432eb6251297304e76186b10a928d   \n",
       "2  e481f51cbdc54678b7cc49136f2d6af7  9ef432eb6251297304e76186b10a928d   \n",
       "3  128e10d95713541c87cd1a2e48201934  a20e8105f23924cd00833fd87daa0831   \n",
       "4  0e7e841ddf8f8f2de2bad69267ecfbcf  26c7ac168e1433912a51b924fbd34d34   \n",
       "\n",
       "  order_status order_purchase_timestamp    order_approved_at  \\\n",
       "0    delivered      2017-10-02 10:56:33  2017-10-02 11:07:15   \n",
       "1    delivered      2017-10-02 10:56:33  2017-10-02 11:07:15   \n",
       "2    delivered      2017-10-02 10:56:33  2017-10-02 11:07:15   \n",
       "3    delivered      2017-08-15 18:29:31  2017-08-15 20:05:16   \n",
       "4    delivered      2017-08-02 18:24:47  2017-08-02 18:43:15   \n",
       "\n",
       "  order_delivered_carrier_date order_delivered_customer_date  \\\n",
       "0          2017-10-04 19:55:00           2017-10-10 21:25:13   \n",
       "1          2017-10-04 19:55:00           2017-10-10 21:25:13   \n",
       "2          2017-10-04 19:55:00           2017-10-10 21:25:13   \n",
       "3          2017-08-17 15:28:33           2017-08-18 14:44:43   \n",
       "4          2017-08-04 17:35:43           2017-08-07 18:30:01   \n",
       "\n",
       "  order_estimated_delivery_date                customer_unique_id  \\\n",
       "0           2017-10-18 00:00:00  7c396fd4830fd04220f754e42b4e5bff   \n",
       "1           2017-10-18 00:00:00  7c396fd4830fd04220f754e42b4e5bff   \n",
       "2           2017-10-18 00:00:00  7c396fd4830fd04220f754e42b4e5bff   \n",
       "3           2017-08-28 00:00:00  3a51803cc0d012c3b5dc8b7528cb05f7   \n",
       "4           2017-08-15 00:00:00  ef0996a1a279c26e7ecbd737be23d235   \n",
       "\n",
       "   customer_zip_code_prefix  ... product_description_lenght  \\\n",
       "0                      3149  ...                      268.0   \n",
       "1                      3149  ...                      268.0   \n",
       "2                      3149  ...                      268.0   \n",
       "3                      3366  ...                      268.0   \n",
       "4                      2290  ...                      268.0   \n",
       "\n",
       "  product_photos_qty  product_weight_g product_length_cm product_height_cm  \\\n",
       "0                4.0             500.0              19.0               8.0   \n",
       "1                4.0             500.0              19.0               8.0   \n",
       "2                4.0             500.0              19.0               8.0   \n",
       "3                4.0             500.0              19.0               8.0   \n",
       "4                4.0             500.0              19.0               8.0   \n",
       "\n",
       "  product_width_cm  product_category  seller_zip_code_prefix  seller_city  \\\n",
       "0             13.0        housewares                    9350         maua   \n",
       "1             13.0        housewares                    9350         maua   \n",
       "2             13.0        housewares                    9350         maua   \n",
       "3             13.0        housewares                    9350         maua   \n",
       "4             13.0        housewares                    9350         maua   \n",
       "\n",
       "  seller_state  \n",
       "0           SP  \n",
       "1           SP  \n",
       "2           SP  \n",
       "3           SP  \n",
       "4           SP  \n",
       "\n",
       "[5 rows x 33 columns]"
      ]
     },
     "execution_count": 13,
     "metadata": {},
     "output_type": "execute_result"
    }
   ],
   "source": [
    "# merge all dataframes into one\n",
    "data = pd.merge(orders, customers, on='customer_id')\n",
    "data = data.merge(order_items, on='order_id')\n",
    "data = data.merge(order_payments, on='order_id')\n",
    "data = data.merge(products_data, on='product_id')\n",
    "data = data.merge(sellers, on='seller_id')\n",
    "\n",
    "data.head()"
   ]
  },
  {
   "cell_type": "code",
   "execution_count": 14,
   "metadata": {},
   "outputs": [],
   "source": [
    "# encode the time value\n",
    "import datetime\n",
    "\n",
    "def dt_transform(dataset,columns):\n",
    "    for col in columns:\n",
    "        dataset[col] = pd.to_datetime(dataset[col])\n",
    "\n",
    "time_features = ['order_purchase_timestamp','shipping_limit_date','order_delivered_customer_date',\n",
    "                 'order_estimated_delivery_date','order_approved_at','order_delivered_carrier_date']\n",
    "\n",
    "dt_transform(data,time_features)"
   ]
  },
  {
   "cell_type": "code",
   "execution_count": 15,
   "metadata": {},
   "outputs": [],
   "source": [
    "# introduce some new features\n",
    "data['order_month'] = data['order_purchase_timestamp'].dt.month\n",
    "data['Shipping days'] =  (data['order_delivered_customer_date'] - data['order_purchase_timestamp']).dt.days\n",
    "data['On time delivery'] = (data['order_delivered_customer_date'] - data['order_estimated_delivery_date']).dt.days"
   ]
  },
  {
   "cell_type": "code",
   "execution_count": 16,
   "metadata": {},
   "outputs": [
    {
     "data": {
      "text/plain": [
       "Index(['order_id', 'customer_id', 'order_status', 'order_purchase_timestamp',\n",
       "       'order_approved_at', 'order_delivered_carrier_date',\n",
       "       'order_delivered_customer_date', 'order_estimated_delivery_date',\n",
       "       'customer_unique_id', 'customer_zip_code_prefix', 'customer_city',\n",
       "       'customer_state', 'order_item_id', 'product_id', 'seller_id',\n",
       "       'shipping_limit_date', 'price', 'freight_value', 'payment_sequential',\n",
       "       'payment_type', 'payment_installments', 'payment_value',\n",
       "       'product_name_lenght', 'product_description_lenght',\n",
       "       'product_photos_qty', 'product_weight_g', 'product_length_cm',\n",
       "       'product_height_cm', 'product_width_cm', 'product_category',\n",
       "       'seller_zip_code_prefix', 'seller_city', 'seller_state', 'order_month',\n",
       "       'Shipping days', 'On time delivery'],\n",
       "      dtype='object')"
      ]
     },
     "execution_count": 16,
     "metadata": {},
     "output_type": "execute_result"
    }
   ],
   "source": [
    "# check the columns it contains\n",
    "data.columns"
   ]
  },
  {
   "cell_type": "code",
   "execution_count": 17,
   "metadata": {},
   "outputs": [
    {
     "name": "stdout",
     "output_type": "stream",
     "text": [
      "<class 'pandas.core.frame.DataFrame'>\n",
      "Int64Index: 117601 entries, 0 to 117600\n",
      "Data columns (total 36 columns):\n",
      " #   Column                         Non-Null Count   Dtype         \n",
      "---  ------                         --------------   -----         \n",
      " 0   order_id                       117601 non-null  object        \n",
      " 1   customer_id                    117601 non-null  object        \n",
      " 2   order_status                   117601 non-null  object        \n",
      " 3   order_purchase_timestamp       117601 non-null  datetime64[ns]\n",
      " 4   order_approved_at              117586 non-null  datetime64[ns]\n",
      " 5   order_delivered_carrier_date   116356 non-null  datetime64[ns]\n",
      " 6   order_delivered_customer_date  115034 non-null  datetime64[ns]\n",
      " 7   order_estimated_delivery_date  117601 non-null  datetime64[ns]\n",
      " 8   customer_unique_id             117601 non-null  object        \n",
      " 9   customer_zip_code_prefix       117601 non-null  int64         \n",
      " 10  customer_city                  117601 non-null  object        \n",
      " 11  customer_state                 117601 non-null  object        \n",
      " 12  order_item_id                  117601 non-null  int64         \n",
      " 13  product_id                     117601 non-null  object        \n",
      " 14  seller_id                      117601 non-null  object        \n",
      " 15  shipping_limit_date            117601 non-null  datetime64[ns]\n",
      " 16  price                          117601 non-null  float64       \n",
      " 17  freight_value                  117601 non-null  float64       \n",
      " 18  payment_sequential             117601 non-null  int64         \n",
      " 19  payment_type                   117601 non-null  object        \n",
      " 20  payment_installments           117601 non-null  int64         \n",
      " 21  payment_value                  117601 non-null  float64       \n",
      " 22  product_name_lenght            115903 non-null  float64       \n",
      " 23  product_description_lenght     115903 non-null  float64       \n",
      " 24  product_photos_qty             115903 non-null  float64       \n",
      " 25  product_weight_g               117581 non-null  float64       \n",
      " 26  product_length_cm              117581 non-null  float64       \n",
      " 27  product_height_cm              117581 non-null  float64       \n",
      " 28  product_width_cm               117581 non-null  float64       \n",
      " 29  product_category               115878 non-null  object        \n",
      " 30  seller_zip_code_prefix         117601 non-null  int64         \n",
      " 31  seller_city                    117601 non-null  object        \n",
      " 32  seller_state                   117601 non-null  object        \n",
      " 33  order_month                    117601 non-null  int64         \n",
      " 34  Shipping days                  115034 non-null  float64       \n",
      " 35  On time delivery               115034 non-null  float64       \n",
      "dtypes: datetime64[ns](6), float64(12), int64(6), object(12)\n",
      "memory usage: 33.2+ MB\n"
     ]
    }
   ],
   "source": [
    "data.info()"
   ]
  },
  {
   "cell_type": "markdown",
   "metadata": {},
   "source": [
    "#### \n",
    "### Feature description\n",
    "\n",
    "customer_id: key to the orders dataset. Each order has a unique customer_id.\n",
    "\n",
    "customer_unique_id:unique identifier of a customer.\n",
    "\n",
    "customer_zip_code_prefix：first five digits of customer zip code\n",
    "\n",
    "customer_city：customer city name\n",
    "\n",
    "customer_state：customer state\n",
    "\n",
    "geolocation_zip_code: first 5 digits of zip code\n",
    "\n",
    "geolocation_lat: latitude\n",
    "\n",
    "geolocation_lng: longitude\n",
    "\n",
    "geolocation_city: city name\n",
    "\n",
    "geolocation_state: state\n",
    "\n",
    "order_id: order unique identifier\n",
    "\n",
    "order_item_id: sequential number identifying number of items included in the same order.\n",
    "\n",
    "product_id: product unique identifier\n",
    "\n",
    "seller_id:seller unique identifier\n",
    "\n",
    "shipping_limit_date：Shows the seller shipping limit date for handling the order over to the logistic partner.\n",
    "\n",
    "price：item price\n",
    "\n",
    "freight_value：item freight value item (if an order has more than one item the freight value is splitted between items)\n",
    "\n",
    "order_id: unique identifier of an order.\n",
    "\n",
    "payment_sequential: a customer may pay an order with more than one payment method. If he does so, a sequence will be created to accommodate all payments.\n",
    "\n",
    "payment_type: method of payment chosen by the customer.\n",
    "\n",
    "payment_installments: number of installments chosen by the customer.\n",
    "\n",
    "payment_value: transaction value.\n",
    "\n",
    "customer_id: key to the customer dataset. Each order has a unique customer_id.\n",
    "\n",
    "order_status: Reference to the order status (delivered, shipped, etc).\n",
    "\n",
    "order_purchase_timestamp: Shows the purchase timestamp.\n",
    "\n",
    "order_approved_at: Shows the payment approval timestamp.\n",
    "\n",
    "order_delivered_carrier_date: Shows the order posting timestamp. When it was handled to the logistic partner.\n",
    "\n",
    "order_delivered_customer_date: Shows the actual order delivery date to the customer.\n",
    "\n",
    "order_estimated_delivery_date: Shows the estimated delivery date that was informed to customer at the purchase moment\n",
    "\n",
    "product_name_lenght：number of characters extracted from the product name.\n",
    "\n",
    "product_description_lenght: number of characters extracted from the product description.\n",
    "\n",
    "product_photos_qty: number of product published photos\n",
    "\n",
    "product_weight_g: product weight measured in grams.\n",
    "\n",
    "product_length_cm: product length measured in centimeters.\n",
    "\n",
    "product_height_cm: product height measured in centimeters.\n",
    "\n",
    "product_width_cm: product width measured in centimeters.\n",
    "\n",
    "seller_id: seller unique identifier\n",
    "\n",
    "seller_zip_code_prefix: first 5 digits of seller zip code\n",
    "\n",
    "seller_city: seller city name\n",
    "\n",
    "seller_state: seller state\n",
    "\n",
    "product_category: category name in English"
   ]
  },
  {
   "cell_type": "markdown",
   "metadata": {},
   "source": [
    "#### \n",
    "### Exploratory Data Analysis"
   ]
  },
  {
   "cell_type": "code",
   "execution_count": 18,
   "metadata": {},
   "outputs": [
    {
     "data": {
      "text/plain": [
       "<AxesSubplot:xlabel='order_purchase_date', ylabel='payment_value'>"
      ]
     },
     "execution_count": 18,
     "metadata": {},
     "output_type": "execute_result"
    },
    {
     "data": {
      "image/png": "[encoded data removed]",
      "text/plain": [
       "<Figure size 864x432 with 1 Axes>"
      ]
     },
     "metadata": {
      "needs_background": "light"
     },
     "output_type": "display_data"
    }
   ],
   "source": [
    "# creating a purchase day feature\n",
    "data['order_purchase_date'] = data.order_purchase_timestamp.dt.date\n",
    "\n",
    "# plot the sales per day\n",
    "sales_per_purchase_date = data.groupby('order_purchase_date', as_index=False).payment_value.sum()\n",
    "plt.figure(figsize=(12,6))\n",
    "sns.lineplot(x=\"order_purchase_date\", y=\"payment_value\", data=sales_per_purchase_date)"
   ]
  },
  {
   "cell_type": "code",
   "execution_count": 19,
   "metadata": {},
   "outputs": [
    {
     "data": {
      "text/plain": [
       "<AxesSubplot:xlabel='order_purchase_dayofweek', ylabel='payment_value'>"
      ]
     },
     "execution_count": 19,
     "metadata": {},
     "output_type": "execute_result"
    },
    {
     "data": {
      "image/png": "[encoded data removed]",
      "text/plain": [
       "<Figure size 576x288 with 1 Axes>"
      ]
     },
     "metadata": {
      "needs_background": "light"
     },
     "output_type": "display_data"
    }
   ],
   "source": [
    "# creating a purchase day of week feature\n",
    "data['order_purchase_dayofweek'] = data.order_purchase_timestamp.dt.dayofweek\n",
    "\n",
    "# plot the sales per day of week\n",
    "sales_per_purchase_dayofweek = data.groupby('order_purchase_dayofweek',as_index=False).payment_value.sum()\n",
    "plt.figure(figsize=(8,4))\n",
    "sns.barplot(x=\"order_purchase_dayofweek\", y=\"payment_value\", data=sales_per_purchase_dayofweek)"
   ]
  },
  {
   "cell_type": "code",
   "execution_count": 20,
   "metadata": {},
   "outputs": [
    {
     "data": {
      "text/html": [
       "<div>\n",
       "<style scoped>\n",
       "    .dataframe tbody tr th:only-of-type {\n",
       "        vertical-align: middle;\n",
       "    }\n",
       "\n",
       "    .dataframe tbody tr th {\n",
       "        vertical-align: top;\n",
       "    }\n",
       "\n",
       "    .dataframe thead th {\n",
       "        text-align: right;\n",
       "    }\n",
       "</style>\n",
       "<table border=\"1\" class=\"dataframe\">\n",
       "  <thead>\n",
       "    <tr style=\"text-align: right;\">\n",
       "      <th></th>\n",
       "      <th>product_category</th>\n",
       "      <th>count</th>\n",
       "      <th>mean</th>\n",
       "    </tr>\n",
       "  </thead>\n",
       "  <tbody>\n",
       "    <tr>\n",
       "      <th>14</th>\n",
       "      <td>computers</td>\n",
       "      <td>220</td>\n",
       "      <td>1103.689136</td>\n",
       "    </tr>\n",
       "    <tr>\n",
       "      <th>64</th>\n",
       "      <td>small_appliances_home_oven_and_coffee</td>\n",
       "      <td>78</td>\n",
       "      <td>627.509103</td>\n",
       "    </tr>\n",
       "    <tr>\n",
       "      <th>45</th>\n",
       "      <td>home_appliances_2</td>\n",
       "      <td>268</td>\n",
       "      <td>459.945187</td>\n",
       "    </tr>\n",
       "    <tr>\n",
       "      <th>0</th>\n",
       "      <td>agro_industry_and_commerce</td>\n",
       "      <td>252</td>\n",
       "      <td>332.706151</td>\n",
       "    </tr>\n",
       "    <tr>\n",
       "      <th>56</th>\n",
       "      <td>musical_instruments</td>\n",
       "      <td>718</td>\n",
       "      <td>293.772604</td>\n",
       "    </tr>\n",
       "    <tr>\n",
       "      <th>...</th>\n",
       "      <td>...</td>\n",
       "      <td>...</td>\n",
       "      <td>...</td>\n",
       "    </tr>\n",
       "    <tr>\n",
       "      <th>12</th>\n",
       "      <td>christmas_supplies</td>\n",
       "      <td>155</td>\n",
       "      <td>56.947355</td>\n",
       "    </tr>\n",
       "    <tr>\n",
       "      <th>37</th>\n",
       "      <td>food_drink</td>\n",
       "      <td>289</td>\n",
       "      <td>56.621211</td>\n",
       "    </tr>\n",
       "    <tr>\n",
       "      <th>23</th>\n",
       "      <td>diapers_and_hygiene</td>\n",
       "      <td>39</td>\n",
       "      <td>40.194615</td>\n",
       "    </tr>\n",
       "    <tr>\n",
       "      <th>35</th>\n",
       "      <td>flowers</td>\n",
       "      <td>33</td>\n",
       "      <td>33.637576</td>\n",
       "    </tr>\n",
       "    <tr>\n",
       "      <th>46</th>\n",
       "      <td>home_comfort_2</td>\n",
       "      <td>31</td>\n",
       "      <td>24.940968</td>\n",
       "    </tr>\n",
       "  </tbody>\n",
       "</table>\n",
       "<p>68 rows × 3 columns</p>\n",
       "</div>"
      ],
      "text/plain": [
       "                         product_category  count         mean\n",
       "14                              computers    220  1103.689136\n",
       "64  small_appliances_home_oven_and_coffee     78   627.509103\n",
       "45                      home_appliances_2    268   459.945187\n",
       "0              agro_industry_and_commerce    252   332.706151\n",
       "56                    musical_instruments    718   293.772604\n",
       "..                                    ...    ...          ...\n",
       "12                     christmas_supplies    155    56.947355\n",
       "37                             food_drink    289    56.621211\n",
       "23                    diapers_and_hygiene     39    40.194615\n",
       "35                                flowers     33    33.637576\n",
       "46                         home_comfort_2     31    24.940968\n",
       "\n",
       "[68 rows x 3 columns]"
      ]
     },
     "execution_count": 20,
     "metadata": {},
     "output_type": "execute_result"
    }
   ],
   "source": [
    "# show the mean price of each categories \n",
    "\n",
    "avg_price_per_category = data.groupby('product_category',as_index=False).agg({'price': ['count', 'mean']})\n",
    "avg_price_per_category.columns = ['product_category', 'count', 'mean']\n",
    "\n",
    "# filtering to show only categories with more than 15 orders\n",
    "avg_price_per_category = avg_price_per_category[avg_price_per_category['count'] > 15]\n",
    "avg_price_per_category = avg_price_per_category.sort_values(by='mean', ascending=False)\n",
    "\n",
    "avg_price_per_category"
   ]
  },
  {
   "cell_type": "code",
   "execution_count": 21,
   "metadata": {
    "scrolled": true
   },
   "outputs": [
    {
     "data": {
      "text/plain": [
       "Text(0.5, 1.0, 'Categories Price')"
      ]
     },
     "execution_count": 21,
     "metadata": {},
     "output_type": "execute_result"
    },
    {
     "data": {
      "image/png": "[encoded data removed]",
      "text/plain": [
       "<Figure size 720x1152 with 1 Axes>"
      ]
     },
     "metadata": {
      "needs_background": "light"
     },
     "output_type": "display_data"
    }
   ],
   "source": [
    "# plot the categories with mean price\n",
    "plt.figure(figsize=(10,16))\n",
    "ax = sns.barplot(x=\"mean\", y=\"product_category\", data=avg_price_per_category)\n",
    "ax.set_title('Categories Price')"
   ]
  },
  {
   "cell_type": "code",
   "execution_count": 22,
   "metadata": {},
   "outputs": [
    {
     "data": {
      "text/html": [
       "<div>\n",
       "<style scoped>\n",
       "    .dataframe tbody tr th:only-of-type {\n",
       "        vertical-align: middle;\n",
       "    }\n",
       "\n",
       "    .dataframe tbody tr th {\n",
       "        vertical-align: top;\n",
       "    }\n",
       "\n",
       "    .dataframe thead th {\n",
       "        text-align: right;\n",
       "    }\n",
       "</style>\n",
       "<table border=\"1\" class=\"dataframe\">\n",
       "  <thead>\n",
       "    <tr style=\"text-align: right;\">\n",
       "      <th></th>\n",
       "      <th>customer_state</th>\n",
       "      <th>count</th>\n",
       "      <th>sum</th>\n",
       "    </tr>\n",
       "  </thead>\n",
       "  <tbody>\n",
       "    <tr>\n",
       "      <th>25</th>\n",
       "      <td>SP</td>\n",
       "      <td>49566</td>\n",
       "      <td>7597209.66</td>\n",
       "    </tr>\n",
       "    <tr>\n",
       "      <th>18</th>\n",
       "      <td>RJ</td>\n",
       "      <td>15327</td>\n",
       "      <td>2769347.44</td>\n",
       "    </tr>\n",
       "    <tr>\n",
       "      <th>10</th>\n",
       "      <td>MG</td>\n",
       "      <td>13638</td>\n",
       "      <td>2326151.64</td>\n",
       "    </tr>\n",
       "    <tr>\n",
       "      <th>22</th>\n",
       "      <td>RS</td>\n",
       "      <td>6486</td>\n",
       "      <td>1147277.00</td>\n",
       "    </tr>\n",
       "    <tr>\n",
       "      <th>17</th>\n",
       "      <td>PR</td>\n",
       "      <td>5962</td>\n",
       "      <td>1064603.99</td>\n",
       "    </tr>\n",
       "    <tr>\n",
       "      <th>4</th>\n",
       "      <td>BA</td>\n",
       "      <td>4048</td>\n",
       "      <td>797410.36</td>\n",
       "    </tr>\n",
       "    <tr>\n",
       "      <th>23</th>\n",
       "      <td>SC</td>\n",
       "      <td>4302</td>\n",
       "      <td>786343.71</td>\n",
       "    </tr>\n",
       "    <tr>\n",
       "      <th>8</th>\n",
       "      <td>GO</td>\n",
       "      <td>2430</td>\n",
       "      <td>513879.00</td>\n",
       "    </tr>\n",
       "    <tr>\n",
       "      <th>6</th>\n",
       "      <td>DF</td>\n",
       "      <td>2473</td>\n",
       "      <td>432623.73</td>\n",
       "    </tr>\n",
       "    <tr>\n",
       "      <th>7</th>\n",
       "      <td>ES</td>\n",
       "      <td>2338</td>\n",
       "      <td>405805.34</td>\n",
       "    </tr>\n",
       "    <tr>\n",
       "      <th>15</th>\n",
       "      <td>PE</td>\n",
       "      <td>1889</td>\n",
       "      <td>376377.27</td>\n",
       "    </tr>\n",
       "    <tr>\n",
       "      <th>5</th>\n",
       "      <td>CE</td>\n",
       "      <td>1551</td>\n",
       "      <td>343847.83</td>\n",
       "    </tr>\n",
       "    <tr>\n",
       "      <th>13</th>\n",
       "      <td>PA</td>\n",
       "      <td>1116</td>\n",
       "      <td>261788.35</td>\n",
       "    </tr>\n",
       "    <tr>\n",
       "      <th>12</th>\n",
       "      <td>MT</td>\n",
       "      <td>1125</td>\n",
       "      <td>256804.62</td>\n",
       "    </tr>\n",
       "    <tr>\n",
       "      <th>9</th>\n",
       "      <td>MA</td>\n",
       "      <td>844</td>\n",
       "      <td>198566.27</td>\n",
       "    </tr>\n",
       "    <tr>\n",
       "      <th>14</th>\n",
       "      <td>PB</td>\n",
       "      <td>639</td>\n",
       "      <td>180984.19</td>\n",
       "    </tr>\n",
       "    <tr>\n",
       "      <th>11</th>\n",
       "      <td>MS</td>\n",
       "      <td>843</td>\n",
       "      <td>164337.28</td>\n",
       "    </tr>\n",
       "    <tr>\n",
       "      <th>16</th>\n",
       "      <td>PI</td>\n",
       "      <td>573</td>\n",
       "      <td>136779.96</td>\n",
       "    </tr>\n",
       "    <tr>\n",
       "      <th>19</th>\n",
       "      <td>RN</td>\n",
       "      <td>569</td>\n",
       "      <td>116264.90</td>\n",
       "    </tr>\n",
       "    <tr>\n",
       "      <th>1</th>\n",
       "      <td>AL</td>\n",
       "      <td>458</td>\n",
       "      <td>111284.42</td>\n",
       "    </tr>\n",
       "    <tr>\n",
       "      <th>24</th>\n",
       "      <td>SE</td>\n",
       "      <td>397</td>\n",
       "      <td>88437.51</td>\n",
       "    </tr>\n",
       "    <tr>\n",
       "      <th>26</th>\n",
       "      <td>TO</td>\n",
       "      <td>339</td>\n",
       "      <td>72281.17</td>\n",
       "    </tr>\n",
       "    <tr>\n",
       "      <th>20</th>\n",
       "      <td>RO</td>\n",
       "      <td>286</td>\n",
       "      <td>65886.00</td>\n",
       "    </tr>\n",
       "    <tr>\n",
       "      <th>2</th>\n",
       "      <td>AM</td>\n",
       "      <td>171</td>\n",
       "      <td>34753.30</td>\n",
       "    </tr>\n",
       "    <tr>\n",
       "      <th>0</th>\n",
       "      <td>AC</td>\n",
       "      <td>95</td>\n",
       "      <td>24984.86</td>\n",
       "    </tr>\n",
       "    <tr>\n",
       "      <th>3</th>\n",
       "      <td>AP</td>\n",
       "      <td>84</td>\n",
       "      <td>21642.70</td>\n",
       "    </tr>\n",
       "    <tr>\n",
       "      <th>21</th>\n",
       "      <td>RR</td>\n",
       "      <td>52</td>\n",
       "      <td>12462.21</td>\n",
       "    </tr>\n",
       "  </tbody>\n",
       "</table>\n",
       "</div>"
      ],
      "text/plain": [
       "   customer_state  count         sum\n",
       "25             SP  49566  7597209.66\n",
       "18             RJ  15327  2769347.44\n",
       "10             MG  13638  2326151.64\n",
       "22             RS   6486  1147277.00\n",
       "17             PR   5962  1064603.99\n",
       "4              BA   4048   797410.36\n",
       "23             SC   4302   786343.71\n",
       "8              GO   2430   513879.00\n",
       "6              DF   2473   432623.73\n",
       "7              ES   2338   405805.34\n",
       "15             PE   1889   376377.27\n",
       "5              CE   1551   343847.83\n",
       "13             PA   1116   261788.35\n",
       "12             MT   1125   256804.62\n",
       "9              MA    844   198566.27\n",
       "14             PB    639   180984.19\n",
       "11             MS    843   164337.28\n",
       "16             PI    573   136779.96\n",
       "19             RN    569   116264.90\n",
       "1              AL    458   111284.42\n",
       "24             SE    397    88437.51\n",
       "26             TO    339    72281.17\n",
       "20             RO    286    65886.00\n",
       "2              AM    171    34753.30\n",
       "0              AC     95    24984.86\n",
       "3              AP     84    21642.70\n",
       "21             RR     52    12462.21"
      ]
     },
     "execution_count": 22,
     "metadata": {},
     "output_type": "execute_result"
    }
   ],
   "source": [
    "# show the total payment of each customer state\n",
    "pay_per_state = data.groupby('customer_state',as_index=False).agg({'payment_value': ['count', 'sum']})\n",
    "pay_per_state.columns = ['customer_state', 'count', 'sum']\n",
    "pay_per_state = pay_per_state.sort_values(by='sum', ascending=False)\n",
    "\n",
    "pay_per_state"
   ]
  },
  {
   "cell_type": "code",
   "execution_count": 23,
   "metadata": {
    "scrolled": true
   },
   "outputs": [
    {
     "data": {
      "text/plain": [
       "Text(0.5, 1.0, 'Payment in States')"
      ]
     },
     "execution_count": 23,
     "metadata": {},
     "output_type": "execute_result"
    },
    {
     "data": {
      "image/png": "[encoded data removed]",
      "text/plain": [
       "<Figure size 720x576 with 1 Axes>"
      ]
     },
     "metadata": {
      "needs_background": "light"
     },
     "output_type": "display_data"
    }
   ],
   "source": [
    "# plot the state with payment on website\n",
    "plt.figure(figsize=(10,8))\n",
    "ax = sns.barplot(x=\"sum\", y=\"customer_state\", data=pay_per_state)\n",
    "ax.set_title('Payment in States')"
   ]
  },
  {
   "cell_type": "code",
   "execution_count": 24,
   "metadata": {
    "scrolled": true
   },
   "outputs": [
    {
     "data": {
      "text/plain": [
       "Index(['order_id', 'customer_id', 'order_status', 'order_purchase_timestamp',\n",
       "       'order_approved_at', 'order_delivered_carrier_date',\n",
       "       'order_delivered_customer_date', 'order_estimated_delivery_date',\n",
       "       'customer_unique_id', 'customer_zip_code_prefix', 'customer_city',\n",
       "       'customer_state', 'order_item_id', 'product_id', 'seller_id',\n",
       "       'shipping_limit_date', 'price', 'freight_value', 'payment_sequential',\n",
       "       'payment_type', 'payment_installments', 'payment_value',\n",
       "       'product_name_lenght', 'product_description_lenght',\n",
       "       'product_photos_qty', 'product_weight_g', 'product_length_cm',\n",
       "       'product_height_cm', 'product_width_cm', 'product_category',\n",
       "       'seller_zip_code_prefix', 'seller_city', 'seller_state', 'order_month',\n",
       "       'Shipping days', 'On time delivery', 'order_purchase_date',\n",
       "       'order_purchase_dayofweek'],\n",
       "      dtype='object')"
      ]
     },
     "execution_count": 24,
     "metadata": {},
     "output_type": "execute_result"
    }
   ],
   "source": [
    "data.columns"
   ]
  },
  {
   "cell_type": "code",
   "execution_count": 25,
   "metadata": {},
   "outputs": [
    {
     "data": {
      "text/plain": [
       "bed_bath_table    42\n",
       "housewares        21\n",
       "Name: product_category, dtype: int64"
      ]
     },
     "execution_count": 25,
     "metadata": {},
     "output_type": "execute_result"
    }
   ],
   "source": [
    "# see what products the largest buyer have bought\n",
    "data[data['customer_id']==data['customer_id'].value_counts().index[0]]['product_category'].value_counts()"
   ]
  },
  {
   "cell_type": "markdown",
   "metadata": {},
   "source": [
    "#### \n",
    "### Data cleaning and feature engineering"
   ]
  },
  {
   "cell_type": "markdown",
   "metadata": {},
   "source": [
    "### Handle Missing value"
   ]
  },
  {
   "cell_type": "code",
   "execution_count": 26,
   "metadata": {},
   "outputs": [
    {
     "data": {
      "text/html": [
       "<div>\n",
       "<style scoped>\n",
       "    .dataframe tbody tr th:only-of-type {\n",
       "        vertical-align: middle;\n",
       "    }\n",
       "\n",
       "    .dataframe tbody tr th {\n",
       "        vertical-align: top;\n",
       "    }\n",
       "\n",
       "    .dataframe thead th {\n",
       "        text-align: right;\n",
       "    }\n",
       "</style>\n",
       "<table border=\"1\" class=\"dataframe\">\n",
       "  <thead>\n",
       "    <tr style=\"text-align: right;\">\n",
       "      <th></th>\n",
       "      <th>Data Type</th>\n",
       "      <th>Unique Value</th>\n",
       "      <th>Percentage of NA</th>\n",
       "    </tr>\n",
       "  </thead>\n",
       "  <tbody>\n",
       "    <tr>\n",
       "      <th>order_id</th>\n",
       "      <td>object</td>\n",
       "      <td>98665</td>\n",
       "      <td>0</td>\n",
       "    </tr>\n",
       "    <tr>\n",
       "      <th>customer_id</th>\n",
       "      <td>object</td>\n",
       "      <td>98665</td>\n",
       "      <td>0</td>\n",
       "    </tr>\n",
       "    <tr>\n",
       "      <th>order_status</th>\n",
       "      <td>object</td>\n",
       "      <td>7</td>\n",
       "      <td>0</td>\n",
       "    </tr>\n",
       "    <tr>\n",
       "      <th>order_purchase_timestamp</th>\n",
       "      <td>datetime64[ns]</td>\n",
       "      <td>98111</td>\n",
       "      <td>0</td>\n",
       "    </tr>\n",
       "    <tr>\n",
       "      <th>order_approved_at</th>\n",
       "      <td>datetime64[ns]</td>\n",
       "      <td>90174</td>\n",
       "      <td>0.00012755</td>\n",
       "    </tr>\n",
       "    <tr>\n",
       "      <th>order_delivered_carrier_date</th>\n",
       "      <td>datetime64[ns]</td>\n",
       "      <td>81017</td>\n",
       "      <td>0.0105866</td>\n",
       "    </tr>\n",
       "    <tr>\n",
       "      <th>order_delivered_customer_date</th>\n",
       "      <td>datetime64[ns]</td>\n",
       "      <td>95664</td>\n",
       "      <td>0.021828</td>\n",
       "    </tr>\n",
       "    <tr>\n",
       "      <th>order_estimated_delivery_date</th>\n",
       "      <td>datetime64[ns]</td>\n",
       "      <td>449</td>\n",
       "      <td>0</td>\n",
       "    </tr>\n",
       "    <tr>\n",
       "      <th>customer_unique_id</th>\n",
       "      <td>object</td>\n",
       "      <td>95419</td>\n",
       "      <td>0</td>\n",
       "    </tr>\n",
       "    <tr>\n",
       "      <th>customer_zip_code_prefix</th>\n",
       "      <td>int64</td>\n",
       "      <td>14976</td>\n",
       "      <td>0</td>\n",
       "    </tr>\n",
       "    <tr>\n",
       "      <th>customer_city</th>\n",
       "      <td>object</td>\n",
       "      <td>4110</td>\n",
       "      <td>0</td>\n",
       "    </tr>\n",
       "    <tr>\n",
       "      <th>customer_state</th>\n",
       "      <td>object</td>\n",
       "      <td>27</td>\n",
       "      <td>0</td>\n",
       "    </tr>\n",
       "    <tr>\n",
       "      <th>order_item_id</th>\n",
       "      <td>int64</td>\n",
       "      <td>21</td>\n",
       "      <td>0</td>\n",
       "    </tr>\n",
       "    <tr>\n",
       "      <th>product_id</th>\n",
       "      <td>object</td>\n",
       "      <td>32951</td>\n",
       "      <td>0</td>\n",
       "    </tr>\n",
       "    <tr>\n",
       "      <th>seller_id</th>\n",
       "      <td>object</td>\n",
       "      <td>3095</td>\n",
       "      <td>0</td>\n",
       "    </tr>\n",
       "    <tr>\n",
       "      <th>shipping_limit_date</th>\n",
       "      <td>datetime64[ns]</td>\n",
       "      <td>93317</td>\n",
       "      <td>0</td>\n",
       "    </tr>\n",
       "    <tr>\n",
       "      <th>price</th>\n",
       "      <td>float64</td>\n",
       "      <td>5968</td>\n",
       "      <td>0</td>\n",
       "    </tr>\n",
       "    <tr>\n",
       "      <th>freight_value</th>\n",
       "      <td>float64</td>\n",
       "      <td>6999</td>\n",
       "      <td>0</td>\n",
       "    </tr>\n",
       "    <tr>\n",
       "      <th>payment_sequential</th>\n",
       "      <td>int64</td>\n",
       "      <td>29</td>\n",
       "      <td>0</td>\n",
       "    </tr>\n",
       "    <tr>\n",
       "      <th>payment_type</th>\n",
       "      <td>object</td>\n",
       "      <td>4</td>\n",
       "      <td>0</td>\n",
       "    </tr>\n",
       "    <tr>\n",
       "      <th>payment_installments</th>\n",
       "      <td>int64</td>\n",
       "      <td>24</td>\n",
       "      <td>0</td>\n",
       "    </tr>\n",
       "    <tr>\n",
       "      <th>payment_value</th>\n",
       "      <td>float64</td>\n",
       "      <td>28938</td>\n",
       "      <td>0</td>\n",
       "    </tr>\n",
       "    <tr>\n",
       "      <th>product_name_lenght</th>\n",
       "      <td>float64</td>\n",
       "      <td>67</td>\n",
       "      <td>0.0144387</td>\n",
       "    </tr>\n",
       "    <tr>\n",
       "      <th>product_description_lenght</th>\n",
       "      <td>float64</td>\n",
       "      <td>2961</td>\n",
       "      <td>0.0144387</td>\n",
       "    </tr>\n",
       "    <tr>\n",
       "      <th>product_photos_qty</th>\n",
       "      <td>float64</td>\n",
       "      <td>20</td>\n",
       "      <td>0.0144387</td>\n",
       "    </tr>\n",
       "    <tr>\n",
       "      <th>product_weight_g</th>\n",
       "      <td>float64</td>\n",
       "      <td>2205</td>\n",
       "      <td>0.000170067</td>\n",
       "    </tr>\n",
       "    <tr>\n",
       "      <th>product_length_cm</th>\n",
       "      <td>float64</td>\n",
       "      <td>100</td>\n",
       "      <td>0.000170067</td>\n",
       "    </tr>\n",
       "    <tr>\n",
       "      <th>product_height_cm</th>\n",
       "      <td>float64</td>\n",
       "      <td>103</td>\n",
       "      <td>0.000170067</td>\n",
       "    </tr>\n",
       "    <tr>\n",
       "      <th>product_width_cm</th>\n",
       "      <td>float64</td>\n",
       "      <td>96</td>\n",
       "      <td>0.000170067</td>\n",
       "    </tr>\n",
       "    <tr>\n",
       "      <th>product_category</th>\n",
       "      <td>object</td>\n",
       "      <td>72</td>\n",
       "      <td>0.0146512</td>\n",
       "    </tr>\n",
       "    <tr>\n",
       "      <th>seller_zip_code_prefix</th>\n",
       "      <td>int64</td>\n",
       "      <td>2246</td>\n",
       "      <td>0</td>\n",
       "    </tr>\n",
       "    <tr>\n",
       "      <th>seller_city</th>\n",
       "      <td>object</td>\n",
       "      <td>611</td>\n",
       "      <td>0</td>\n",
       "    </tr>\n",
       "    <tr>\n",
       "      <th>seller_state</th>\n",
       "      <td>object</td>\n",
       "      <td>23</td>\n",
       "      <td>0</td>\n",
       "    </tr>\n",
       "    <tr>\n",
       "      <th>order_month</th>\n",
       "      <td>int64</td>\n",
       "      <td>12</td>\n",
       "      <td>0</td>\n",
       "    </tr>\n",
       "    <tr>\n",
       "      <th>Shipping days</th>\n",
       "      <td>float64</td>\n",
       "      <td>147</td>\n",
       "      <td>0.021828</td>\n",
       "    </tr>\n",
       "    <tr>\n",
       "      <th>On time delivery</th>\n",
       "      <td>float64</td>\n",
       "      <td>199</td>\n",
       "      <td>0.021828</td>\n",
       "    </tr>\n",
       "    <tr>\n",
       "      <th>order_purchase_date</th>\n",
       "      <td>object</td>\n",
       "      <td>615</td>\n",
       "      <td>0</td>\n",
       "    </tr>\n",
       "    <tr>\n",
       "      <th>order_purchase_dayofweek</th>\n",
       "      <td>int64</td>\n",
       "      <td>7</td>\n",
       "      <td>0</td>\n",
       "    </tr>\n",
       "  </tbody>\n",
       "</table>\n",
       "</div>"
      ],
      "text/plain": [
       "                                    Data Type Unique Value Percentage of NA\n",
       "order_id                               object        98665                0\n",
       "customer_id                            object        98665                0\n",
       "order_status                           object            7                0\n",
       "order_purchase_timestamp       datetime64[ns]        98111                0\n",
       "order_approved_at              datetime64[ns]        90174       0.00012755\n",
       "order_delivered_carrier_date   datetime64[ns]        81017        0.0105866\n",
       "order_delivered_customer_date  datetime64[ns]        95664         0.021828\n",
       "order_estimated_delivery_date  datetime64[ns]          449                0\n",
       "customer_unique_id                     object        95419                0\n",
       "customer_zip_code_prefix                int64        14976                0\n",
       "customer_city                          object         4110                0\n",
       "customer_state                         object           27                0\n",
       "order_item_id                           int64           21                0\n",
       "product_id                             object        32951                0\n",
       "seller_id                              object         3095                0\n",
       "shipping_limit_date            datetime64[ns]        93317                0\n",
       "price                                 float64         5968                0\n",
       "freight_value                         float64         6999                0\n",
       "payment_sequential                      int64           29                0\n",
       "payment_type                           object            4                0\n",
       "payment_installments                    int64           24                0\n",
       "payment_value                         float64        28938                0\n",
       "product_name_lenght                   float64           67        0.0144387\n",
       "product_description_lenght            float64         2961        0.0144387\n",
       "product_photos_qty                    float64           20        0.0144387\n",
       "product_weight_g                      float64         2205      0.000170067\n",
       "product_length_cm                     float64          100      0.000170067\n",
       "product_height_cm                     float64          103      0.000170067\n",
       "product_width_cm                      float64           96      0.000170067\n",
       "product_category                       object           72        0.0146512\n",
       "seller_zip_code_prefix                  int64         2246                0\n",
       "seller_city                            object          611                0\n",
       "seller_state                           object           23                0\n",
       "order_month                             int64           12                0\n",
       "Shipping days                         float64          147         0.021828\n",
       "On time delivery                      float64          199         0.021828\n",
       "order_purchase_date                    object          615                0\n",
       "order_purchase_dayofweek                int64            7                0"
      ]
     },
     "execution_count": 26,
     "metadata": {},
     "output_type": "execute_result"
    }
   ],
   "source": [
    "# check some basic information\n",
    "def unqiue_element(x):\n",
    "    a = len(np.unique(x))\n",
    "    return a\n",
    "\n",
    "df_eda = pd.DataFrame(\n",
    "    [data.dtypes, data.astype(str).apply(unqiue_element), \n",
    "    data.isnull().sum()/data.shape[0]]\n",
    "    ).T\n",
    "\n",
    "df_eda.columns = ['Data Type', 'Unique Value', 'Percentage of NA']\n",
    "df_eda"
   ]
  },
  {
   "cell_type": "code",
   "execution_count": 27,
   "metadata": {},
   "outputs": [
    {
     "data": {
      "text/plain": [
       "<AxesSubplot:>"
      ]
     },
     "execution_count": 27,
     "metadata": {},
     "output_type": "execute_result"
    },
    {
     "data": {
      "image/png": "[encoded data removed]",
      "text/plain": [
       "<Figure size 864x648 with 1 Axes>"
      ]
     },
     "metadata": {
      "needs_background": "light"
     },
     "output_type": "display_data"
    }
   ],
   "source": [
    "# plot the missing value using heatmap\n",
    "plt.figure(figsize=(12,9))\n",
    "sns.heatmap(data.isna(),yticklabels=False,cbar=False,cmap='viridis')"
   ]
  },
  {
   "cell_type": "code",
   "execution_count": 28,
   "metadata": {
    "scrolled": true
   },
   "outputs": [
    {
     "data": {
      "text/plain": [
       "delivered      115035\n",
       "shipped          1244\n",
       "canceled          566\n",
       "processing        375\n",
       "invoiced          371\n",
       "unavailable         7\n",
       "approved            3\n",
       "Name: order_status, dtype: int64"
      ]
     },
     "execution_count": 28,
     "metadata": {},
     "output_type": "execute_result"
    }
   ],
   "source": [
    "# it may cause missing data if the order is unavailable or canceled\n",
    "data['order_status'].value_counts()"
   ]
  },
  {
   "cell_type": "code",
   "execution_count": 29,
   "metadata": {},
   "outputs": [],
   "source": [
    "# do some encoding and reduce the cardinality of feature order status\n",
    "data['order_status'].replace({'approved':'processing','unavailable':'canceled'},inplace=True)"
   ]
  },
  {
   "cell_type": "code",
   "execution_count": 30,
   "metadata": {
    "scrolled": true
   },
   "outputs": [
    {
     "name": "stdout",
     "output_type": "stream",
     "text": [
      "delivered 115035 \n",
      " product_category                 1651\n",
      "product_photos_qty               1628\n",
      "product_description_lenght       1628\n",
      "product_name_lenght              1628\n",
      "product_width_cm                   20\n",
      "product_height_cm                  20\n",
      "product_length_cm                  20\n",
      "product_weight_g                   20\n",
      "order_approved_at                  15\n",
      "On time delivery                    8\n",
      "Shipping days                       8\n",
      "order_delivered_customer_date       8\n",
      "order_delivered_carrier_date        2\n",
      "dtype: int64 \n",
      "\n",
      "shipped 1244 \n",
      " On time delivery                 1244\n",
      "Shipping days                    1244\n",
      "order_delivered_customer_date    1244\n",
      "product_category                   30\n",
      "product_photos_qty                 30\n",
      "product_description_lenght         30\n",
      "product_name_lenght                30\n",
      "dtype: int64 \n",
      "\n",
      "canceled 573 \n",
      " On time delivery                 566\n",
      "Shipping days                    566\n",
      "order_delivered_customer_date    566\n",
      "order_delivered_carrier_date     494\n",
      "product_category                  17\n",
      "product_photos_qty                15\n",
      "product_description_lenght        15\n",
      "product_name_lenght               15\n",
      "dtype: int64 \n",
      "\n",
      "invoiced 371 \n",
      " On time delivery                 371\n",
      "Shipping days                    371\n",
      "order_delivered_customer_date    371\n",
      "order_delivered_carrier_date     371\n",
      "product_category                  12\n",
      "product_photos_qty                12\n",
      "product_description_lenght        12\n",
      "product_name_lenght               12\n",
      "dtype: int64 \n",
      "\n",
      "processing 378 \n",
      " On time delivery                 378\n",
      "Shipping days                    378\n",
      "order_delivered_customer_date    378\n",
      "order_delivered_carrier_date     378\n",
      "product_category                  13\n",
      "product_photos_qty                13\n",
      "product_description_lenght        13\n",
      "product_name_lenght               13\n",
      "dtype: int64 \n",
      "\n"
     ]
    }
   ],
   "source": [
    "# show the missing data of each order status\n",
    "\n",
    "for status in data['order_status'].unique():\n",
    "    status_subset = data[data['order_status']==status]\n",
    "    \n",
    "    print(status,len(status_subset),'\\n',\n",
    "          status_subset.isnull().sum()[status_subset.isnull().sum()>0].sort_values(ascending=False),'\\n')"
   ]
  },
  {
   "cell_type": "code",
   "execution_count": 31,
   "metadata": {},
   "outputs": [],
   "source": [
    "# missing values are related to the order status,espeicially \"delivered date\"\n",
    "# drop all missing data except for date and time feature directly\n",
    "\n",
    "data = data.dropna(subset=[\n",
    "    'product_category','product_name_lenght','product_photos_qty',\n",
    "    'product_description_lenght','product_width_cm',\n",
    "    'product_height_cm','product_length_cm','product_weight_g'\n",
    "])"
   ]
  },
  {
   "cell_type": "code",
   "execution_count": 32,
   "metadata": {
    "scrolled": true
   },
   "outputs": [
    {
     "name": "stdout",
     "output_type": "stream",
     "text": [
      "<class 'pandas.core.frame.DataFrame'>\n",
      "Int64Index: 115877 entries, 0 to 117600\n",
      "Data columns (total 38 columns):\n",
      " #   Column                         Non-Null Count   Dtype         \n",
      "---  ------                         --------------   -----         \n",
      " 0   order_id                       115877 non-null  object        \n",
      " 1   customer_id                    115877 non-null  object        \n",
      " 2   order_status                   115877 non-null  object        \n",
      " 3   order_purchase_timestamp       115877 non-null  datetime64[ns]\n",
      " 4   order_approved_at              115863 non-null  datetime64[ns]\n",
      " 5   order_delivered_carrier_date   114672 non-null  datetime64[ns]\n",
      " 6   order_delivered_customer_date  113382 non-null  datetime64[ns]\n",
      " 7   order_estimated_delivery_date  115877 non-null  datetime64[ns]\n",
      " 8   customer_unique_id             115877 non-null  object        \n",
      " 9   customer_zip_code_prefix       115877 non-null  int64         \n",
      " 10  customer_city                  115877 non-null  object        \n",
      " 11  customer_state                 115877 non-null  object        \n",
      " 12  order_item_id                  115877 non-null  int64         \n",
      " 13  product_id                     115877 non-null  object        \n",
      " 14  seller_id                      115877 non-null  object        \n",
      " 15  shipping_limit_date            115877 non-null  datetime64[ns]\n",
      " 16  price                          115877 non-null  float64       \n",
      " 17  freight_value                  115877 non-null  float64       \n",
      " 18  payment_sequential             115877 non-null  int64         \n",
      " 19  payment_type                   115877 non-null  object        \n",
      " 20  payment_installments           115877 non-null  int64         \n",
      " 21  payment_value                  115877 non-null  float64       \n",
      " 22  product_name_lenght            115877 non-null  float64       \n",
      " 23  product_description_lenght     115877 non-null  float64       \n",
      " 24  product_photos_qty             115877 non-null  float64       \n",
      " 25  product_weight_g               115877 non-null  float64       \n",
      " 26  product_length_cm              115877 non-null  float64       \n",
      " 27  product_height_cm              115877 non-null  float64       \n",
      " 28  product_width_cm               115877 non-null  float64       \n",
      " 29  product_category               115877 non-null  object        \n",
      " 30  seller_zip_code_prefix         115877 non-null  int64         \n",
      " 31  seller_city                    115877 non-null  object        \n",
      " 32  seller_state                   115877 non-null  object        \n",
      " 33  order_month                    115877 non-null  int64         \n",
      " 34  Shipping days                  113382 non-null  float64       \n",
      " 35  On time delivery               113382 non-null  float64       \n",
      " 36  order_purchase_date            115877 non-null  object        \n",
      " 37  order_purchase_dayofweek       115877 non-null  int64         \n",
      "dtypes: datetime64[ns](6), float64(12), int64(7), object(13)\n",
      "memory usage: 34.5+ MB\n"
     ]
    }
   ],
   "source": [
    "data.info()"
   ]
  },
  {
   "cell_type": "markdown",
   "metadata": {},
   "source": [
    "#### \n",
    "### Seperate train and test set"
   ]
  },
  {
   "cell_type": "code",
   "execution_count": 33,
   "metadata": {},
   "outputs": [
    {
     "data": {
      "text/plain": [
       "((81113, 37), (34764, 37))"
      ]
     },
     "execution_count": 33,
     "metadata": {},
     "output_type": "execute_result"
    }
   ],
   "source": [
    "from sklearn.model_selection import train_test_split\n",
    "\n",
    "X = data.drop(labels='product_category',axis=1)\n",
    "y = data['product_category']\n",
    "\n",
    "X_train, X_test, y_train, y_test = train_test_split(X, y, test_size=0.30, random_state=101)\n",
    "\n",
    "X_train.shape, X_test.shape"
   ]
  },
  {
   "cell_type": "markdown",
   "metadata": {},
   "source": [
    "#### \n",
    "### Categorical encoding"
   ]
  },
  {
   "cell_type": "code",
   "execution_count": 34,
   "metadata": {
    "scrolled": true
   },
   "outputs": [
    {
     "name": "stdout",
     "output_type": "stream",
     "text": [
      "order_id :  object\n",
      "customer_id :  object\n",
      "order_status :  object\n",
      "order_purchase_timestamp :  datetime64[ns]\n",
      "order_approved_at :  datetime64[ns]\n",
      "order_delivered_carrier_date :  datetime64[ns]\n",
      "order_delivered_customer_date :  datetime64[ns]\n",
      "order_estimated_delivery_date :  datetime64[ns]\n",
      "customer_unique_id :  object\n",
      "customer_zip_code_prefix :  int64\n",
      "customer_city :  object\n",
      "customer_state :  object\n",
      "order_item_id :  int64\n",
      "product_id :  object\n",
      "seller_id :  object\n",
      "shipping_limit_date :  datetime64[ns]\n",
      "price :  float64\n",
      "freight_value :  float64\n",
      "payment_sequential :  int64\n",
      "payment_type :  object\n",
      "payment_installments :  int64\n",
      "payment_value :  float64\n",
      "product_name_lenght :  float64\n",
      "product_description_lenght :  float64\n",
      "product_photos_qty :  float64\n",
      "product_weight_g :  float64\n",
      "product_length_cm :  float64\n",
      "product_height_cm :  float64\n",
      "product_width_cm :  float64\n",
      "seller_zip_code_prefix :  int64\n",
      "seller_city :  object\n",
      "seller_state :  object\n",
      "order_month :  int64\n",
      "Shipping days :  float64\n",
      "On time delivery :  float64\n",
      "order_purchase_date :  object\n",
      "order_purchase_dayofweek :  int64\n",
      "\n",
      "There are 1 discrete variables\n",
      "There are 24 continuous variables\n",
      "There are 12 categorical variables\n"
     ]
    }
   ],
   "source": [
    "# check the data type of each columns\n",
    "for col in X_train.columns:\n",
    "    print(col,\": \",X_train[col].dtype)\n",
    "\n",
    "# make list of variables types\n",
    "\n",
    "# numerical: discrete and continuous\n",
    "discrete = [var for var in X_train.columns if X_train[var].dtype!='O'and X_train[var].nunique()<10]\n",
    "continuous = [var for var in X_train.columns if X_train[var].dtype!='O'and var not in discrete]\n",
    "\n",
    "# categorical\n",
    "categorical = [var for var in X_train.columns if X_train[var].dtype=='O']\n",
    "\n",
    "print('\\nThere are {} discrete variables'.format(len(discrete)))\n",
    "print('There are {} continuous variables'.format(len(continuous)))\n",
    "print('There are {} categorical variables'.format(len(categorical)))"
   ]
  },
  {
   "cell_type": "code",
   "execution_count": 35,
   "metadata": {},
   "outputs": [
    {
     "data": {
      "text/plain": [
       "['order_id',\n",
       " 'customer_id',\n",
       " 'order_status',\n",
       " 'customer_unique_id',\n",
       " 'customer_city',\n",
       " 'customer_state',\n",
       " 'product_id',\n",
       " 'seller_id',\n",
       " 'payment_type',\n",
       " 'seller_city',\n",
       " 'seller_state',\n",
       " 'order_purchase_date']"
      ]
     },
     "execution_count": 35,
     "metadata": {},
     "output_type": "execute_result"
    }
   ],
   "source": [
    "# In this section we handle categorical variables\n",
    "categorical"
   ]
  },
  {
   "cell_type": "code",
   "execution_count": 36,
   "metadata": {
    "scrolled": false
   },
   "outputs": [],
   "source": [
    "# all id features are not helpful for the prediction, we can drop these columns\n",
    "ID = ['order_id', 'customer_id','order_item_id','customer_unique_id', 'product_id', 'seller_id']\n",
    "\n",
    "X_train.drop(labels=ID,axis=1,inplace=True)\n",
    "X_test.drop(labels=ID,axis=1,inplace=True)"
   ]
  },
  {
   "cell_type": "code",
   "execution_count": 37,
   "metadata": {},
   "outputs": [
    {
     "name": "stdout",
     "output_type": "stream",
     "text": [
      "customer_city sao paulo               12859\n",
      "rio de janeiro           5695\n",
      "belo horizonte           2230\n",
      "brasilia                 1681\n",
      "curitiba                 1237\n",
      "                        ...  \n",
      "sao joao da ponte           1\n",
      "conceicao do almeida        1\n",
      "janiopolis                  1\n",
      "queluz                      1\n",
      "santa rita do itueto        1\n",
      "Name: customer_city, Length: 3729, dtype: int64\n",
      "customer_state SP    34312\n",
      "RJ    10602\n",
      "MG     9378\n",
      "RS     4432\n",
      "PR     4088\n",
      "SC     2927\n",
      "BA     2773\n",
      "DF     1690\n",
      "GO     1667\n",
      "ES     1609\n",
      "PE     1311\n",
      "CE     1104\n",
      "MT      773\n",
      "PA      760\n",
      "MA      572\n",
      "MS      564\n",
      "PB      448\n",
      "RN      410\n",
      "PI      389\n",
      "AL      307\n",
      "SE      284\n",
      "TO      223\n",
      "RO      204\n",
      "AM      120\n",
      "AC       69\n",
      "AP       63\n",
      "RR       34\n",
      "Name: customer_state, dtype: int64\n",
      "seller_city sao paulo                20194\n",
      "ibitinga                  5783\n",
      "curitiba                  2188\n",
      "santo andre               2171\n",
      "sao jose do rio preto     1874\n",
      "                         ...  \n",
      "bom jesus dos perdoes        1\n",
      "presidente getulio           1\n",
      "jaciara                      1\n",
      "resende                      1\n",
      "viana                        1\n",
      "Name: seller_city, Length: 577, dtype: int64\n",
      "seller_state SP    57778\n",
      "MG     6324\n",
      "PR     6271\n",
      "RJ     3470\n",
      "SC     2993\n",
      "RS     1549\n",
      "DF      666\n",
      "BA      485\n",
      "GO      365\n",
      "PE      323\n",
      "MA      299\n",
      "ES      267\n",
      "MT      109\n",
      "CE       68\n",
      "MS       42\n",
      "RN       40\n",
      "PB       28\n",
      "RO       10\n",
      "PI        9\n",
      "PA        8\n",
      "SE        6\n",
      "AM        2\n",
      "AC        1\n",
      "Name: seller_state, dtype: int64\n"
     ]
    }
   ],
   "source": [
    "# check the cities and states of sellers and customers\n",
    "city_state = ['customer_city','customer_state','seller_city','seller_state']\n",
    "\n",
    "for item in city_state:\n",
    "    print(item,X_train[item].value_counts())"
   ]
  },
  {
   "cell_type": "code",
   "execution_count": 38,
   "metadata": {},
   "outputs": [],
   "source": [
    "# encode the features city and state\n",
    "from feature_engine.encoding import OneHotEncoder\n",
    "\n",
    "ohe_enc_1 = OneHotEncoder(top_categories = 4, drop_last=True,variables='customer_city')\n",
    "ohe_enc_2 = OneHotEncoder(top_categories = 3, drop_last=True,variables='customer_state')\n",
    "ohe_enc_3 = OneHotEncoder(top_categories = 2, drop_last=True,variables='seller_city')\n",
    "ohe_enc_4 = OneHotEncoder(top_categories = 1, drop_last=True,variables='seller_state')"
   ]
  },
  {
   "cell_type": "code",
   "execution_count": 39,
   "metadata": {
    "scrolled": true
   },
   "outputs": [],
   "source": [
    "# fit and transform each column\n",
    "ohe_enc_1.fit_transform(X_train)\n",
    "ohe_enc_1.fit_transform(X_train)\n",
    "ohe_enc_1.fit_transform(X_train)\n",
    "ohe_enc_1.fit_transform(X_train)\n",
    "\n",
    "# drop the former columns\n",
    "X_train.drop(labels=city_state,axis=1,inplace=True)\n",
    "X_test.drop(labels=city_state,axis=1,inplace=True)"
   ]
  },
  {
   "cell_type": "code",
   "execution_count": 40,
   "metadata": {},
   "outputs": [],
   "source": [
    "# feature zip code is duplicated, we can drop it\n",
    "X_train.drop('customer_zip_code_prefix',axis=1,inplace=True)\n",
    "X_test.drop('customer_zip_code_prefix',axis=1,inplace=True)\n",
    "X_train.drop('seller_zip_code_prefix',axis=1,inplace=True)\n",
    "X_test.drop('seller_zip_code_prefix',axis=1,inplace=True)"
   ]
  },
  {
   "cell_type": "code",
   "execution_count": 41,
   "metadata": {},
   "outputs": [
    {
     "data": {
      "text/plain": [
       "delivered     79361\n",
       "shipped         846\n",
       "canceled        395\n",
       "processing      258\n",
       "invoiced        253\n",
       "Name: order_status, dtype: int64"
      ]
     },
     "execution_count": 41,
     "metadata": {},
     "output_type": "execute_result"
    }
   ],
   "source": [
    "# encode the features order_Status\n",
    "X_train['order_status'].value_counts()"
   ]
  },
  {
   "cell_type": "code",
   "execution_count": 42,
   "metadata": {},
   "outputs": [
    {
     "data": {
      "text/plain": [
       "OneHotEncoder(drop_last=True, variables=['order_status', 'payment_type'])"
      ]
     },
     "execution_count": 42,
     "metadata": {},
     "output_type": "execute_result"
    }
   ],
   "source": [
    "# convert feature order_status and payment_type into numerical value using onehotencoder\n",
    "from feature_engine.encoding import OneHotEncoder\n",
    "\n",
    "ohe_enc_status = OneHotEncoder(drop_last=True,variables=['order_status','payment_type'])\n",
    "\n",
    "ohe_enc_status.fit(X_train)"
   ]
  },
  {
   "cell_type": "code",
   "execution_count": 43,
   "metadata": {},
   "outputs": [],
   "source": [
    "X_train = ohe_enc_status.transform(X_train)\n",
    "X_test = ohe_enc_status.transform(X_test)"
   ]
  },
  {
   "cell_type": "code",
   "execution_count": 44,
   "metadata": {},
   "outputs": [],
   "source": [
    "# replace the missing value with the mean value\n",
    "X_train['On time delivery'].fillna(value=X_train['On time delivery'].mean(),inplace=True)\n",
    "X_test['On time delivery'].fillna(value=X_train['On time delivery'].mean(),inplace=True)\n",
    "\n",
    "X_train['Shipping days'].fillna(value=X_train['Shipping days'].mean(),inplace=True)\n",
    "X_test['Shipping days'].fillna(value=X_train['Shipping days'].mean(),inplace=True)"
   ]
  },
  {
   "cell_type": "code",
   "execution_count": 45,
   "metadata": {},
   "outputs": [],
   "source": [
    "# convert values in feature \"on time delivery\" into binary variables\n",
    "X_train['On time delivery'] = X_train['On time delivery']<0\n",
    "X_test['On time delivery'] = X_test['On time delivery']<0\n",
    "\n",
    "X_train['On time delivery'].replace({True:1,False:0},inplace=True)\n",
    "X_train['On time delivery'].replace({True:1,False:0},inplace=True)"
   ]
  },
  {
   "cell_type": "code",
   "execution_count": 46,
   "metadata": {},
   "outputs": [
    {
     "data": {
      "text/plain": [
       "Shipping days       0\n",
       "On time delivery    0\n",
       "dtype: int64"
      ]
     },
     "execution_count": 46,
     "metadata": {},
     "output_type": "execute_result"
    }
   ],
   "source": [
    "X_train[['Shipping days','On time delivery']].isnull().sum()"
   ]
  },
  {
   "cell_type": "code",
   "execution_count": 47,
   "metadata": {},
   "outputs": [],
   "source": [
    "# delete the time columns\n",
    "time_features = ['order_purchase_timestamp','shipping_limit_date','order_delivered_customer_date','order_purchase_date',\n",
    "                 'order_estimated_delivery_date','order_approved_at','order_delivered_carrier_date']\n",
    "\n",
    "X_train.drop(labels=time_features,axis=1,inplace=True)\n",
    "X_test.drop(labels=time_features,axis=1,inplace=True)"
   ]
  },
  {
   "cell_type": "code",
   "execution_count": 48,
   "metadata": {
    "scrolled": true
   },
   "outputs": [
    {
     "data": {
      "text/html": [
       "<div>\n",
       "<style scoped>\n",
       "    .dataframe tbody tr th:only-of-type {\n",
       "        vertical-align: middle;\n",
       "    }\n",
       "\n",
       "    .dataframe tbody tr th {\n",
       "        vertical-align: top;\n",
       "    }\n",
       "\n",
       "    .dataframe thead th {\n",
       "        text-align: right;\n",
       "    }\n",
       "</style>\n",
       "<table border=\"1\" class=\"dataframe\">\n",
       "  <thead>\n",
       "    <tr style=\"text-align: right;\">\n",
       "      <th></th>\n",
       "      <th>price</th>\n",
       "      <th>freight_value</th>\n",
       "      <th>payment_sequential</th>\n",
       "      <th>payment_installments</th>\n",
       "      <th>payment_value</th>\n",
       "      <th>product_name_lenght</th>\n",
       "      <th>product_description_lenght</th>\n",
       "      <th>product_photos_qty</th>\n",
       "      <th>product_weight_g</th>\n",
       "      <th>product_length_cm</th>\n",
       "      <th>...</th>\n",
       "      <th>Shipping days</th>\n",
       "      <th>On time delivery</th>\n",
       "      <th>order_purchase_dayofweek</th>\n",
       "      <th>order_status_delivered</th>\n",
       "      <th>order_status_shipped</th>\n",
       "      <th>order_status_canceled</th>\n",
       "      <th>order_status_processing</th>\n",
       "      <th>payment_type_boleto</th>\n",
       "      <th>payment_type_credit_card</th>\n",
       "      <th>payment_type_debit_card</th>\n",
       "    </tr>\n",
       "  </thead>\n",
       "  <tbody>\n",
       "    <tr>\n",
       "      <th>18377</th>\n",
       "      <td>15.49</td>\n",
       "      <td>7.39</td>\n",
       "      <td>1</td>\n",
       "      <td>1</td>\n",
       "      <td>68.64</td>\n",
       "      <td>59.0</td>\n",
       "      <td>1782.0</td>\n",
       "      <td>1.0</td>\n",
       "      <td>125.0</td>\n",
       "      <td>25.0</td>\n",
       "      <td>...</td>\n",
       "      <td>5.0</td>\n",
       "      <td>1</td>\n",
       "      <td>2</td>\n",
       "      <td>1</td>\n",
       "      <td>0</td>\n",
       "      <td>0</td>\n",
       "      <td>0</td>\n",
       "      <td>1</td>\n",
       "      <td>0</td>\n",
       "      <td>0</td>\n",
       "    </tr>\n",
       "    <tr>\n",
       "      <th>92211</th>\n",
       "      <td>199.90</td>\n",
       "      <td>21.89</td>\n",
       "      <td>1</td>\n",
       "      <td>1</td>\n",
       "      <td>221.79</td>\n",
       "      <td>58.0</td>\n",
       "      <td>904.0</td>\n",
       "      <td>1.0</td>\n",
       "      <td>3550.0</td>\n",
       "      <td>35.0</td>\n",
       "      <td>...</td>\n",
       "      <td>36.0</td>\n",
       "      <td>0</td>\n",
       "      <td>6</td>\n",
       "      <td>1</td>\n",
       "      <td>0</td>\n",
       "      <td>0</td>\n",
       "      <td>0</td>\n",
       "      <td>1</td>\n",
       "      <td>0</td>\n",
       "      <td>0</td>\n",
       "    </tr>\n",
       "    <tr>\n",
       "      <th>78122</th>\n",
       "      <td>125.02</td>\n",
       "      <td>12.21</td>\n",
       "      <td>1</td>\n",
       "      <td>6</td>\n",
       "      <td>137.23</td>\n",
       "      <td>53.0</td>\n",
       "      <td>1140.0</td>\n",
       "      <td>3.0</td>\n",
       "      <td>1600.0</td>\n",
       "      <td>18.0</td>\n",
       "      <td>...</td>\n",
       "      <td>6.0</td>\n",
       "      <td>1</td>\n",
       "      <td>3</td>\n",
       "      <td>1</td>\n",
       "      <td>0</td>\n",
       "      <td>0</td>\n",
       "      <td>0</td>\n",
       "      <td>0</td>\n",
       "      <td>1</td>\n",
       "      <td>0</td>\n",
       "    </tr>\n",
       "    <tr>\n",
       "      <th>60139</th>\n",
       "      <td>248.99</td>\n",
       "      <td>74.69</td>\n",
       "      <td>1</td>\n",
       "      <td>1</td>\n",
       "      <td>323.68</td>\n",
       "      <td>53.0</td>\n",
       "      <td>526.0</td>\n",
       "      <td>2.0</td>\n",
       "      <td>18050.0</td>\n",
       "      <td>75.0</td>\n",
       "      <td>...</td>\n",
       "      <td>7.0</td>\n",
       "      <td>1</td>\n",
       "      <td>0</td>\n",
       "      <td>1</td>\n",
       "      <td>0</td>\n",
       "      <td>0</td>\n",
       "      <td>0</td>\n",
       "      <td>1</td>\n",
       "      <td>0</td>\n",
       "      <td>0</td>\n",
       "    </tr>\n",
       "    <tr>\n",
       "      <th>24701</th>\n",
       "      <td>29.00</td>\n",
       "      <td>14.10</td>\n",
       "      <td>1</td>\n",
       "      <td>3</td>\n",
       "      <td>86.20</td>\n",
       "      <td>55.0</td>\n",
       "      <td>167.0</td>\n",
       "      <td>3.0</td>\n",
       "      <td>200.0</td>\n",
       "      <td>16.0</td>\n",
       "      <td>...</td>\n",
       "      <td>9.0</td>\n",
       "      <td>1</td>\n",
       "      <td>6</td>\n",
       "      <td>1</td>\n",
       "      <td>0</td>\n",
       "      <td>0</td>\n",
       "      <td>0</td>\n",
       "      <td>0</td>\n",
       "      <td>1</td>\n",
       "      <td>0</td>\n",
       "    </tr>\n",
       "  </tbody>\n",
       "</table>\n",
       "<p>5 rows × 23 columns</p>\n",
       "</div>"
      ],
      "text/plain": [
       "        price  freight_value  payment_sequential  payment_installments  \\\n",
       "18377   15.49           7.39                   1                     1   \n",
       "92211  199.90          21.89                   1                     1   \n",
       "78122  125.02          12.21                   1                     6   \n",
       "60139  248.99          74.69                   1                     1   \n",
       "24701   29.00          14.10                   1                     3   \n",
       "\n",
       "       payment_value  product_name_lenght  product_description_lenght  \\\n",
       "18377          68.64                 59.0                      1782.0   \n",
       "92211         221.79                 58.0                       904.0   \n",
       "78122         137.23                 53.0                      1140.0   \n",
       "60139         323.68                 53.0                       526.0   \n",
       "24701          86.20                 55.0                       167.0   \n",
       "\n",
       "       product_photos_qty  product_weight_g  product_length_cm  ...  \\\n",
       "18377                 1.0             125.0               25.0  ...   \n",
       "92211                 1.0            3550.0               35.0  ...   \n",
       "78122                 3.0            1600.0               18.0  ...   \n",
       "60139                 2.0           18050.0               75.0  ...   \n",
       "24701                 3.0             200.0               16.0  ...   \n",
       "\n",
       "       Shipping days  On time delivery  order_purchase_dayofweek  \\\n",
       "18377            5.0                 1                         2   \n",
       "92211           36.0                 0                         6   \n",
       "78122            6.0                 1                         3   \n",
       "60139            7.0                 1                         0   \n",
       "24701            9.0                 1                         6   \n",
       "\n",
       "       order_status_delivered  order_status_shipped  order_status_canceled  \\\n",
       "18377                       1                     0                      0   \n",
       "92211                       1                     0                      0   \n",
       "78122                       1                     0                      0   \n",
       "60139                       1                     0                      0   \n",
       "24701                       1                     0                      0   \n",
       "\n",
       "       order_status_processing  payment_type_boleto  payment_type_credit_card  \\\n",
       "18377                        0                    1                         0   \n",
       "92211                        0                    1                         0   \n",
       "78122                        0                    0                         1   \n",
       "60139                        0                    1                         0   \n",
       "24701                        0                    0                         1   \n",
       "\n",
       "       payment_type_debit_card  \n",
       "18377                        0  \n",
       "92211                        0  \n",
       "78122                        0  \n",
       "60139                        0  \n",
       "24701                        0  \n",
       "\n",
       "[5 rows x 23 columns]"
      ]
     },
     "execution_count": 48,
     "metadata": {},
     "output_type": "execute_result"
    }
   ],
   "source": [
    "X_train.head()"
   ]
  },
  {
   "cell_type": "code",
   "execution_count": 49,
   "metadata": {
    "scrolled": false
   },
   "outputs": [
    {
     "name": "stdout",
     "output_type": "stream",
     "text": [
      "price : 59.90     1805\n",
      "69.90     1485\n",
      "49.90     1420\n",
      "89.90     1113\n",
      "99.90     1078\n",
      "          ... \n",
      "121.75       1\n",
      "820.05       1\n",
      "109.73       1\n",
      "109.77       1\n",
      "141.75       1\n",
      "Name: price, Length: 5136, dtype: int64\n",
      "freight_value : 15.10     2613\n",
      "7.78      1621\n",
      "11.85     1387\n",
      "14.10     1353\n",
      "18.23     1118\n",
      "          ... \n",
      "98.35        1\n",
      "237.84       1\n",
      "46.57        1\n",
      "74.51        1\n",
      "93.14        1\n",
      "Name: freight_value, Length: 6259, dtype: int64\n",
      "payment_sequential : 1     77683\n",
      "2      2287\n",
      "3       456\n",
      "4       217\n",
      "5       116\n",
      "6        84\n",
      "7        62\n",
      "8        41\n",
      "9        36\n",
      "10       25\n",
      "11       21\n",
      "12       18\n",
      "13       10\n",
      "15       10\n",
      "14        8\n",
      "18        7\n",
      "16        6\n",
      "17        5\n",
      "19        5\n",
      "20        5\n",
      "21        3\n",
      "22        2\n",
      "25        2\n",
      "27        1\n",
      "23        1\n",
      "26        1\n",
      "28        1\n",
      "Name: payment_sequential, dtype: int64\n",
      "payment_installments : 1     40456\n",
      "2      9310\n",
      "3      8112\n",
      "4      5558\n",
      "10     4718\n",
      "5      4219\n",
      "8      3477\n",
      "6      3201\n",
      "7      1259\n",
      "9       504\n",
      "12      111\n",
      "15       68\n",
      "18       24\n",
      "24       22\n",
      "11       18\n",
      "20       18\n",
      "13       10\n",
      "14        9\n",
      "16        7\n",
      "17        5\n",
      "21        3\n",
      "0         2\n",
      "23        1\n",
      "22        1\n",
      "Name: payment_installments, dtype: int64\n",
      "payment_value : 50.00     249\n",
      "20.00     208\n",
      "100.00    201\n",
      "77.57     163\n",
      "35.00     127\n",
      "         ... \n",
      "177.12      1\n",
      "93.27       1\n",
      "183.08      1\n",
      "436.59      1\n",
      "427.62      1\n",
      "Name: payment_value, Length: 25052, dtype: int64\n",
      "product_name_lenght : 59.0    6068\n",
      "60.0    5584\n",
      "58.0    4752\n",
      "56.0    4704\n",
      "57.0    4362\n",
      "        ... \n",
      "67.0       2\n",
      "69.0       1\n",
      "68.0       1\n",
      "76.0       1\n",
      "7.0        1\n",
      "Name: product_name_lenght, Length: 65, dtype: int64\n",
      "product_description_lenght : 341.0     510\n",
      "1893.0    479\n",
      "348.0     436\n",
      "903.0     413\n",
      "492.0     407\n",
      "         ... \n",
      "2344.0      1\n",
      "3292.0      1\n",
      "23.0        1\n",
      "34.0        1\n",
      "2821.0      1\n",
      "Name: product_description_lenght, Length: 2822, dtype: int64\n",
      "product_photos_qty : 1.0     40937\n",
      "2.0     16136\n",
      "3.0      9030\n",
      "4.0      6156\n",
      "5.0      3810\n",
      "6.0      2779\n",
      "7.0      1088\n",
      "8.0       545\n",
      "10.0      266\n",
      "9.0       224\n",
      "11.0       57\n",
      "12.0       40\n",
      "13.0       20\n",
      "15.0        9\n",
      "17.0        7\n",
      "14.0        4\n",
      "18.0        3\n",
      "19.0        2\n",
      "Name: product_photos_qty, dtype: int64\n",
      "product_weight_g : 200.0      4783\n",
      "150.0      3751\n",
      "250.0      3273\n",
      "300.0      3039\n",
      "100.0      2499\n",
      "           ... \n",
      "919.0         1\n",
      "4367.0        1\n",
      "1003.0        1\n",
      "29750.0       1\n",
      "2738.0        1\n",
      "Name: product_weight_g, Length: 2014, dtype: int64\n",
      "product_length_cm : 16.0    12417\n",
      "20.0     7380\n",
      "30.0     5457\n",
      "17.0     4287\n",
      "18.0     4148\n",
      "        ...  \n",
      "94.0        5\n",
      "83.0        5\n",
      "92.0        4\n",
      "9.0         3\n",
      "8.0         1\n",
      "Name: product_length_cm, Length: 99, dtype: int64\n",
      "product_height_cm : 10.0    7145\n",
      "20.0    4782\n",
      "15.0    4666\n",
      "11.0    4408\n",
      "12.0    4381\n",
      "        ... \n",
      "99.0       2\n",
      "89.0       1\n",
      "92.0       1\n",
      "94.0       1\n",
      "97.0       1\n",
      "Name: product_height_cm, Length: 102, dtype: int64\n",
      "product_width_cm : 20.0     8716\n",
      "11.0     7501\n",
      "15.0     6283\n",
      "16.0     6035\n",
      "30.0     5519\n",
      "         ... \n",
      "77.0        1\n",
      "101.0       1\n",
      "86.0        1\n",
      "103.0       1\n",
      "98.0        1\n",
      "Name: product_width_cm, Length: 93, dtype: int64\n",
      "order_month : 8     8771\n",
      "5     8729\n",
      "7     8443\n",
      "3     8063\n",
      "6     7809\n",
      "4     7685\n",
      "2     6842\n",
      "1     6464\n",
      "11    6255\n",
      "12    4496\n",
      "10    4093\n",
      "9     3463\n",
      "Name: order_month, dtype: int64\n",
      "Shipping days : 7.0      6331\n",
      "8.0      5575\n",
      "6.0      5539\n",
      "9.0      4932\n",
      "5.0      4776\n",
      "         ... \n",
      "209.0       1\n",
      "102.0       1\n",
      "98.0        1\n",
      "165.0       1\n",
      "172.0       1\n",
      "Name: Shipping days, Length: 136, dtype: int64\n",
      "On time delivery : 1    74878\n",
      "0     6235\n",
      "Name: On time delivery, dtype: int64\n",
      "order_purchase_dayofweek : 1    13201\n",
      "0    13069\n",
      "2    12697\n",
      "3    12134\n",
      "4    11637\n",
      "6     9615\n",
      "5     8760\n",
      "Name: order_purchase_dayofweek, dtype: int64\n",
      "order_status_delivered : 1    79361\n",
      "0     1752\n",
      "Name: order_status_delivered, dtype: int64\n",
      "order_status_shipped : 0    80267\n",
      "1      846\n",
      "Name: order_status_shipped, dtype: int64\n",
      "order_status_canceled : 0    80718\n",
      "1      395\n",
      "Name: order_status_canceled, dtype: int64\n",
      "order_status_processing : 0    80855\n",
      "1      258\n",
      "Name: order_status_processing, dtype: int64\n",
      "payment_type_boleto : 0    65332\n",
      "1    15781\n",
      "Name: payment_type_boleto, dtype: int64\n",
      "payment_type_credit_card : 1    59871\n",
      "0    21242\n",
      "Name: payment_type_credit_card, dtype: int64\n",
      "payment_type_debit_card : 0    79932\n",
      "1     1181\n",
      "Name: payment_type_debit_card, dtype: int64\n"
     ]
    }
   ],
   "source": [
    "for i in X_train.columns:\n",
    "    print(i,':',X_train[i].value_counts())"
   ]
  },
  {
   "cell_type": "markdown",
   "metadata": {},
   "source": [
    "#### \n",
    "### Outlier Engineering"
   ]
  },
  {
   "cell_type": "code",
   "execution_count": 50,
   "metadata": {},
   "outputs": [
    {
     "data": {
      "text/plain": [
       "Index(['price', 'freight_value', 'payment_value', 'product_name_lenght',\n",
       "       'product_description_lenght', 'product_photos_qty', 'product_weight_g',\n",
       "       'product_length_cm', 'product_height_cm', 'product_width_cm',\n",
       "       'Shipping days', 'order_status_delivered', 'order_status_shipped',\n",
       "       'order_status_canceled', 'order_status_processing',\n",
       "       'payment_type_boleto', 'payment_type_credit_card',\n",
       "       'payment_type_debit_card'],\n",
       "      dtype='object')"
      ]
     },
     "execution_count": 50,
     "metadata": {},
     "output_type": "execute_result"
    }
   ],
   "source": [
    "# show all int and float values\n",
    "X_train.select_dtypes(['int','float']).columns"
   ]
  },
  {
   "cell_type": "code",
   "execution_count": 51,
   "metadata": {},
   "outputs": [
    {
     "data": {
      "text/html": [
       "<div>\n",
       "<style scoped>\n",
       "    .dataframe tbody tr th:only-of-type {\n",
       "        vertical-align: middle;\n",
       "    }\n",
       "\n",
       "    .dataframe tbody tr th {\n",
       "        vertical-align: top;\n",
       "    }\n",
       "\n",
       "    .dataframe thead th {\n",
       "        text-align: right;\n",
       "    }\n",
       "</style>\n",
       "<table border=\"1\" class=\"dataframe\">\n",
       "  <thead>\n",
       "    <tr style=\"text-align: right;\">\n",
       "      <th></th>\n",
       "      <th>price</th>\n",
       "      <th>freight_value</th>\n",
       "      <th>payment_sequential</th>\n",
       "      <th>payment_installments</th>\n",
       "      <th>payment_value</th>\n",
       "      <th>product_name_lenght</th>\n",
       "      <th>product_description_lenght</th>\n",
       "      <th>product_photos_qty</th>\n",
       "      <th>product_weight_g</th>\n",
       "      <th>product_length_cm</th>\n",
       "      <th>...</th>\n",
       "      <th>Shipping days</th>\n",
       "      <th>On time delivery</th>\n",
       "      <th>order_purchase_dayofweek</th>\n",
       "      <th>order_status_delivered</th>\n",
       "      <th>order_status_shipped</th>\n",
       "      <th>order_status_canceled</th>\n",
       "      <th>order_status_processing</th>\n",
       "      <th>payment_type_boleto</th>\n",
       "      <th>payment_type_credit_card</th>\n",
       "      <th>payment_type_debit_card</th>\n",
       "    </tr>\n",
       "  </thead>\n",
       "  <tbody>\n",
       "    <tr>\n",
       "      <th>count</th>\n",
       "      <td>81113.000000</td>\n",
       "      <td>81113.000000</td>\n",
       "      <td>81113.000000</td>\n",
       "      <td>81113.000000</td>\n",
       "      <td>81113.000000</td>\n",
       "      <td>81113.000000</td>\n",
       "      <td>81113.000000</td>\n",
       "      <td>81113.000000</td>\n",
       "      <td>81113.000000</td>\n",
       "      <td>81113.000000</td>\n",
       "      <td>...</td>\n",
       "      <td>81113.000000</td>\n",
       "      <td>81113.000000</td>\n",
       "      <td>81113.000000</td>\n",
       "      <td>81113.000000</td>\n",
       "      <td>81113.000000</td>\n",
       "      <td>81113.000000</td>\n",
       "      <td>81113.000000</td>\n",
       "      <td>81113.000000</td>\n",
       "      <td>81113.000000</td>\n",
       "      <td>81113.000000</td>\n",
       "    </tr>\n",
       "    <tr>\n",
       "      <th>mean</th>\n",
       "      <td>120.934108</td>\n",
       "      <td>20.076825</td>\n",
       "      <td>1.091255</td>\n",
       "      <td>2.943067</td>\n",
       "      <td>173.084377</td>\n",
       "      <td>48.742717</td>\n",
       "      <td>787.889068</td>\n",
       "      <td>2.207636</td>\n",
       "      <td>2112.350227</td>\n",
       "      <td>30.328258</td>\n",
       "      <td>...</td>\n",
       "      <td>12.027293</td>\n",
       "      <td>0.923132</td>\n",
       "      <td>2.749683</td>\n",
       "      <td>0.978401</td>\n",
       "      <td>0.010430</td>\n",
       "      <td>0.004870</td>\n",
       "      <td>0.003181</td>\n",
       "      <td>0.194556</td>\n",
       "      <td>0.738118</td>\n",
       "      <td>0.014560</td>\n",
       "    </tr>\n",
       "    <tr>\n",
       "      <th>std</th>\n",
       "      <td>184.659087</td>\n",
       "      <td>15.798360</td>\n",
       "      <td>0.708974</td>\n",
       "      <td>2.775307</td>\n",
       "      <td>266.774327</td>\n",
       "      <td>10.044975</td>\n",
       "      <td>653.047382</td>\n",
       "      <td>1.722726</td>\n",
       "      <td>3772.387291</td>\n",
       "      <td>16.230081</td>\n",
       "      <td>...</td>\n",
       "      <td>9.391337</td>\n",
       "      <td>0.266384</td>\n",
       "      <td>1.958904</td>\n",
       "      <td>0.145373</td>\n",
       "      <td>0.101593</td>\n",
       "      <td>0.069614</td>\n",
       "      <td>0.056309</td>\n",
       "      <td>0.395861</td>\n",
       "      <td>0.439661</td>\n",
       "      <td>0.119784</td>\n",
       "    </tr>\n",
       "    <tr>\n",
       "      <th>min</th>\n",
       "      <td>0.850000</td>\n",
       "      <td>0.000000</td>\n",
       "      <td>1.000000</td>\n",
       "      <td>0.000000</td>\n",
       "      <td>0.000000</td>\n",
       "      <td>5.000000</td>\n",
       "      <td>4.000000</td>\n",
       "      <td>1.000000</td>\n",
       "      <td>0.000000</td>\n",
       "      <td>7.000000</td>\n",
       "      <td>...</td>\n",
       "      <td>0.000000</td>\n",
       "      <td>0.000000</td>\n",
       "      <td>0.000000</td>\n",
       "      <td>0.000000</td>\n",
       "      <td>0.000000</td>\n",
       "      <td>0.000000</td>\n",
       "      <td>0.000000</td>\n",
       "      <td>0.000000</td>\n",
       "      <td>0.000000</td>\n",
       "      <td>0.000000</td>\n",
       "    </tr>\n",
       "    <tr>\n",
       "      <th>25%</th>\n",
       "      <td>39.900000</td>\n",
       "      <td>13.080000</td>\n",
       "      <td>1.000000</td>\n",
       "      <td>1.000000</td>\n",
       "      <td>61.010000</td>\n",
       "      <td>42.000000</td>\n",
       "      <td>347.000000</td>\n",
       "      <td>1.000000</td>\n",
       "      <td>300.000000</td>\n",
       "      <td>18.000000</td>\n",
       "      <td>...</td>\n",
       "      <td>6.000000</td>\n",
       "      <td>1.000000</td>\n",
       "      <td>1.000000</td>\n",
       "      <td>1.000000</td>\n",
       "      <td>0.000000</td>\n",
       "      <td>0.000000</td>\n",
       "      <td>0.000000</td>\n",
       "      <td>0.000000</td>\n",
       "      <td>0.000000</td>\n",
       "      <td>0.000000</td>\n",
       "    </tr>\n",
       "    <tr>\n",
       "      <th>50%</th>\n",
       "      <td>74.900000</td>\n",
       "      <td>16.320000</td>\n",
       "      <td>1.000000</td>\n",
       "      <td>2.000000</td>\n",
       "      <td>108.030000</td>\n",
       "      <td>52.000000</td>\n",
       "      <td>602.000000</td>\n",
       "      <td>1.000000</td>\n",
       "      <td>700.000000</td>\n",
       "      <td>25.000000</td>\n",
       "      <td>...</td>\n",
       "      <td>10.000000</td>\n",
       "      <td>1.000000</td>\n",
       "      <td>3.000000</td>\n",
       "      <td>1.000000</td>\n",
       "      <td>0.000000</td>\n",
       "      <td>0.000000</td>\n",
       "      <td>0.000000</td>\n",
       "      <td>0.000000</td>\n",
       "      <td>1.000000</td>\n",
       "      <td>0.000000</td>\n",
       "    </tr>\n",
       "    <tr>\n",
       "      <th>75%</th>\n",
       "      <td>134.900000</td>\n",
       "      <td>21.280000</td>\n",
       "      <td>1.000000</td>\n",
       "      <td>4.000000</td>\n",
       "      <td>190.120000</td>\n",
       "      <td>57.000000</td>\n",
       "      <td>989.000000</td>\n",
       "      <td>3.000000</td>\n",
       "      <td>1800.000000</td>\n",
       "      <td>38.000000</td>\n",
       "      <td>...</td>\n",
       "      <td>15.000000</td>\n",
       "      <td>1.000000</td>\n",
       "      <td>4.000000</td>\n",
       "      <td>1.000000</td>\n",
       "      <td>0.000000</td>\n",
       "      <td>0.000000</td>\n",
       "      <td>0.000000</td>\n",
       "      <td>0.000000</td>\n",
       "      <td>1.000000</td>\n",
       "      <td>0.000000</td>\n",
       "    </tr>\n",
       "    <tr>\n",
       "      <th>max</th>\n",
       "      <td>6735.000000</td>\n",
       "      <td>409.680000</td>\n",
       "      <td>28.000000</td>\n",
       "      <td>24.000000</td>\n",
       "      <td>13664.080000</td>\n",
       "      <td>76.000000</td>\n",
       "      <td>3992.000000</td>\n",
       "      <td>19.000000</td>\n",
       "      <td>40425.000000</td>\n",
       "      <td>105.000000</td>\n",
       "      <td>...</td>\n",
       "      <td>209.000000</td>\n",
       "      <td>1.000000</td>\n",
       "      <td>6.000000</td>\n",
       "      <td>1.000000</td>\n",
       "      <td>1.000000</td>\n",
       "      <td>1.000000</td>\n",
       "      <td>1.000000</td>\n",
       "      <td>1.000000</td>\n",
       "      <td>1.000000</td>\n",
       "      <td>1.000000</td>\n",
       "    </tr>\n",
       "  </tbody>\n",
       "</table>\n",
       "<p>8 rows × 23 columns</p>\n",
       "</div>"
      ],
      "text/plain": [
       "              price  freight_value  payment_sequential  payment_installments  \\\n",
       "count  81113.000000   81113.000000        81113.000000          81113.000000   \n",
       "mean     120.934108      20.076825            1.091255              2.943067   \n",
       "std      184.659087      15.798360            0.708974              2.775307   \n",
       "min        0.850000       0.000000            1.000000              0.000000   \n",
       "25%       39.900000      13.080000            1.000000              1.000000   \n",
       "50%       74.900000      16.320000            1.000000              2.000000   \n",
       "75%      134.900000      21.280000            1.000000              4.000000   \n",
       "max     6735.000000     409.680000           28.000000             24.000000   \n",
       "\n",
       "       payment_value  product_name_lenght  product_description_lenght  \\\n",
       "count   81113.000000         81113.000000                81113.000000   \n",
       "mean      173.084377            48.742717                  787.889068   \n",
       "std       266.774327            10.044975                  653.047382   \n",
       "min         0.000000             5.000000                    4.000000   \n",
       "25%        61.010000            42.000000                  347.000000   \n",
       "50%       108.030000            52.000000                  602.000000   \n",
       "75%       190.120000            57.000000                  989.000000   \n",
       "max     13664.080000            76.000000                 3992.000000   \n",
       "\n",
       "       product_photos_qty  product_weight_g  product_length_cm  ...  \\\n",
       "count        81113.000000      81113.000000       81113.000000  ...   \n",
       "mean             2.207636       2112.350227          30.328258  ...   \n",
       "std              1.722726       3772.387291          16.230081  ...   \n",
       "min              1.000000          0.000000           7.000000  ...   \n",
       "25%              1.000000        300.000000          18.000000  ...   \n",
       "50%              1.000000        700.000000          25.000000  ...   \n",
       "75%              3.000000       1800.000000          38.000000  ...   \n",
       "max             19.000000      40425.000000         105.000000  ...   \n",
       "\n",
       "       Shipping days  On time delivery  order_purchase_dayofweek  \\\n",
       "count   81113.000000      81113.000000              81113.000000   \n",
       "mean       12.027293          0.923132                  2.749683   \n",
       "std         9.391337          0.266384                  1.958904   \n",
       "min         0.000000          0.000000                  0.000000   \n",
       "25%         6.000000          1.000000                  1.000000   \n",
       "50%        10.000000          1.000000                  3.000000   \n",
       "75%        15.000000          1.000000                  4.000000   \n",
       "max       209.000000          1.000000                  6.000000   \n",
       "\n",
       "       order_status_delivered  order_status_shipped  order_status_canceled  \\\n",
       "count            81113.000000          81113.000000           81113.000000   \n",
       "mean                 0.978401              0.010430               0.004870   \n",
       "std                  0.145373              0.101593               0.069614   \n",
       "min                  0.000000              0.000000               0.000000   \n",
       "25%                  1.000000              0.000000               0.000000   \n",
       "50%                  1.000000              0.000000               0.000000   \n",
       "75%                  1.000000              0.000000               0.000000   \n",
       "max                  1.000000              1.000000               1.000000   \n",
       "\n",
       "       order_status_processing  payment_type_boleto  payment_type_credit_card  \\\n",
       "count             81113.000000         81113.000000              81113.000000   \n",
       "mean                  0.003181             0.194556                  0.738118   \n",
       "std                   0.056309             0.395861                  0.439661   \n",
       "min                   0.000000             0.000000                  0.000000   \n",
       "25%                   0.000000             0.000000                  0.000000   \n",
       "50%                   0.000000             0.000000                  1.000000   \n",
       "75%                   0.000000             0.000000                  1.000000   \n",
       "max                   1.000000             1.000000                  1.000000   \n",
       "\n",
       "       payment_type_debit_card  \n",
       "count             81113.000000  \n",
       "mean                  0.014560  \n",
       "std                   0.119784  \n",
       "min                   0.000000  \n",
       "25%                   0.000000  \n",
       "50%                   0.000000  \n",
       "75%                   0.000000  \n",
       "max                   1.000000  \n",
       "\n",
       "[8 rows x 23 columns]"
      ]
     },
     "execution_count": 51,
     "metadata": {},
     "output_type": "execute_result"
    }
   ],
   "source": [
    "# check if there are outliers\n",
    "X_train.describe()"
   ]
  },
  {
   "cell_type": "code",
   "execution_count": 52,
   "metadata": {
    "scrolled": false
   },
   "outputs": [
    {
     "data": {
      "image/png": "[encoded data removed]",
      "text/plain": [
       "<Figure size 1152x288 with 2 Axes>"
      ]
     },
     "metadata": {
      "needs_background": "light"
     },
     "output_type": "display_data"
    },
    {
     "data": {
      "image/png": "[encoded data removed]",
      "text/plain": [
       "<Figure size 1152x288 with 2 Axes>"
      ]
     },
     "metadata": {
      "needs_background": "light"
     },
     "output_type": "display_data"
    },
    {
     "data": {
      "image/png": "[encoded data removed]",
      "text/plain": [
       "<Figure size 1152x288 with 2 Axes>"
      ]
     },
     "metadata": {
      "needs_background": "light"
     },
     "output_type": "display_data"
    },
    {
     "data": {
      "image/png": "[encoded data removed]",
      "text/plain": [
       "<Figure size 1152x288 with 2 Axes>"
      ]
     },
     "metadata": {
      "needs_background": "light"
     },
     "output_type": "display_data"
    },
    {
     "data": {
      "image/png": "[encoded data removed]",
      "text/plain": [
       "<Figure size 1152x288 with 2 Axes>"
      ]
     },
     "metadata": {
      "needs_background": "light"
     },
     "output_type": "display_data"
    },
    {
     "data": {
      "image/png": "[encoded data removed]",
      "text/plain": [
       "<Figure size 1152x288 with 2 Axes>"
      ]
     },
     "metadata": {
      "needs_background": "light"
     },
     "output_type": "display_data"
    },
    {
     "data": {
      "image/png": "[encoded data removed]",
      "text/plain": [
       "<Figure size 1152x288 with 2 Axes>"
      ]
     },
     "metadata": {
      "needs_background": "light"
     },
     "output_type": "display_data"
    },
    {
     "data": {
      "image/png": "[encoded data removed]",
      "text/plain": [
       "<Figure size 1152x288 with 2 Axes>"
      ]
     },
     "metadata": {
      "needs_background": "light"
     },
     "output_type": "display_data"
    },
    {
     "data": {
      "image/png": "[encoded data removed]",
      "text/plain": [
       "<Figure size 1152x288 with 2 Axes>"
      ]
     },
     "metadata": {
      "needs_background": "light"
     },
     "output_type": "display_data"
    },
    {
     "data": {
      "image/png": "[encoded data removed]",
      "text/plain": [
       "<Figure size 1152x288 with 2 Axes>"
      ]
     },
     "metadata": {
      "needs_background": "light"
     },
     "output_type": "display_data"
    }
   ],
   "source": [
    "# show the distribution of each continuous features\n",
    "for feature in ['price','freight_value','payment_value','product_name_lenght','product_description_lenght',\n",
    "                'product_photos_qty','product_weight_g','product_length_cm','product_height_cm','product_width_cm']:\n",
    "    plt.figure(figsize=(16, 4))\n",
    "    \n",
    "    plt.subplot(1, 3, 1)\n",
    "    sns.histplot(x=feature,data=X_train,bins=80)\n",
    "    plt.subplot(1, 3, 2)\n",
    "    sns.boxplot(x=feature,data=X_train)"
   ]
  },
  {
   "cell_type": "code",
   "execution_count": 53,
   "metadata": {},
   "outputs": [],
   "source": [
    "# import library to handle the outliers\n",
    "from feature_engine.outliers import Winsorizer\n",
    "\n",
    "# create the capper\n",
    "\n",
    "windsoriser1 = Winsorizer(capping_method='iqr', tail='right', fold=1.5,\n",
    "                          variables=['price','freight_value','payment_value','product_description_lenght','product_photos_qty',\n",
    "                                     'product_weight_g','product_length_cm','product_height_cm','product_width_cm'])\n",
    "\n",
    "windsoriser2 = Winsorizer(capping_method='iqr',tail='left',fold=1.5,\n",
    "                          variables=['product_name_lenght'])"
   ]
  },
  {
   "cell_type": "code",
   "execution_count": 54,
   "metadata": {},
   "outputs": [],
   "source": [
    "windsoriser1.fit(X_train)\n",
    "\n",
    "X_train = windsoriser1.transform(X_train)\n",
    "X_test = windsoriser1.transform(X_test)"
   ]
  },
  {
   "cell_type": "code",
   "execution_count": 55,
   "metadata": {},
   "outputs": [],
   "source": [
    "windsoriser2.fit(X_train)\n",
    "\n",
    "X_train = windsoriser2.transform(X_train)\n",
    "X_test = windsoriser2.transform(X_test)"
   ]
  },
  {
   "cell_type": "code",
   "execution_count": 56,
   "metadata": {
    "scrolled": true
   },
   "outputs": [
    {
     "data": {
      "image/png": "[encoded data removed]",
      "text/plain": [
       "<Figure size 1152x288 with 2 Axes>"
      ]
     },
     "metadata": {
      "needs_background": "light"
     },
     "output_type": "display_data"
    },
    {
     "data": {
      "image/png": "[encoded data removed]",
      "text/plain": [
       "<Figure size 1152x288 with 2 Axes>"
      ]
     },
     "metadata": {
      "needs_background": "light"
     },
     "output_type": "display_data"
    },
    {
     "data": {
      "image/png": "[encoded data removed]",
      "text/plain": [
       "<Figure size 1152x288 with 2 Axes>"
      ]
     },
     "metadata": {
      "needs_background": "light"
     },
     "output_type": "display_data"
    },
    {
     "data": {
      "image/png": "[encoded data removed]",
      "text/plain": [
       "<Figure size 1152x288 with 2 Axes>"
      ]
     },
     "metadata": {
      "needs_background": "light"
     },
     "output_type": "display_data"
    },
    {
     "data": {
      "image/png": "[encoded data removed]",
      "text/plain": [
       "<Figure size 1152x288 with 2 Axes>"
      ]
     },
     "metadata": {
      "needs_background": "light"
     },
     "output_type": "display_data"
    },
    {
     "data": {
      "image/png": "[encoded data removed]",
      "text/plain": [
       "<Figure size 1152x288 with 2 Axes>"
      ]
     },
     "metadata": {
      "needs_background": "light"
     },
     "output_type": "display_data"
    },
    {
     "data": {
      "image/png": "[encoded data removed]",
      "text/plain": [
       "<Figure size 1152x288 with 2 Axes>"
      ]
     },
     "metadata": {
      "needs_background": "light"
     },
     "output_type": "display_data"
    },
    {
     "data": {
      "image/png": "[encoded data removed]",
      "text/plain": [
       "<Figure size 1152x288 with 2 Axes>"
      ]
     },
     "metadata": {
      "needs_background": "light"
     },
     "output_type": "display_data"
    },
    {
     "data": {
      "image/png": "[encoded data removed]",
      "text/plain": [
       "<Figure size 1152x288 with 2 Axes>"
      ]
     },
     "metadata": {
      "needs_background": "light"
     },
     "output_type": "display_data"
    },
    {
     "data": {
      "image/png": "[encoded data removed]",
      "text/plain": [
       "<Figure size 1152x288 with 2 Axes>"
      ]
     },
     "metadata": {
      "needs_background": "light"
     },
     "output_type": "display_data"
    }
   ],
   "source": [
    "# show the distribution of each continuous features again\n",
    "for feature in ['price','freight_value','payment_value','product_name_lenght','product_description_lenght',\n",
    "                'product_photos_qty','product_weight_g','product_length_cm','product_height_cm','product_width_cm']:\n",
    "    plt.figure(figsize=(16, 4))\n",
    "    \n",
    "    plt.subplot(1, 3, 1)\n",
    "    sns.histplot(x=feature,data=X_train,bins=80)\n",
    "    plt.subplot(1, 3, 2)\n",
    "    sns.boxplot(x=feature,data=X_train)"
   ]
  },
  {
   "cell_type": "code",
   "execution_count": 57,
   "metadata": {},
   "outputs": [
    {
     "data": {
      "text/plain": [
       "array(['health_beauty', 'auto', 'luggage_accessories', 'watches_gifts',\n",
       "       'housewares', 'perfumery', 'bed_bath_table', 'sports_leisure',\n",
       "       'computers_accessories', 'toys', 'furniture_decor', 'stationery',\n",
       "       'home_confort', 'telephony', 'office_furniture', 'baby',\n",
       "       'cool_stuff', 'food', 'fashion_shoes', 'small_appliances',\n",
       "       'cine_photo', 'garden_tools', 'drinks', 'electronics',\n",
       "       'construction_tools_construction', 'food_drink',\n",
       "       'industry_commerce_and_business', 'books_imported', 'pet_shop',\n",
       "       'fashion_bags_accessories', 'consoles_games', 'home_appliances',\n",
       "       'kitchen_dining_laundry_garden_furniture',\n",
       "       'agro_industry_and_commerce', 'fashion_underwear_beach',\n",
       "       'fixed_telephony', 'audio', 'air_conditioning', 'flowers',\n",
       "       'computers', 'tablets_printing_image', 'construction_tools_safety',\n",
       "       'fashion_male_clothing', 'musical_instruments',\n",
       "       'costruction_tools_tools', 'party_supplies',\n",
       "       'furniture_living_room', 'cds_dvds_musicals', 'market_place',\n",
       "       'home_appliances_2', 'home_construction', 'books_general_interest',\n",
       "       'christmas_supplies', 'art', 'books_technical',\n",
       "       'construction_tools_lights',\n",
       "       'small_appliances_home_oven_and_coffee', 'signaling_and_security',\n",
       "       'dvds_blu_ray', 'la_cuisine', 'furniture_bedroom', 'music',\n",
       "       'fashio_female_clothing', 'costruction_tools_garden',\n",
       "       'arts_and_craftmanship', 'furniture_mattress_and_upholstery',\n",
       "       'diapers_and_hygiene', 'fashion_childrens_clothes',\n",
       "       'home_comfort_2', 'fashion_sport', 'security_and_services'],\n",
       "      dtype=object)"
      ]
     },
     "execution_count": 57,
     "metadata": {},
     "output_type": "execute_result"
    }
   ],
   "source": [
    "y_train.unique()"
   ]
  },
  {
   "cell_type": "code",
   "execution_count": 58,
   "metadata": {},
   "outputs": [
    {
     "data": {
      "text/plain": [
       "<AxesSubplot:xlabel='product_category', ylabel='Count'>"
      ]
     },
     "execution_count": 58,
     "metadata": {},
     "output_type": "execute_result"
    },
    {
     "data": {
      "image/png": "[encoded data removed]",
      "text/plain": [
       "<Figure size 1152x648 with 1 Axes>"
      ]
     },
     "metadata": {
      "needs_background": "light"
     },
     "output_type": "display_data"
    }
   ],
   "source": [
    "# check the categories of y_train\n",
    "plt.figure(figsize=(16,9))\n",
    "sns.histplot(x=y_train,bins=100)"
   ]
  },
  {
   "cell_type": "code",
   "execution_count": 59,
   "metadata": {},
   "outputs": [
    {
     "name": "stdout",
     "output_type": "stream",
     "text": [
      "bed_bath_table               0.102252\n",
      "health_beauty                0.085843\n",
      "sports_leisure               0.077152\n",
      "furniture_decor              0.076079\n",
      "computers_accessories        0.069779\n",
      "                               ...   \n",
      "arts_and_craftmanship        0.000197\n",
      "la_cuisine                   0.000173\n",
      "cds_dvds_musicals            0.000173\n",
      "fashion_childrens_clothes    0.000062\n",
      "security_and_services        0.000025\n",
      "Name: product_category, Length: 71, dtype: float64\n",
      "\n",
      "Numbers of categories:  71 \n",
      "Numbers of rare categories:  50\n"
     ]
    }
   ],
   "source": [
    "print(y_train.value_counts()/len(y_train))\n",
    "\n",
    "print('\\nNumbers of categories: ',y_train.nunique(),\n",
    "    '\\nNumbers of rare categories: ',\n",
    "      sum(y_train.value_counts()/len(y_train)<0.01))"
   ]
  },
  {
   "cell_type": "code",
   "execution_count": 60,
   "metadata": {},
   "outputs": [],
   "source": [
    "# encode the rare categories in y_train\n",
    "rare_cat = list(y_train.value_counts()[y_train.value_counts()/len(y_train)<0.01].index)\n",
    "\n",
    "y_train.replace(rare_cat,'rare',inplace=True)\n",
    "y_test.replace(rare_cat,'rare',inplace=True)"
   ]
  },
  {
   "cell_type": "markdown",
   "metadata": {},
   "source": [
    "#### \n",
    "### Data preprocessing"
   ]
  },
  {
   "cell_type": "code",
   "execution_count": 61,
   "metadata": {},
   "outputs": [],
   "source": [
    "# feature scaling\n",
    "from sklearn.preprocessing import StandardScaler\n",
    "\n",
    "col = X_train.select_dtypes(include=['int64','float64']).columns\n",
    "scaler = StandardScaler()\n",
    "\n",
    "scaler.fit(X_train[col])\n",
    "\n",
    "X_train[col] = scaler.transform(X_train[col])\n",
    "X_test[col] = scaler.transform(X_test[col])"
   ]
  },
  {
   "cell_type": "markdown",
   "metadata": {},
   "source": [
    "#### \n",
    "### Feature Selection with feature engine"
   ]
  },
  {
   "cell_type": "code",
   "execution_count": 62,
   "metadata": {},
   "outputs": [
    {
     "name": "stdout",
     "output_type": "stream",
     "text": [
      "[]\n"
     ]
    }
   ],
   "source": [
    "# find the columns with constant and quasi-constant feature\n",
    "constant_features = [feat for feat in X_train.columns if X_train[feat].std() == 0]\n",
    "print(constant_features) # there are no constant features"
   ]
  },
  {
   "cell_type": "code",
   "execution_count": 63,
   "metadata": {},
   "outputs": [
    {
     "data": {
      "text/plain": [
       "VarianceThreshold(threshold=0.01)"
      ]
     },
     "execution_count": 63,
     "metadata": {},
     "output_type": "execute_result"
    }
   ],
   "source": [
    "# select coloumns with quasi_constant feature\n",
    "from sklearn.feature_selection import VarianceThreshold\n",
    "\n",
    "sel = VarianceThreshold(threshold = 0.01)\n",
    "sel.fit(X_train)"
   ]
  },
  {
   "cell_type": "code",
   "execution_count": 64,
   "metadata": {},
   "outputs": [
    {
     "data": {
      "text/plain": [
       "(2,\n",
       " Index(['order_status_canceled', 'order_status_processing'], dtype='object'))"
      ]
     },
     "execution_count": 64,
     "metadata": {},
     "output_type": "execute_result"
    }
   ],
   "source": [
    "# print the number of quasi-constant features\n",
    "\n",
    "quasi_constant = X_train.columns[~sel.get_support()]\n",
    "\n",
    "len(quasi_constant),quasi_constant"
   ]
  },
  {
   "cell_type": "code",
   "execution_count": 65,
   "metadata": {},
   "outputs": [
    {
     "name": "stdout",
     "output_type": "stream",
     "text": [
      "order_status_canceled \n",
      " 0    0.99513\n",
      "1    0.00487\n",
      "Name: order_status_canceled, dtype: float64 \n",
      "\n",
      "order_status_processing \n",
      " 0    0.996819\n",
      "1    0.003181\n",
      "Name: order_status_processing, dtype: float64 \n",
      "\n"
     ]
    }
   ],
   "source": [
    "# show the percentage of quasi-constant values\n",
    "for feature in quasi_constant:\n",
    "    print(feature, '\\n', X_train[feature].value_counts()/np.float(len(X_train)),'\\n')"
   ]
  },
  {
   "cell_type": "code",
   "execution_count": 66,
   "metadata": {},
   "outputs": [
    {
     "name": "stdout",
     "output_type": "stream",
     "text": [
      "0\n",
      "10\n",
      "20\n"
     ]
    },
    {
     "data": {
      "text/plain": [
       "0"
      ]
     },
     "execution_count": 66,
     "metadata": {},
     "output_type": "execute_result"
    }
   ],
   "source": [
    "# check for duplicated features in the training set\n",
    "\n",
    "duplicated_feat = []\n",
    "for i in range(0, len(X_train.columns)):\n",
    "    if i % 10 == 0:\n",
    "        print(i)\n",
    "\n",
    "    col_1 = X_train.columns[i]\n",
    "\n",
    "    for col_2 in X_train.columns[i + 1:]:\n",
    "        if X_train[col_1].equals(X_train[col_2]):\n",
    "            duplicated_feat.append(col_2)\n",
    "            \n",
    "len(duplicated_feat)"
   ]
  },
  {
   "cell_type": "code",
   "execution_count": 67,
   "metadata": {},
   "outputs": [
    {
     "name": "stdout",
     "output_type": "stream",
     "text": [
      "correlated features:  0\n"
     ]
    }
   ],
   "source": [
    "# find and drop correlated features\n",
    "def correlation(dataset, threshold):\n",
    "    col_corr = set()\n",
    "    corr_matrix = dataset.corr()\n",
    "    for i in range(len(corr_matrix.columns)):\n",
    "        for j in range(i):\n",
    "            if abs(corr_matrix.iloc[i, j]) > threshold: \n",
    "                colname = corr_matrix.columns[i]  # getting the name of column\n",
    "                col_corr.add(colname)\n",
    "    return col_corr\n",
    "\n",
    "corr_features = correlation(X_train, 0.9)\n",
    "print('correlated features: ', len(set(corr_features)) )\n",
    "\n",
    "# removed correlated  features\n",
    "X_train.drop(labels=corr_features, axis=1, inplace=True)\n",
    "X_test.drop(labels=corr_features, axis=1, inplace=True)"
   ]
  },
  {
   "cell_type": "code",
   "execution_count": 68,
   "metadata": {
    "scrolled": true
   },
   "outputs": [
    {
     "name": "stdout",
     "output_type": "stream",
     "text": [
      "[ True  True False  True  True  True  True  True  True  True  True  True\n",
      "  True  True False  True False False False False False  True False]\n",
      "[1 1 4 1 1 1 1 1 1 1 1 1 1 1 3 1 5 8 7 9 2 1 6]\n"
     ]
    }
   ],
   "source": [
    "# use Wrapper model to select features\n",
    "from sklearn.feature_selection import RFE\n",
    "from sklearn.ensemble import RandomForestClassifier\n",
    "\n",
    "model = RandomForestClassifier()\n",
    "\n",
    "rfe = RFE(model, 15) \n",
    "rfe = rfe.fit(X_train, y_train)\n",
    "\n",
    "print(rfe.support_)\n",
    "print(rfe.ranking_) "
   ]
  },
  {
   "cell_type": "code",
   "execution_count": 69,
   "metadata": {},
   "outputs": [
    {
     "data": {
      "text/plain": [
       "Index(['price', 'freight_value', 'payment_installments', 'payment_value',\n",
       "       'product_name_lenght', 'product_description_lenght',\n",
       "       'product_photos_qty', 'product_weight_g', 'product_length_cm',\n",
       "       'product_height_cm', 'product_width_cm', 'order_month', 'Shipping days',\n",
       "       'order_purchase_dayofweek', 'payment_type_credit_card'],\n",
       "      dtype='object')"
      ]
     },
     "execution_count": 69,
     "metadata": {},
     "output_type": "execute_result"
    }
   ],
   "source": [
    "# check these selected features\n",
    "col_filter = X_train.columns[rfe.support_]\n",
    "col_filter"
   ]
  },
  {
   "cell_type": "code",
   "execution_count": 70,
   "metadata": {},
   "outputs": [],
   "source": [
    "X_train = X_train[col_filter]\n",
    "X_test = X_test[col_filter]"
   ]
  },
  {
   "cell_type": "code",
   "execution_count": 71,
   "metadata": {},
   "outputs": [
    {
     "name": "stdout",
     "output_type": "stream",
     "text": [
      "<class 'pandas.core.frame.DataFrame'>\n",
      "Int64Index: 81113 entries, 18377 to 46250\n",
      "Data columns (total 15 columns):\n",
      " #   Column                      Non-Null Count  Dtype  \n",
      "---  ------                      --------------  -----  \n",
      " 0   price                       81113 non-null  float64\n",
      " 1   freight_value               81113 non-null  float64\n",
      " 2   payment_installments        81113 non-null  float64\n",
      " 3   payment_value               81113 non-null  float64\n",
      " 4   product_name_lenght         81113 non-null  float64\n",
      " 5   product_description_lenght  81113 non-null  float64\n",
      " 6   product_photos_qty          81113 non-null  float64\n",
      " 7   product_weight_g            81113 non-null  float64\n",
      " 8   product_length_cm           81113 non-null  float64\n",
      " 9   product_height_cm           81113 non-null  float64\n",
      " 10  product_width_cm            81113 non-null  float64\n",
      " 11  order_month                 81113 non-null  float64\n",
      " 12  Shipping days               81113 non-null  float64\n",
      " 13  order_purchase_dayofweek    81113 non-null  float64\n",
      " 14  payment_type_credit_card    81113 non-null  int32  \n",
      "dtypes: float64(14), int32(1)\n",
      "memory usage: 9.6 MB\n"
     ]
    }
   ],
   "source": [
    "X_train.info()"
   ]
  },
  {
   "cell_type": "markdown",
   "metadata": {},
   "source": [
    "#### \n",
    "### Model building"
   ]
  },
  {
   "cell_type": "code",
   "execution_count": 72,
   "metadata": {},
   "outputs": [],
   "source": [
    "# import machine learning algorithm model\n",
    "from sklearn.tree import DecisionTreeClassifier\n",
    "from sklearn.ensemble import RandomForestClassifier"
   ]
  },
  {
   "cell_type": "code",
   "execution_count": 73,
   "metadata": {},
   "outputs": [
    {
     "data": {
      "text/plain": [
       "DecisionTreeClassifier()"
      ]
     },
     "execution_count": 73,
     "metadata": {},
     "output_type": "execute_result"
    }
   ],
   "source": [
    "# train the models\n",
    "rfc = RandomForestClassifier(n_estimators=200)\n",
    "rfc.fit(X_train,y_train)\n",
    "\n",
    "dt = DecisionTreeClassifier()\n",
    "dt.fit(X_train,y_train)"
   ]
  },
  {
   "cell_type": "code",
   "execution_count": 74,
   "metadata": {},
   "outputs": [
    {
     "name": "stdout",
     "output_type": "stream",
     "text": [
      "[[1004    2   42   29    0    1    5    4    6    2   28   30    0    2\n",
      "     1    0   79   29    4   15    7    8]\n",
      " [   5  794   18    2    0    6    2    1   15    1   10   11    0    1\n",
      "     1    1   36    5    1    2    5    1]\n",
      " [   3    1 3435    2    0    1    0    0   10    0    8   13    0    0\n",
      "     1    2   39   10    0    0    3    1]\n",
      " [   6    0    8 2241    3    1    4    8    3    0   26   13    0    0\n",
      "     7    0   47   30    0   13    3    9]\n",
      " [   5    0    2    6  269    0    0    4    0    0    7    1    0    0\n",
      "     4    2    7    8    0    2    0    6]\n",
      " [   3    0   13    2    0 1135    0    0    5    1   11    9    0    1\n",
      "     1    1   47   20    0    2    4    3]\n",
      " [   3    1    6    7    0    0  781    1    3    1    7   10    0    1\n",
      "     2    0   15    6    1   10    1    3]\n",
      " [   5    0    3   11    0    0    1  562    0    1    1    3    1    0\n",
      "     1    1   11    4    0    6    0   11]\n",
      " [   1    6   78    6    0    4    0    3 2312    0   19   40    0    4\n",
      "     1    0   64   20    6    0    5    4]\n",
      " [   1    1   17   10    0    1    1    1    7 1205   20   18    0    1\n",
      "     0    0   68   14    2    3    1    3]\n",
      " [   5    0   14   16    0    2    0    3    9    0 2776   20    1    2\n",
      "     8    2   64   53    1   10    5   18]\n",
      " [   8    0   48   10    0    1    0    2   30    2   20 1983    0    2\n",
      "     0    0   98   35    3    4    7    0]\n",
      " [   1    0   14    1    1    1    0    0    1    0    1    8  286    0\n",
      "     0    0   24    1    5    3    1    1]\n",
      " [   0    0    1    0    0    1    0    0    1    0    1    1    0  500\n",
      "     0    0   11    0    0    0    0    0]\n",
      " [   2    0    6   12    0    0    1    7    2    1   33    6    0    0\n",
      "   937    1   20   14    1   10    1   14]\n",
      " [   3    1   17    5    0    1    1    0    7    0   18   15    0    0\n",
      "     1  470   40   17    0    4    1    6]\n",
      " [  12    4   72   33    0    6    7   10   30    3   68   62    1    3\n",
      "     6    2 3238   55    5   23   11   41]\n",
      " [   5    2   31   22    0    4    2    6   21    1   74   45    0    1\n",
      "     8    1   74 2344    5   16    7   18]\n",
      " [   4    0   28    6    0    0    1    2    3    0    9   13    4    0\n",
      "     1    0   32    4  695    4   12    4]\n",
      " [   3    0    1    8    1    0    1    2    0    0   10    1    0    0\n",
      "     1    0   19    5    0 1341    0   13]\n",
      " [   4    8   22   11    1    4    0    1    7    1   20   44    0    3\n",
      "     2    1   48   32    3    4 1061    5]\n",
      " [   0    0    6    7    0    1    0    1    0    0   11    1    0    0\n",
      "    17    0    8    3    2    1    1 1838]] \n",
      "\n",
      "                          precision    recall  f1-score   support\n",
      "\n",
      "                    auto       0.93      0.77      0.84      1298\n",
      "                    baby       0.97      0.86      0.91       918\n",
      "          bed_bath_table       0.88      0.97      0.93      3529\n",
      "   computers_accessories       0.92      0.93      0.92      2422\n",
      "          consoles_games       0.98      0.83      0.90       323\n",
      "              cool_stuff       0.97      0.90      0.93      1258\n",
      "             electronics       0.97      0.91      0.94       859\n",
      "fashion_bags_accessories       0.91      0.90      0.91       622\n",
      "         furniture_decor       0.94      0.90      0.92      2573\n",
      "            garden_tools       0.99      0.88      0.93      1374\n",
      "           health_beauty       0.87      0.92      0.90      3009\n",
      "              housewares       0.84      0.88      0.86      2253\n",
      "     luggage_accessories       0.98      0.82      0.89       349\n",
      "        office_furniture       0.96      0.97      0.96       516\n",
      "               perfumery       0.94      0.88      0.91      1068\n",
      "                pet_shop       0.97      0.77      0.86       607\n",
      "                    rare       0.79      0.88      0.83      3692\n",
      "          sports_leisure       0.87      0.87      0.87      2687\n",
      "              stationery       0.95      0.85      0.89       822\n",
      "               telephony       0.91      0.95      0.93      1406\n",
      "                    toys       0.93      0.83      0.88      1282\n",
      "           watches_gifts       0.92      0.97      0.94      1897\n",
      "\n",
      "                accuracy                           0.90     34764\n",
      "               macro avg       0.93      0.88      0.90     34764\n",
      "            weighted avg       0.90      0.90      0.90     34764\n",
      "\n"
     ]
    }
   ],
   "source": [
    "# evaluate the algorithm we just build\n",
    "from sklearn.metrics import classification_report,confusion_matrix\n",
    "\n",
    "pred_rfc = rfc.predict(X_test)\n",
    "\n",
    "print(confusion_matrix(y_test,pred_rfc),'\\n')\n",
    "print(classification_report(y_test,pred_rfc))"
   ]
  },
  {
   "cell_type": "code",
   "execution_count": 75,
   "metadata": {},
   "outputs": [
    {
     "name": "stdout",
     "output_type": "stream",
     "text": [
      "[[ 939   14   22   30   10    5    8    5   21   12   28   35    2    3\n",
      "    14    7   69   40    8   13   10    3]\n",
      " [  16  760   20    3    0    8    2    2   13    5    6   18    2    1\n",
      "     4    4   23   17    4    4    5    1]\n",
      " [  12   13 3257   13    0    8    4    2   37   10    5   41    7    1\n",
      "     4    4   66   21    5    1   14    4]\n",
      " [  15    8    9 2085    5   16    4   11    8    8   43   23    2    0\n",
      "    17   14   67   27    3   16   19   22]\n",
      " [   6    0    0    6  257    1    2    1    2    4    6    4    0    1\n",
      "     3    1   14    4    0    4    5    2]\n",
      " [   9   10   18   14    4 1094    6    1   11    5   12    9    2    3\n",
      "     2    5   20   16    3    1   12    1]\n",
      " [   3    4    2    6    2    0  751    2   15    2   12    7    0    1\n",
      "     2    1   16   10    6    6    6    5]\n",
      " [   9    1    8    8    2    3    0  514    5    1    1    6    1    0\n",
      "     5    5   12   11    7   10    4    9]\n",
      " [  22   17   36   13    2   11    3    3 2247    8   17   44    1    6\n",
      "     7   15   55   32    8    8   14    4]\n",
      " [  11    4    9   13    1    7    6    1   13 1202   14   11    1    0\n",
      "     6    5   33   17   10    4    4    2]\n",
      " [  19    9   13   38    8   19   12    5   18   10 2589   36    1    4\n",
      "    26   14   58   76    8    9   15   22]\n",
      " [  29   20   27   10    3   19    6    7   45   11   20 1850    6    1\n",
      "    14   16   72   48   13    6   25    5]\n",
      " [   4    4    9    1    1    3    1    0    8    1    4   10  267    0\n",
      "     4    1   15    2    6    0    8    0]\n",
      " [   2    2    1    0    0    1    0    0    3    0    2    9    0  482\n",
      "     0    2    8    4    0    0    0    0]\n",
      " [  10    2    5   23    0    3    4    4    4    4   29   11    1    0\n",
      "   889    5   19   11    7    8   10   19]\n",
      " [  10    3    6   10    3    6    2    2    9    9   15   14    2    0\n",
      "     9  450   22   18    1    1   12    3]\n",
      " [  48   32   70   55   12   33   15   12   63   21   89   80    9    6\n",
      "    20   22 2900   99   18   21   43   24]\n",
      " [  32   29   27   33    9   18    5    6   30    7   88   53    3    4\n",
      "    22    9   72 2163   12   20   32   13]\n",
      " [  18    8    8    7    0    3    1    6   12    3    9   18    5    0\n",
      "     4   11   37   16  636    7    8    5]\n",
      " [   8    4    4    8    3    7    5    3    2    4   13    4    1    0\n",
      "     6    3   22   22    6 1268    4    9]\n",
      " [  15   19   16   10    3   22    2    5   23    8   24   29    2    4\n",
      "    11    6   47   39   11    2  976    8]\n",
      " [   8    1    3   23    7    3    2    9    2    2   11    3    0    0\n",
      "    29    4   12   16    5    4   16 1737]] \n",
      "\n",
      "                          precision    recall  f1-score   support\n",
      "\n",
      "                    auto       0.75      0.72      0.74      1298\n",
      "                    baby       0.79      0.83      0.81       918\n",
      "          bed_bath_table       0.91      0.92      0.92      3529\n",
      "   computers_accessories       0.87      0.86      0.86      2422\n",
      "          consoles_games       0.77      0.80      0.78       323\n",
      "              cool_stuff       0.85      0.87      0.86      1258\n",
      "             electronics       0.89      0.87      0.88       859\n",
      "fashion_bags_accessories       0.86      0.83      0.84       622\n",
      "         furniture_decor       0.87      0.87      0.87      2573\n",
      "            garden_tools       0.90      0.87      0.89      1374\n",
      "           health_beauty       0.85      0.86      0.86      3009\n",
      "              housewares       0.80      0.82      0.81      2253\n",
      "     luggage_accessories       0.85      0.77      0.80       349\n",
      "        office_furniture       0.93      0.93      0.93       516\n",
      "               perfumery       0.81      0.83      0.82      1068\n",
      "                pet_shop       0.75      0.74      0.74       607\n",
      "                    rare       0.79      0.79      0.79      3692\n",
      "          sports_leisure       0.80      0.80      0.80      2687\n",
      "              stationery       0.82      0.77      0.80       822\n",
      "               telephony       0.90      0.90      0.90      1406\n",
      "                    toys       0.79      0.76      0.77      1282\n",
      "           watches_gifts       0.92      0.92      0.92      1897\n",
      "\n",
      "                accuracy                           0.84     34764\n",
      "               macro avg       0.84      0.83      0.84     34764\n",
      "            weighted avg       0.84      0.84      0.84     34764\n",
      "\n"
     ]
    }
   ],
   "source": [
    "pred_tree = dt.predict(X_test)\n",
    "\n",
    "print(confusion_matrix(y_test,pred_tree),'\\n')\n",
    "print(classification_report(y_test,pred_tree))"
   ]
  },
  {
   "cell_type": "code",
   "execution_count": null,
   "metadata": {},
   "outputs": [],
   "source": []
  }
 ],
 "metadata": {
  "kernelspec": {
   "display_name": "Python 3",
   "language": "python",
   "name": "python3"
  },
  "language_info": {
   "codemirror_mode": {
    "name": "ipython",
    "version": 3
   },
   "file_extension": ".py",
   "mimetype": "text/x-python",
   "name": "python",
   "nbconvert_exporter": "python",
   "pygments_lexer": "ipython3",
   "version": "3.8.5"
  }
 },
 "nbformat": 4,
 "nbformat_minor": 4
}
