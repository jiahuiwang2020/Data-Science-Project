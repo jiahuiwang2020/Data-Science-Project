{
 "cells": [
  {
   "cell_type": "markdown",
   "metadata": {},
   "source": [
    "# Brazilian E-Commerce Public Dataset by Olist\n",
    "### 100,000 Orders with product, customer and reviews info\n",
    "####  \n",
    "### Data Science project from Kaggle: \n",
    "https://www.kaggle.com/olistbr/brazilian-ecommerce\n",
    "\n",
    "#### \n",
    "### Task description\n",
    "This is a Brazilian ecommerce public dataset of orders made at Olist Store. The dataset has information of 100k orders from 2016 to 2018 made at multiple marketplaces in Brazil. Its features allows viewing an order from multiple dimensions: from order status, price, payment and freight performance to customer location, product attributes and finally reviews written by customers. We also released a geolocation dataset that relates Brazilian zip codes to lat/lng coordinates.\n",
    "\n",
    "This is real commercial data, it has been anonymised, and references to the companies and partners in the review text have been replaced with the names of Game of Thrones great houses.This dataset was generously provided by Olist, the largest department store in Brazilian marketplaces. Olist connects small businesses from all over Brazil to channels without hassle and with a single contract. Those merchants are able to sell their products through the Olist Store and ship them directly to the customers using Olist logistics partners.\n",
    "\n",
    "After a customer purchases the product from Olist Store a seller gets notified to fulfill that order. Once the customer receives the product, or the estimated delivery date is due, the customer gets a satisfaction survey by email where he can give a note for the purchase experience and write down some comments.\n",
    "#### "
   ]
  },
  {
   "cell_type": "markdown",
   "metadata": {},
   "source": [
    "### Load dataset"
   ]
  },
  {
   "cell_type": "code",
   "execution_count": 1,
   "metadata": {},
   "outputs": [],
   "source": [
    "# import libraries for exploratory data analysis\n",
    "import pandas as pd # data analysis\n",
    "import numpy as np # linear algebra\n",
    "\n",
    "# import libraries to visualise the data\n",
    "import matplotlib.pyplot as plt\n",
    "import seaborn as sns\n",
    "%matplotlib inline"
   ]
  },
  {
   "cell_type": "code",
   "execution_count": 2,
   "metadata": {},
   "outputs": [],
   "source": [
    "# load datasets\n",
    "customers = pd.read_csv('dataset/customers.csv')\n",
    "sellers = pd.read_csv('dataset/sellers.csv')\n",
    "products = pd.read_csv('dataset/products.csv')\n",
    "orders = pd.read_csv('dataset/orders.csv')\n",
    "order_items = pd.read_csv('dataset/order_items.csv')\n",
    "order_payments = pd.read_csv('dataset/order_payments.csv')\n",
    "product_category_name_translation = pd.read_csv('dataset/product_category_name_translation.csv')\n",
    "geolocation = pd.read_csv('dataset/geolocation.csv')"
   ]
  },
  {
   "cell_type": "code",
   "execution_count": 3,
   "metadata": {
    "scrolled": true
   },
   "outputs": [
    {
     "data": {
      "text/html": [
       "<div>\n",
       "<style scoped>\n",
       "    .dataframe tbody tr th:only-of-type {\n",
       "        vertical-align: middle;\n",
       "    }\n",
       "\n",
       "    .dataframe tbody tr th {\n",
       "        vertical-align: top;\n",
       "    }\n",
       "\n",
       "    .dataframe thead th {\n",
       "        text-align: right;\n",
       "    }\n",
       "</style>\n",
       "<table border=\"1\" class=\"dataframe\">\n",
       "  <thead>\n",
       "    <tr style=\"text-align: right;\">\n",
       "      <th></th>\n",
       "      <th>customer_id</th>\n",
       "      <th>customer_unique_id</th>\n",
       "      <th>customer_zip_code_prefix</th>\n",
       "      <th>customer_city</th>\n",
       "      <th>customer_state</th>\n",
       "    </tr>\n",
       "  </thead>\n",
       "  <tbody>\n",
       "    <tr>\n",
       "      <th>0</th>\n",
       "      <td>06b8999e2fba1a1fbc88172c00ba8bc7</td>\n",
       "      <td>861eff4711a542e4b93843c6dd7febb0</td>\n",
       "      <td>14409</td>\n",
       "      <td>franca</td>\n",
       "      <td>SP</td>\n",
       "    </tr>\n",
       "    <tr>\n",
       "      <th>1</th>\n",
       "      <td>18955e83d337fd6b2def6b18a428ac77</td>\n",
       "      <td>290c77bc529b7ac935b93aa66c333dc3</td>\n",
       "      <td>9790</td>\n",
       "      <td>sao bernardo do campo</td>\n",
       "      <td>SP</td>\n",
       "    </tr>\n",
       "    <tr>\n",
       "      <th>2</th>\n",
       "      <td>4e7b3e00288586ebd08712fdd0374a03</td>\n",
       "      <td>060e732b5b29e8181a18229c7b0b2b5e</td>\n",
       "      <td>1151</td>\n",
       "      <td>sao paulo</td>\n",
       "      <td>SP</td>\n",
       "    </tr>\n",
       "    <tr>\n",
       "      <th>3</th>\n",
       "      <td>b2b6027bc5c5109e529d4dc6358b12c3</td>\n",
       "      <td>259dac757896d24d7702b9acbbff3f3c</td>\n",
       "      <td>8775</td>\n",
       "      <td>mogi das cruzes</td>\n",
       "      <td>SP</td>\n",
       "    </tr>\n",
       "    <tr>\n",
       "      <th>4</th>\n",
       "      <td>4f2d8ab171c80ec8364f7c12e35b23ad</td>\n",
       "      <td>345ecd01c38d18a9036ed96c73b8d066</td>\n",
       "      <td>13056</td>\n",
       "      <td>campinas</td>\n",
       "      <td>SP</td>\n",
       "    </tr>\n",
       "  </tbody>\n",
       "</table>\n",
       "</div>"
      ],
      "text/plain": [
       "                        customer_id                customer_unique_id  \\\n",
       "0  06b8999e2fba1a1fbc88172c00ba8bc7  861eff4711a542e4b93843c6dd7febb0   \n",
       "1  18955e83d337fd6b2def6b18a428ac77  290c77bc529b7ac935b93aa66c333dc3   \n",
       "2  4e7b3e00288586ebd08712fdd0374a03  060e732b5b29e8181a18229c7b0b2b5e   \n",
       "3  b2b6027bc5c5109e529d4dc6358b12c3  259dac757896d24d7702b9acbbff3f3c   \n",
       "4  4f2d8ab171c80ec8364f7c12e35b23ad  345ecd01c38d18a9036ed96c73b8d066   \n",
       "\n",
       "   customer_zip_code_prefix          customer_city customer_state  \n",
       "0                     14409                 franca             SP  \n",
       "1                      9790  sao bernardo do campo             SP  \n",
       "2                      1151              sao paulo             SP  \n",
       "3                      8775        mogi das cruzes             SP  \n",
       "4                     13056               campinas             SP  "
      ]
     },
     "execution_count": 3,
     "metadata": {},
     "output_type": "execute_result"
    }
   ],
   "source": [
    "# check the head of datasets\n",
    "customers.head()"
   ]
  },
  {
   "cell_type": "code",
   "execution_count": 4,
   "metadata": {},
   "outputs": [
    {
     "data": {
      "text/html": [
       "<div>\n",
       "<style scoped>\n",
       "    .dataframe tbody tr th:only-of-type {\n",
       "        vertical-align: middle;\n",
       "    }\n",
       "\n",
       "    .dataframe tbody tr th {\n",
       "        vertical-align: top;\n",
       "    }\n",
       "\n",
       "    .dataframe thead th {\n",
       "        text-align: right;\n",
       "    }\n",
       "</style>\n",
       "<table border=\"1\" class=\"dataframe\">\n",
       "  <thead>\n",
       "    <tr style=\"text-align: right;\">\n",
       "      <th></th>\n",
       "      <th>seller_id</th>\n",
       "      <th>seller_zip_code_prefix</th>\n",
       "      <th>seller_city</th>\n",
       "      <th>seller_state</th>\n",
       "    </tr>\n",
       "  </thead>\n",
       "  <tbody>\n",
       "    <tr>\n",
       "      <th>0</th>\n",
       "      <td>3442f8959a84dea7ee197c632cb2df15</td>\n",
       "      <td>13023</td>\n",
       "      <td>campinas</td>\n",
       "      <td>SP</td>\n",
       "    </tr>\n",
       "    <tr>\n",
       "      <th>1</th>\n",
       "      <td>d1b65fc7debc3361ea86b5f14c68d2e2</td>\n",
       "      <td>13844</td>\n",
       "      <td>mogi guacu</td>\n",
       "      <td>SP</td>\n",
       "    </tr>\n",
       "    <tr>\n",
       "      <th>2</th>\n",
       "      <td>ce3ad9de960102d0677a81f5d0bb7b2d</td>\n",
       "      <td>20031</td>\n",
       "      <td>rio de janeiro</td>\n",
       "      <td>RJ</td>\n",
       "    </tr>\n",
       "    <tr>\n",
       "      <th>3</th>\n",
       "      <td>c0f3eea2e14555b6faeea3dd58c1b1c3</td>\n",
       "      <td>4195</td>\n",
       "      <td>sao paulo</td>\n",
       "      <td>SP</td>\n",
       "    </tr>\n",
       "    <tr>\n",
       "      <th>4</th>\n",
       "      <td>51a04a8a6bdcb23deccc82b0b80742cf</td>\n",
       "      <td>12914</td>\n",
       "      <td>braganca paulista</td>\n",
       "      <td>SP</td>\n",
       "    </tr>\n",
       "  </tbody>\n",
       "</table>\n",
       "</div>"
      ],
      "text/plain": [
       "                          seller_id  seller_zip_code_prefix  \\\n",
       "0  3442f8959a84dea7ee197c632cb2df15                   13023   \n",
       "1  d1b65fc7debc3361ea86b5f14c68d2e2                   13844   \n",
       "2  ce3ad9de960102d0677a81f5d0bb7b2d                   20031   \n",
       "3  c0f3eea2e14555b6faeea3dd58c1b1c3                    4195   \n",
       "4  51a04a8a6bdcb23deccc82b0b80742cf                   12914   \n",
       "\n",
       "         seller_city seller_state  \n",
       "0           campinas           SP  \n",
       "1         mogi guacu           SP  \n",
       "2     rio de janeiro           RJ  \n",
       "3          sao paulo           SP  \n",
       "4  braganca paulista           SP  "
      ]
     },
     "execution_count": 4,
     "metadata": {},
     "output_type": "execute_result"
    }
   ],
   "source": [
    "sellers.head()"
   ]
  },
  {
   "cell_type": "code",
   "execution_count": 5,
   "metadata": {},
   "outputs": [
    {
     "data": {
      "text/html": [
       "<div>\n",
       "<style scoped>\n",
       "    .dataframe tbody tr th:only-of-type {\n",
       "        vertical-align: middle;\n",
       "    }\n",
       "\n",
       "    .dataframe tbody tr th {\n",
       "        vertical-align: top;\n",
       "    }\n",
       "\n",
       "    .dataframe thead th {\n",
       "        text-align: right;\n",
       "    }\n",
       "</style>\n",
       "<table border=\"1\" class=\"dataframe\">\n",
       "  <thead>\n",
       "    <tr style=\"text-align: right;\">\n",
       "      <th></th>\n",
       "      <th>product_id</th>\n",
       "      <th>product_category_name</th>\n",
       "      <th>product_name_lenght</th>\n",
       "      <th>product_description_lenght</th>\n",
       "      <th>product_photos_qty</th>\n",
       "      <th>product_weight_g</th>\n",
       "      <th>product_length_cm</th>\n",
       "      <th>product_height_cm</th>\n",
       "      <th>product_width_cm</th>\n",
       "    </tr>\n",
       "  </thead>\n",
       "  <tbody>\n",
       "    <tr>\n",
       "      <th>0</th>\n",
       "      <td>1e9e8ef04dbcff4541ed26657ea517e5</td>\n",
       "      <td>perfumaria</td>\n",
       "      <td>40.0</td>\n",
       "      <td>287.0</td>\n",
       "      <td>1.0</td>\n",
       "      <td>225.0</td>\n",
       "      <td>16.0</td>\n",
       "      <td>10.0</td>\n",
       "      <td>14.0</td>\n",
       "    </tr>\n",
       "    <tr>\n",
       "      <th>1</th>\n",
       "      <td>3aa071139cb16b67ca9e5dea641aaa2f</td>\n",
       "      <td>artes</td>\n",
       "      <td>44.0</td>\n",
       "      <td>276.0</td>\n",
       "      <td>1.0</td>\n",
       "      <td>1000.0</td>\n",
       "      <td>30.0</td>\n",
       "      <td>18.0</td>\n",
       "      <td>20.0</td>\n",
       "    </tr>\n",
       "    <tr>\n",
       "      <th>2</th>\n",
       "      <td>96bd76ec8810374ed1b65e291975717f</td>\n",
       "      <td>esporte_lazer</td>\n",
       "      <td>46.0</td>\n",
       "      <td>250.0</td>\n",
       "      <td>1.0</td>\n",
       "      <td>154.0</td>\n",
       "      <td>18.0</td>\n",
       "      <td>9.0</td>\n",
       "      <td>15.0</td>\n",
       "    </tr>\n",
       "    <tr>\n",
       "      <th>3</th>\n",
       "      <td>cef67bcfe19066a932b7673e239eb23d</td>\n",
       "      <td>bebes</td>\n",
       "      <td>27.0</td>\n",
       "      <td>261.0</td>\n",
       "      <td>1.0</td>\n",
       "      <td>371.0</td>\n",
       "      <td>26.0</td>\n",
       "      <td>4.0</td>\n",
       "      <td>26.0</td>\n",
       "    </tr>\n",
       "    <tr>\n",
       "      <th>4</th>\n",
       "      <td>9dc1a7de274444849c219cff195d0b71</td>\n",
       "      <td>utilidades_domesticas</td>\n",
       "      <td>37.0</td>\n",
       "      <td>402.0</td>\n",
       "      <td>4.0</td>\n",
       "      <td>625.0</td>\n",
       "      <td>20.0</td>\n",
       "      <td>17.0</td>\n",
       "      <td>13.0</td>\n",
       "    </tr>\n",
       "  </tbody>\n",
       "</table>\n",
       "</div>"
      ],
      "text/plain": [
       "                         product_id  product_category_name  \\\n",
       "0  1e9e8ef04dbcff4541ed26657ea517e5             perfumaria   \n",
       "1  3aa071139cb16b67ca9e5dea641aaa2f                  artes   \n",
       "2  96bd76ec8810374ed1b65e291975717f          esporte_lazer   \n",
       "3  cef67bcfe19066a932b7673e239eb23d                  bebes   \n",
       "4  9dc1a7de274444849c219cff195d0b71  utilidades_domesticas   \n",
       "\n",
       "   product_name_lenght  product_description_lenght  product_photos_qty  \\\n",
       "0                 40.0                       287.0                 1.0   \n",
       "1                 44.0                       276.0                 1.0   \n",
       "2                 46.0                       250.0                 1.0   \n",
       "3                 27.0                       261.0                 1.0   \n",
       "4                 37.0                       402.0                 4.0   \n",
       "\n",
       "   product_weight_g  product_length_cm  product_height_cm  product_width_cm  \n",
       "0             225.0               16.0               10.0              14.0  \n",
       "1            1000.0               30.0               18.0              20.0  \n",
       "2             154.0               18.0                9.0              15.0  \n",
       "3             371.0               26.0                4.0              26.0  \n",
       "4             625.0               20.0               17.0              13.0  "
      ]
     },
     "execution_count": 5,
     "metadata": {},
     "output_type": "execute_result"
    }
   ],
   "source": [
    "products.head()"
   ]
  },
  {
   "cell_type": "code",
   "execution_count": 6,
   "metadata": {},
   "outputs": [
    {
     "data": {
      "text/html": [
       "<div>\n",
       "<style scoped>\n",
       "    .dataframe tbody tr th:only-of-type {\n",
       "        vertical-align: middle;\n",
       "    }\n",
       "\n",
       "    .dataframe tbody tr th {\n",
       "        vertical-align: top;\n",
       "    }\n",
       "\n",
       "    .dataframe thead th {\n",
       "        text-align: right;\n",
       "    }\n",
       "</style>\n",
       "<table border=\"1\" class=\"dataframe\">\n",
       "  <thead>\n",
       "    <tr style=\"text-align: right;\">\n",
       "      <th></th>\n",
       "      <th>order_id</th>\n",
       "      <th>customer_id</th>\n",
       "      <th>order_status</th>\n",
       "      <th>order_purchase_timestamp</th>\n",
       "      <th>order_approved_at</th>\n",
       "      <th>order_delivered_carrier_date</th>\n",
       "      <th>order_delivered_customer_date</th>\n",
       "      <th>order_estimated_delivery_date</th>\n",
       "    </tr>\n",
       "  </thead>\n",
       "  <tbody>\n",
       "    <tr>\n",
       "      <th>0</th>\n",
       "      <td>e481f51cbdc54678b7cc49136f2d6af7</td>\n",
       "      <td>9ef432eb6251297304e76186b10a928d</td>\n",
       "      <td>delivered</td>\n",
       "      <td>2017-10-02 10:56:33</td>\n",
       "      <td>2017-10-02 11:07:15</td>\n",
       "      <td>2017-10-04 19:55:00</td>\n",
       "      <td>2017-10-10 21:25:13</td>\n",
       "      <td>2017-10-18 00:00:00</td>\n",
       "    </tr>\n",
       "    <tr>\n",
       "      <th>1</th>\n",
       "      <td>53cdb2fc8bc7dce0b6741e2150273451</td>\n",
       "      <td>b0830fb4747a6c6d20dea0b8c802d7ef</td>\n",
       "      <td>delivered</td>\n",
       "      <td>2018-07-24 20:41:37</td>\n",
       "      <td>2018-07-26 03:24:27</td>\n",
       "      <td>2018-07-26 14:31:00</td>\n",
       "      <td>2018-08-07 15:27:45</td>\n",
       "      <td>2018-08-13 00:00:00</td>\n",
       "    </tr>\n",
       "    <tr>\n",
       "      <th>2</th>\n",
       "      <td>47770eb9100c2d0c44946d9cf07ec65d</td>\n",
       "      <td>41ce2a54c0b03bf3443c3d931a367089</td>\n",
       "      <td>delivered</td>\n",
       "      <td>2018-08-08 08:38:49</td>\n",
       "      <td>2018-08-08 08:55:23</td>\n",
       "      <td>2018-08-08 13:50:00</td>\n",
       "      <td>2018-08-17 18:06:29</td>\n",
       "      <td>2018-09-04 00:00:00</td>\n",
       "    </tr>\n",
       "    <tr>\n",
       "      <th>3</th>\n",
       "      <td>949d5b44dbf5de918fe9c16f97b45f8a</td>\n",
       "      <td>f88197465ea7920adcdbec7375364d82</td>\n",
       "      <td>delivered</td>\n",
       "      <td>2017-11-18 19:28:06</td>\n",
       "      <td>2017-11-18 19:45:59</td>\n",
       "      <td>2017-11-22 13:39:59</td>\n",
       "      <td>2017-12-02 00:28:42</td>\n",
       "      <td>2017-12-15 00:00:00</td>\n",
       "    </tr>\n",
       "    <tr>\n",
       "      <th>4</th>\n",
       "      <td>ad21c59c0840e6cb83a9ceb5573f8159</td>\n",
       "      <td>8ab97904e6daea8866dbdbc4fb7aad2c</td>\n",
       "      <td>delivered</td>\n",
       "      <td>2018-02-13 21:18:39</td>\n",
       "      <td>2018-02-13 22:20:29</td>\n",
       "      <td>2018-02-14 19:46:34</td>\n",
       "      <td>2018-02-16 18:17:02</td>\n",
       "      <td>2018-02-26 00:00:00</td>\n",
       "    </tr>\n",
       "  </tbody>\n",
       "</table>\n",
       "</div>"
      ],
      "text/plain": [
       "                           order_id                       customer_id  \\\n",
       "0  e481f51cbdc54678b7cc49136f2d6af7  9ef432eb6251297304e76186b10a928d   \n",
       "1  53cdb2fc8bc7dce0b6741e2150273451  b0830fb4747a6c6d20dea0b8c802d7ef   \n",
       "2  47770eb9100c2d0c44946d9cf07ec65d  41ce2a54c0b03bf3443c3d931a367089   \n",
       "3  949d5b44dbf5de918fe9c16f97b45f8a  f88197465ea7920adcdbec7375364d82   \n",
       "4  ad21c59c0840e6cb83a9ceb5573f8159  8ab97904e6daea8866dbdbc4fb7aad2c   \n",
       "\n",
       "  order_status order_purchase_timestamp    order_approved_at  \\\n",
       "0    delivered      2017-10-02 10:56:33  2017-10-02 11:07:15   \n",
       "1    delivered      2018-07-24 20:41:37  2018-07-26 03:24:27   \n",
       "2    delivered      2018-08-08 08:38:49  2018-08-08 08:55:23   \n",
       "3    delivered      2017-11-18 19:28:06  2017-11-18 19:45:59   \n",
       "4    delivered      2018-02-13 21:18:39  2018-02-13 22:20:29   \n",
       "\n",
       "  order_delivered_carrier_date order_delivered_customer_date  \\\n",
       "0          2017-10-04 19:55:00           2017-10-10 21:25:13   \n",
       "1          2018-07-26 14:31:00           2018-08-07 15:27:45   \n",
       "2          2018-08-08 13:50:00           2018-08-17 18:06:29   \n",
       "3          2017-11-22 13:39:59           2017-12-02 00:28:42   \n",
       "4          2018-02-14 19:46:34           2018-02-16 18:17:02   \n",
       "\n",
       "  order_estimated_delivery_date  \n",
       "0           2017-10-18 00:00:00  \n",
       "1           2018-08-13 00:00:00  \n",
       "2           2018-09-04 00:00:00  \n",
       "3           2017-12-15 00:00:00  \n",
       "4           2018-02-26 00:00:00  "
      ]
     },
     "execution_count": 6,
     "metadata": {},
     "output_type": "execute_result"
    }
   ],
   "source": [
    "orders.head()"
   ]
  },
  {
   "cell_type": "code",
   "execution_count": 7,
   "metadata": {},
   "outputs": [
    {
     "data": {
      "text/html": [
       "<div>\n",
       "<style scoped>\n",
       "    .dataframe tbody tr th:only-of-type {\n",
       "        vertical-align: middle;\n",
       "    }\n",
       "\n",
       "    .dataframe tbody tr th {\n",
       "        vertical-align: top;\n",
       "    }\n",
       "\n",
       "    .dataframe thead th {\n",
       "        text-align: right;\n",
       "    }\n",
       "</style>\n",
       "<table border=\"1\" class=\"dataframe\">\n",
       "  <thead>\n",
       "    <tr style=\"text-align: right;\">\n",
       "      <th></th>\n",
       "      <th>order_id</th>\n",
       "      <th>order_item_id</th>\n",
       "      <th>product_id</th>\n",
       "      <th>seller_id</th>\n",
       "      <th>shipping_limit_date</th>\n",
       "      <th>price</th>\n",
       "      <th>freight_value</th>\n",
       "    </tr>\n",
       "  </thead>\n",
       "  <tbody>\n",
       "    <tr>\n",
       "      <th>0</th>\n",
       "      <td>00010242fe8c5a6d1ba2dd792cb16214</td>\n",
       "      <td>1</td>\n",
       "      <td>4244733e06e7ecb4970a6e2683c13e61</td>\n",
       "      <td>48436dade18ac8b2bce089ec2a041202</td>\n",
       "      <td>2017-09-19 09:45:35</td>\n",
       "      <td>58.90</td>\n",
       "      <td>13.29</td>\n",
       "    </tr>\n",
       "    <tr>\n",
       "      <th>1</th>\n",
       "      <td>00018f77f2f0320c557190d7a144bdd3</td>\n",
       "      <td>1</td>\n",
       "      <td>e5f2d52b802189ee658865ca93d83a8f</td>\n",
       "      <td>dd7ddc04e1b6c2c614352b383efe2d36</td>\n",
       "      <td>2017-05-03 11:05:13</td>\n",
       "      <td>239.90</td>\n",
       "      <td>19.93</td>\n",
       "    </tr>\n",
       "    <tr>\n",
       "      <th>2</th>\n",
       "      <td>000229ec398224ef6ca0657da4fc703e</td>\n",
       "      <td>1</td>\n",
       "      <td>c777355d18b72b67abbeef9df44fd0fd</td>\n",
       "      <td>5b51032eddd242adc84c38acab88f23d</td>\n",
       "      <td>2018-01-18 14:48:30</td>\n",
       "      <td>199.00</td>\n",
       "      <td>17.87</td>\n",
       "    </tr>\n",
       "    <tr>\n",
       "      <th>3</th>\n",
       "      <td>00024acbcdf0a6daa1e931b038114c75</td>\n",
       "      <td>1</td>\n",
       "      <td>7634da152a4610f1595efa32f14722fc</td>\n",
       "      <td>9d7a1d34a5052409006425275ba1c2b4</td>\n",
       "      <td>2018-08-15 10:10:18</td>\n",
       "      <td>12.99</td>\n",
       "      <td>12.79</td>\n",
       "    </tr>\n",
       "    <tr>\n",
       "      <th>4</th>\n",
       "      <td>00042b26cf59d7ce69dfabb4e55b4fd9</td>\n",
       "      <td>1</td>\n",
       "      <td>ac6c3623068f30de03045865e4e10089</td>\n",
       "      <td>df560393f3a51e74553ab94004ba5c87</td>\n",
       "      <td>2017-02-13 13:57:51</td>\n",
       "      <td>199.90</td>\n",
       "      <td>18.14</td>\n",
       "    </tr>\n",
       "  </tbody>\n",
       "</table>\n",
       "</div>"
      ],
      "text/plain": [
       "                           order_id  order_item_id  \\\n",
       "0  00010242fe8c5a6d1ba2dd792cb16214              1   \n",
       "1  00018f77f2f0320c557190d7a144bdd3              1   \n",
       "2  000229ec398224ef6ca0657da4fc703e              1   \n",
       "3  00024acbcdf0a6daa1e931b038114c75              1   \n",
       "4  00042b26cf59d7ce69dfabb4e55b4fd9              1   \n",
       "\n",
       "                         product_id                         seller_id  \\\n",
       "0  4244733e06e7ecb4970a6e2683c13e61  48436dade18ac8b2bce089ec2a041202   \n",
       "1  e5f2d52b802189ee658865ca93d83a8f  dd7ddc04e1b6c2c614352b383efe2d36   \n",
       "2  c777355d18b72b67abbeef9df44fd0fd  5b51032eddd242adc84c38acab88f23d   \n",
       "3  7634da152a4610f1595efa32f14722fc  9d7a1d34a5052409006425275ba1c2b4   \n",
       "4  ac6c3623068f30de03045865e4e10089  df560393f3a51e74553ab94004ba5c87   \n",
       "\n",
       "   shipping_limit_date   price  freight_value  \n",
       "0  2017-09-19 09:45:35   58.90          13.29  \n",
       "1  2017-05-03 11:05:13  239.90          19.93  \n",
       "2  2018-01-18 14:48:30  199.00          17.87  \n",
       "3  2018-08-15 10:10:18   12.99          12.79  \n",
       "4  2017-02-13 13:57:51  199.90          18.14  "
      ]
     },
     "execution_count": 7,
     "metadata": {},
     "output_type": "execute_result"
    }
   ],
   "source": [
    "order_items.head()"
   ]
  },
  {
   "cell_type": "code",
   "execution_count": 8,
   "metadata": {},
   "outputs": [
    {
     "data": {
      "text/html": [
       "<div>\n",
       "<style scoped>\n",
       "    .dataframe tbody tr th:only-of-type {\n",
       "        vertical-align: middle;\n",
       "    }\n",
       "\n",
       "    .dataframe tbody tr th {\n",
       "        vertical-align: top;\n",
       "    }\n",
       "\n",
       "    .dataframe thead th {\n",
       "        text-align: right;\n",
       "    }\n",
       "</style>\n",
       "<table border=\"1\" class=\"dataframe\">\n",
       "  <thead>\n",
       "    <tr style=\"text-align: right;\">\n",
       "      <th></th>\n",
       "      <th>order_id</th>\n",
       "      <th>payment_sequential</th>\n",
       "      <th>payment_type</th>\n",
       "      <th>payment_installments</th>\n",
       "      <th>payment_value</th>\n",
       "    </tr>\n",
       "  </thead>\n",
       "  <tbody>\n",
       "    <tr>\n",
       "      <th>0</th>\n",
       "      <td>b81ef226f3fe1789b1e8b2acac839d17</td>\n",
       "      <td>1</td>\n",
       "      <td>credit_card</td>\n",
       "      <td>8</td>\n",
       "      <td>99.33</td>\n",
       "    </tr>\n",
       "    <tr>\n",
       "      <th>1</th>\n",
       "      <td>a9810da82917af2d9aefd1278f1dcfa0</td>\n",
       "      <td>1</td>\n",
       "      <td>credit_card</td>\n",
       "      <td>1</td>\n",
       "      <td>24.39</td>\n",
       "    </tr>\n",
       "    <tr>\n",
       "      <th>2</th>\n",
       "      <td>25e8ea4e93396b6fa0d3dd708e76c1bd</td>\n",
       "      <td>1</td>\n",
       "      <td>credit_card</td>\n",
       "      <td>1</td>\n",
       "      <td>65.71</td>\n",
       "    </tr>\n",
       "    <tr>\n",
       "      <th>3</th>\n",
       "      <td>ba78997921bbcdc1373bb41e913ab953</td>\n",
       "      <td>1</td>\n",
       "      <td>credit_card</td>\n",
       "      <td>8</td>\n",
       "      <td>107.78</td>\n",
       "    </tr>\n",
       "    <tr>\n",
       "      <th>4</th>\n",
       "      <td>42fdf880ba16b47b59251dd489d4441a</td>\n",
       "      <td>1</td>\n",
       "      <td>credit_card</td>\n",
       "      <td>2</td>\n",
       "      <td>128.45</td>\n",
       "    </tr>\n",
       "  </tbody>\n",
       "</table>\n",
       "</div>"
      ],
      "text/plain": [
       "                           order_id  payment_sequential payment_type  \\\n",
       "0  b81ef226f3fe1789b1e8b2acac839d17                   1  credit_card   \n",
       "1  a9810da82917af2d9aefd1278f1dcfa0                   1  credit_card   \n",
       "2  25e8ea4e93396b6fa0d3dd708e76c1bd                   1  credit_card   \n",
       "3  ba78997921bbcdc1373bb41e913ab953                   1  credit_card   \n",
       "4  42fdf880ba16b47b59251dd489d4441a                   1  credit_card   \n",
       "\n",
       "   payment_installments  payment_value  \n",
       "0                     8          99.33  \n",
       "1                     1          24.39  \n",
       "2                     1          65.71  \n",
       "3                     8         107.78  \n",
       "4                     2         128.45  "
      ]
     },
     "execution_count": 8,
     "metadata": {},
     "output_type": "execute_result"
    }
   ],
   "source": [
    "order_payments.head()"
   ]
  },
  {
   "cell_type": "code",
   "execution_count": 9,
   "metadata": {
    "scrolled": true
   },
   "outputs": [
    {
     "data": {
      "text/html": [
       "<div>\n",
       "<style scoped>\n",
       "    .dataframe tbody tr th:only-of-type {\n",
       "        vertical-align: middle;\n",
       "    }\n",
       "\n",
       "    .dataframe tbody tr th {\n",
       "        vertical-align: top;\n",
       "    }\n",
       "\n",
       "    .dataframe thead th {\n",
       "        text-align: right;\n",
       "    }\n",
       "</style>\n",
       "<table border=\"1\" class=\"dataframe\">\n",
       "  <thead>\n",
       "    <tr style=\"text-align: right;\">\n",
       "      <th></th>\n",
       "      <th>product_category_name</th>\n",
       "      <th>product_category_name_english</th>\n",
       "    </tr>\n",
       "  </thead>\n",
       "  <tbody>\n",
       "    <tr>\n",
       "      <th>0</th>\n",
       "      <td>beleza_saude</td>\n",
       "      <td>health_beauty</td>\n",
       "    </tr>\n",
       "    <tr>\n",
       "      <th>1</th>\n",
       "      <td>informatica_acessorios</td>\n",
       "      <td>computers_accessories</td>\n",
       "    </tr>\n",
       "    <tr>\n",
       "      <th>2</th>\n",
       "      <td>automotivo</td>\n",
       "      <td>auto</td>\n",
       "    </tr>\n",
       "    <tr>\n",
       "      <th>3</th>\n",
       "      <td>cama_mesa_banho</td>\n",
       "      <td>bed_bath_table</td>\n",
       "    </tr>\n",
       "    <tr>\n",
       "      <th>4</th>\n",
       "      <td>moveis_decoracao</td>\n",
       "      <td>furniture_decor</td>\n",
       "    </tr>\n",
       "  </tbody>\n",
       "</table>\n",
       "</div>"
      ],
      "text/plain": [
       "    product_category_name product_category_name_english\n",
       "0            beleza_saude                 health_beauty\n",
       "1  informatica_acessorios         computers_accessories\n",
       "2              automotivo                          auto\n",
       "3         cama_mesa_banho                bed_bath_table\n",
       "4        moveis_decoracao               furniture_decor"
      ]
     },
     "execution_count": 9,
     "metadata": {},
     "output_type": "execute_result"
    }
   ],
   "source": [
    "product_category_name_translation.head()"
   ]
  },
  {
   "cell_type": "code",
   "execution_count": 10,
   "metadata": {},
   "outputs": [
    {
     "data": {
      "text/html": [
       "<div>\n",
       "<style scoped>\n",
       "    .dataframe tbody tr th:only-of-type {\n",
       "        vertical-align: middle;\n",
       "    }\n",
       "\n",
       "    .dataframe tbody tr th {\n",
       "        vertical-align: top;\n",
       "    }\n",
       "\n",
       "    .dataframe thead th {\n",
       "        text-align: right;\n",
       "    }\n",
       "</style>\n",
       "<table border=\"1\" class=\"dataframe\">\n",
       "  <thead>\n",
       "    <tr style=\"text-align: right;\">\n",
       "      <th></th>\n",
       "      <th>geolocation_zip_code_prefix</th>\n",
       "      <th>geolocation_lat</th>\n",
       "      <th>geolocation_lng</th>\n",
       "      <th>geolocation_city</th>\n",
       "      <th>geolocation_state</th>\n",
       "    </tr>\n",
       "  </thead>\n",
       "  <tbody>\n",
       "    <tr>\n",
       "      <th>0</th>\n",
       "      <td>1037</td>\n",
       "      <td>-23.545621</td>\n",
       "      <td>-46.639292</td>\n",
       "      <td>sao paulo</td>\n",
       "      <td>SP</td>\n",
       "    </tr>\n",
       "    <tr>\n",
       "      <th>1</th>\n",
       "      <td>1046</td>\n",
       "      <td>-23.546081</td>\n",
       "      <td>-46.644820</td>\n",
       "      <td>sao paulo</td>\n",
       "      <td>SP</td>\n",
       "    </tr>\n",
       "    <tr>\n",
       "      <th>2</th>\n",
       "      <td>1046</td>\n",
       "      <td>-23.546129</td>\n",
       "      <td>-46.642951</td>\n",
       "      <td>sao paulo</td>\n",
       "      <td>SP</td>\n",
       "    </tr>\n",
       "    <tr>\n",
       "      <th>3</th>\n",
       "      <td>1041</td>\n",
       "      <td>-23.544392</td>\n",
       "      <td>-46.639499</td>\n",
       "      <td>sao paulo</td>\n",
       "      <td>SP</td>\n",
       "    </tr>\n",
       "    <tr>\n",
       "      <th>4</th>\n",
       "      <td>1035</td>\n",
       "      <td>-23.541578</td>\n",
       "      <td>-46.641607</td>\n",
       "      <td>sao paulo</td>\n",
       "      <td>SP</td>\n",
       "    </tr>\n",
       "  </tbody>\n",
       "</table>\n",
       "</div>"
      ],
      "text/plain": [
       "   geolocation_zip_code_prefix  geolocation_lat  geolocation_lng  \\\n",
       "0                         1037       -23.545621       -46.639292   \n",
       "1                         1046       -23.546081       -46.644820   \n",
       "2                         1046       -23.546129       -46.642951   \n",
       "3                         1041       -23.544392       -46.639499   \n",
       "4                         1035       -23.541578       -46.641607   \n",
       "\n",
       "  geolocation_city geolocation_state  \n",
       "0        sao paulo                SP  \n",
       "1        sao paulo                SP  \n",
       "2        sao paulo                SP  \n",
       "3        sao paulo                SP  \n",
       "4        sao paulo                SP  "
      ]
     },
     "execution_count": 10,
     "metadata": {},
     "output_type": "execute_result"
    }
   ],
   "source": [
    "geolocation.head()"
   ]
  },
  {
   "cell_type": "code",
   "execution_count": 11,
   "metadata": {},
   "outputs": [
    {
     "name": "stdout",
     "output_type": "stream",
     "text": [
      "<class 'pandas.core.frame.DataFrame'>\n",
      "RangeIndex: 99441 entries, 0 to 99440\n",
      "Data columns (total 5 columns):\n",
      " #   Column                    Non-Null Count  Dtype \n",
      "---  ------                    --------------  ----- \n",
      " 0   customer_id               99441 non-null  object\n",
      " 1   customer_unique_id        99441 non-null  object\n",
      " 2   customer_zip_code_prefix  99441 non-null  int64 \n",
      " 3   customer_city             99441 non-null  object\n",
      " 4   customer_state            99441 non-null  object\n",
      "dtypes: int64(1), object(4)\n",
      "memory usage: 3.8+ MB\n",
      "(99441, 5) \n",
      " None \n",
      "\n",
      "<class 'pandas.core.frame.DataFrame'>\n",
      "RangeIndex: 3095 entries, 0 to 3094\n",
      "Data columns (total 4 columns):\n",
      " #   Column                  Non-Null Count  Dtype \n",
      "---  ------                  --------------  ----- \n",
      " 0   seller_id               3095 non-null   object\n",
      " 1   seller_zip_code_prefix  3095 non-null   int64 \n",
      " 2   seller_city             3095 non-null   object\n",
      " 3   seller_state            3095 non-null   object\n",
      "dtypes: int64(1), object(3)\n",
      "memory usage: 96.8+ KB\n",
      "(3095, 4) \n",
      " None \n",
      "\n",
      "<class 'pandas.core.frame.DataFrame'>\n",
      "RangeIndex: 32951 entries, 0 to 32950\n",
      "Data columns (total 9 columns):\n",
      " #   Column                      Non-Null Count  Dtype  \n",
      "---  ------                      --------------  -----  \n",
      " 0   product_id                  32951 non-null  object \n",
      " 1   product_category_name       32341 non-null  object \n",
      " 2   product_name_lenght         32341 non-null  float64\n",
      " 3   product_description_lenght  32341 non-null  float64\n",
      " 4   product_photos_qty          32341 non-null  float64\n",
      " 5   product_weight_g            32949 non-null  float64\n",
      " 6   product_length_cm           32949 non-null  float64\n",
      " 7   product_height_cm           32949 non-null  float64\n",
      " 8   product_width_cm            32949 non-null  float64\n",
      "dtypes: float64(7), object(2)\n",
      "memory usage: 2.3+ MB\n",
      "(32951, 9) \n",
      " None \n",
      "\n",
      "<class 'pandas.core.frame.DataFrame'>\n",
      "RangeIndex: 99441 entries, 0 to 99440\n",
      "Data columns (total 8 columns):\n",
      " #   Column                         Non-Null Count  Dtype \n",
      "---  ------                         --------------  ----- \n",
      " 0   order_id                       99441 non-null  object\n",
      " 1   customer_id                    99441 non-null  object\n",
      " 2   order_status                   99441 non-null  object\n",
      " 3   order_purchase_timestamp       99441 non-null  object\n",
      " 4   order_approved_at              99281 non-null  object\n",
      " 5   order_delivered_carrier_date   97658 non-null  object\n",
      " 6   order_delivered_customer_date  96476 non-null  object\n",
      " 7   order_estimated_delivery_date  99441 non-null  object\n",
      "dtypes: object(8)\n",
      "memory usage: 6.1+ MB\n",
      "(99441, 8) \n",
      " None \n",
      "\n",
      "<class 'pandas.core.frame.DataFrame'>\n",
      "RangeIndex: 112650 entries, 0 to 112649\n",
      "Data columns (total 7 columns):\n",
      " #   Column               Non-Null Count   Dtype  \n",
      "---  ------               --------------   -----  \n",
      " 0   order_id             112650 non-null  object \n",
      " 1   order_item_id        112650 non-null  int64  \n",
      " 2   product_id           112650 non-null  object \n",
      " 3   seller_id            112650 non-null  object \n",
      " 4   shipping_limit_date  112650 non-null  object \n",
      " 5   price                112650 non-null  float64\n",
      " 6   freight_value        112650 non-null  float64\n",
      "dtypes: float64(2), int64(1), object(4)\n",
      "memory usage: 6.0+ MB\n",
      "(112650, 7) \n",
      " None \n",
      "\n",
      "<class 'pandas.core.frame.DataFrame'>\n",
      "RangeIndex: 103886 entries, 0 to 103885\n",
      "Data columns (total 5 columns):\n",
      " #   Column                Non-Null Count   Dtype  \n",
      "---  ------                --------------   -----  \n",
      " 0   order_id              103886 non-null  object \n",
      " 1   payment_sequential    103886 non-null  int64  \n",
      " 2   payment_type          103886 non-null  object \n",
      " 3   payment_installments  103886 non-null  int64  \n",
      " 4   payment_value         103886 non-null  float64\n",
      "dtypes: float64(1), int64(2), object(2)\n",
      "memory usage: 4.0+ MB\n",
      "(103886, 5) \n",
      " None \n",
      "\n",
      "<class 'pandas.core.frame.DataFrame'>\n",
      "RangeIndex: 1000163 entries, 0 to 1000162\n",
      "Data columns (total 5 columns):\n",
      " #   Column                       Non-Null Count    Dtype  \n",
      "---  ------                       --------------    -----  \n",
      " 0   geolocation_zip_code_prefix  1000163 non-null  int64  \n",
      " 1   geolocation_lat              1000163 non-null  float64\n",
      " 2   geolocation_lng              1000163 non-null  float64\n",
      " 3   geolocation_city             1000163 non-null  object \n",
      " 4   geolocation_state            1000163 non-null  object \n",
      "dtypes: float64(2), int64(1), object(2)\n",
      "memory usage: 38.2+ MB\n",
      "(1000163, 5) \n",
      " None \n",
      "\n",
      "<class 'pandas.core.frame.DataFrame'>\n",
      "RangeIndex: 71 entries, 0 to 70\n",
      "Data columns (total 2 columns):\n",
      " #   Column                         Non-Null Count  Dtype \n",
      "---  ------                         --------------  ----- \n",
      " 0   product_category_name          71 non-null     object\n",
      " 1   product_category_name_english  71 non-null     object\n",
      "dtypes: object(2)\n",
      "memory usage: 1.2+ KB\n",
      "(71, 2) \n",
      " None \n",
      "\n"
     ]
    }
   ],
   "source": [
    "# print the basic information of each datasets\n",
    "datasets = {'customers':customers,'sellers':sellers,'products':products,'orders':orders,\n",
    "            'order_items':order_items,'order_payments':order_payments,'geolocation':geolocation,\n",
    "            'product_category_name_translation':product_category_name_translation}\n",
    "\n",
    "for dataset in datasets.keys():\n",
    "    print(datasets[dataset].shape,'\\n',datasets[dataset].info(),'\\n')"
   ]
  },
  {
   "cell_type": "code",
   "execution_count": 12,
   "metadata": {},
   "outputs": [],
   "source": [
    "# firstly we need english name of product category instead of original name\n",
    "products_data = pd.merge(products, product_category_name_translation, on='product_category_name', how='left')\n",
    "\n",
    "# Delete 'product_category_name' column and rename the column\n",
    "del products_data['product_category_name']\n",
    "\n",
    "products_data.rename(columns={'product_category_name_english': 'product_category'}, inplace=True)"
   ]
  },
  {
   "cell_type": "code",
   "execution_count": 13,
   "metadata": {},
   "outputs": [
    {
     "data": {
      "text/html": [
       "<div>\n",
       "<style scoped>\n",
       "    .dataframe tbody tr th:only-of-type {\n",
       "        vertical-align: middle;\n",
       "    }\n",
       "\n",
       "    .dataframe tbody tr th {\n",
       "        vertical-align: top;\n",
       "    }\n",
       "\n",
       "    .dataframe thead th {\n",
       "        text-align: right;\n",
       "    }\n",
       "</style>\n",
       "<table border=\"1\" class=\"dataframe\">\n",
       "  <thead>\n",
       "    <tr style=\"text-align: right;\">\n",
       "      <th></th>\n",
       "      <th>product_id</th>\n",
       "      <th>product_name_lenght</th>\n",
       "      <th>product_description_lenght</th>\n",
       "      <th>product_photos_qty</th>\n",
       "      <th>product_weight_g</th>\n",
       "      <th>product_length_cm</th>\n",
       "      <th>product_height_cm</th>\n",
       "      <th>product_width_cm</th>\n",
       "      <th>product_category</th>\n",
       "    </tr>\n",
       "  </thead>\n",
       "  <tbody>\n",
       "    <tr>\n",
       "      <th>0</th>\n",
       "      <td>1e9e8ef04dbcff4541ed26657ea517e5</td>\n",
       "      <td>40.0</td>\n",
       "      <td>287.0</td>\n",
       "      <td>1.0</td>\n",
       "      <td>225.0</td>\n",
       "      <td>16.0</td>\n",
       "      <td>10.0</td>\n",
       "      <td>14.0</td>\n",
       "      <td>perfumery</td>\n",
       "    </tr>\n",
       "    <tr>\n",
       "      <th>1</th>\n",
       "      <td>3aa071139cb16b67ca9e5dea641aaa2f</td>\n",
       "      <td>44.0</td>\n",
       "      <td>276.0</td>\n",
       "      <td>1.0</td>\n",
       "      <td>1000.0</td>\n",
       "      <td>30.0</td>\n",
       "      <td>18.0</td>\n",
       "      <td>20.0</td>\n",
       "      <td>art</td>\n",
       "    </tr>\n",
       "    <tr>\n",
       "      <th>2</th>\n",
       "      <td>96bd76ec8810374ed1b65e291975717f</td>\n",
       "      <td>46.0</td>\n",
       "      <td>250.0</td>\n",
       "      <td>1.0</td>\n",
       "      <td>154.0</td>\n",
       "      <td>18.0</td>\n",
       "      <td>9.0</td>\n",
       "      <td>15.0</td>\n",
       "      <td>sports_leisure</td>\n",
       "    </tr>\n",
       "    <tr>\n",
       "      <th>3</th>\n",
       "      <td>cef67bcfe19066a932b7673e239eb23d</td>\n",
       "      <td>27.0</td>\n",
       "      <td>261.0</td>\n",
       "      <td>1.0</td>\n",
       "      <td>371.0</td>\n",
       "      <td>26.0</td>\n",
       "      <td>4.0</td>\n",
       "      <td>26.0</td>\n",
       "      <td>baby</td>\n",
       "    </tr>\n",
       "    <tr>\n",
       "      <th>4</th>\n",
       "      <td>9dc1a7de274444849c219cff195d0b71</td>\n",
       "      <td>37.0</td>\n",
       "      <td>402.0</td>\n",
       "      <td>4.0</td>\n",
       "      <td>625.0</td>\n",
       "      <td>20.0</td>\n",
       "      <td>17.0</td>\n",
       "      <td>13.0</td>\n",
       "      <td>housewares</td>\n",
       "    </tr>\n",
       "  </tbody>\n",
       "</table>\n",
       "</div>"
      ],
      "text/plain": [
       "                         product_id  product_name_lenght  \\\n",
       "0  1e9e8ef04dbcff4541ed26657ea517e5                 40.0   \n",
       "1  3aa071139cb16b67ca9e5dea641aaa2f                 44.0   \n",
       "2  96bd76ec8810374ed1b65e291975717f                 46.0   \n",
       "3  cef67bcfe19066a932b7673e239eb23d                 27.0   \n",
       "4  9dc1a7de274444849c219cff195d0b71                 37.0   \n",
       "\n",
       "   product_description_lenght  product_photos_qty  product_weight_g  \\\n",
       "0                       287.0                 1.0             225.0   \n",
       "1                       276.0                 1.0            1000.0   \n",
       "2                       250.0                 1.0             154.0   \n",
       "3                       261.0                 1.0             371.0   \n",
       "4                       402.0                 4.0             625.0   \n",
       "\n",
       "   product_length_cm  product_height_cm  product_width_cm product_category  \n",
       "0               16.0               10.0              14.0        perfumery  \n",
       "1               30.0               18.0              20.0              art  \n",
       "2               18.0                9.0              15.0   sports_leisure  \n",
       "3               26.0                4.0              26.0             baby  \n",
       "4               20.0               17.0              13.0       housewares  "
      ]
     },
     "execution_count": 13,
     "metadata": {},
     "output_type": "execute_result"
    }
   ],
   "source": [
    "products_data.head()"
   ]
  },
  {
   "cell_type": "code",
   "execution_count": 14,
   "metadata": {},
   "outputs": [
    {
     "data": {
      "text/html": [
       "<div>\n",
       "<style scoped>\n",
       "    .dataframe tbody tr th:only-of-type {\n",
       "        vertical-align: middle;\n",
       "    }\n",
       "\n",
       "    .dataframe tbody tr th {\n",
       "        vertical-align: top;\n",
       "    }\n",
       "\n",
       "    .dataframe thead th {\n",
       "        text-align: right;\n",
       "    }\n",
       "</style>\n",
       "<table border=\"1\" class=\"dataframe\">\n",
       "  <thead>\n",
       "    <tr style=\"text-align: right;\">\n",
       "      <th></th>\n",
       "      <th>order_id</th>\n",
       "      <th>customer_id</th>\n",
       "      <th>order_status</th>\n",
       "      <th>order_purchase_timestamp</th>\n",
       "      <th>order_approved_at</th>\n",
       "      <th>order_delivered_carrier_date</th>\n",
       "      <th>order_delivered_customer_date</th>\n",
       "      <th>order_estimated_delivery_date</th>\n",
       "      <th>customer_unique_id</th>\n",
       "      <th>customer_zip_code_prefix</th>\n",
       "      <th>...</th>\n",
       "      <th>product_description_lenght</th>\n",
       "      <th>product_photos_qty</th>\n",
       "      <th>product_weight_g</th>\n",
       "      <th>product_length_cm</th>\n",
       "      <th>product_height_cm</th>\n",
       "      <th>product_width_cm</th>\n",
       "      <th>product_category</th>\n",
       "      <th>seller_zip_code_prefix</th>\n",
       "      <th>seller_city</th>\n",
       "      <th>seller_state</th>\n",
       "    </tr>\n",
       "  </thead>\n",
       "  <tbody>\n",
       "    <tr>\n",
       "      <th>0</th>\n",
       "      <td>e481f51cbdc54678b7cc49136f2d6af7</td>\n",
       "      <td>9ef432eb6251297304e76186b10a928d</td>\n",
       "      <td>delivered</td>\n",
       "      <td>2017-10-02 10:56:33</td>\n",
       "      <td>2017-10-02 11:07:15</td>\n",
       "      <td>2017-10-04 19:55:00</td>\n",
       "      <td>2017-10-10 21:25:13</td>\n",
       "      <td>2017-10-18 00:00:00</td>\n",
       "      <td>7c396fd4830fd04220f754e42b4e5bff</td>\n",
       "      <td>3149</td>\n",
       "      <td>...</td>\n",
       "      <td>268.0</td>\n",
       "      <td>4.0</td>\n",
       "      <td>500.0</td>\n",
       "      <td>19.0</td>\n",
       "      <td>8.0</td>\n",
       "      <td>13.0</td>\n",
       "      <td>housewares</td>\n",
       "      <td>9350</td>\n",
       "      <td>maua</td>\n",
       "      <td>SP</td>\n",
       "    </tr>\n",
       "    <tr>\n",
       "      <th>1</th>\n",
       "      <td>e481f51cbdc54678b7cc49136f2d6af7</td>\n",
       "      <td>9ef432eb6251297304e76186b10a928d</td>\n",
       "      <td>delivered</td>\n",
       "      <td>2017-10-02 10:56:33</td>\n",
       "      <td>2017-10-02 11:07:15</td>\n",
       "      <td>2017-10-04 19:55:00</td>\n",
       "      <td>2017-10-10 21:25:13</td>\n",
       "      <td>2017-10-18 00:00:00</td>\n",
       "      <td>7c396fd4830fd04220f754e42b4e5bff</td>\n",
       "      <td>3149</td>\n",
       "      <td>...</td>\n",
       "      <td>268.0</td>\n",
       "      <td>4.0</td>\n",
       "      <td>500.0</td>\n",
       "      <td>19.0</td>\n",
       "      <td>8.0</td>\n",
       "      <td>13.0</td>\n",
       "      <td>housewares</td>\n",
       "      <td>9350</td>\n",
       "      <td>maua</td>\n",
       "      <td>SP</td>\n",
       "    </tr>\n",
       "    <tr>\n",
       "      <th>2</th>\n",
       "      <td>e481f51cbdc54678b7cc49136f2d6af7</td>\n",
       "      <td>9ef432eb6251297304e76186b10a928d</td>\n",
       "      <td>delivered</td>\n",
       "      <td>2017-10-02 10:56:33</td>\n",
       "      <td>2017-10-02 11:07:15</td>\n",
       "      <td>2017-10-04 19:55:00</td>\n",
       "      <td>2017-10-10 21:25:13</td>\n",
       "      <td>2017-10-18 00:00:00</td>\n",
       "      <td>7c396fd4830fd04220f754e42b4e5bff</td>\n",
       "      <td>3149</td>\n",
       "      <td>...</td>\n",
       "      <td>268.0</td>\n",
       "      <td>4.0</td>\n",
       "      <td>500.0</td>\n",
       "      <td>19.0</td>\n",
       "      <td>8.0</td>\n",
       "      <td>13.0</td>\n",
       "      <td>housewares</td>\n",
       "      <td>9350</td>\n",
       "      <td>maua</td>\n",
       "      <td>SP</td>\n",
       "    </tr>\n",
       "    <tr>\n",
       "      <th>3</th>\n",
       "      <td>128e10d95713541c87cd1a2e48201934</td>\n",
       "      <td>a20e8105f23924cd00833fd87daa0831</td>\n",
       "      <td>delivered</td>\n",
       "      <td>2017-08-15 18:29:31</td>\n",
       "      <td>2017-08-15 20:05:16</td>\n",
       "      <td>2017-08-17 15:28:33</td>\n",
       "      <td>2017-08-18 14:44:43</td>\n",
       "      <td>2017-08-28 00:00:00</td>\n",
       "      <td>3a51803cc0d012c3b5dc8b7528cb05f7</td>\n",
       "      <td>3366</td>\n",
       "      <td>...</td>\n",
       "      <td>268.0</td>\n",
       "      <td>4.0</td>\n",
       "      <td>500.0</td>\n",
       "      <td>19.0</td>\n",
       "      <td>8.0</td>\n",
       "      <td>13.0</td>\n",
       "      <td>housewares</td>\n",
       "      <td>9350</td>\n",
       "      <td>maua</td>\n",
       "      <td>SP</td>\n",
       "    </tr>\n",
       "    <tr>\n",
       "      <th>4</th>\n",
       "      <td>0e7e841ddf8f8f2de2bad69267ecfbcf</td>\n",
       "      <td>26c7ac168e1433912a51b924fbd34d34</td>\n",
       "      <td>delivered</td>\n",
       "      <td>2017-08-02 18:24:47</td>\n",
       "      <td>2017-08-02 18:43:15</td>\n",
       "      <td>2017-08-04 17:35:43</td>\n",
       "      <td>2017-08-07 18:30:01</td>\n",
       "      <td>2017-08-15 00:00:00</td>\n",
       "      <td>ef0996a1a279c26e7ecbd737be23d235</td>\n",
       "      <td>2290</td>\n",
       "      <td>...</td>\n",
       "      <td>268.0</td>\n",
       "      <td>4.0</td>\n",
       "      <td>500.0</td>\n",
       "      <td>19.0</td>\n",
       "      <td>8.0</td>\n",
       "      <td>13.0</td>\n",
       "      <td>housewares</td>\n",
       "      <td>9350</td>\n",
       "      <td>maua</td>\n",
       "      <td>SP</td>\n",
       "    </tr>\n",
       "  </tbody>\n",
       "</table>\n",
       "<p>5 rows × 33 columns</p>\n",
       "</div>"
      ],
      "text/plain": [
       "                           order_id                       customer_id  \\\n",
       "0  e481f51cbdc54678b7cc49136f2d6af7  9ef432eb6251297304e76186b10a928d   \n",
       "1  e481f51cbdc54678b7cc49136f2d6af7  9ef432eb6251297304e76186b10a928d   \n",
       "2  e481f51cbdc54678b7cc49136f2d6af7  9ef432eb6251297304e76186b10a928d   \n",
       "3  128e10d95713541c87cd1a2e48201934  a20e8105f23924cd00833fd87daa0831   \n",
       "4  0e7e841ddf8f8f2de2bad69267ecfbcf  26c7ac168e1433912a51b924fbd34d34   \n",
       "\n",
       "  order_status order_purchase_timestamp    order_approved_at  \\\n",
       "0    delivered      2017-10-02 10:56:33  2017-10-02 11:07:15   \n",
       "1    delivered      2017-10-02 10:56:33  2017-10-02 11:07:15   \n",
       "2    delivered      2017-10-02 10:56:33  2017-10-02 11:07:15   \n",
       "3    delivered      2017-08-15 18:29:31  2017-08-15 20:05:16   \n",
       "4    delivered      2017-08-02 18:24:47  2017-08-02 18:43:15   \n",
       "\n",
       "  order_delivered_carrier_date order_delivered_customer_date  \\\n",
       "0          2017-10-04 19:55:00           2017-10-10 21:25:13   \n",
       "1          2017-10-04 19:55:00           2017-10-10 21:25:13   \n",
       "2          2017-10-04 19:55:00           2017-10-10 21:25:13   \n",
       "3          2017-08-17 15:28:33           2017-08-18 14:44:43   \n",
       "4          2017-08-04 17:35:43           2017-08-07 18:30:01   \n",
       "\n",
       "  order_estimated_delivery_date                customer_unique_id  \\\n",
       "0           2017-10-18 00:00:00  7c396fd4830fd04220f754e42b4e5bff   \n",
       "1           2017-10-18 00:00:00  7c396fd4830fd04220f754e42b4e5bff   \n",
       "2           2017-10-18 00:00:00  7c396fd4830fd04220f754e42b4e5bff   \n",
       "3           2017-08-28 00:00:00  3a51803cc0d012c3b5dc8b7528cb05f7   \n",
       "4           2017-08-15 00:00:00  ef0996a1a279c26e7ecbd737be23d235   \n",
       "\n",
       "   customer_zip_code_prefix  ... product_description_lenght  \\\n",
       "0                      3149  ...                      268.0   \n",
       "1                      3149  ...                      268.0   \n",
       "2                      3149  ...                      268.0   \n",
       "3                      3366  ...                      268.0   \n",
       "4                      2290  ...                      268.0   \n",
       "\n",
       "  product_photos_qty  product_weight_g product_length_cm product_height_cm  \\\n",
       "0                4.0             500.0              19.0               8.0   \n",
       "1                4.0             500.0              19.0               8.0   \n",
       "2                4.0             500.0              19.0               8.0   \n",
       "3                4.0             500.0              19.0               8.0   \n",
       "4                4.0             500.0              19.0               8.0   \n",
       "\n",
       "  product_width_cm  product_category  seller_zip_code_prefix  seller_city  \\\n",
       "0             13.0        housewares                    9350         maua   \n",
       "1             13.0        housewares                    9350         maua   \n",
       "2             13.0        housewares                    9350         maua   \n",
       "3             13.0        housewares                    9350         maua   \n",
       "4             13.0        housewares                    9350         maua   \n",
       "\n",
       "  seller_state  \n",
       "0           SP  \n",
       "1           SP  \n",
       "2           SP  \n",
       "3           SP  \n",
       "4           SP  \n",
       "\n",
       "[5 rows x 33 columns]"
      ]
     },
     "execution_count": 14,
     "metadata": {},
     "output_type": "execute_result"
    }
   ],
   "source": [
    "# merge all dataframes into one\n",
    "data = pd.merge(orders, customers, on='customer_id')\n",
    "data = data.merge(order_items, on='order_id')\n",
    "data = data.merge(order_payments, on='order_id')\n",
    "data = data.merge(products_data, on='product_id')\n",
    "data = data.merge(sellers, on='seller_id')\n",
    "\n",
    "data.head()"
   ]
  },
  {
   "cell_type": "code",
   "execution_count": 15,
   "metadata": {},
   "outputs": [
    {
     "data": {
      "text/plain": [
       "Index(['order_id', 'customer_id', 'order_status', 'order_purchase_timestamp',\n",
       "       'order_approved_at', 'order_delivered_carrier_date',\n",
       "       'order_delivered_customer_date', 'order_estimated_delivery_date',\n",
       "       'customer_unique_id', 'customer_zip_code_prefix', 'customer_city',\n",
       "       'customer_state', 'order_item_id', 'product_id', 'seller_id',\n",
       "       'shipping_limit_date', 'price', 'freight_value', 'payment_sequential',\n",
       "       'payment_type', 'payment_installments', 'payment_value',\n",
       "       'product_name_lenght', 'product_description_lenght',\n",
       "       'product_photos_qty', 'product_weight_g', 'product_length_cm',\n",
       "       'product_height_cm', 'product_width_cm', 'product_category',\n",
       "       'seller_zip_code_prefix', 'seller_city', 'seller_state'],\n",
       "      dtype='object')"
      ]
     },
     "execution_count": 15,
     "metadata": {},
     "output_type": "execute_result"
    }
   ],
   "source": [
    "# check the columns it contains\n",
    "data.columns"
   ]
  },
  {
   "cell_type": "code",
   "execution_count": 16,
   "metadata": {},
   "outputs": [
    {
     "name": "stdout",
     "output_type": "stream",
     "text": [
      "<class 'pandas.core.frame.DataFrame'>\n",
      "Int64Index: 117601 entries, 0 to 117600\n",
      "Data columns (total 33 columns):\n",
      " #   Column                         Non-Null Count   Dtype  \n",
      "---  ------                         --------------   -----  \n",
      " 0   order_id                       117601 non-null  object \n",
      " 1   customer_id                    117601 non-null  object \n",
      " 2   order_status                   117601 non-null  object \n",
      " 3   order_purchase_timestamp       117601 non-null  object \n",
      " 4   order_approved_at              117586 non-null  object \n",
      " 5   order_delivered_carrier_date   116356 non-null  object \n",
      " 6   order_delivered_customer_date  115034 non-null  object \n",
      " 7   order_estimated_delivery_date  117601 non-null  object \n",
      " 8   customer_unique_id             117601 non-null  object \n",
      " 9   customer_zip_code_prefix       117601 non-null  int64  \n",
      " 10  customer_city                  117601 non-null  object \n",
      " 11  customer_state                 117601 non-null  object \n",
      " 12  order_item_id                  117601 non-null  int64  \n",
      " 13  product_id                     117601 non-null  object \n",
      " 14  seller_id                      117601 non-null  object \n",
      " 15  shipping_limit_date            117601 non-null  object \n",
      " 16  price                          117601 non-null  float64\n",
      " 17  freight_value                  117601 non-null  float64\n",
      " 18  payment_sequential             117601 non-null  int64  \n",
      " 19  payment_type                   117601 non-null  object \n",
      " 20  payment_installments           117601 non-null  int64  \n",
      " 21  payment_value                  117601 non-null  float64\n",
      " 22  product_name_lenght            115903 non-null  float64\n",
      " 23  product_description_lenght     115903 non-null  float64\n",
      " 24  product_photos_qty             115903 non-null  float64\n",
      " 25  product_weight_g               117581 non-null  float64\n",
      " 26  product_length_cm              117581 non-null  float64\n",
      " 27  product_height_cm              117581 non-null  float64\n",
      " 28  product_width_cm               117581 non-null  float64\n",
      " 29  product_category               115878 non-null  object \n",
      " 30  seller_zip_code_prefix         117601 non-null  int64  \n",
      " 31  seller_city                    117601 non-null  object \n",
      " 32  seller_state                   117601 non-null  object \n",
      "dtypes: float64(10), int64(5), object(18)\n",
      "memory usage: 30.5+ MB\n"
     ]
    }
   ],
   "source": [
    "data.info()"
   ]
  },
  {
   "cell_type": "markdown",
   "metadata": {},
   "source": [
    "#### \n",
    "### Feature description\n",
    "\n",
    "customer_id: key to the orders dataset. Each order has a unique customer_id.\n",
    "\n",
    "customer_unique_id:unique identifier of a customer.\n",
    "\n",
    "customer_zip_code_prefix：first five digits of customer zip code\n",
    "\n",
    "customer_city：customer city name\n",
    "\n",
    "customer_state：customer state\n",
    "\n",
    "geolocation_zip_code: first 5 digits of zip code\n",
    "\n",
    "geolocation_lat: latitude\n",
    "\n",
    "geolocation_lng: longitude\n",
    "\n",
    "geolocation_city: city name\n",
    "\n",
    "geolocation_state: state\n",
    "\n",
    "order_id: order unique identifier\n",
    "\n",
    "order_item_id: sequential number identifying number of items included in the same order.\n",
    "\n",
    "product_id: product unique identifier\n",
    "\n",
    "seller_id:seller unique identifier\n",
    "\n",
    "shipping_limit_date：Shows the seller shipping limit date for handling the order over to the logistic partner.\n",
    "\n",
    "price：item price\n",
    "\n",
    "freight_value：item freight value item (if an order has more than one item the freight value is splitted between items)\n",
    "\n",
    "order_id: unique identifier of an order.\n",
    "\n",
    "payment_sequential: a customer may pay an order with more than one payment method. If he does so, a sequence will be created to accommodate all payments.\n",
    "\n",
    "payment_type: method of payment chosen by the customer.\n",
    "\n",
    "payment_installments: number of installments chosen by the customer.\n",
    "\n",
    "payment_value: transaction value.\n",
    "\n",
    "customer_id: key to the customer dataset. Each order has a unique customer_id.\n",
    "\n",
    "order_status: Reference to the order status (delivered, shipped, etc).\n",
    "\n",
    "order_purchase_timestamp: Shows the purchase timestamp.\n",
    "\n",
    "order_approved_at: Shows the payment approval timestamp.\n",
    "\n",
    "order_delivered_carrier_date: Shows the order posting timestamp. When it was handled to the logistic partner.\n",
    "\n",
    "order_delivered_customer_date: Shows the actual order delivery date to the customer.\n",
    "\n",
    "order_estimated_delivery_date: Shows the estimated delivery date that was informed to customer at the purchase moment\n",
    "\n",
    "product_name_lenght：number of characters extracted from the product name.\n",
    "\n",
    "product_description_lenght: number of characters extracted from the product description.\n",
    "\n",
    "product_photos_qty: number of product published photos\n",
    "\n",
    "product_weight_g: product weight measured in grams.\n",
    "\n",
    "product_length_cm: product length measured in centimeters.\n",
    "\n",
    "product_height_cm: product height measured in centimeters.\n",
    "\n",
    "product_width_cm: product width measured in centimeters.\n",
    "\n",
    "seller_id: seller unique identifier\n",
    "\n",
    "seller_zip_code_prefix: first 5 digits of seller zip code\n",
    "\n",
    "seller_city: seller city name\n",
    "\n",
    "seller_state: seller state\n",
    "\n",
    "product_category_name: category name in English"
   ]
  },
  {
   "cell_type": "markdown",
   "metadata": {},
   "source": [
    "#### \n",
    "### Data cleaning and feature engineering"
   ]
  },
  {
   "cell_type": "markdown",
   "metadata": {},
   "source": [
    "### Handle Missing value"
   ]
  },
  {
   "cell_type": "code",
   "execution_count": 17,
   "metadata": {},
   "outputs": [
    {
     "data": {
      "text/html": [
       "<div>\n",
       "<style scoped>\n",
       "    .dataframe tbody tr th:only-of-type {\n",
       "        vertical-align: middle;\n",
       "    }\n",
       "\n",
       "    .dataframe tbody tr th {\n",
       "        vertical-align: top;\n",
       "    }\n",
       "\n",
       "    .dataframe thead th {\n",
       "        text-align: right;\n",
       "    }\n",
       "</style>\n",
       "<table border=\"1\" class=\"dataframe\">\n",
       "  <thead>\n",
       "    <tr style=\"text-align: right;\">\n",
       "      <th></th>\n",
       "      <th>Data Type</th>\n",
       "      <th>Unique Value</th>\n",
       "      <th>Percentage of NA</th>\n",
       "    </tr>\n",
       "  </thead>\n",
       "  <tbody>\n",
       "    <tr>\n",
       "      <th>order_id</th>\n",
       "      <td>object</td>\n",
       "      <td>98665</td>\n",
       "      <td>0</td>\n",
       "    </tr>\n",
       "    <tr>\n",
       "      <th>customer_id</th>\n",
       "      <td>object</td>\n",
       "      <td>98665</td>\n",
       "      <td>0</td>\n",
       "    </tr>\n",
       "    <tr>\n",
       "      <th>order_status</th>\n",
       "      <td>object</td>\n",
       "      <td>7</td>\n",
       "      <td>0</td>\n",
       "    </tr>\n",
       "    <tr>\n",
       "      <th>order_purchase_timestamp</th>\n",
       "      <td>object</td>\n",
       "      <td>98111</td>\n",
       "      <td>0</td>\n",
       "    </tr>\n",
       "    <tr>\n",
       "      <th>order_approved_at</th>\n",
       "      <td>object</td>\n",
       "      <td>90174</td>\n",
       "      <td>0.00012755</td>\n",
       "    </tr>\n",
       "    <tr>\n",
       "      <th>order_delivered_carrier_date</th>\n",
       "      <td>object</td>\n",
       "      <td>81017</td>\n",
       "      <td>0.0105866</td>\n",
       "    </tr>\n",
       "    <tr>\n",
       "      <th>order_delivered_customer_date</th>\n",
       "      <td>object</td>\n",
       "      <td>95664</td>\n",
       "      <td>0.021828</td>\n",
       "    </tr>\n",
       "    <tr>\n",
       "      <th>order_estimated_delivery_date</th>\n",
       "      <td>object</td>\n",
       "      <td>449</td>\n",
       "      <td>0</td>\n",
       "    </tr>\n",
       "    <tr>\n",
       "      <th>customer_unique_id</th>\n",
       "      <td>object</td>\n",
       "      <td>95419</td>\n",
       "      <td>0</td>\n",
       "    </tr>\n",
       "    <tr>\n",
       "      <th>customer_zip_code_prefix</th>\n",
       "      <td>int64</td>\n",
       "      <td>14976</td>\n",
       "      <td>0</td>\n",
       "    </tr>\n",
       "    <tr>\n",
       "      <th>customer_city</th>\n",
       "      <td>object</td>\n",
       "      <td>4110</td>\n",
       "      <td>0</td>\n",
       "    </tr>\n",
       "    <tr>\n",
       "      <th>customer_state</th>\n",
       "      <td>object</td>\n",
       "      <td>27</td>\n",
       "      <td>0</td>\n",
       "    </tr>\n",
       "    <tr>\n",
       "      <th>order_item_id</th>\n",
       "      <td>int64</td>\n",
       "      <td>21</td>\n",
       "      <td>0</td>\n",
       "    </tr>\n",
       "    <tr>\n",
       "      <th>product_id</th>\n",
       "      <td>object</td>\n",
       "      <td>32951</td>\n",
       "      <td>0</td>\n",
       "    </tr>\n",
       "    <tr>\n",
       "      <th>seller_id</th>\n",
       "      <td>object</td>\n",
       "      <td>3095</td>\n",
       "      <td>0</td>\n",
       "    </tr>\n",
       "    <tr>\n",
       "      <th>shipping_limit_date</th>\n",
       "      <td>object</td>\n",
       "      <td>93317</td>\n",
       "      <td>0</td>\n",
       "    </tr>\n",
       "    <tr>\n",
       "      <th>price</th>\n",
       "      <td>float64</td>\n",
       "      <td>5968</td>\n",
       "      <td>0</td>\n",
       "    </tr>\n",
       "    <tr>\n",
       "      <th>freight_value</th>\n",
       "      <td>float64</td>\n",
       "      <td>6999</td>\n",
       "      <td>0</td>\n",
       "    </tr>\n",
       "    <tr>\n",
       "      <th>payment_sequential</th>\n",
       "      <td>int64</td>\n",
       "      <td>29</td>\n",
       "      <td>0</td>\n",
       "    </tr>\n",
       "    <tr>\n",
       "      <th>payment_type</th>\n",
       "      <td>object</td>\n",
       "      <td>4</td>\n",
       "      <td>0</td>\n",
       "    </tr>\n",
       "    <tr>\n",
       "      <th>payment_installments</th>\n",
       "      <td>int64</td>\n",
       "      <td>24</td>\n",
       "      <td>0</td>\n",
       "    </tr>\n",
       "    <tr>\n",
       "      <th>payment_value</th>\n",
       "      <td>float64</td>\n",
       "      <td>28938</td>\n",
       "      <td>0</td>\n",
       "    </tr>\n",
       "    <tr>\n",
       "      <th>product_name_lenght</th>\n",
       "      <td>float64</td>\n",
       "      <td>67</td>\n",
       "      <td>0.0144387</td>\n",
       "    </tr>\n",
       "    <tr>\n",
       "      <th>product_description_lenght</th>\n",
       "      <td>float64</td>\n",
       "      <td>2961</td>\n",
       "      <td>0.0144387</td>\n",
       "    </tr>\n",
       "    <tr>\n",
       "      <th>product_photos_qty</th>\n",
       "      <td>float64</td>\n",
       "      <td>20</td>\n",
       "      <td>0.0144387</td>\n",
       "    </tr>\n",
       "    <tr>\n",
       "      <th>product_weight_g</th>\n",
       "      <td>float64</td>\n",
       "      <td>2205</td>\n",
       "      <td>0.000170067</td>\n",
       "    </tr>\n",
       "    <tr>\n",
       "      <th>product_length_cm</th>\n",
       "      <td>float64</td>\n",
       "      <td>100</td>\n",
       "      <td>0.000170067</td>\n",
       "    </tr>\n",
       "    <tr>\n",
       "      <th>product_height_cm</th>\n",
       "      <td>float64</td>\n",
       "      <td>103</td>\n",
       "      <td>0.000170067</td>\n",
       "    </tr>\n",
       "    <tr>\n",
       "      <th>product_width_cm</th>\n",
       "      <td>float64</td>\n",
       "      <td>96</td>\n",
       "      <td>0.000170067</td>\n",
       "    </tr>\n",
       "    <tr>\n",
       "      <th>product_category</th>\n",
       "      <td>object</td>\n",
       "      <td>72</td>\n",
       "      <td>0.0146512</td>\n",
       "    </tr>\n",
       "    <tr>\n",
       "      <th>seller_zip_code_prefix</th>\n",
       "      <td>int64</td>\n",
       "      <td>2246</td>\n",
       "      <td>0</td>\n",
       "    </tr>\n",
       "    <tr>\n",
       "      <th>seller_city</th>\n",
       "      <td>object</td>\n",
       "      <td>611</td>\n",
       "      <td>0</td>\n",
       "    </tr>\n",
       "    <tr>\n",
       "      <th>seller_state</th>\n",
       "      <td>object</td>\n",
       "      <td>23</td>\n",
       "      <td>0</td>\n",
       "    </tr>\n",
       "  </tbody>\n",
       "</table>\n",
       "</div>"
      ],
      "text/plain": [
       "                              Data Type Unique Value Percentage of NA\n",
       "order_id                         object        98665                0\n",
       "customer_id                      object        98665                0\n",
       "order_status                     object            7                0\n",
       "order_purchase_timestamp         object        98111                0\n",
       "order_approved_at                object        90174       0.00012755\n",
       "order_delivered_carrier_date     object        81017        0.0105866\n",
       "order_delivered_customer_date    object        95664         0.021828\n",
       "order_estimated_delivery_date    object          449                0\n",
       "customer_unique_id               object        95419                0\n",
       "customer_zip_code_prefix          int64        14976                0\n",
       "customer_city                    object         4110                0\n",
       "customer_state                   object           27                0\n",
       "order_item_id                     int64           21                0\n",
       "product_id                       object        32951                0\n",
       "seller_id                        object         3095                0\n",
       "shipping_limit_date              object        93317                0\n",
       "price                           float64         5968                0\n",
       "freight_value                   float64         6999                0\n",
       "payment_sequential                int64           29                0\n",
       "payment_type                     object            4                0\n",
       "payment_installments              int64           24                0\n",
       "payment_value                   float64        28938                0\n",
       "product_name_lenght             float64           67        0.0144387\n",
       "product_description_lenght      float64         2961        0.0144387\n",
       "product_photos_qty              float64           20        0.0144387\n",
       "product_weight_g                float64         2205      0.000170067\n",
       "product_length_cm               float64          100      0.000170067\n",
       "product_height_cm               float64          103      0.000170067\n",
       "product_width_cm                float64           96      0.000170067\n",
       "product_category                 object           72        0.0146512\n",
       "seller_zip_code_prefix            int64         2246                0\n",
       "seller_city                      object          611                0\n",
       "seller_state                     object           23                0"
      ]
     },
     "execution_count": 17,
     "metadata": {},
     "output_type": "execute_result"
    }
   ],
   "source": [
    "# check some basic information\n",
    "\n",
    "def unqiue_element(x):\n",
    "    a = len(np.unique(x))\n",
    "    return a\n",
    "\n",
    "df_eda = pd.DataFrame(\n",
    "    [data.dtypes, data.astype(str).apply(unqiue_element), \n",
    "    data.isnull().sum()/data.shape[0]]\n",
    "    ).T\n",
    "\n",
    "df_eda.columns = ['Data Type', 'Unique Value', 'Percentage of NA']\n",
    "df_eda"
   ]
  },
  {
   "cell_type": "code",
   "execution_count": 18,
   "metadata": {},
   "outputs": [
    {
     "data": {
      "text/plain": [
       "<AxesSubplot:>"
      ]
     },
     "execution_count": 18,
     "metadata": {},
     "output_type": "execute_result"
    },
    {
     "data": {
      "image/png": "[encoded data removed]",
      "text/plain": [
       "<Figure size 864x648 with 1 Axes>"
      ]
     },
     "metadata": {
      "needs_background": "light"
     },
     "output_type": "display_data"
    }
   ],
   "source": [
    "# plot the missing value using heatmap\n",
    "plt.figure(figsize=(12,9))\n",
    "sns.heatmap(data.isna(),yticklabels=False,cbar=False,cmap='viridis')"
   ]
  },
  {
   "cell_type": "code",
   "execution_count": 19,
   "metadata": {
    "scrolled": true
   },
   "outputs": [
    {
     "data": {
      "text/plain": [
       "delivered      115035\n",
       "shipped          1244\n",
       "canceled          566\n",
       "processing        375\n",
       "invoiced          371\n",
       "unavailable         7\n",
       "approved            3\n",
       "Name: order_status, dtype: int64"
      ]
     },
     "execution_count": 19,
     "metadata": {},
     "output_type": "execute_result"
    }
   ],
   "source": [
    "# it may cause missing data if the order is unavailable or canceled\n",
    "data['order_status'].value_counts()"
   ]
  },
  {
   "cell_type": "code",
   "execution_count": 20,
   "metadata": {},
   "outputs": [],
   "source": [
    "# do some encoding\n",
    "data['order_status'].replace({'approved':'processing','unavailable':'canceled'},inplace=True)"
   ]
  },
  {
   "cell_type": "code",
   "execution_count": 21,
   "metadata": {
    "scrolled": true
   },
   "outputs": [
    {
     "name": "stdout",
     "output_type": "stream",
     "text": [
      "delivered 115035 \n",
      " product_category                 1651\n",
      "product_photos_qty               1628\n",
      "product_description_lenght       1628\n",
      "product_name_lenght              1628\n",
      "product_width_cm                   20\n",
      "product_height_cm                  20\n",
      "product_length_cm                  20\n",
      "product_weight_g                   20\n",
      "order_approved_at                  15\n",
      "order_delivered_customer_date       8\n",
      "order_delivered_carrier_date        2\n",
      "dtype: int64 \n",
      "\n",
      "shipped 1244 \n",
      " order_delivered_customer_date    1244\n",
      "product_category                   30\n",
      "product_photos_qty                 30\n",
      "product_description_lenght         30\n",
      "product_name_lenght                30\n",
      "dtype: int64 \n",
      "\n",
      "canceled 573 \n",
      " order_delivered_customer_date    566\n",
      "order_delivered_carrier_date     494\n",
      "product_category                  17\n",
      "product_photos_qty                15\n",
      "product_description_lenght        15\n",
      "product_name_lenght               15\n",
      "dtype: int64 \n",
      "\n",
      "invoiced 371 \n",
      " order_delivered_customer_date    371\n",
      "order_delivered_carrier_date     371\n",
      "product_category                  12\n",
      "product_photos_qty                12\n",
      "product_description_lenght        12\n",
      "product_name_lenght               12\n",
      "dtype: int64 \n",
      "\n",
      "processing 378 \n",
      " order_delivered_customer_date    378\n",
      "order_delivered_carrier_date     378\n",
      "product_category                  13\n",
      "product_photos_qty                13\n",
      "product_description_lenght        13\n",
      "product_name_lenght               13\n",
      "dtype: int64 \n",
      "\n"
     ]
    }
   ],
   "source": [
    "# show the missing data of each order status\n",
    "for status in data['order_status'].unique():\n",
    "    status_subset = data[data['order_status']==status]\n",
    "    print(status,len(status_subset),'\\n',\n",
    "          status_subset.isnull().sum()[status_subset.isnull().sum()>0].sort_values(ascending=False),'\\n')"
   ]
  },
  {
   "cell_type": "code",
   "execution_count": 22,
   "metadata": {},
   "outputs": [],
   "source": [
    "# missing values are related to the order status,espeicially \"delivered date\"\n",
    "# drop all missing data except for date and time feature\n",
    "\n",
    "data = data.dropna(subset=['product_category','product_name_lenght','product_photos_qty',\n",
    "                           'product_description_lenght','product_width_cm',\n",
    "                           'product_height_cm','product_length_cm','product_weight_g'])"
   ]
  },
  {
   "cell_type": "code",
   "execution_count": 23,
   "metadata": {
    "scrolled": true
   },
   "outputs": [
    {
     "name": "stdout",
     "output_type": "stream",
     "text": [
      "<class 'pandas.core.frame.DataFrame'>\n",
      "Int64Index: 115877 entries, 0 to 117600\n",
      "Data columns (total 33 columns):\n",
      " #   Column                         Non-Null Count   Dtype  \n",
      "---  ------                         --------------   -----  \n",
      " 0   order_id                       115877 non-null  object \n",
      " 1   customer_id                    115877 non-null  object \n",
      " 2   order_status                   115877 non-null  object \n",
      " 3   order_purchase_timestamp       115877 non-null  object \n",
      " 4   order_approved_at              115863 non-null  object \n",
      " 5   order_delivered_carrier_date   114672 non-null  object \n",
      " 6   order_delivered_customer_date  113382 non-null  object \n",
      " 7   order_estimated_delivery_date  115877 non-null  object \n",
      " 8   customer_unique_id             115877 non-null  object \n",
      " 9   customer_zip_code_prefix       115877 non-null  int64  \n",
      " 10  customer_city                  115877 non-null  object \n",
      " 11  customer_state                 115877 non-null  object \n",
      " 12  order_item_id                  115877 non-null  int64  \n",
      " 13  product_id                     115877 non-null  object \n",
      " 14  seller_id                      115877 non-null  object \n",
      " 15  shipping_limit_date            115877 non-null  object \n",
      " 16  price                          115877 non-null  float64\n",
      " 17  freight_value                  115877 non-null  float64\n",
      " 18  payment_sequential             115877 non-null  int64  \n",
      " 19  payment_type                   115877 non-null  object \n",
      " 20  payment_installments           115877 non-null  int64  \n",
      " 21  payment_value                  115877 non-null  float64\n",
      " 22  product_name_lenght            115877 non-null  float64\n",
      " 23  product_description_lenght     115877 non-null  float64\n",
      " 24  product_photos_qty             115877 non-null  float64\n",
      " 25  product_weight_g               115877 non-null  float64\n",
      " 26  product_length_cm              115877 non-null  float64\n",
      " 27  product_height_cm              115877 non-null  float64\n",
      " 28  product_width_cm               115877 non-null  float64\n",
      " 29  product_category               115877 non-null  object \n",
      " 30  seller_zip_code_prefix         115877 non-null  int64  \n",
      " 31  seller_city                    115877 non-null  object \n",
      " 32  seller_state                   115877 non-null  object \n",
      "dtypes: float64(10), int64(5), object(18)\n",
      "memory usage: 30.1+ MB\n"
     ]
    }
   ],
   "source": [
    "data.info()"
   ]
  },
  {
   "cell_type": "markdown",
   "metadata": {},
   "source": [
    "#### \n",
    "### Seperate train and test set"
   ]
  },
  {
   "cell_type": "code",
   "execution_count": 24,
   "metadata": {},
   "outputs": [
    {
     "data": {
      "text/plain": [
       "((81113, 32), (34764, 32))"
      ]
     },
     "execution_count": 24,
     "metadata": {},
     "output_type": "execute_result"
    }
   ],
   "source": [
    "from sklearn.model_selection import train_test_split\n",
    "\n",
    "X = data.drop(labels='product_category',axis=1)\n",
    "y = data['product_category']\n",
    "\n",
    "X_train, X_test, y_train, y_test = train_test_split(X, y, test_size=0.30, random_state=101)\n",
    "\n",
    "X_train.shape, X_test.shape"
   ]
  },
  {
   "cell_type": "markdown",
   "metadata": {},
   "source": [
    "\n",
    "### Categorical encoding"
   ]
  },
  {
   "cell_type": "code",
   "execution_count": 25,
   "metadata": {
    "scrolled": true
   },
   "outputs": [
    {
     "name": "stdout",
     "output_type": "stream",
     "text": [
      "order_id :  object\n",
      "customer_id :  object\n",
      "order_status :  object\n",
      "order_purchase_timestamp :  object\n",
      "order_approved_at :  object\n",
      "order_delivered_carrier_date :  object\n",
      "order_delivered_customer_date :  object\n",
      "order_estimated_delivery_date :  object\n",
      "customer_unique_id :  object\n",
      "customer_zip_code_prefix :  int64\n",
      "customer_city :  object\n",
      "customer_state :  object\n",
      "order_item_id :  int64\n",
      "product_id :  object\n",
      "seller_id :  object\n",
      "shipping_limit_date :  object\n",
      "price :  float64\n",
      "freight_value :  float64\n",
      "payment_sequential :  int64\n",
      "payment_type :  object\n",
      "payment_installments :  int64\n",
      "payment_value :  float64\n",
      "product_name_lenght :  float64\n",
      "product_description_lenght :  float64\n",
      "product_photos_qty :  float64\n",
      "product_weight_g :  float64\n",
      "product_length_cm :  float64\n",
      "product_height_cm :  float64\n",
      "product_width_cm :  float64\n",
      "seller_zip_code_prefix :  int64\n",
      "seller_city :  object\n",
      "seller_state :  object\n",
      "\n",
      "There are 0 discrete variables\n",
      "There are 15 continuous variables\n",
      "There are 17 categorical variables\n"
     ]
    }
   ],
   "source": [
    "# check the data type of each columns\n",
    "for col in X_train.columns:\n",
    "    print(col,\": \",X_train[col].dtype)\n",
    "\n",
    "# make list of variables types\n",
    "\n",
    "# numerical: discrete and continuous\n",
    "discrete = [var for var in X_train.columns if X_train[var].dtype!='O'and X_train[var].nunique()<10]\n",
    "continuous = [var for var in X_train.columns if X_train[var].dtype!='O'and var not in discrete]\n",
    "\n",
    "# categorical\n",
    "categorical = [var for var in X_train.columns if X_train[var].dtype=='O']\n",
    "\n",
    "print('\\nThere are {} discrete variables'.format(len(discrete)))\n",
    "print('There are {} continuous variables'.format(len(continuous)))\n",
    "print('There are {} categorical variables'.format(len(categorical)))"
   ]
  },
  {
   "cell_type": "code",
   "execution_count": 26,
   "metadata": {},
   "outputs": [
    {
     "data": {
      "text/plain": [
       "['order_id',\n",
       " 'customer_id',\n",
       " 'order_status',\n",
       " 'order_purchase_timestamp',\n",
       " 'order_approved_at',\n",
       " 'order_delivered_carrier_date',\n",
       " 'order_delivered_customer_date',\n",
       " 'order_estimated_delivery_date',\n",
       " 'customer_unique_id',\n",
       " 'customer_city',\n",
       " 'customer_state',\n",
       " 'product_id',\n",
       " 'seller_id',\n",
       " 'shipping_limit_date',\n",
       " 'payment_type',\n",
       " 'seller_city',\n",
       " 'seller_state']"
      ]
     },
     "execution_count": 26,
     "metadata": {},
     "output_type": "execute_result"
    }
   ],
   "source": [
    "# In this section we handle categorical variables\n",
    "categorical"
   ]
  },
  {
   "cell_type": "code",
   "execution_count": 27,
   "metadata": {
    "scrolled": true
   },
   "outputs": [
    {
     "name": "stderr",
     "output_type": "stream",
     "text": [
      "E:\\Informatik\\Anaconda\\lib\\site-packages\\pandas\\core\\frame.py:4163: SettingWithCopyWarning: \n",
      "A value is trying to be set on a copy of a slice from a DataFrame\n",
      "\n",
      "See the caveats in the documentation: https://pandas.pydata.org/pandas-docs/stable/user_guide/indexing.html#returning-a-view-versus-a-copy\n",
      "  return super().drop(\n"
     ]
    }
   ],
   "source": [
    "# all id features are not helpful for the prediction, we can drop these columns\n",
    "ID = ['order_id', 'customer_id','order_item_id','customer_unique_id', 'product_id', 'seller_id']\n",
    "X_train.drop(labels=ID,axis=1,inplace=True)\n",
    "X_test.drop(labels=ID,axis=1,inplace=True)"
   ]
  },
  {
   "cell_type": "code",
   "execution_count": 28,
   "metadata": {},
   "outputs": [
    {
     "data": {
      "text/plain": [
       "OneHotEncoder(drop_last=True, top_categories=6,\n",
       "              variables=['customer_city', 'customer_state', 'seller_city',\n",
       "                         'seller_state'])"
      ]
     },
     "execution_count": 28,
     "metadata": {},
     "output_type": "execute_result"
    }
   ],
   "source": [
    "# encode the features city and state\n",
    "from feature_engine.encoding import OneHotEncoder\n",
    "\n",
    "ohe_enc_1 = OneHotEncoder(\n",
    "    top_categories = 6, drop_last=True,\n",
    "    variables=['customer_city','customer_state','seller_city','seller_state'])\n",
    "\n",
    "ohe_enc_1.fit(X_train)"
   ]
  },
  {
   "cell_type": "code",
   "execution_count": 29,
   "metadata": {},
   "outputs": [
    {
     "data": {
      "text/plain": [
       "{'customer_city': ['sao paulo',\n",
       "  'rio de janeiro',\n",
       "  'belo horizonte',\n",
       "  'brasilia',\n",
       "  'curitiba',\n",
       "  'campinas'],\n",
       " 'customer_state': ['SP', 'RJ', 'MG', 'RS', 'PR', 'SC'],\n",
       " 'seller_city': ['sao paulo',\n",
       "  'ibitinga',\n",
       "  'curitiba',\n",
       "  'santo andre',\n",
       "  'sao jose do rio preto',\n",
       "  'belo horizonte'],\n",
       " 'seller_state': ['SP', 'MG', 'PR', 'RJ', 'SC', 'RS']}"
      ]
     },
     "execution_count": 29,
     "metadata": {},
     "output_type": "execute_result"
    }
   ],
   "source": [
    "# observations per category for each variable\n",
    "ohe_enc_1.encoder_dict_"
   ]
  },
  {
   "cell_type": "code",
   "execution_count": 30,
   "metadata": {},
   "outputs": [],
   "source": [
    "X_train = ohe_enc_1.transform(X_train)\n",
    "X_test = ohe_enc_1.transform(X_test)"
   ]
  },
  {
   "cell_type": "code",
   "execution_count": 31,
   "metadata": {},
   "outputs": [],
   "source": [
    "# feature zip code is duplicated, we can drop it\n",
    "X_train.drop('customer_zip_code_prefix',axis=1,inplace=True)\n",
    "X_test.drop('customer_zip_code_prefix',axis=1,inplace=True)\n",
    "X_train.drop('seller_zip_code_prefix',axis=1,inplace=True)\n",
    "X_test.drop('seller_zip_code_prefix',axis=1,inplace=True)"
   ]
  },
  {
   "cell_type": "code",
   "execution_count": 32,
   "metadata": {},
   "outputs": [
    {
     "data": {
      "text/plain": [
       "delivered     79361\n",
       "shipped         846\n",
       "canceled        395\n",
       "processing      258\n",
       "invoiced        253\n",
       "Name: order_status, dtype: int64"
      ]
     },
     "execution_count": 32,
     "metadata": {},
     "output_type": "execute_result"
    }
   ],
   "source": [
    "# encode the features order_Status\n",
    "X_train['order_status'].value_counts()"
   ]
  },
  {
   "cell_type": "code",
   "execution_count": 33,
   "metadata": {},
   "outputs": [],
   "source": [
    "# replace the outliers\n",
    "X_train['order_status'].replace(['approved','unavailable'],'processing',inplace=True)"
   ]
  },
  {
   "cell_type": "code",
   "execution_count": 34,
   "metadata": {},
   "outputs": [
    {
     "data": {
      "text/plain": [
       "OneHotEncoder(drop_last=True, variables=['order_status', 'payment_type'])"
      ]
     },
     "execution_count": 34,
     "metadata": {},
     "output_type": "execute_result"
    }
   ],
   "source": [
    "# convert into numerical value\n",
    "from feature_engine.encoding import OneHotEncoder\n",
    "\n",
    "ohe_enc_status = OneHotEncoder(drop_last=True,variables=['order_status','payment_type'])\n",
    "\n",
    "ohe_enc_status.fit(X_train)"
   ]
  },
  {
   "cell_type": "code",
   "execution_count": 35,
   "metadata": {},
   "outputs": [],
   "source": [
    "X_train = ohe_enc_status.transform(X_train)\n",
    "X_test = ohe_enc_status.transform(X_test)"
   ]
  },
  {
   "cell_type": "code",
   "execution_count": 36,
   "metadata": {},
   "outputs": [],
   "source": [
    "# encode the time value\n",
    "import datetime\n",
    "\n",
    "def dt_transform(dataset,columns):\n",
    "    for col in columns:\n",
    "        dataset[col] = pd.to_datetime(dataset[col])\n",
    "\n",
    "time_features = ['order_purchase_timestamp','shipping_limit_date','order_delivered_customer_date',\n",
    "                 'order_estimated_delivery_date','order_approved_at','order_delivered_carrier_date']"
   ]
  },
  {
   "cell_type": "code",
   "execution_count": 37,
   "metadata": {},
   "outputs": [],
   "source": [
    "dt_transform(X_train,time_features)\n",
    "dt_transform(X_test,time_features)"
   ]
  },
  {
   "cell_type": "code",
   "execution_count": 38,
   "metadata": {},
   "outputs": [],
   "source": [
    "# introduce a new feature\n",
    "X_train['order_month'] = X_train['order_purchase_timestamp'].dt.month\n",
    "X_test['order_month'] = X_test['order_purchase_timestamp'].dt.month"
   ]
  },
  {
   "cell_type": "code",
   "execution_count": 39,
   "metadata": {},
   "outputs": [],
   "source": [
    "X_train['Shipping days'] =  (X_train['order_delivered_customer_date'] - X_train['order_purchase_timestamp']).dt.days\n",
    "X_test['Shipping days'] =  (X_test['order_delivered_customer_date'] - X_test['order_purchase_timestamp']).dt.days\n",
    "\n",
    "X_train['On time delivery'] = (X_train['order_delivered_customer_date'] - X_train['order_estimated_delivery_date']).dt.days\n",
    "X_test['On time delivery'] = (X_test['order_delivered_customer_date'] - X_test['order_estimated_delivery_date']).dt.days"
   ]
  },
  {
   "cell_type": "code",
   "execution_count": 40,
   "metadata": {},
   "outputs": [],
   "source": [
    "# replace the missing value with the mean value\n",
    "X_train['On time delivery'].fillna(value=X_train['On time delivery'].mean(),inplace=True)\n",
    "X_test['On time delivery'].fillna(value=X_train['On time delivery'].mean(),inplace=True)\n",
    "\n",
    "X_train['Shipping days'].fillna(value=X_train['Shipping days'].mean(),inplace=True)\n",
    "X_test['Shipping days'].fillna(value=X_train['Shipping days'].mean(),inplace=True)"
   ]
  },
  {
   "cell_type": "code",
   "execution_count": 41,
   "metadata": {},
   "outputs": [],
   "source": [
    "# convert values in feature \"on time delivery\" into binary variables\n",
    "X_train['On time delivery'] = X_train['On time delivery']<0\n",
    "X_test['On time delivery'] = X_test['On time delivery']<0\n",
    "\n",
    "X_train['On time delivery'].replace({True:1,False:0},inplace=True)\n",
    "X_train['On time delivery'].replace({True:1,False:0},inplace=True)"
   ]
  },
  {
   "cell_type": "code",
   "execution_count": 42,
   "metadata": {},
   "outputs": [
    {
     "data": {
      "text/plain": [
       "Shipping days       0\n",
       "On time delivery    0\n",
       "dtype: int64"
      ]
     },
     "execution_count": 42,
     "metadata": {},
     "output_type": "execute_result"
    }
   ],
   "source": [
    "X_train[['Shipping days','On time delivery']].isnull().sum()"
   ]
  },
  {
   "cell_type": "code",
   "execution_count": 43,
   "metadata": {},
   "outputs": [],
   "source": [
    "# delete the time columns\n",
    "\n",
    "X_train.drop(labels=time_features,axis=1,inplace=True)\n",
    "X_test.drop(labels=time_features,axis=1,inplace=True)"
   ]
  },
  {
   "cell_type": "code",
   "execution_count": 44,
   "metadata": {
    "scrolled": true
   },
   "outputs": [
    {
     "data": {
      "text/html": [
       "<div>\n",
       "<style scoped>\n",
       "    .dataframe tbody tr th:only-of-type {\n",
       "        vertical-align: middle;\n",
       "    }\n",
       "\n",
       "    .dataframe tbody tr th {\n",
       "        vertical-align: top;\n",
       "    }\n",
       "\n",
       "    .dataframe thead th {\n",
       "        text-align: right;\n",
       "    }\n",
       "</style>\n",
       "<table border=\"1\" class=\"dataframe\">\n",
       "  <thead>\n",
       "    <tr style=\"text-align: right;\">\n",
       "      <th></th>\n",
       "      <th>price</th>\n",
       "      <th>freight_value</th>\n",
       "      <th>payment_sequential</th>\n",
       "      <th>payment_installments</th>\n",
       "      <th>payment_value</th>\n",
       "      <th>product_name_lenght</th>\n",
       "      <th>product_description_lenght</th>\n",
       "      <th>product_photos_qty</th>\n",
       "      <th>product_weight_g</th>\n",
       "      <th>product_length_cm</th>\n",
       "      <th>...</th>\n",
       "      <th>order_status_delivered</th>\n",
       "      <th>order_status_shipped</th>\n",
       "      <th>order_status_canceled</th>\n",
       "      <th>order_status_processing</th>\n",
       "      <th>payment_type_boleto</th>\n",
       "      <th>payment_type_credit_card</th>\n",
       "      <th>payment_type_debit_card</th>\n",
       "      <th>order_month</th>\n",
       "      <th>Shipping days</th>\n",
       "      <th>On time delivery</th>\n",
       "    </tr>\n",
       "  </thead>\n",
       "  <tbody>\n",
       "    <tr>\n",
       "      <th>18377</th>\n",
       "      <td>15.49</td>\n",
       "      <td>7.39</td>\n",
       "      <td>1</td>\n",
       "      <td>1</td>\n",
       "      <td>68.64</td>\n",
       "      <td>59.0</td>\n",
       "      <td>1782.0</td>\n",
       "      <td>1.0</td>\n",
       "      <td>125.0</td>\n",
       "      <td>25.0</td>\n",
       "      <td>...</td>\n",
       "      <td>1</td>\n",
       "      <td>0</td>\n",
       "      <td>0</td>\n",
       "      <td>0</td>\n",
       "      <td>1</td>\n",
       "      <td>0</td>\n",
       "      <td>0</td>\n",
       "      <td>6</td>\n",
       "      <td>5.0</td>\n",
       "      <td>1</td>\n",
       "    </tr>\n",
       "    <tr>\n",
       "      <th>92211</th>\n",
       "      <td>199.90</td>\n",
       "      <td>21.89</td>\n",
       "      <td>1</td>\n",
       "      <td>1</td>\n",
       "      <td>221.79</td>\n",
       "      <td>58.0</td>\n",
       "      <td>904.0</td>\n",
       "      <td>1.0</td>\n",
       "      <td>3550.0</td>\n",
       "      <td>35.0</td>\n",
       "      <td>...</td>\n",
       "      <td>1</td>\n",
       "      <td>0</td>\n",
       "      <td>0</td>\n",
       "      <td>0</td>\n",
       "      <td>1</td>\n",
       "      <td>0</td>\n",
       "      <td>0</td>\n",
       "      <td>2</td>\n",
       "      <td>36.0</td>\n",
       "      <td>0</td>\n",
       "    </tr>\n",
       "    <tr>\n",
       "      <th>78122</th>\n",
       "      <td>125.02</td>\n",
       "      <td>12.21</td>\n",
       "      <td>1</td>\n",
       "      <td>6</td>\n",
       "      <td>137.23</td>\n",
       "      <td>53.0</td>\n",
       "      <td>1140.0</td>\n",
       "      <td>3.0</td>\n",
       "      <td>1600.0</td>\n",
       "      <td>18.0</td>\n",
       "      <td>...</td>\n",
       "      <td>1</td>\n",
       "      <td>0</td>\n",
       "      <td>0</td>\n",
       "      <td>0</td>\n",
       "      <td>0</td>\n",
       "      <td>1</td>\n",
       "      <td>0</td>\n",
       "      <td>5</td>\n",
       "      <td>6.0</td>\n",
       "      <td>1</td>\n",
       "    </tr>\n",
       "    <tr>\n",
       "      <th>60139</th>\n",
       "      <td>248.99</td>\n",
       "      <td>74.69</td>\n",
       "      <td>1</td>\n",
       "      <td>1</td>\n",
       "      <td>323.68</td>\n",
       "      <td>53.0</td>\n",
       "      <td>526.0</td>\n",
       "      <td>2.0</td>\n",
       "      <td>18050.0</td>\n",
       "      <td>75.0</td>\n",
       "      <td>...</td>\n",
       "      <td>1</td>\n",
       "      <td>0</td>\n",
       "      <td>0</td>\n",
       "      <td>0</td>\n",
       "      <td>1</td>\n",
       "      <td>0</td>\n",
       "      <td>0</td>\n",
       "      <td>1</td>\n",
       "      <td>7.0</td>\n",
       "      <td>1</td>\n",
       "    </tr>\n",
       "    <tr>\n",
       "      <th>24701</th>\n",
       "      <td>29.00</td>\n",
       "      <td>14.10</td>\n",
       "      <td>1</td>\n",
       "      <td>3</td>\n",
       "      <td>86.20</td>\n",
       "      <td>55.0</td>\n",
       "      <td>167.0</td>\n",
       "      <td>3.0</td>\n",
       "      <td>200.0</td>\n",
       "      <td>16.0</td>\n",
       "      <td>...</td>\n",
       "      <td>1</td>\n",
       "      <td>0</td>\n",
       "      <td>0</td>\n",
       "      <td>0</td>\n",
       "      <td>0</td>\n",
       "      <td>1</td>\n",
       "      <td>0</td>\n",
       "      <td>10</td>\n",
       "      <td>9.0</td>\n",
       "      <td>1</td>\n",
       "    </tr>\n",
       "  </tbody>\n",
       "</table>\n",
       "<p>5 rows × 46 columns</p>\n",
       "</div>"
      ],
      "text/plain": [
       "        price  freight_value  payment_sequential  payment_installments  \\\n",
       "18377   15.49           7.39                   1                     1   \n",
       "92211  199.90          21.89                   1                     1   \n",
       "78122  125.02          12.21                   1                     6   \n",
       "60139  248.99          74.69                   1                     1   \n",
       "24701   29.00          14.10                   1                     3   \n",
       "\n",
       "       payment_value  product_name_lenght  product_description_lenght  \\\n",
       "18377          68.64                 59.0                      1782.0   \n",
       "92211         221.79                 58.0                       904.0   \n",
       "78122         137.23                 53.0                      1140.0   \n",
       "60139         323.68                 53.0                       526.0   \n",
       "24701          86.20                 55.0                       167.0   \n",
       "\n",
       "       product_photos_qty  product_weight_g  product_length_cm  ...  \\\n",
       "18377                 1.0             125.0               25.0  ...   \n",
       "92211                 1.0            3550.0               35.0  ...   \n",
       "78122                 3.0            1600.0               18.0  ...   \n",
       "60139                 2.0           18050.0               75.0  ...   \n",
       "24701                 3.0             200.0               16.0  ...   \n",
       "\n",
       "       order_status_delivered  order_status_shipped  order_status_canceled  \\\n",
       "18377                       1                     0                      0   \n",
       "92211                       1                     0                      0   \n",
       "78122                       1                     0                      0   \n",
       "60139                       1                     0                      0   \n",
       "24701                       1                     0                      0   \n",
       "\n",
       "       order_status_processing  payment_type_boleto  payment_type_credit_card  \\\n",
       "18377                        0                    1                         0   \n",
       "92211                        0                    1                         0   \n",
       "78122                        0                    0                         1   \n",
       "60139                        0                    1                         0   \n",
       "24701                        0                    0                         1   \n",
       "\n",
       "       payment_type_debit_card  order_month  Shipping days  On time delivery  \n",
       "18377                        0            6            5.0                 1  \n",
       "92211                        0            2           36.0                 0  \n",
       "78122                        0            5            6.0                 1  \n",
       "60139                        0            1            7.0                 1  \n",
       "24701                        0           10            9.0                 1  \n",
       "\n",
       "[5 rows x 46 columns]"
      ]
     },
     "execution_count": 44,
     "metadata": {},
     "output_type": "execute_result"
    }
   ],
   "source": [
    "X_train.head()"
   ]
  },
  {
   "cell_type": "code",
   "execution_count": 45,
   "metadata": {
    "scrolled": false
   },
   "outputs": [
    {
     "name": "stdout",
     "output_type": "stream",
     "text": [
      "price : 59.90     1805\n",
      "69.90     1485\n",
      "49.90     1420\n",
      "89.90     1113\n",
      "99.90     1078\n",
      "          ... \n",
      "121.75       1\n",
      "820.05       1\n",
      "109.73       1\n",
      "109.77       1\n",
      "141.75       1\n",
      "Name: price, Length: 5136, dtype: int64\n",
      "freight_value : 15.10     2613\n",
      "7.78      1621\n",
      "11.85     1387\n",
      "14.10     1353\n",
      "18.23     1118\n",
      "          ... \n",
      "98.35        1\n",
      "237.84       1\n",
      "46.57        1\n",
      "74.51        1\n",
      "93.14        1\n",
      "Name: freight_value, Length: 6259, dtype: int64\n",
      "payment_sequential : 1     77683\n",
      "2      2287\n",
      "3       456\n",
      "4       217\n",
      "5       116\n",
      "6        84\n",
      "7        62\n",
      "8        41\n",
      "9        36\n",
      "10       25\n",
      "11       21\n",
      "12       18\n",
      "13       10\n",
      "15       10\n",
      "14        8\n",
      "18        7\n",
      "16        6\n",
      "17        5\n",
      "19        5\n",
      "20        5\n",
      "21        3\n",
      "22        2\n",
      "25        2\n",
      "27        1\n",
      "23        1\n",
      "26        1\n",
      "28        1\n",
      "Name: payment_sequential, dtype: int64\n",
      "payment_installments : 1     40456\n",
      "2      9310\n",
      "3      8112\n",
      "4      5558\n",
      "10     4718\n",
      "5      4219\n",
      "8      3477\n",
      "6      3201\n",
      "7      1259\n",
      "9       504\n",
      "12      111\n",
      "15       68\n",
      "18       24\n",
      "24       22\n",
      "11       18\n",
      "20       18\n",
      "13       10\n",
      "14        9\n",
      "16        7\n",
      "17        5\n",
      "21        3\n",
      "0         2\n",
      "23        1\n",
      "22        1\n",
      "Name: payment_installments, dtype: int64\n",
      "payment_value : 50.00     249\n",
      "20.00     208\n",
      "100.00    201\n",
      "77.57     163\n",
      "35.00     127\n",
      "         ... \n",
      "177.12      1\n",
      "93.27       1\n",
      "183.08      1\n",
      "436.59      1\n",
      "427.62      1\n",
      "Name: payment_value, Length: 25052, dtype: int64\n",
      "product_name_lenght : 59.0    6068\n",
      "60.0    5584\n",
      "58.0    4752\n",
      "56.0    4704\n",
      "57.0    4362\n",
      "        ... \n",
      "67.0       2\n",
      "69.0       1\n",
      "68.0       1\n",
      "76.0       1\n",
      "7.0        1\n",
      "Name: product_name_lenght, Length: 65, dtype: int64\n",
      "product_description_lenght : 341.0     510\n",
      "1893.0    479\n",
      "348.0     436\n",
      "903.0     413\n",
      "492.0     407\n",
      "         ... \n",
      "2344.0      1\n",
      "3292.0      1\n",
      "23.0        1\n",
      "34.0        1\n",
      "2821.0      1\n",
      "Name: product_description_lenght, Length: 2822, dtype: int64\n",
      "product_photos_qty : 1.0     40937\n",
      "2.0     16136\n",
      "3.0      9030\n",
      "4.0      6156\n",
      "5.0      3810\n",
      "6.0      2779\n",
      "7.0      1088\n",
      "8.0       545\n",
      "10.0      266\n",
      "9.0       224\n",
      "11.0       57\n",
      "12.0       40\n",
      "13.0       20\n",
      "15.0        9\n",
      "17.0        7\n",
      "14.0        4\n",
      "18.0        3\n",
      "19.0        2\n",
      "Name: product_photos_qty, dtype: int64\n",
      "product_weight_g : 200.0      4783\n",
      "150.0      3751\n",
      "250.0      3273\n",
      "300.0      3039\n",
      "100.0      2499\n",
      "           ... \n",
      "919.0         1\n",
      "4367.0        1\n",
      "1003.0        1\n",
      "29750.0       1\n",
      "2738.0        1\n",
      "Name: product_weight_g, Length: 2014, dtype: int64\n",
      "product_length_cm : 16.0    12417\n",
      "20.0     7380\n",
      "30.0     5457\n",
      "17.0     4287\n",
      "18.0     4148\n",
      "        ...  \n",
      "94.0        5\n",
      "83.0        5\n",
      "92.0        4\n",
      "9.0         3\n",
      "8.0         1\n",
      "Name: product_length_cm, Length: 99, dtype: int64\n",
      "product_height_cm : 10.0    7145\n",
      "20.0    4782\n",
      "15.0    4666\n",
      "11.0    4408\n",
      "12.0    4381\n",
      "        ... \n",
      "99.0       2\n",
      "89.0       1\n",
      "92.0       1\n",
      "94.0       1\n",
      "97.0       1\n",
      "Name: product_height_cm, Length: 102, dtype: int64\n",
      "product_width_cm : 20.0     8716\n",
      "11.0     7501\n",
      "15.0     6283\n",
      "16.0     6035\n",
      "30.0     5519\n",
      "         ... \n",
      "77.0        1\n",
      "101.0       1\n",
      "86.0        1\n",
      "103.0       1\n",
      "98.0        1\n",
      "Name: product_width_cm, Length: 93, dtype: int64\n",
      "customer_city_sao paulo : 0    68254\n",
      "1    12859\n",
      "Name: customer_city_sao paulo, dtype: int64\n",
      "customer_city_rio de janeiro : 0    75418\n",
      "1     5695\n",
      "Name: customer_city_rio de janeiro, dtype: int64\n",
      "customer_city_belo horizonte : 0    78883\n",
      "1     2230\n",
      "Name: customer_city_belo horizonte, dtype: int64\n",
      "customer_city_brasilia : 0    79432\n",
      "1     1681\n",
      "Name: customer_city_brasilia, dtype: int64\n",
      "customer_city_curitiba : 0    79876\n",
      "1     1237\n",
      "Name: customer_city_curitiba, dtype: int64\n",
      "customer_city_campinas : 0    79903\n",
      "1     1210\n",
      "Name: customer_city_campinas, dtype: int64\n",
      "customer_state_SP : 0    46801\n",
      "1    34312\n",
      "Name: customer_state_SP, dtype: int64\n",
      "customer_state_RJ : 0    70511\n",
      "1    10602\n",
      "Name: customer_state_RJ, dtype: int64\n",
      "customer_state_MG : 0    71735\n",
      "1     9378\n",
      "Name: customer_state_MG, dtype: int64\n",
      "customer_state_RS : 0    76681\n",
      "1     4432\n",
      "Name: customer_state_RS, dtype: int64\n",
      "customer_state_PR : 0    77025\n",
      "1     4088\n",
      "Name: customer_state_PR, dtype: int64\n",
      "customer_state_SC : 0    78186\n",
      "1     2927\n",
      "Name: customer_state_SC, dtype: int64\n",
      "seller_city_sao paulo : 0    60919\n",
      "1    20194\n",
      "Name: seller_city_sao paulo, dtype: int64\n",
      "seller_city_ibitinga : 0    75330\n",
      "1     5783\n",
      "Name: seller_city_ibitinga, dtype: int64\n",
      "seller_city_curitiba : 0    78925\n",
      "1     2188\n",
      "Name: seller_city_curitiba, dtype: int64\n",
      "seller_city_santo andre : 0    78942\n",
      "1     2171\n",
      "Name: seller_city_santo andre, dtype: int64\n",
      "seller_city_sao jose do rio preto : 0    79239\n",
      "1     1874\n",
      "Name: seller_city_sao jose do rio preto, dtype: int64\n",
      "seller_city_belo horizonte : 0    79313\n",
      "1     1800\n",
      "Name: seller_city_belo horizonte, dtype: int64\n",
      "seller_state_SP : 1    57778\n",
      "0    23335\n",
      "Name: seller_state_SP, dtype: int64\n",
      "seller_state_MG : 0    74789\n",
      "1     6324\n",
      "Name: seller_state_MG, dtype: int64\n",
      "seller_state_PR : 0    74842\n",
      "1     6271\n",
      "Name: seller_state_PR, dtype: int64\n",
      "seller_state_RJ : 0    77643\n",
      "1     3470\n",
      "Name: seller_state_RJ, dtype: int64\n",
      "seller_state_SC : 0    78120\n",
      "1     2993\n",
      "Name: seller_state_SC, dtype: int64\n",
      "seller_state_RS : 0    79564\n",
      "1     1549\n",
      "Name: seller_state_RS, dtype: int64\n",
      "order_status_delivered : 1    79361\n",
      "0     1752\n",
      "Name: order_status_delivered, dtype: int64\n",
      "order_status_shipped : 0    80267\n",
      "1      846\n",
      "Name: order_status_shipped, dtype: int64\n",
      "order_status_canceled : 0    80718\n",
      "1      395\n",
      "Name: order_status_canceled, dtype: int64\n",
      "order_status_processing : 0    80855\n",
      "1      258\n",
      "Name: order_status_processing, dtype: int64\n",
      "payment_type_boleto : 0    65332\n",
      "1    15781\n",
      "Name: payment_type_boleto, dtype: int64\n",
      "payment_type_credit_card : 1    59871\n",
      "0    21242\n",
      "Name: payment_type_credit_card, dtype: int64\n",
      "payment_type_debit_card : 0    79932\n",
      "1     1181\n",
      "Name: payment_type_debit_card, dtype: int64\n",
      "order_month : 8     8771\n",
      "5     8729\n",
      "7     8443\n",
      "3     8063\n",
      "6     7809\n",
      "4     7685\n",
      "2     6842\n",
      "1     6464\n",
      "11    6255\n",
      "12    4496\n",
      "10    4093\n",
      "9     3463\n",
      "Name: order_month, dtype: int64\n",
      "Shipping days : 7.0      6331\n",
      "8.0      5575\n",
      "6.0      5539\n",
      "9.0      4932\n",
      "5.0      4776\n",
      "         ... \n",
      "209.0       1\n",
      "102.0       1\n",
      "98.0        1\n",
      "165.0       1\n",
      "172.0       1\n",
      "Name: Shipping days, Length: 136, dtype: int64\n",
      "On time delivery : 1    74878\n",
      "0     6235\n",
      "Name: On time delivery, dtype: int64\n"
     ]
    }
   ],
   "source": [
    "for i in X_train.columns:\n",
    "    print(i,':',X_train[i].value_counts())"
   ]
  },
  {
   "cell_type": "markdown",
   "metadata": {},
   "source": [
    "#### \n",
    "### Outlier Engineering"
   ]
  },
  {
   "cell_type": "code",
   "execution_count": 46,
   "metadata": {},
   "outputs": [
    {
     "data": {
      "text/plain": [
       "Index(['price', 'freight_value', 'payment_value', 'product_name_lenght',\n",
       "       'product_description_lenght', 'product_photos_qty', 'product_weight_g',\n",
       "       'product_length_cm', 'product_height_cm', 'product_width_cm',\n",
       "       'customer_city_sao paulo', 'customer_city_rio de janeiro',\n",
       "       'customer_city_belo horizonte', 'customer_city_brasilia',\n",
       "       'customer_city_curitiba', 'customer_city_campinas', 'customer_state_SP',\n",
       "       'customer_state_RJ', 'customer_state_MG', 'customer_state_RS',\n",
       "       'customer_state_PR', 'customer_state_SC', 'seller_city_sao paulo',\n",
       "       'seller_city_ibitinga', 'seller_city_curitiba',\n",
       "       'seller_city_santo andre', 'seller_city_sao jose do rio preto',\n",
       "       'seller_city_belo horizonte', 'seller_state_SP', 'seller_state_MG',\n",
       "       'seller_state_PR', 'seller_state_RJ', 'seller_state_SC',\n",
       "       'seller_state_RS', 'order_status_delivered', 'order_status_shipped',\n",
       "       'order_status_canceled', 'order_status_processing',\n",
       "       'payment_type_boleto', 'payment_type_credit_card',\n",
       "       'payment_type_debit_card', 'Shipping days'],\n",
       "      dtype='object')"
      ]
     },
     "execution_count": 46,
     "metadata": {},
     "output_type": "execute_result"
    }
   ],
   "source": [
    "# show all int and float values\n",
    "X_train.select_dtypes(['int','float']).columns"
   ]
  },
  {
   "cell_type": "code",
   "execution_count": 47,
   "metadata": {
    "scrolled": false
   },
   "outputs": [
    {
     "data": {
      "image/png": "[encoded data removed]",
      "text/plain": [
       "<Figure size 1152x288 with 2 Axes>"
      ]
     },
     "metadata": {
      "needs_background": "light"
     },
     "output_type": "display_data"
    },
    {
     "data": {
      "image/png": "[encoded data removed]",
      "text/plain": [
       "<Figure size 1152x288 with 2 Axes>"
      ]
     },
     "metadata": {
      "needs_background": "light"
     },
     "output_type": "display_data"
    },
    {
     "data": {
      "image/png": "[encoded data removed]",
      "text/plain": [
       "<Figure size 1152x288 with 2 Axes>"
      ]
     },
     "metadata": {
      "needs_background": "light"
     },
     "output_type": "display_data"
    },
    {
     "data": {
      "image/png": "[encoded data removed]",
      "text/plain": [
       "<Figure size 1152x288 with 2 Axes>"
      ]
     },
     "metadata": {
      "needs_background": "light"
     },
     "output_type": "display_data"
    },
    {
     "data": {
      "image/png": "[encoded data removed]",
      "text/plain": [
       "<Figure size 1152x288 with 2 Axes>"
      ]
     },
     "metadata": {
      "needs_background": "light"
     },
     "output_type": "display_data"
    },
    {
     "data": {
      "image/png": "[encoded data removed]",
      "text/plain": [
       "<Figure size 1152x288 with 2 Axes>"
      ]
     },
     "metadata": {
      "needs_background": "light"
     },
     "output_type": "display_data"
    },
    {
     "data": {
      "image/png": "[encoded data removed]",
      "text/plain": [
       "<Figure size 1152x288 with 2 Axes>"
      ]
     },
     "metadata": {
      "needs_background": "light"
     },
     "output_type": "display_data"
    },
    {
     "data": {
      "image/png": "[encoded data removed]",
      "text/plain": [
       "<Figure size 1152x288 with 2 Axes>"
      ]
     },
     "metadata": {
      "needs_background": "light"
     },
     "output_type": "display_data"
    },
    {
     "data": {
      "image/png": "[encoded data removed]",
      "text/plain": [
       "<Figure size 1152x288 with 2 Axes>"
      ]
     },
     "metadata": {
      "needs_background": "light"
     },
     "output_type": "display_data"
    },
    {
     "data": {
      "image/png": "[encoded data removed]",
      "text/plain": [
       "<Figure size 1152x288 with 2 Axes>"
      ]
     },
     "metadata": {
      "needs_background": "light"
     },
     "output_type": "display_data"
    }
   ],
   "source": [
    "# show the distribution of each continuous features\n",
    "for feature in ['price','freight_value','payment_value','product_name_lenght','product_description_lenght',\n",
    "                'product_photos_qty','product_weight_g','product_length_cm','product_height_cm','product_width_cm']:\n",
    "    plt.figure(figsize=(16, 4))\n",
    "    \n",
    "    plt.subplot(1, 3, 1)\n",
    "    sns.histplot(x=feature,data=X_train,bins=80)\n",
    "    plt.subplot(1, 3, 2)\n",
    "    sns.boxplot(x=feature,data=X_train)"
   ]
  },
  {
   "cell_type": "code",
   "execution_count": 48,
   "metadata": {},
   "outputs": [
    {
     "data": {
      "text/plain": [
       "ArbitraryOutlierCapper(max_capping_dict={'freight_value': 35,\n",
       "                                         'payment_value': 500, 'price': 400,\n",
       "                                         'product_description_lenght': 1000,\n",
       "                                         'product_height_cm': 37,\n",
       "                                         'product_length_cm': 65,\n",
       "                                         'product_photos_qty': 6,\n",
       "                                         'product_weight_g': 4000,\n",
       "                                         'product_width_cm': 50},\n",
       "                       min_capping_dict={'product_name_lenght': 20})"
      ]
     },
     "execution_count": 48,
     "metadata": {},
     "output_type": "execute_result"
    }
   ],
   "source": [
    "# import library to handle the outliers\n",
    "from feature_engine.outliers import ArbitraryOutlierCapper\n",
    "\n",
    "capper = ArbitraryOutlierCapper(max_capping_dict={'price':400,'freight_value':35,'payment_value':500,\n",
    "                                                 'product_description_lenght':1000,'product_photos_qty':6,\n",
    "                                                  'product_weight_g':4000,'product_length_cm':65,'product_height_cm':37,\n",
    "                                                  'product_width_cm':50},min_capping_dict={'product_name_lenght':20})\n",
    "capper.fit(X_train)"
   ]
  },
  {
   "cell_type": "code",
   "execution_count": 49,
   "metadata": {},
   "outputs": [],
   "source": [
    "X_train = capper.transform(X_train)\n",
    "X_test = capper.transform(X_test)"
   ]
  },
  {
   "cell_type": "code",
   "execution_count": 50,
   "metadata": {},
   "outputs": [
    {
     "data": {
      "image/png": "[encoded data removed]",
      "text/plain": [
       "<Figure size 1152x288 with 2 Axes>"
      ]
     },
     "metadata": {
      "needs_background": "light"
     },
     "output_type": "display_data"
    },
    {
     "data": {
      "image/png": "[encoded data removed]",
      "text/plain": [
       "<Figure size 1152x288 with 2 Axes>"
      ]
     },
     "metadata": {
      "needs_background": "light"
     },
     "output_type": "display_data"
    },
    {
     "data": {
      "image/png": "[encoded data removed]",
      "text/plain": [
       "<Figure size 1152x288 with 2 Axes>"
      ]
     },
     "metadata": {
      "needs_background": "light"
     },
     "output_type": "display_data"
    },
    {
     "data": {
      "image/png": "[encoded data removed]",
      "text/plain": [
       "<Figure size 1152x288 with 2 Axes>"
      ]
     },
     "metadata": {
      "needs_background": "light"
     },
     "output_type": "display_data"
    },
    {
     "data": {
      "image/png": "[encoded data removed]",
      "text/plain": [
       "<Figure size 1152x288 with 2 Axes>"
      ]
     },
     "metadata": {
      "needs_background": "light"
     },
     "output_type": "display_data"
    },
    {
     "data": {
      "image/png": "[encoded data removed]",
      "text/plain": [
       "<Figure size 1152x288 with 2 Axes>"
      ]
     },
     "metadata": {
      "needs_background": "light"
     },
     "output_type": "display_data"
    },
    {
     "data": {
      "image/png": "[encoded data removed]",
      "text/plain": [
       "<Figure size 1152x288 with 2 Axes>"
      ]
     },
     "metadata": {
      "needs_background": "light"
     },
     "output_type": "display_data"
    },
    {
     "data": {
      "image/png": "[encoded data removed]",
      "text/plain": [
       "<Figure size 1152x288 with 2 Axes>"
      ]
     },
     "metadata": {
      "needs_background": "light"
     },
     "output_type": "display_data"
    },
    {
     "data": {
      "image/png": "[encoded data removed]",
      "text/plain": [
       "<Figure size 1152x288 with 2 Axes>"
      ]
     },
     "metadata": {
      "needs_background": "light"
     },
     "output_type": "display_data"
    },
    {
     "data": {
      "image/png": "[encoded data removed]",
      "text/plain": [
       "<Figure size 1152x288 with 2 Axes>"
      ]
     },
     "metadata": {
      "needs_background": "light"
     },
     "output_type": "display_data"
    }
   ],
   "source": [
    "# show the distribution of each continuous features\n",
    "for feature in ['price','freight_value','payment_value','product_name_lenght','product_description_lenght',\n",
    "                'product_photos_qty','product_weight_g','product_length_cm','product_height_cm','product_width_cm']:\n",
    "    plt.figure(figsize=(16, 4))\n",
    "    \n",
    "    plt.subplot(1, 3, 1)\n",
    "    sns.histplot(x=feature,data=X_train,bins=80)\n",
    "    plt.subplot(1, 3, 2)\n",
    "    sns.boxplot(x=feature,data=X_train)"
   ]
  },
  {
   "cell_type": "markdown",
   "metadata": {},
   "source": [
    "#### \n",
    "### Feature Selection with feature engine"
   ]
  },
  {
   "cell_type": "code",
   "execution_count": 51,
   "metadata": {},
   "outputs": [
    {
     "name": "stdout",
     "output_type": "stream",
     "text": [
      "[]\n"
     ]
    }
   ],
   "source": [
    "# find the columns with constant and quasi-constant feature\n",
    "constant_features = [feat for feat in X_train.columns if X_train[feat].std() == 0]\n",
    "print(constant_features) # there are no constant features"
   ]
  },
  {
   "cell_type": "code",
   "execution_count": 52,
   "metadata": {},
   "outputs": [
    {
     "data": {
      "text/plain": [
       "VarianceThreshold(threshold=0.01)"
      ]
     },
     "execution_count": 52,
     "metadata": {},
     "output_type": "execute_result"
    }
   ],
   "source": [
    "# select coloumns with quasi_constant feature\n",
    "from sklearn.feature_selection import VarianceThreshold\n",
    "\n",
    "sel = VarianceThreshold(threshold = 0.01)\n",
    "sel.fit(X_train)"
   ]
  },
  {
   "cell_type": "code",
   "execution_count": 53,
   "metadata": {},
   "outputs": [
    {
     "data": {
      "text/plain": [
       "(2,\n",
       " Index(['order_status_canceled', 'order_status_processing'], dtype='object'))"
      ]
     },
     "execution_count": 53,
     "metadata": {},
     "output_type": "execute_result"
    }
   ],
   "source": [
    "# print the number of quasi-constant features\n",
    "\n",
    "quasi_constant = X_train.columns[~sel.get_support()]\n",
    "\n",
    "len(quasi_constant),quasi_constant"
   ]
  },
  {
   "cell_type": "code",
   "execution_count": 54,
   "metadata": {},
   "outputs": [
    {
     "name": "stdout",
     "output_type": "stream",
     "text": [
      "order_status_canceled \n",
      " 0    0.99513\n",
      "1    0.00487\n",
      "Name: order_status_canceled, dtype: float64 \n",
      "\n",
      "order_status_processing \n",
      " 0    0.996819\n",
      "1    0.003181\n",
      "Name: order_status_processing, dtype: float64 \n",
      "\n"
     ]
    }
   ],
   "source": [
    "# show the percentage of quasi-constant values\n",
    "for feature in quasi_constant:\n",
    "    print(feature, '\\n', X_train[feature].value_counts()/np.float(len(X_train)),'\\n')"
   ]
  },
  {
   "cell_type": "code",
   "execution_count": 55,
   "metadata": {},
   "outputs": [
    {
     "name": "stdout",
     "output_type": "stream",
     "text": [
      "0\n",
      "10\n",
      "20\n",
      "30\n",
      "40\n"
     ]
    },
    {
     "data": {
      "text/plain": [
       "0"
      ]
     },
     "execution_count": 55,
     "metadata": {},
     "output_type": "execute_result"
    }
   ],
   "source": [
    "# check for duplicated features in the training set\n",
    "\n",
    "duplicated_feat = []\n",
    "for i in range(0, len(X_train.columns)):\n",
    "    if i % 10 == 0:\n",
    "        print(i)\n",
    "\n",
    "    col_1 = X_train.columns[i]\n",
    "\n",
    "    for col_2 in X_train.columns[i + 1:]:\n",
    "        if X_train[col_1].equals(X_train[col_2]):\n",
    "            duplicated_feat.append(col_2)\n",
    "            \n",
    "len(duplicated_feat)"
   ]
  },
  {
   "cell_type": "code",
   "execution_count": 56,
   "metadata": {},
   "outputs": [
    {
     "name": "stdout",
     "output_type": "stream",
     "text": [
      "correlated features:  0\n"
     ]
    }
   ],
   "source": [
    "# find and drop correlated features\n",
    "def correlation(dataset, threshold):\n",
    "    col_corr = set()\n",
    "    corr_matrix = dataset.corr()\n",
    "    for i in range(len(corr_matrix.columns)):\n",
    "        for j in range(i):\n",
    "            if abs(corr_matrix.iloc[i, j]) > threshold: \n",
    "                colname = corr_matrix.columns[i]  # getting the name of column\n",
    "                col_corr.add(colname)\n",
    "    return col_corr\n",
    "\n",
    "corr_features = correlation(X_train, 0.9)\n",
    "print('correlated features: ', len(set(corr_features)) )\n",
    "\n",
    "# removed correlated  features\n",
    "X_train.drop(labels=corr_features, axis=1, inplace=True)\n",
    "X_test.drop(labels=corr_features, axis=1, inplace=True)"
   ]
  },
  {
   "cell_type": "code",
   "execution_count": 57,
   "metadata": {},
   "outputs": [
    {
     "data": {
      "text/plain": [
       "array(['health_beauty', 'auto', 'luggage_accessories', 'watches_gifts',\n",
       "       'housewares', 'perfumery', 'bed_bath_table', 'sports_leisure',\n",
       "       'computers_accessories', 'toys', 'furniture_decor', 'stationery',\n",
       "       'home_confort', 'telephony', 'office_furniture', 'baby',\n",
       "       'cool_stuff', 'food', 'fashion_shoes', 'small_appliances',\n",
       "       'cine_photo', 'garden_tools', 'drinks', 'electronics',\n",
       "       'construction_tools_construction', 'food_drink',\n",
       "       'industry_commerce_and_business', 'books_imported', 'pet_shop',\n",
       "       'fashion_bags_accessories', 'consoles_games', 'home_appliances',\n",
       "       'kitchen_dining_laundry_garden_furniture',\n",
       "       'agro_industry_and_commerce', 'fashion_underwear_beach',\n",
       "       'fixed_telephony', 'audio', 'air_conditioning', 'flowers',\n",
       "       'computers', 'tablets_printing_image', 'construction_tools_safety',\n",
       "       'fashion_male_clothing', 'musical_instruments',\n",
       "       'costruction_tools_tools', 'party_supplies',\n",
       "       'furniture_living_room', 'cds_dvds_musicals', 'market_place',\n",
       "       'home_appliances_2', 'home_construction', 'books_general_interest',\n",
       "       'christmas_supplies', 'art', 'books_technical',\n",
       "       'construction_tools_lights',\n",
       "       'small_appliances_home_oven_and_coffee', 'signaling_and_security',\n",
       "       'dvds_blu_ray', 'la_cuisine', 'furniture_bedroom', 'music',\n",
       "       'fashio_female_clothing', 'costruction_tools_garden',\n",
       "       'arts_and_craftmanship', 'furniture_mattress_and_upholstery',\n",
       "       'diapers_and_hygiene', 'fashion_childrens_clothes',\n",
       "       'home_comfort_2', 'fashion_sport', 'security_and_services'],\n",
       "      dtype=object)"
      ]
     },
     "execution_count": 57,
     "metadata": {},
     "output_type": "execute_result"
    }
   ],
   "source": [
    "y_train.unique()"
   ]
  },
  {
   "cell_type": "code",
   "execution_count": 58,
   "metadata": {},
   "outputs": [
    {
     "data": {
      "text/plain": [
       "<AxesSubplot:xlabel='product_category', ylabel='Count'>"
      ]
     },
     "execution_count": 58,
     "metadata": {},
     "output_type": "execute_result"
    },
    {
     "data": {
      "image/png": "[encoded data removed]",
      "text/plain": [
       "<Figure size 432x288 with 1 Axes>"
      ]
     },
     "metadata": {
      "needs_background": "light"
     },
     "output_type": "display_data"
    }
   ],
   "source": [
    "# check the categories of y_train\n",
    "sns.histplot(x=y_train,bins=100)"
   ]
  },
  {
   "cell_type": "code",
   "execution_count": 59,
   "metadata": {},
   "outputs": [
    {
     "name": "stdout",
     "output_type": "stream",
     "text": [
      "bed_bath_table               0.102252\n",
      "health_beauty                0.085843\n",
      "sports_leisure               0.077152\n",
      "furniture_decor              0.076079\n",
      "computers_accessories        0.069779\n",
      "                               ...   \n",
      "arts_and_craftmanship        0.000197\n",
      "cds_dvds_musicals            0.000173\n",
      "la_cuisine                   0.000173\n",
      "fashion_childrens_clothes    0.000062\n",
      "security_and_services        0.000025\n",
      "Name: product_category, Length: 71, dtype: float64\n",
      "\n",
      "Numbers of categories:  71 \n",
      "Numbers of rare categories:  50\n"
     ]
    }
   ],
   "source": [
    "print(y_train.value_counts()/len(y_train))\n",
    "\n",
    "print('\\nNumbers of categories: ',y_train.nunique(),\n",
    "    '\\nNumbers of rare categories: ',\n",
    "      sum(y_train.value_counts()/len(y_train)<0.01))"
   ]
  },
  {
   "cell_type": "code",
   "execution_count": 60,
   "metadata": {},
   "outputs": [],
   "source": [
    "# encode the rare categories in y_train\n",
    "rare_cat = list(y_train.value_counts()[y_train.value_counts()/len(y_train)<0.01].index)\n",
    "\n",
    "y_train.replace(rare_cat,'rare',inplace=True)\n",
    "y_test.replace(rare_cat,'rare',inplace=True)"
   ]
  },
  {
   "cell_type": "markdown",
   "metadata": {},
   "source": [
    "### Data preprocessing"
   ]
  },
  {
   "cell_type": "code",
   "execution_count": 61,
   "metadata": {},
   "outputs": [],
   "source": [
    "from sklearn.preprocessing import StandardScaler\n",
    "scaler = StandardScaler()\n",
    "\n",
    "scaler.fit(X_train)\n",
    "\n",
    "X_train = scaler.transform(X_train)\n",
    "X_test = scaler.transform(X_test)"
   ]
  },
  {
   "cell_type": "markdown",
   "metadata": {},
   "source": [
    "### Model building"
   ]
  },
  {
   "cell_type": "code",
   "execution_count": 62,
   "metadata": {},
   "outputs": [],
   "source": [
    "# import machine learning algorithm model\n",
    "from sklearn.tree import DecisionTreeClassifier\n",
    "from sklearn.svm import SVC\n",
    "from sklearn.neighbors import KNeighborsClassifier\n",
    "from sklearn.ensemble import RandomForestClassifier"
   ]
  },
  {
   "cell_type": "code",
   "execution_count": 63,
   "metadata": {},
   "outputs": [
    {
     "data": {
      "text/plain": [
       "RandomForestClassifier(n_estimators=200)"
      ]
     },
     "execution_count": 63,
     "metadata": {},
     "output_type": "execute_result"
    }
   ],
   "source": [
    "# train the model\n",
    "rfc = RandomForestClassifier(n_estimators=200)\n",
    "rfc.fit(X_train,y_train)"
   ]
  },
  {
   "cell_type": "code",
   "execution_count": 64,
   "metadata": {},
   "outputs": [
    {
     "name": "stdout",
     "output_type": "stream",
     "text": [
      "[[1003    1   16   19    1    2    5    1   10    1   40   34    0    1\n",
      "     1    1  100   31    1   20    2    8]\n",
      " [   7  766   15    3    0    9    2    1   16    2   15   13    0    2\n",
      "     1    1   41   15    2    1    4    2]\n",
      " [   2    0 3455    3    0    0    0    0   10    0    5   14    1    1\n",
      "     1    0   25    9    0    0    2    1]\n",
      " [   7    0    3 2222    4    0    1    3    5    0   47   21    0    0\n",
      "     6    0   56   30    2   11    1    3]\n",
      " [   2    1    0    2  270    0    1    3    0    0    9    0    0    0\n",
      "     2    0   17   13    0    2    0    1]\n",
      " [   6    1   14    3    0 1116    2    1    7    1   15    4    0    1\n",
      "     1    1   57   21    0    1    5    1]\n",
      " [   3    1    4    4    0    0  767    1    3    0   14    5    0    2\n",
      "     1    0   28   11    1    9    1    4]\n",
      " [   6    1    4    1    0    0    0  571    3    0    2    2    0    0\n",
      "     2    1    9    5    0    5    2    8]\n",
      " [   1    2   68   11    0    3    0    0 2315    1   13   39    1    6\n",
      "     2    2   79   19    5    0    3    3]\n",
      " [   4    1   13    8    1    2    3    1   10 1189   13   18    1    2\n",
      "     1    1   73   21    0    3    6    3]\n",
      " [   6    1    4   20    0    2    3    2    4    0 2793   24    0    3\n",
      "     9    0   66   49    1   10    4    8]\n",
      " [   5    4   30   10    0    0    0    2   27    1   31 1971    1    2\n",
      "     0    0  110   47    3    5    1    3]\n",
      " [   2    0    7    1    0    2    0    0    2    0    1    4  298    0\n",
      "     0    0   18    5    6    0    2    1]\n",
      " [   0    1    0    1    0    0    0    0    2    0    1    2    0  500\n",
      "     0    0    9    0    0    0    0    0]\n",
      " [   2    0    1   10    0    0    5    7    0    0   42    3    0    1\n",
      "   922    0   23   25    1    7    4   15]\n",
      " [   8    0    7    5    0    0    1    3    3    0   16   14    0    0\n",
      "     4  473   46   24    0    2    1    0]\n",
      " [  16    3   43   37    0    5   12    6   36    2   62   39    1    6\n",
      "     5    1 3285   67    8   15    8   35]\n",
      " [   7    1   13   22    1    9    2    3    9    0   76   42    0    5\n",
      "     7    1   93 2345    1   18   12   20]\n",
      " [   1    2   16    6    0    1    0    4    8    0   12   19    2    1\n",
      "     0    1   40   11  681    7    7    3]\n",
      " [   4    0    0    9    1    0    4    3    0    1   10    2    0    0\n",
      "     0    0   17    4    0 1338    0   13]\n",
      " [   5    6   24   11    0    3    0    0   16    0   20   35    0    1\n",
      "     4    0   64   40    2    3 1042    6]\n",
      " [   0    0    3    6    0    0    1    0    0    0    7    2    0    0\n",
      "    14    0    6    6    0    1    0 1851]] \n",
      "\n",
      "                          precision    recall  f1-score   support\n",
      "\n",
      "                    auto       0.91      0.77      0.84      1298\n",
      "                    baby       0.97      0.83      0.90       918\n",
      "          bed_bath_table       0.92      0.98      0.95      3529\n",
      "   computers_accessories       0.92      0.92      0.92      2422\n",
      "          consoles_games       0.97      0.84      0.90       323\n",
      "              cool_stuff       0.97      0.89      0.93      1258\n",
      "             electronics       0.95      0.89      0.92       859\n",
      "fashion_bags_accessories       0.93      0.92      0.93       622\n",
      "         furniture_decor       0.93      0.90      0.92      2573\n",
      "            garden_tools       0.99      0.87      0.92      1374\n",
      "           health_beauty       0.86      0.93      0.89      3009\n",
      "              housewares       0.85      0.87      0.86      2253\n",
      "     luggage_accessories       0.98      0.85      0.91       349\n",
      "        office_furniture       0.94      0.97      0.95       516\n",
      "               perfumery       0.94      0.86      0.90      1068\n",
      "                pet_shop       0.98      0.78      0.87       607\n",
      "                    rare       0.77      0.89      0.83      3692\n",
      "          sports_leisure       0.84      0.87      0.86      2687\n",
      "              stationery       0.95      0.83      0.89       822\n",
      "               telephony       0.92      0.95      0.93      1406\n",
      "                    toys       0.94      0.81      0.87      1282\n",
      "           watches_gifts       0.93      0.98      0.95      1897\n",
      "\n",
      "                accuracy                           0.90     34764\n",
      "               macro avg       0.93      0.88      0.90     34764\n",
      "            weighted avg       0.90      0.90      0.90     34764\n",
      "\n"
     ]
    }
   ],
   "source": [
    "# evaluate the algorithm we just build\n",
    "from sklearn.metrics import classification_report,confusion_matrix,roc_auc_score\n",
    "\n",
    "pred = rfc.predict(X_test)\n",
    "print(confusion_matrix(y_test,pred),'\\n')\n",
    "print(classification_report(y_test,pred))"
   ]
  },
  {
   "cell_type": "code",
   "execution_count": null,
   "metadata": {},
   "outputs": [],
   "source": []
  },
  {
   "cell_type": "code",
   "execution_count": null,
   "metadata": {},
   "outputs": [],
   "source": []
  },
  {
   "cell_type": "code",
   "execution_count": null,
   "metadata": {},
   "outputs": [],
   "source": []
  }
 ],
 "metadata": {
  "kernelspec": {
   "display_name": "Python 3",
   "language": "python",
   "name": "python3"
  },
  "language_info": {
   "codemirror_mode": {
    "name": "ipython",
    "version": 3
   },
   "file_extension": ".py",
   "mimetype": "text/x-python",
   "name": "python",
   "nbconvert_exporter": "python",
   "pygments_lexer": "ipython3",
   "version": "3.8.5"
  }
 },
 "nbformat": 4,
 "nbformat_minor": 4
}
