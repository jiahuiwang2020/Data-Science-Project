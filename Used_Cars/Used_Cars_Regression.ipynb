{
 "cells": [
  {
   "cell_type": "markdown",
   "metadata": {},
   "source": [
    "\n",
    "<a id='0'></a>\n",
    "\n",
    "# Used Cars Dataset: EDA + Feature Engineering + Modelling \n"
   ]
  },
  {
   "cell_type": "markdown",
   "metadata": {},
   "source": [
    "Craigslist is the world's largest collection of used vehicles for sale. \n",
    "\n",
    "This is a dataset from Kaggle which includes every used vehicle entry within the United States on Craigslist.This data is scraped every few months, it contains most all relevant information that Craigslist provides on car sales including columns like price,condition,manufacturer,latitude/longitude,and other categories. \n",
    "\n",
    "Link of the dataset: https://www.kaggle.com/austinreese/craigslist-carstrucks-data\n"
   ]
  },
  {
   "cell_type": "markdown",
   "metadata": {},
   "source": [
    "## Table of Contents\n",
    "\n",
    "\n",
    "The table of contents for this project is as follows:-\n",
    "\n",
    "1. [The problem statement](#1)\n",
    "1. [Import libraries](#2)\n",
    "1. [Import dataset](#3)\n",
    "1. [Exploratory data analysis](#4)\n",
    "    -  [Univariate Analysis](#4.1)\n",
    "    -  [Bivariate Analysis](#4.2)\n",
    "    -  [Multivariate Analysis](#4.3)\n",
    "1. [Declare feature vector and target variable](#5)\n",
    "1. [Split data into training and test set](#6)\n",
    "1. [Feature Engineering](#7)\n",
    "1. [Feature Selection and Feature Scaling](#8)\n",
    "1. [Model training](#9)\n",
    "1. [Predict results and check the score](#10)\n",
    "1. [k-fold Cross Validation](#11)\n",
    "1. [Results and Conclusion](#12)\n"
   ]
  },
  {
   "cell_type": "markdown",
   "metadata": {},
   "source": [
    "## 1. The problem statement <a class=\"anchor\" id=\"1\"></a>\n",
    "\n",
    "In this kernel, I will try to predict the used cars price based on the original used cars dataset. So, let's get started.\n"
   ]
  },
  {
   "cell_type": "markdown",
   "metadata": {},
   "source": [
    "## 2. Import libraries <a class=\"anchor\" id=\"2\"></a>\n",
    "\n",
    "\n",
    "The first step in building the model is to import the necessary libraries."
   ]
  },
  {
   "cell_type": "code",
   "execution_count": 1,
   "metadata": {},
   "outputs": [],
   "source": [
    "# This Python 3 environment comes with many helpful analytics libraries installed\n",
    "# It is defined by the kaggle/python docker image: https://github.com/kaggle/docker-python\n",
    "# For example, here's several helpful packages to load in \n",
    "\n",
    "import numpy as np # linear algebra\n",
    "import pandas as pd # data processing\n",
    "\n",
    "# import libraries for plotting\n",
    "import matplotlib.pyplot as plt\n",
    "import seaborn as sns\n",
    "%matplotlib inline\n",
    "\n",
    "# Input data files are available in the \"../input/\" directory.\n",
    "# For example, running this (by clicking run or pressing Shift+Enter) will list all files under the input directory\n",
    "\n",
    "import os\n",
    "for dirname, _, filenames in os.walk('/dataset'):\n",
    "    for filename in filenames:\n",
    "        print(os.path.join(dirname, filename))\n",
    "\n",
    "# Any results you write to the current directory are saved as output."
   ]
  },
  {
   "cell_type": "code",
   "execution_count": 2,
   "metadata": {},
   "outputs": [],
   "source": [
    "import warnings\n",
    "\n",
    "warnings.filterwarnings('ignore')"
   ]
  },
  {
   "cell_type": "markdown",
   "metadata": {},
   "source": [
    "## 3. Import dataset <a class=\"anchor\" id=\"3\"></a>\n",
    "\n",
    "\n",
    "The next step is to import the dataset."
   ]
  },
  {
   "cell_type": "code",
   "execution_count": 3,
   "metadata": {},
   "outputs": [],
   "source": [
    "df = pd.read_csv('dataset/vehicles.csv',index_col='Unnamed: 0')"
   ]
  },
  {
   "cell_type": "markdown",
   "metadata": {},
   "source": [
    "## 4. Exploratory data analysis <a class=\"anchor\" id=\"4\"></a>\n",
    "\n",
    "\n",
    "- We have imported the data. \n",
    "\n",
    "- Now, its time to explore the data to gain insights about it. "
   ]
  },
  {
   "cell_type": "markdown",
   "metadata": {},
   "source": [
    "### View dimensions of dataset "
   ]
  },
  {
   "cell_type": "code",
   "execution_count": 4,
   "metadata": {},
   "outputs": [
    {
     "data": {
      "text/plain": [
       "(458213, 25)"
      ]
     },
     "execution_count": 4,
     "metadata": {},
     "output_type": "execute_result"
    }
   ],
   "source": [
    "df.shape"
   ]
  },
  {
   "cell_type": "markdown",
   "metadata": {},
   "source": [
    "We can see that there are 458213 instances and 25 variables in the data set."
   ]
  },
  {
   "cell_type": "markdown",
   "metadata": {},
   "source": [
    "### Preview the dataset"
   ]
  },
  {
   "cell_type": "code",
   "execution_count": 5,
   "metadata": {},
   "outputs": [
    {
     "data": {
      "text/html": [
       "<div>\n",
       "<style scoped>\n",
       "    .dataframe tbody tr th:only-of-type {\n",
       "        vertical-align: middle;\n",
       "    }\n",
       "\n",
       "    .dataframe tbody tr th {\n",
       "        vertical-align: top;\n",
       "    }\n",
       "\n",
       "    .dataframe thead th {\n",
       "        text-align: right;\n",
       "    }\n",
       "</style>\n",
       "<table border=\"1\" class=\"dataframe\">\n",
       "  <thead>\n",
       "    <tr style=\"text-align: right;\">\n",
       "      <th></th>\n",
       "      <th>id</th>\n",
       "      <th>url</th>\n",
       "      <th>region</th>\n",
       "      <th>region_url</th>\n",
       "      <th>price</th>\n",
       "      <th>year</th>\n",
       "      <th>manufacturer</th>\n",
       "      <th>model</th>\n",
       "      <th>condition</th>\n",
       "      <th>cylinders</th>\n",
       "      <th>...</th>\n",
       "      <th>drive</th>\n",
       "      <th>size</th>\n",
       "      <th>type</th>\n",
       "      <th>paint_color</th>\n",
       "      <th>image_url</th>\n",
       "      <th>description</th>\n",
       "      <th>state</th>\n",
       "      <th>lat</th>\n",
       "      <th>long</th>\n",
       "      <th>posting_date</th>\n",
       "    </tr>\n",
       "  </thead>\n",
       "  <tbody>\n",
       "    <tr>\n",
       "      <th>0</th>\n",
       "      <td>7240372487</td>\n",
       "      <td>https://auburn.craigslist.org/ctd/d/auburn-uni...</td>\n",
       "      <td>auburn</td>\n",
       "      <td>https://auburn.craigslist.org</td>\n",
       "      <td>35990</td>\n",
       "      <td>2010.0</td>\n",
       "      <td>chevrolet</td>\n",
       "      <td>corvette grand sport</td>\n",
       "      <td>good</td>\n",
       "      <td>8 cylinders</td>\n",
       "      <td>...</td>\n",
       "      <td>rwd</td>\n",
       "      <td>NaN</td>\n",
       "      <td>other</td>\n",
       "      <td>NaN</td>\n",
       "      <td>https://images.craigslist.org/00N0N_ipkbHVZYf4...</td>\n",
       "      <td>Carvana is the safer way to buy a car During t...</td>\n",
       "      <td>al</td>\n",
       "      <td>32.590000</td>\n",
       "      <td>-85.480000</td>\n",
       "      <td>2020-12-02T08:11:30-0600</td>\n",
       "    </tr>\n",
       "    <tr>\n",
       "      <th>1</th>\n",
       "      <td>7240309422</td>\n",
       "      <td>https://auburn.craigslist.org/cto/d/auburn-201...</td>\n",
       "      <td>auburn</td>\n",
       "      <td>https://auburn.craigslist.org</td>\n",
       "      <td>7500</td>\n",
       "      <td>2014.0</td>\n",
       "      <td>hyundai</td>\n",
       "      <td>sonata</td>\n",
       "      <td>excellent</td>\n",
       "      <td>4 cylinders</td>\n",
       "      <td>...</td>\n",
       "      <td>fwd</td>\n",
       "      <td>NaN</td>\n",
       "      <td>sedan</td>\n",
       "      <td>NaN</td>\n",
       "      <td>https://images.craigslist.org/00s0s_gBHYmJ5o7y...</td>\n",
       "      <td>I'll move to another city and try to sell my c...</td>\n",
       "      <td>al</td>\n",
       "      <td>32.547500</td>\n",
       "      <td>-85.468200</td>\n",
       "      <td>2020-12-02T02:11:50-0600</td>\n",
       "    </tr>\n",
       "    <tr>\n",
       "      <th>2</th>\n",
       "      <td>7240224296</td>\n",
       "      <td>https://auburn.craigslist.org/cto/d/auburn-200...</td>\n",
       "      <td>auburn</td>\n",
       "      <td>https://auburn.craigslist.org</td>\n",
       "      <td>4900</td>\n",
       "      <td>2006.0</td>\n",
       "      <td>bmw</td>\n",
       "      <td>x3 3.0i</td>\n",
       "      <td>good</td>\n",
       "      <td>6 cylinders</td>\n",
       "      <td>...</td>\n",
       "      <td>NaN</td>\n",
       "      <td>NaN</td>\n",
       "      <td>SUV</td>\n",
       "      <td>blue</td>\n",
       "      <td>https://images.craigslist.org/00B0B_5zgEGWPOrt...</td>\n",
       "      <td>Clean 2006 BMW X3 3.0I.  Beautiful and rare Bl...</td>\n",
       "      <td>al</td>\n",
       "      <td>32.616807</td>\n",
       "      <td>-85.464149</td>\n",
       "      <td>2020-12-01T19:50:41-0600</td>\n",
       "    </tr>\n",
       "    <tr>\n",
       "      <th>3</th>\n",
       "      <td>7240103965</td>\n",
       "      <td>https://auburn.craigslist.org/cto/d/lanett-tru...</td>\n",
       "      <td>auburn</td>\n",
       "      <td>https://auburn.craigslist.org</td>\n",
       "      <td>2000</td>\n",
       "      <td>1974.0</td>\n",
       "      <td>chevrolet</td>\n",
       "      <td>c-10</td>\n",
       "      <td>good</td>\n",
       "      <td>4 cylinders</td>\n",
       "      <td>...</td>\n",
       "      <td>rwd</td>\n",
       "      <td>full-size</td>\n",
       "      <td>pickup</td>\n",
       "      <td>blue</td>\n",
       "      <td>https://images.craigslist.org/00M0M_6o7KcDpArw...</td>\n",
       "      <td>1974 chev. truck (LONG BED) NEW starter front ...</td>\n",
       "      <td>al</td>\n",
       "      <td>32.861600</td>\n",
       "      <td>-85.216100</td>\n",
       "      <td>2020-12-01T15:54:45-0600</td>\n",
       "    </tr>\n",
       "    <tr>\n",
       "      <th>4</th>\n",
       "      <td>7239983776</td>\n",
       "      <td>https://auburn.craigslist.org/cto/d/auburn-200...</td>\n",
       "      <td>auburn</td>\n",
       "      <td>https://auburn.craigslist.org</td>\n",
       "      <td>19500</td>\n",
       "      <td>2005.0</td>\n",
       "      <td>ford</td>\n",
       "      <td>f350 lariat</td>\n",
       "      <td>excellent</td>\n",
       "      <td>8 cylinders</td>\n",
       "      <td>...</td>\n",
       "      <td>4wd</td>\n",
       "      <td>full-size</td>\n",
       "      <td>pickup</td>\n",
       "      <td>blue</td>\n",
       "      <td>https://images.craigslist.org/00p0p_b95l1EgUfl...</td>\n",
       "      <td>2005 Ford F350 Lariat (Bullet Proofed). This t...</td>\n",
       "      <td>al</td>\n",
       "      <td>32.547500</td>\n",
       "      <td>-85.468200</td>\n",
       "      <td>2020-12-01T12:53:56-0600</td>\n",
       "    </tr>\n",
       "  </tbody>\n",
       "</table>\n",
       "<p>5 rows × 25 columns</p>\n",
       "</div>"
      ],
      "text/plain": [
       "           id                                                url  region  \\\n",
       "0  7240372487  https://auburn.craigslist.org/ctd/d/auburn-uni...  auburn   \n",
       "1  7240309422  https://auburn.craigslist.org/cto/d/auburn-201...  auburn   \n",
       "2  7240224296  https://auburn.craigslist.org/cto/d/auburn-200...  auburn   \n",
       "3  7240103965  https://auburn.craigslist.org/cto/d/lanett-tru...  auburn   \n",
       "4  7239983776  https://auburn.craigslist.org/cto/d/auburn-200...  auburn   \n",
       "\n",
       "                      region_url  price    year manufacturer  \\\n",
       "0  https://auburn.craigslist.org  35990  2010.0    chevrolet   \n",
       "1  https://auburn.craigslist.org   7500  2014.0      hyundai   \n",
       "2  https://auburn.craigslist.org   4900  2006.0          bmw   \n",
       "3  https://auburn.craigslist.org   2000  1974.0    chevrolet   \n",
       "4  https://auburn.craigslist.org  19500  2005.0         ford   \n",
       "\n",
       "                  model  condition    cylinders  ... drive       size    type  \\\n",
       "0  corvette grand sport       good  8 cylinders  ...   rwd        NaN   other   \n",
       "1                sonata  excellent  4 cylinders  ...   fwd        NaN   sedan   \n",
       "2               x3 3.0i       good  6 cylinders  ...   NaN        NaN     SUV   \n",
       "3                  c-10       good  4 cylinders  ...   rwd  full-size  pickup   \n",
       "4           f350 lariat  excellent  8 cylinders  ...   4wd  full-size  pickup   \n",
       "\n",
       "  paint_color                                          image_url  \\\n",
       "0         NaN  https://images.craigslist.org/00N0N_ipkbHVZYf4...   \n",
       "1         NaN  https://images.craigslist.org/00s0s_gBHYmJ5o7y...   \n",
       "2        blue  https://images.craigslist.org/00B0B_5zgEGWPOrt...   \n",
       "3        blue  https://images.craigslist.org/00M0M_6o7KcDpArw...   \n",
       "4        blue  https://images.craigslist.org/00p0p_b95l1EgUfl...   \n",
       "\n",
       "                                         description state        lat  \\\n",
       "0  Carvana is the safer way to buy a car During t...    al  32.590000   \n",
       "1  I'll move to another city and try to sell my c...    al  32.547500   \n",
       "2  Clean 2006 BMW X3 3.0I.  Beautiful and rare Bl...    al  32.616807   \n",
       "3  1974 chev. truck (LONG BED) NEW starter front ...    al  32.861600   \n",
       "4  2005 Ford F350 Lariat (Bullet Proofed). This t...    al  32.547500   \n",
       "\n",
       "        long              posting_date  \n",
       "0 -85.480000  2020-12-02T08:11:30-0600  \n",
       "1 -85.468200  2020-12-02T02:11:50-0600  \n",
       "2 -85.464149  2020-12-01T19:50:41-0600  \n",
       "3 -85.216100  2020-12-01T15:54:45-0600  \n",
       "4 -85.468200  2020-12-01T12:53:56-0600  \n",
       "\n",
       "[5 rows x 25 columns]"
      ]
     },
     "execution_count": 5,
     "metadata": {},
     "output_type": "execute_result"
    }
   ],
   "source": [
    "df.head()"
   ]
  },
  {
   "cell_type": "markdown",
   "metadata": {},
   "source": [
    "### View column names "
   ]
  },
  {
   "cell_type": "code",
   "execution_count": 6,
   "metadata": {},
   "outputs": [
    {
     "data": {
      "text/plain": [
       "Index(['id', 'url', 'region', 'region_url', 'price', 'year', 'manufacturer',\n",
       "       'model', 'condition', 'cylinders', 'fuel', 'odometer', 'title_status',\n",
       "       'transmission', 'VIN', 'drive', 'size', 'type', 'paint_color',\n",
       "       'image_url', 'description', 'state', 'lat', 'long', 'posting_date'],\n",
       "      dtype='object')"
      ]
     },
     "execution_count": 6,
     "metadata": {},
     "output_type": "execute_result"
    }
   ],
   "source": [
    "df.columns"
   ]
  },
  {
   "cell_type": "markdown",
   "metadata": {},
   "source": [
    "### View summary of dataset "
   ]
  },
  {
   "cell_type": "code",
   "execution_count": 7,
   "metadata": {},
   "outputs": [
    {
     "name": "stdout",
     "output_type": "stream",
     "text": [
      "<class 'pandas.core.frame.DataFrame'>\n",
      "Int64Index: 458213 entries, 0 to 458212\n",
      "Data columns (total 25 columns):\n",
      " #   Column        Non-Null Count   Dtype  \n",
      "---  ------        --------------   -----  \n",
      " 0   id            458213 non-null  int64  \n",
      " 1   url           458213 non-null  object \n",
      " 2   region        458213 non-null  object \n",
      " 3   region_url    458213 non-null  object \n",
      " 4   price         458213 non-null  int64  \n",
      " 5   year          457163 non-null  float64\n",
      " 6   manufacturer  439993 non-null  object \n",
      " 7   model         453367 non-null  object \n",
      " 8   condition     265273 non-null  object \n",
      " 9   cylinders     287073 non-null  object \n",
      " 10  fuel          454976 non-null  object \n",
      " 11  odometer      402910 non-null  float64\n",
      " 12  title_status  455636 non-null  object \n",
      " 13  transmission  455771 non-null  object \n",
      " 14  VIN           270664 non-null  object \n",
      " 15  drive         324025 non-null  object \n",
      " 16  size          136865 non-null  object \n",
      " 17  type          345475 non-null  object \n",
      " 18  paint_color   317370 non-null  object \n",
      " 19  image_url     458185 non-null  object \n",
      " 20  description   458143 non-null  object \n",
      " 21  state         458213 non-null  object \n",
      " 22  lat           450765 non-null  float64\n",
      " 23  long          450765 non-null  float64\n",
      " 24  posting_date  458185 non-null  object \n",
      "dtypes: float64(4), int64(2), object(19)\n",
      "memory usage: 90.9+ MB\n"
     ]
    }
   ],
   "source": [
    "df.info()"
   ]
  },
  {
   "cell_type": "markdown",
   "metadata": {},
   "source": [
    "#### Comment\n",
    "\n",
    "- We can see that the dataset contains mixture of categorical and numerical variables.\n",
    "\n",
    "- Categorical variables have data type `object`.\n",
    "\n",
    "- Numerical variables have data type `float64`.\n",
    "\n",
    "- Also, there are some missing values in the dataset. We will explore it later."
   ]
  },
  {
   "cell_type": "markdown",
   "metadata": {},
   "source": [
    "### View statistical properties of dataset"
   ]
  },
  {
   "cell_type": "code",
   "execution_count": 8,
   "metadata": {},
   "outputs": [
    {
     "data": {
      "text/html": [
       "<div>\n",
       "<style scoped>\n",
       "    .dataframe tbody tr th:only-of-type {\n",
       "        vertical-align: middle;\n",
       "    }\n",
       "\n",
       "    .dataframe tbody tr th {\n",
       "        vertical-align: top;\n",
       "    }\n",
       "\n",
       "    .dataframe thead th {\n",
       "        text-align: right;\n",
       "    }\n",
       "</style>\n",
       "<table border=\"1\" class=\"dataframe\">\n",
       "  <thead>\n",
       "    <tr style=\"text-align: right;\">\n",
       "      <th></th>\n",
       "      <th>id</th>\n",
       "      <th>price</th>\n",
       "      <th>year</th>\n",
       "      <th>odometer</th>\n",
       "      <th>lat</th>\n",
       "      <th>long</th>\n",
       "    </tr>\n",
       "  </thead>\n",
       "  <tbody>\n",
       "    <tr>\n",
       "      <th>count</th>\n",
       "      <td>4.582130e+05</td>\n",
       "      <td>4.582130e+05</td>\n",
       "      <td>457163.000000</td>\n",
       "      <td>4.029100e+05</td>\n",
       "      <td>450765.000000</td>\n",
       "      <td>450765.000000</td>\n",
       "    </tr>\n",
       "    <tr>\n",
       "      <th>mean</th>\n",
       "      <td>7.235233e+09</td>\n",
       "      <td>4.042093e+04</td>\n",
       "      <td>2010.746067</td>\n",
       "      <td>1.016698e+05</td>\n",
       "      <td>38.531925</td>\n",
       "      <td>-94.375824</td>\n",
       "    </tr>\n",
       "    <tr>\n",
       "      <th>std</th>\n",
       "      <td>4.594362e+06</td>\n",
       "      <td>8.194599e+06</td>\n",
       "      <td>8.868136</td>\n",
       "      <td>3.228623e+06</td>\n",
       "      <td>5.857378</td>\n",
       "      <td>18.076225</td>\n",
       "    </tr>\n",
       "    <tr>\n",
       "      <th>min</th>\n",
       "      <td>7.208550e+09</td>\n",
       "      <td>0.000000e+00</td>\n",
       "      <td>1900.000000</td>\n",
       "      <td>0.000000e+00</td>\n",
       "      <td>-82.607549</td>\n",
       "      <td>-164.091797</td>\n",
       "    </tr>\n",
       "    <tr>\n",
       "      <th>25%</th>\n",
       "      <td>7.231953e+09</td>\n",
       "      <td>4.900000e+03</td>\n",
       "      <td>2008.000000</td>\n",
       "      <td>4.087700e+04</td>\n",
       "      <td>34.600000</td>\n",
       "      <td>-110.890427</td>\n",
       "    </tr>\n",
       "    <tr>\n",
       "      <th>50%</th>\n",
       "      <td>7.236409e+09</td>\n",
       "      <td>1.099500e+04</td>\n",
       "      <td>2013.000000</td>\n",
       "      <td>8.764100e+04</td>\n",
       "      <td>39.244500</td>\n",
       "      <td>-88.314889</td>\n",
       "    </tr>\n",
       "    <tr>\n",
       "      <th>75%</th>\n",
       "      <td>7.239321e+09</td>\n",
       "      <td>2.149500e+04</td>\n",
       "      <td>2016.000000</td>\n",
       "      <td>1.340000e+05</td>\n",
       "      <td>42.484503</td>\n",
       "      <td>-81.015022</td>\n",
       "    </tr>\n",
       "    <tr>\n",
       "      <th>max</th>\n",
       "      <td>7.241019e+09</td>\n",
       "      <td>3.615215e+09</td>\n",
       "      <td>2021.000000</td>\n",
       "      <td>2.043756e+09</td>\n",
       "      <td>82.049255</td>\n",
       "      <td>150.898969</td>\n",
       "    </tr>\n",
       "  </tbody>\n",
       "</table>\n",
       "</div>"
      ],
      "text/plain": [
       "                 id         price           year      odometer            lat  \\\n",
       "count  4.582130e+05  4.582130e+05  457163.000000  4.029100e+05  450765.000000   \n",
       "mean   7.235233e+09  4.042093e+04    2010.746067  1.016698e+05      38.531925   \n",
       "std    4.594362e+06  8.194599e+06       8.868136  3.228623e+06       5.857378   \n",
       "min    7.208550e+09  0.000000e+00    1900.000000  0.000000e+00     -82.607549   \n",
       "25%    7.231953e+09  4.900000e+03    2008.000000  4.087700e+04      34.600000   \n",
       "50%    7.236409e+09  1.099500e+04    2013.000000  8.764100e+04      39.244500   \n",
       "75%    7.239321e+09  2.149500e+04    2016.000000  1.340000e+05      42.484503   \n",
       "max    7.241019e+09  3.615215e+09    2021.000000  2.043756e+09      82.049255   \n",
       "\n",
       "                long  \n",
       "count  450765.000000  \n",
       "mean      -94.375824  \n",
       "std        18.076225  \n",
       "min      -164.091797  \n",
       "25%      -110.890427  \n",
       "50%       -88.314889  \n",
       "75%       -81.015022  \n",
       "max       150.898969  "
      ]
     },
     "execution_count": 8,
     "metadata": {},
     "output_type": "execute_result"
    }
   ],
   "source": [
    "df.describe()"
   ]
  },
  {
   "cell_type": "markdown",
   "metadata": {},
   "source": [
    "## 4.1. Univariate Analysis <a class=\"anchor\" id=\"4.1\"></a>"
   ]
  },
  {
   "cell_type": "markdown",
   "metadata": {},
   "source": [
    "### Explore `price` target variable "
   ]
  },
  {
   "cell_type": "markdown",
   "metadata": {},
   "source": [
    "#### Check for missing values"
   ]
  },
  {
   "cell_type": "code",
   "execution_count": 9,
   "metadata": {},
   "outputs": [
    {
     "data": {
      "text/plain": [
       "0"
      ]
     },
     "execution_count": 9,
     "metadata": {},
     "output_type": "execute_result"
    }
   ],
   "source": [
    "df['price'].isnull().sum()"
   ]
  },
  {
   "cell_type": "markdown",
   "metadata": {},
   "source": [
    "We can see that there are no missing values in the target variable."
   ]
  },
  {
   "cell_type": "markdown",
   "metadata": {},
   "source": [
    "#### View statistical properties of values"
   ]
  },
  {
   "cell_type": "code",
   "execution_count": 10,
   "metadata": {},
   "outputs": [
    {
     "data": {
      "text/plain": [
       "count    4.582130e+05\n",
       "mean     4.042093e+04\n",
       "std      8.194599e+06\n",
       "min      0.000000e+00\n",
       "25%      4.900000e+03\n",
       "50%      1.099500e+04\n",
       "75%      2.149500e+04\n",
       "max      3.615215e+09\n",
       "Name: price, dtype: float64"
      ]
     },
     "execution_count": 10,
     "metadata": {},
     "output_type": "execute_result"
    }
   ],
   "source": [
    "df['price'].describe()"
   ]
  },
  {
   "cell_type": "markdown",
   "metadata": {},
   "source": [
    "#### View the distribution of values"
   ]
  },
  {
   "cell_type": "code",
   "execution_count": 11,
   "metadata": {},
   "outputs": [
    {
     "data": {
      "text/plain": [
       "<AxesSubplot:xlabel='price'>"
      ]
     },
     "execution_count": 11,
     "metadata": {},
     "output_type": "execute_result"
    },
    {
     "data": {
      "image/png": "[encoded data removed]",
      "text/plain": [
       "<Figure size 1440x288 with 1 Axes>"
      ]
     },
     "metadata": {
      "needs_background": "light"
     },
     "output_type": "display_data"
    }
   ],
   "source": [
    "plt.figure(figsize=(20, 4))\n",
    "sns.boxplot(x='price',data=df)"
   ]
  },
  {
   "cell_type": "markdown",
   "metadata": {},
   "source": [
    "#### Comment\n",
    "\n",
    "- We can see that there are many outliers in this column."
   ]
  },
  {
   "cell_type": "markdown",
   "metadata": {},
   "source": [
    "## 4.2. Bivariate Analysis <a class=\"anchor\" id=\"4.2\"></a>"
   ]
  },
  {
   "cell_type": "markdown",
   "metadata": {},
   "source": [
    "### Types of variables \n",
    "\n",
    "\n",
    "In this section, I segregate the dataset into categorical and numerical variables. There are a mixture of categorical and numerical variables in the dataset. Categorical variables have data type object. Numerical variables have data type float64.\n",
    "\n",
    "\n",
    "First of all, I will find categorical variables."
   ]
  },
  {
   "cell_type": "markdown",
   "metadata": {},
   "source": [
    "### Explore Categorical Variables"
   ]
  },
  {
   "cell_type": "code",
   "execution_count": 12,
   "metadata": {},
   "outputs": [
    {
     "name": "stdout",
     "output_type": "stream",
     "text": [
      "Numbers of Categorical variables:  19\n",
      "\n",
      "The categorical variables are: ['url', 'region', 'region_url', 'manufacturer', 'model', 'condition', 'cylinders', 'fuel', 'title_status', 'transmission', 'VIN', 'drive', 'size', 'type', 'paint_color', 'image_url', 'description', 'state', 'posting_date']\n"
     ]
    }
   ],
   "source": [
    "# find categorical variables\n",
    "\n",
    "categorical = [var for var in df.columns if df[var].dtype=='O']\n",
    "\n",
    "print('Numbers of Categorical variables: ',len(categorical))\n",
    "\n",
    "print('\\nThe categorical variables are:', categorical)"
   ]
  },
  {
   "cell_type": "code",
   "execution_count": 13,
   "metadata": {},
   "outputs": [
    {
     "data": {
      "text/html": [
       "<div>\n",
       "<style scoped>\n",
       "    .dataframe tbody tr th:only-of-type {\n",
       "        vertical-align: middle;\n",
       "    }\n",
       "\n",
       "    .dataframe tbody tr th {\n",
       "        vertical-align: top;\n",
       "    }\n",
       "\n",
       "    .dataframe thead th {\n",
       "        text-align: right;\n",
       "    }\n",
       "</style>\n",
       "<table border=\"1\" class=\"dataframe\">\n",
       "  <thead>\n",
       "    <tr style=\"text-align: right;\">\n",
       "      <th></th>\n",
       "      <th>url</th>\n",
       "      <th>region</th>\n",
       "      <th>region_url</th>\n",
       "      <th>manufacturer</th>\n",
       "      <th>model</th>\n",
       "      <th>condition</th>\n",
       "      <th>cylinders</th>\n",
       "      <th>fuel</th>\n",
       "      <th>title_status</th>\n",
       "      <th>transmission</th>\n",
       "      <th>VIN</th>\n",
       "      <th>drive</th>\n",
       "      <th>size</th>\n",
       "      <th>type</th>\n",
       "      <th>paint_color</th>\n",
       "      <th>image_url</th>\n",
       "      <th>description</th>\n",
       "      <th>state</th>\n",
       "      <th>posting_date</th>\n",
       "    </tr>\n",
       "  </thead>\n",
       "  <tbody>\n",
       "    <tr>\n",
       "      <th>0</th>\n",
       "      <td>https://auburn.craigslist.org/ctd/d/auburn-uni...</td>\n",
       "      <td>auburn</td>\n",
       "      <td>https://auburn.craigslist.org</td>\n",
       "      <td>chevrolet</td>\n",
       "      <td>corvette grand sport</td>\n",
       "      <td>good</td>\n",
       "      <td>8 cylinders</td>\n",
       "      <td>gas</td>\n",
       "      <td>clean</td>\n",
       "      <td>other</td>\n",
       "      <td>1G1YU3DW1A5106980</td>\n",
       "      <td>rwd</td>\n",
       "      <td>NaN</td>\n",
       "      <td>other</td>\n",
       "      <td>NaN</td>\n",
       "      <td>https://images.craigslist.org/00N0N_ipkbHVZYf4...</td>\n",
       "      <td>Carvana is the safer way to buy a car During t...</td>\n",
       "      <td>al</td>\n",
       "      <td>2020-12-02T08:11:30-0600</td>\n",
       "    </tr>\n",
       "    <tr>\n",
       "      <th>1</th>\n",
       "      <td>https://auburn.craigslist.org/cto/d/auburn-201...</td>\n",
       "      <td>auburn</td>\n",
       "      <td>https://auburn.craigslist.org</td>\n",
       "      <td>hyundai</td>\n",
       "      <td>sonata</td>\n",
       "      <td>excellent</td>\n",
       "      <td>4 cylinders</td>\n",
       "      <td>gas</td>\n",
       "      <td>clean</td>\n",
       "      <td>automatic</td>\n",
       "      <td>5NPEC4AB0EH813529</td>\n",
       "      <td>fwd</td>\n",
       "      <td>NaN</td>\n",
       "      <td>sedan</td>\n",
       "      <td>NaN</td>\n",
       "      <td>https://images.craigslist.org/00s0s_gBHYmJ5o7y...</td>\n",
       "      <td>I'll move to another city and try to sell my c...</td>\n",
       "      <td>al</td>\n",
       "      <td>2020-12-02T02:11:50-0600</td>\n",
       "    </tr>\n",
       "    <tr>\n",
       "      <th>2</th>\n",
       "      <td>https://auburn.craigslist.org/cto/d/auburn-200...</td>\n",
       "      <td>auburn</td>\n",
       "      <td>https://auburn.craigslist.org</td>\n",
       "      <td>bmw</td>\n",
       "      <td>x3 3.0i</td>\n",
       "      <td>good</td>\n",
       "      <td>6 cylinders</td>\n",
       "      <td>gas</td>\n",
       "      <td>clean</td>\n",
       "      <td>automatic</td>\n",
       "      <td>NaN</td>\n",
       "      <td>NaN</td>\n",
       "      <td>NaN</td>\n",
       "      <td>SUV</td>\n",
       "      <td>blue</td>\n",
       "      <td>https://images.craigslist.org/00B0B_5zgEGWPOrt...</td>\n",
       "      <td>Clean 2006 BMW X3 3.0I.  Beautiful and rare Bl...</td>\n",
       "      <td>al</td>\n",
       "      <td>2020-12-01T19:50:41-0600</td>\n",
       "    </tr>\n",
       "    <tr>\n",
       "      <th>3</th>\n",
       "      <td>https://auburn.craigslist.org/cto/d/lanett-tru...</td>\n",
       "      <td>auburn</td>\n",
       "      <td>https://auburn.craigslist.org</td>\n",
       "      <td>chevrolet</td>\n",
       "      <td>c-10</td>\n",
       "      <td>good</td>\n",
       "      <td>4 cylinders</td>\n",
       "      <td>gas</td>\n",
       "      <td>clean</td>\n",
       "      <td>automatic</td>\n",
       "      <td>NaN</td>\n",
       "      <td>rwd</td>\n",
       "      <td>full-size</td>\n",
       "      <td>pickup</td>\n",
       "      <td>blue</td>\n",
       "      <td>https://images.craigslist.org/00M0M_6o7KcDpArw...</td>\n",
       "      <td>1974 chev. truck (LONG BED) NEW starter front ...</td>\n",
       "      <td>al</td>\n",
       "      <td>2020-12-01T15:54:45-0600</td>\n",
       "    </tr>\n",
       "    <tr>\n",
       "      <th>4</th>\n",
       "      <td>https://auburn.craigslist.org/cto/d/auburn-200...</td>\n",
       "      <td>auburn</td>\n",
       "      <td>https://auburn.craigslist.org</td>\n",
       "      <td>ford</td>\n",
       "      <td>f350 lariat</td>\n",
       "      <td>excellent</td>\n",
       "      <td>8 cylinders</td>\n",
       "      <td>diesel</td>\n",
       "      <td>lien</td>\n",
       "      <td>automatic</td>\n",
       "      <td>NaN</td>\n",
       "      <td>4wd</td>\n",
       "      <td>full-size</td>\n",
       "      <td>pickup</td>\n",
       "      <td>blue</td>\n",
       "      <td>https://images.craigslist.org/00p0p_b95l1EgUfl...</td>\n",
       "      <td>2005 Ford F350 Lariat (Bullet Proofed). This t...</td>\n",
       "      <td>al</td>\n",
       "      <td>2020-12-01T12:53:56-0600</td>\n",
       "    </tr>\n",
       "  </tbody>\n",
       "</table>\n",
       "</div>"
      ],
      "text/plain": [
       "                                                 url  region  \\\n",
       "0  https://auburn.craigslist.org/ctd/d/auburn-uni...  auburn   \n",
       "1  https://auburn.craigslist.org/cto/d/auburn-201...  auburn   \n",
       "2  https://auburn.craigslist.org/cto/d/auburn-200...  auburn   \n",
       "3  https://auburn.craigslist.org/cto/d/lanett-tru...  auburn   \n",
       "4  https://auburn.craigslist.org/cto/d/auburn-200...  auburn   \n",
       "\n",
       "                      region_url manufacturer                 model  \\\n",
       "0  https://auburn.craigslist.org    chevrolet  corvette grand sport   \n",
       "1  https://auburn.craigslist.org      hyundai                sonata   \n",
       "2  https://auburn.craigslist.org          bmw               x3 3.0i   \n",
       "3  https://auburn.craigslist.org    chevrolet                  c-10   \n",
       "4  https://auburn.craigslist.org         ford           f350 lariat   \n",
       "\n",
       "   condition    cylinders    fuel title_status transmission  \\\n",
       "0       good  8 cylinders     gas        clean        other   \n",
       "1  excellent  4 cylinders     gas        clean    automatic   \n",
       "2       good  6 cylinders     gas        clean    automatic   \n",
       "3       good  4 cylinders     gas        clean    automatic   \n",
       "4  excellent  8 cylinders  diesel         lien    automatic   \n",
       "\n",
       "                 VIN drive       size    type paint_color  \\\n",
       "0  1G1YU3DW1A5106980   rwd        NaN   other         NaN   \n",
       "1  5NPEC4AB0EH813529   fwd        NaN   sedan         NaN   \n",
       "2                NaN   NaN        NaN     SUV        blue   \n",
       "3                NaN   rwd  full-size  pickup        blue   \n",
       "4                NaN   4wd  full-size  pickup        blue   \n",
       "\n",
       "                                           image_url  \\\n",
       "0  https://images.craigslist.org/00N0N_ipkbHVZYf4...   \n",
       "1  https://images.craigslist.org/00s0s_gBHYmJ5o7y...   \n",
       "2  https://images.craigslist.org/00B0B_5zgEGWPOrt...   \n",
       "3  https://images.craigslist.org/00M0M_6o7KcDpArw...   \n",
       "4  https://images.craigslist.org/00p0p_b95l1EgUfl...   \n",
       "\n",
       "                                         description state  \\\n",
       "0  Carvana is the safer way to buy a car During t...    al   \n",
       "1  I'll move to another city and try to sell my c...    al   \n",
       "2  Clean 2006 BMW X3 3.0I.  Beautiful and rare Bl...    al   \n",
       "3  1974 chev. truck (LONG BED) NEW starter front ...    al   \n",
       "4  2005 Ford F350 Lariat (Bullet Proofed). This t...    al   \n",
       "\n",
       "               posting_date  \n",
       "0  2020-12-02T08:11:30-0600  \n",
       "1  2020-12-02T02:11:50-0600  \n",
       "2  2020-12-01T19:50:41-0600  \n",
       "3  2020-12-01T15:54:45-0600  \n",
       "4  2020-12-01T12:53:56-0600  "
      ]
     },
     "execution_count": 13,
     "metadata": {},
     "output_type": "execute_result"
    }
   ],
   "source": [
    "# view the categorical variables\n",
    "\n",
    "df[categorical].head()"
   ]
  },
  {
   "cell_type": "markdown",
   "metadata": {},
   "source": [
    "### Summary of categorical variables \n",
    "\n",
    "\n",
    "- There is a date variable. It is denoted by `posting_date` column.\n",
    "\n",
    "\n",
    "- There are 19 categorical variables.\n",
    "\n",
    "\n",
    "- There are 3 variables containing url information.\n"
   ]
  },
  {
   "cell_type": "markdown",
   "metadata": {},
   "source": [
    "### Explore problems within categorical variables \n",
    "\n",
    "\n",
    "First, I will explore the categorical variables.\n",
    "\n",
    "\n",
    "#### Missing values in categorical variables"
   ]
  },
  {
   "cell_type": "code",
   "execution_count": 14,
   "metadata": {},
   "outputs": [
    {
     "data": {
      "text/html": [
       "<div>\n",
       "<style scoped>\n",
       "    .dataframe tbody tr th:only-of-type {\n",
       "        vertical-align: middle;\n",
       "    }\n",
       "\n",
       "    .dataframe tbody tr th {\n",
       "        vertical-align: top;\n",
       "    }\n",
       "\n",
       "    .dataframe thead th {\n",
       "        text-align: right;\n",
       "    }\n",
       "</style>\n",
       "<table border=\"1\" class=\"dataframe\">\n",
       "  <thead>\n",
       "    <tr style=\"text-align: right;\">\n",
       "      <th></th>\n",
       "      <th>Number of NA</th>\n",
       "      <th>Percentage of NA (%)</th>\n",
       "    </tr>\n",
       "  </thead>\n",
       "  <tbody>\n",
       "    <tr>\n",
       "      <th>size</th>\n",
       "      <td>321348.0</td>\n",
       "      <td>70.130703</td>\n",
       "    </tr>\n",
       "    <tr>\n",
       "      <th>condition</th>\n",
       "      <td>192940.0</td>\n",
       "      <td>42.107055</td>\n",
       "    </tr>\n",
       "    <tr>\n",
       "      <th>VIN</th>\n",
       "      <td>187549.0</td>\n",
       "      <td>40.930528</td>\n",
       "    </tr>\n",
       "    <tr>\n",
       "      <th>cylinders</th>\n",
       "      <td>171140.0</td>\n",
       "      <td>37.349442</td>\n",
       "    </tr>\n",
       "    <tr>\n",
       "      <th>paint_color</th>\n",
       "      <td>140843.0</td>\n",
       "      <td>30.737452</td>\n",
       "    </tr>\n",
       "    <tr>\n",
       "      <th>drive</th>\n",
       "      <td>134188.0</td>\n",
       "      <td>29.285070</td>\n",
       "    </tr>\n",
       "    <tr>\n",
       "      <th>type</th>\n",
       "      <td>112738.0</td>\n",
       "      <td>24.603841</td>\n",
       "    </tr>\n",
       "    <tr>\n",
       "      <th>odometer</th>\n",
       "      <td>55303.0</td>\n",
       "      <td>12.069278</td>\n",
       "    </tr>\n",
       "    <tr>\n",
       "      <th>manufacturer</th>\n",
       "      <td>18220.0</td>\n",
       "      <td>3.976317</td>\n",
       "    </tr>\n",
       "    <tr>\n",
       "      <th>lat</th>\n",
       "      <td>7448.0</td>\n",
       "      <td>1.625445</td>\n",
       "    </tr>\n",
       "    <tr>\n",
       "      <th>long</th>\n",
       "      <td>7448.0</td>\n",
       "      <td>1.625445</td>\n",
       "    </tr>\n",
       "    <tr>\n",
       "      <th>model</th>\n",
       "      <td>4846.0</td>\n",
       "      <td>1.057587</td>\n",
       "    </tr>\n",
       "    <tr>\n",
       "      <th>fuel</th>\n",
       "      <td>3237.0</td>\n",
       "      <td>0.706440</td>\n",
       "    </tr>\n",
       "    <tr>\n",
       "      <th>title_status</th>\n",
       "      <td>2577.0</td>\n",
       "      <td>0.562402</td>\n",
       "    </tr>\n",
       "    <tr>\n",
       "      <th>transmission</th>\n",
       "      <td>2442.0</td>\n",
       "      <td>0.532940</td>\n",
       "    </tr>\n",
       "    <tr>\n",
       "      <th>year</th>\n",
       "      <td>1050.0</td>\n",
       "      <td>0.229151</td>\n",
       "    </tr>\n",
       "    <tr>\n",
       "      <th>description</th>\n",
       "      <td>70.0</td>\n",
       "      <td>0.015277</td>\n",
       "    </tr>\n",
       "    <tr>\n",
       "      <th>image_url</th>\n",
       "      <td>28.0</td>\n",
       "      <td>0.006111</td>\n",
       "    </tr>\n",
       "    <tr>\n",
       "      <th>posting_date</th>\n",
       "      <td>28.0</td>\n",
       "      <td>0.006111</td>\n",
       "    </tr>\n",
       "    <tr>\n",
       "      <th>url</th>\n",
       "      <td>0.0</td>\n",
       "      <td>0.000000</td>\n",
       "    </tr>\n",
       "    <tr>\n",
       "      <th>price</th>\n",
       "      <td>0.0</td>\n",
       "      <td>0.000000</td>\n",
       "    </tr>\n",
       "    <tr>\n",
       "      <th>state</th>\n",
       "      <td>0.0</td>\n",
       "      <td>0.000000</td>\n",
       "    </tr>\n",
       "    <tr>\n",
       "      <th>region_url</th>\n",
       "      <td>0.0</td>\n",
       "      <td>0.000000</td>\n",
       "    </tr>\n",
       "    <tr>\n",
       "      <th>region</th>\n",
       "      <td>0.0</td>\n",
       "      <td>0.000000</td>\n",
       "    </tr>\n",
       "    <tr>\n",
       "      <th>id</th>\n",
       "      <td>0.0</td>\n",
       "      <td>0.000000</td>\n",
       "    </tr>\n",
       "  </tbody>\n",
       "</table>\n",
       "</div>"
      ],
      "text/plain": [
       "              Number of NA  Percentage of NA (%)\n",
       "size              321348.0             70.130703\n",
       "condition         192940.0             42.107055\n",
       "VIN               187549.0             40.930528\n",
       "cylinders         171140.0             37.349442\n",
       "paint_color       140843.0             30.737452\n",
       "drive             134188.0             29.285070\n",
       "type              112738.0             24.603841\n",
       "odometer           55303.0             12.069278\n",
       "manufacturer       18220.0              3.976317\n",
       "lat                 7448.0              1.625445\n",
       "long                7448.0              1.625445\n",
       "model               4846.0              1.057587\n",
       "fuel                3237.0              0.706440\n",
       "title_status        2577.0              0.562402\n",
       "transmission        2442.0              0.532940\n",
       "year                1050.0              0.229151\n",
       "description           70.0              0.015277\n",
       "image_url             28.0              0.006111\n",
       "posting_date          28.0              0.006111\n",
       "url                    0.0              0.000000\n",
       "price                  0.0              0.000000\n",
       "state                  0.0              0.000000\n",
       "region_url             0.0              0.000000\n",
       "region                 0.0              0.000000\n",
       "id                     0.0              0.000000"
      ]
     },
     "execution_count": 14,
     "metadata": {},
     "output_type": "execute_result"
    }
   ],
   "source": [
    "# check missing values in categorical variables\n",
    "df_eda = pd.DataFrame([df.isnull().sum(),df.isnull().sum()/len(df)*100],\n",
    "                      index=['Number of NA', 'Percentage of NA (%)']).T\n",
    "\n",
    "df_eda.sort_values(\"Number of NA\",ascending=False)"
   ]
  },
  {
   "cell_type": "code",
   "execution_count": 15,
   "metadata": {},
   "outputs": [
    {
     "data": {
      "text/plain": [
       "<AxesSubplot:>"
      ]
     },
     "execution_count": 15,
     "metadata": {},
     "output_type": "execute_result"
    },
    {
     "data": {
      "image/png": "[encoded data removed]",
      "text/plain": [
       "<Figure size 864x648 with 1 Axes>"
      ]
     },
     "metadata": {
      "needs_background": "light"
     },
     "output_type": "display_data"
    }
   ],
   "source": [
    "# plot the missing value using heatmap\n",
    "plt.figure(figsize=(12,9))\n",
    "sns.heatmap(df[categorical].isna(),yticklabels=False,cbar=False,cmap='viridis')"
   ]
  },
  {
   "cell_type": "markdown",
   "metadata": {},
   "source": [
    "We can see that there are 15 categorical variables in the dataset which contains missing values.\n",
    "\n",
    "Several variables contain a large scale of missing values, such as condition, cylinders and size."
   ]
  },
  {
   "cell_type": "markdown",
   "metadata": {},
   "source": [
    "#### Frequency count of categorical variables\n",
    "\n",
    "\n",
    "Now, I will check the frequency counts of categorical variables."
   ]
  },
  {
   "cell_type": "code",
   "execution_count": 16,
   "metadata": {},
   "outputs": [
    {
     "name": "stdout",
     "output_type": "stream",
     "text": [
      "https://sanantonio.craigslist.org/cto/d/bulverde-2011-f150-fx2-ecoboost/7239767521.html     1\n",
      "https://fargo.craigslist.org/ctd/d/waite-park-2014-gmc-savana-cargo-van/7237669917.html     1\n",
      "https://pittsburgh.craigslist.org/cto/d/pittsburgh-honda-accord-2007/7230677051.html        1\n",
      "https://bozeman.craigslist.org/cto/d/bozeman-dodge-ram-hemi-64/7239367685.html              1\n",
      "https://medford.craigslist.org/ctd/d/medford-2008-mazda-cx9-3rd-seat-awd/7226510572.html    1\n",
      "https://kpr.craigslist.org/ctd/d/spokane-2017-ford-f150-150-150-lariat/7234737231.html      1\n",
      "Name: url, dtype: int64 \n",
      "\n",
      "columbus               3818\n",
      "rochester              3592\n",
      "jacksonville           3504\n",
      "west virginia (old)      11\n",
      "fort smith, AR           11\n",
      "sioux city, IA            1\n",
      "Name: region, dtype: int64 \n",
      "\n",
      "https://bend.craigslist.org          2989\n",
      "https://fresno.craigslist.org        2988\n",
      "https://spokane.craigslist.org       2988\n",
      "https://siskiyou.craigslist.org        28\n",
      "https://susanville.craigslist.org      17\n",
      "https://wv.craigslist.org              11\n",
      "Name: region_url, dtype: int64 \n",
      "\n",
      "ford          79666\n",
      "chevrolet     64977\n",
      "toyota        38577\n",
      "land rover       21\n",
      "morgan            3\n",
      "hennessey         1\n",
      "Name: manufacturer, dtype: int64 \n",
      "\n",
      "f-150              8370\n",
      "silverado 1500     5964\n",
      "1500               4211\n",
      "2005 SCION XA         1\n",
      "passat lux 2.0t       1\n",
      "tahoe 4wd ls.         1\n",
      "Name: model, dtype: int64 \n",
      "\n",
      "good         115685\n",
      "excellent    115206\n",
      "like new      24553\n",
      "fair           7740\n",
      "new            1428\n",
      "salvage         661\n",
      "Name: condition, dtype: int64 \n",
      "\n",
      "6 cylinders     105677\n",
      "4 cylinders      94767\n",
      "8 cylinders      81179\n",
      "other             1112\n",
      "3 cylinders        550\n",
      "12 cylinders       187\n",
      "Name: cylinders, dtype: int64 \n",
      "\n",
      "gas         399399\n",
      "diesel       31077\n",
      "other        16359\n",
      "other        16359\n",
      "hybrid        5790\n",
      "electric      2351\n",
      "Name: fuel, dtype: int64 \n",
      "\n",
      "clean         439626\n",
      "rebuilt         8698\n",
      "salvage         4233\n",
      "lien            2091\n",
      "missing          794\n",
      "parts only       194\n",
      "Name: title_status, dtype: int64 \n",
      "\n",
      "automatic    396322\n",
      "other         32186\n",
      "manual        27263\n",
      "automatic    396322\n",
      "other         32186\n",
      "manual        27263\n",
      "Name: transmission, dtype: int64 \n",
      "\n",
      "1C4HJWDG6HL702229    194\n",
      "JM1NC2LF6F0238386    177\n",
      "WBSDX9C51CE785198    176\n",
      "JTDDR32T750182335      1\n",
      "WAU43AFD3HN018027      1\n",
      "19UDE2F75GA009916      1\n",
      "Name: VIN, dtype: int64 \n",
      "\n",
      "4wd    139693\n",
      "fwd    122602\n",
      "rwd     61730\n",
      "4wd    139693\n",
      "fwd    122602\n",
      "rwd     61730\n",
      "Name: drive, dtype: int64 \n",
      "\n",
      "full-size      69736\n",
      "mid-size       41782\n",
      "compact        21825\n",
      "mid-size       41782\n",
      "compact        21825\n",
      "sub-compact     3522\n",
      "Name: size, dtype: int64 \n",
      "\n",
      "sedan       92364\n",
      "SUV         79882\n",
      "pickup      43343\n",
      "mini-van     6263\n",
      "bus           717\n",
      "offroad       647\n",
      "Name: type, dtype: int64 \n",
      "\n",
      "white     82786\n",
      "black     64145\n",
      "silver    46722\n",
      "yellow     2002\n",
      "orange     1970\n",
      "purple      768\n",
      "Name: paint_color, dtype: int64 \n",
      "\n",
      "https://images.craigslist.org/00c0c_1gCUGosl6wJ_0gw0co_600x450.jpg    194\n",
      "https://images.craigslist.org/00T0T_g9GPLSHhnyz_0gw0co_600x450.jpg    177\n",
      "https://images.craigslist.org/00i0i_1on43DpIXey_0gw0co_600x450.jpg    176\n",
      "https://images.craigslist.org/00w0w_fa2pU6NmsRA_0CI0t2_600x450.jpg      1\n",
      "https://images.craigslist.org/00i0i_aH7EuelL2yf_0ak07K_600x450.jpg      1\n",
      "https://images.craigslist.org/00r0r_ltFgXS6lzki_0ak07K_600x450.jpg      1\n",
      "Name: image_url, dtype: int64 \n",
      "\n",
      "👉 BAD Credit, NO Credit - OKAY! We FINANCE ANYONE!!! 🚘 Get your PRE-APPROVAL Today! CALL HIGH LINE AUTO SALES of SALEM NOW @ ☎️ (603) 952-4790   Why Choose HIGH LINE Auto Sales?  ☑️  Serving the Community for 25 years  ☑️ Over 100 years of combined Experience ☑️ Member of the BBB   ☑️ 5 Star⭐ Rating Everywhere - Look us up! ☑️ Free Carfax Reports  ☑️  New Model, Low Mileage Vehicles  ☑️ Clean Titles  ☑️ All Vehicles Warrantied  ☑️ The Original Bad Credit Professionals   \"You can't buy a good reputation, you must earn it.\"  ☎️ Call us to find out how we can help you finance your next vehicle.   ■  Need a Loan? No matter your credit situation we have you covered! Guaranteed financing for EVERYONE! Call us today @ (603) 952-4790     ■  HIGH LINE AUTO accepts all forms of Employment, ➡️ \\tSSI Income ➡️ \\tJob Letter ➡️ \\tW2 ➡️   1099 ➡️ \\tBank Statements ➡️ \\tSelf-Employment Bad Credit, Poor Credit - don't worry! Drive home TODAY! Don't wait; Call us now @  (603) 952-4790  for more info!    ■  Have you had past credit problems? Bankruptcy, Bad Credit from Divorce,  Second Chance Credit - all okay!  Apply online or speak directly to a professional by calling  (603) 952-4790                       ■  Need Financing? We have programs with as little as 💲500 down❗️❗️❗️ Call NOW @  (603) 952-4790                                    ■  Apply for our guaranteed financing NOW and drive home today contact us @  (603) 952-4790       ■  HIGH LINE AUTO has programs for all credit includingPOOR CREDIT FINANCING!  We work with multiple lenders to cover all types of credit, ➡️ \\tFirst time buyer ➡️ \\tSecond chance finance ➡️ \\tSub-prime lending ➡️ \\tPrime lending, APR as low as 1.9% We can have you approved in minutes. Apply now online or call  (603) 952-4790  now for pre-approval.                    Look over a complete list of our inventory and fill out an application now    💻 FOR FAST LOAN APPROVALS VISIT OUR WEBSITE AND FILL OUT THE APPLICATION ON OUR FINANCE TAB @   ➡️ www.highlinesalem.com ⬅️or call us to speak with a professional today at ☎️ (603) 952-4790 for an approval in just minutes.    247\n",
      "VISIT OUR WEBSITE WWW.DIRECTDETAILOFOH.COM HTTPS://DIRECTDETAILOHIO.COM/  WE HAVE A SELECTION OF CARS,TRUCKS,SUV'S. GUARANTEED APPROVAL. BUY HERE PAY HERE. NO CREDIT CHECKS! NO INCOME VERIFICATION!  Vehicle is AS-IS NO Warranty. Information deemed reliable, but not guaranteed. Interested parties should confirm all data before relying on it to make a purchase decision. All prices and specifications are subject to change without notice. Prices may not include additional fees such as government fees and taxes, title and registration fees, finance charges, dealer document preparation fees, processing fees, and emission testing and compliance charges.                                                                                                                                                                                                                                                                                                                                                                                                                                                                                                                                                                                                                                                                                                                                                                                                                                                                                                                                                                                                                                                                                                                                                                                                                                                                                                                                                                                                                                                                                                                   200\n",
      "Call or text today to find out more. (602) 620-6525 Calls only landline (406) 245-1785  Available at Standard Auto Sales 1503 Broadwater Ave. Billings, MT 59102 standardautosales.net   Need help with financing? We have options for most credit situations. We never charge a doc fee! Extended service contracts available. We buy cars and take consignments! Call or text Mike today to find out more. (602) 620-6525  Welcome to Standard Auto Sales, located in Billings, MT, where quality service and customer satisfaction come first. We are here to help you find a vehicle that fits your lifestyle from our wide selection of used cars, trucks, and SUVs. We pride ourselves on a hassle-free car buying experience where your needs come first. Swing by to let us exceed your expectations while finding the perfect vehicle! Do you need financing for your next used vehicle purchase? Do you have a good credit, bad credit or no credit history situation? We work with a variety of financial institutions and we will work hard to get you approved quickly and easily, at the best rate possible! Apply now or call us at (406) 245-1785 or text (602) 620-6525 to schedule a test drive today!                                                                                                                                                                                                                                                                                                                                                                                                                                                                                                                                                                                                                                                                                                                                                                                                                                                                                                                                                                         189\n",
      "2009 Hyundai Santa Fe all wheel drive 3.3 liter engine with 223,000 all highway miles vehicle is very clean with no issues or leaks engine oil and transmission fluid has just been serviced , new drive belt front brakes and tires in great shape, also has (new) front Windsheld because it had a crack very clean vehicle asking 3,500 obo please call  show contact info                                                                                                                                                                                                                                                                                                                                                                                                                                                                                                                                                                                                                                                                                                                                                                                                                                                                                                                                                                                                                                                                                                                                                                                                                                                                                                                                                                                                                                                                                                                                                                                                                                                                                                                                                                                                                      1\n",
      "Top of the line Solara, silver with black interior. Clean title. 77951 miles at this post. Owned and operated in Maryland. I did the Maryland State Inspection at the end of last year and it passed without any added work to be done. Great shape! Minor wear and tear. Leather, navigation, premium sound system. Drives like a dream. I upgraded the navigation to a 2016 Map Update DVD. Timing belt changed 8/18 with 68k miles. Cash only. $8500 obo. I added the Carfax report to the images.                                                                                                                                                                                                                                                                                                                                                                                                                                                                                                                                                                                                                                                                                                                                                                                                                                                                                                                                                                                                                                                                                                                                                                                                                                                                                                                                                                                                                                                                                                                                                                                                                                                                                              1\n",
      "Here's a great deal on this Clean Title 2015 Honda Civic LX 4 door Sedan with 36K MILES. Just arrived!!! Clean Title, 1-Owner. Perfect for long and short commuters. Very reliable vehicle with great handling and excellent gas mileage 30 city and 39 Hwy (4 Cylinder). Rear view Camera and Hands-free wireless Bluetooth ready. Please call to make sure this vehicle is still available. Phone - (858) 707-5215.  2015 Honda Civic LX Features: 1.8 L 4-Cyl. engine. Very fuel-efficient (Great MPG). 36K MILES.  - Clean Title - 1-Owner - Backup Camera - Bluetooth - CD Player / Auxiliary for Iphon / IPod - Power Windows/Locks - Power Mirrors - Keyless entry - Air conditioning / heating - ABS brakes - Tire pressure monitor - Stability Control - Security System - Telescoping steering wheel - Low Tire pressure warning - Outside Temperature display - Steering Wheel Controls - Daytime Running Lights - Covered under manufacture warranty, Buy with confidence!!!  Please Note: This price is only for customers with a pre-approved loan from any credit union or bank, or cash buyers. Trade-ins Welcome!  We specialize in: 2012 2013 2014 2015 2016 2017 2018 2019 2020 HONDA ACCORD LX EX CIVIC CRV CR-V SUV PILOT NISSAN ALTIMA SENTRA LEAF VERSA TOYOTA COROLLA COROLA CAMRY PRIUS AVALON KIA OPTIMA HYUNDAI SONATA 2012 2013 2014 2015 2016 2017 2018 2019 2020 Civic. Price excludes tax and dmv fees.                                                                                                                                                                                                                                                                                                                                                                                                                                                                                                                                                                                                                                                                                                                                                             1\n",
      "Name: description, dtype: int64 \n",
      "\n",
      "ca    51856\n",
      "fl    29952\n",
      "tx    24856\n",
      "wv     1022\n",
      "de     1011\n",
      "nd      564\n",
      "Name: state, dtype: int64 \n",
      "\n"
     ]
    },
    {
     "name": "stdout",
     "output_type": "stream",
     "text": [
      "2020-11-22T06:14:19-0500    7\n",
      "2020-12-02T07:50:07-0600    7\n",
      "2020-11-28T10:30:29-0500    6\n",
      "2020-11-25T11:24:35-0500    1\n",
      "2020-11-30T12:16:24-0600    1\n",
      "2020-12-02T14:51:11-0800    1\n",
      "Name: posting_date, dtype: int64 \n",
      "\n"
     ]
    }
   ],
   "source": [
    "# view frequency of categorical variables except for url features\n",
    "for var in categorical:\n",
    "    print(df[var].value_counts().iloc[np.r_[0:3, -3:0]],'\\n')"
   ]
  },
  {
   "cell_type": "code",
   "execution_count": 17,
   "metadata": {},
   "outputs": [
    {
     "name": "stdout",
     "output_type": "stream",
     "text": [
      "url \n",
      " https://sanantonio.craigslist.org/cto/d/bulverde-2011-f150-fx2-ecoboost/7239767521.html     0.000002\n",
      "https://fargo.craigslist.org/ctd/d/waite-park-2014-gmc-savana-cargo-van/7237669917.html     0.000002\n",
      "https://pittsburgh.craigslist.org/cto/d/pittsburgh-honda-accord-2007/7230677051.html        0.000002\n",
      "https://bozeman.craigslist.org/cto/d/bozeman-dodge-ram-hemi-64/7239367685.html              0.000002\n",
      "https://medford.craigslist.org/ctd/d/medford-2008-mazda-cx9-3rd-seat-awd/7226510572.html    0.000002\n",
      "https://kpr.craigslist.org/ctd/d/spokane-2017-ford-f150-150-150-lariat/7234737231.html      0.000002\n",
      "Name: url, dtype: float64 \n",
      "\n",
      "region \n",
      " columbus               0.008332\n",
      "rochester              0.007839\n",
      "jacksonville           0.007647\n",
      "west virginia (old)    0.000024\n",
      "fort smith, AR         0.000024\n",
      "sioux city, IA         0.000002\n",
      "Name: region, dtype: float64 \n",
      "\n",
      "region_url \n",
      " https://bend.craigslist.org          0.006523\n",
      "https://fresno.craigslist.org        0.006521\n",
      "https://spokane.craigslist.org       0.006521\n",
      "https://siskiyou.craigslist.org      0.000061\n",
      "https://susanville.craigslist.org    0.000037\n",
      "https://wv.craigslist.org            0.000024\n",
      "Name: region_url, dtype: float64 \n",
      "\n",
      "manufacturer \n",
      " ford          0.173862\n",
      "chevrolet     0.141805\n",
      "toyota        0.084190\n",
      "land rover    0.000046\n",
      "morgan        0.000007\n",
      "hennessey     0.000002\n",
      "Name: manufacturer, dtype: float64 \n",
      "\n",
      "model \n",
      " f-150              0.018267\n",
      "silverado 1500     0.013016\n",
      "1500               0.009190\n",
      "2005 SCION XA      0.000002\n",
      "passat lux 2.0t    0.000002\n",
      "tahoe 4wd ls.      0.000002\n",
      "Name: model, dtype: float64 \n",
      "\n",
      "condition \n",
      " good         0.252470\n",
      "excellent    0.251425\n",
      "like new     0.053584\n",
      "fair         0.016892\n",
      "new          0.003116\n",
      "salvage      0.001443\n",
      "Name: condition, dtype: float64 \n",
      "\n",
      "cylinders \n",
      " 6 cylinders     0.230629\n",
      "4 cylinders     0.206819\n",
      "8 cylinders     0.177164\n",
      "other           0.002427\n",
      "3 cylinders     0.001200\n",
      "12 cylinders    0.000408\n",
      "Name: cylinders, dtype: float64 \n",
      "\n",
      "fuel \n",
      " gas         0.871645\n",
      "diesel      0.067822\n",
      "other       0.035702\n",
      "other       0.035702\n",
      "hybrid      0.012636\n",
      "electric    0.005131\n",
      "Name: fuel, dtype: float64 \n",
      "\n",
      "title_status \n",
      " clean         0.959436\n",
      "rebuilt       0.018982\n",
      "salvage       0.009238\n",
      "lien          0.004563\n",
      "missing       0.001733\n",
      "parts only    0.000423\n",
      "Name: title_status, dtype: float64 \n",
      "\n",
      "transmission \n",
      " automatic    0.864930\n",
      "other        0.070242\n",
      "manual       0.059499\n",
      "automatic    0.864930\n",
      "other        0.070242\n",
      "manual       0.059499\n",
      "Name: transmission, dtype: float64 \n",
      "\n",
      "VIN \n",
      " 1C4HJWDG6HL702229    0.000423\n",
      "JM1NC2LF6F0238386    0.000386\n",
      "WBSDX9C51CE785198    0.000384\n",
      "JTDDR32T750182335    0.000002\n",
      "WAU43AFD3HN018027    0.000002\n",
      "19UDE2F75GA009916    0.000002\n",
      "Name: VIN, dtype: float64 \n",
      "\n",
      "drive \n",
      " 4wd    0.304865\n",
      "fwd    0.267566\n",
      "rwd    0.134719\n",
      "4wd    0.304865\n",
      "fwd    0.267566\n",
      "rwd    0.134719\n",
      "Name: drive, dtype: float64 \n",
      "\n",
      "size \n",
      " full-size      0.152191\n",
      "mid-size       0.091185\n",
      "compact        0.047631\n",
      "mid-size       0.091185\n",
      "compact        0.047631\n",
      "sub-compact    0.007686\n",
      "Name: size, dtype: float64 \n",
      "\n",
      "type \n",
      " sedan       0.201574\n",
      "SUV         0.174334\n",
      "pickup      0.094591\n",
      "mini-van    0.013668\n",
      "bus         0.001565\n",
      "offroad     0.001412\n",
      "Name: type, dtype: float64 \n",
      "\n",
      "paint_color \n",
      " white     0.180671\n",
      "black     0.139989\n",
      "silver    0.101966\n",
      "yellow    0.004369\n",
      "orange    0.004299\n",
      "purple    0.001676\n",
      "Name: paint_color, dtype: float64 \n",
      "\n",
      "image_url \n",
      " https://images.craigslist.org/00c0c_1gCUGosl6wJ_0gw0co_600x450.jpg    0.000423\n",
      "https://images.craigslist.org/00T0T_g9GPLSHhnyz_0gw0co_600x450.jpg    0.000386\n",
      "https://images.craigslist.org/00i0i_1on43DpIXey_0gw0co_600x450.jpg    0.000384\n",
      "https://images.craigslist.org/00w0w_fa2pU6NmsRA_0CI0t2_600x450.jpg    0.000002\n",
      "https://images.craigslist.org/00i0i_aH7EuelL2yf_0ak07K_600x450.jpg    0.000002\n",
      "https://images.craigslist.org/00r0r_ltFgXS6lzki_0ak07K_600x450.jpg    0.000002\n",
      "Name: image_url, dtype: float64 \n",
      "\n",
      "description \n",
      " 👉 BAD Credit, NO Credit - OKAY! We FINANCE ANYONE!!! 🚘 Get your PRE-APPROVAL Today! CALL HIGH LINE AUTO SALES of SALEM NOW @ ☎️ (603) 952-4790   Why Choose HIGH LINE Auto Sales?  ☑️  Serving the Community for 25 years  ☑️ Over 100 years of combined Experience ☑️ Member of the BBB   ☑️ 5 Star⭐ Rating Everywhere - Look us up! ☑️ Free Carfax Reports  ☑️  New Model, Low Mileage Vehicles  ☑️ Clean Titles  ☑️ All Vehicles Warrantied  ☑️ The Original Bad Credit Professionals   \"You can't buy a good reputation, you must earn it.\"  ☎️ Call us to find out how we can help you finance your next vehicle.   ■  Need a Loan? No matter your credit situation we have you covered! Guaranteed financing for EVERYONE! Call us today @ (603) 952-4790     ■  HIGH LINE AUTO accepts all forms of Employment, ➡️ \\tSSI Income ➡️ \\tJob Letter ➡️ \\tW2 ➡️   1099 ➡️ \\tBank Statements ➡️ \\tSelf-Employment Bad Credit, Poor Credit - don't worry! Drive home TODAY! Don't wait; Call us now @  (603) 952-4790  for more info!    ■  Have you had past credit problems? Bankruptcy, Bad Credit from Divorce,  Second Chance Credit - all okay!  Apply online or speak directly to a professional by calling  (603) 952-4790                       ■  Need Financing? We have programs with as little as 💲500 down❗️❗️❗️ Call NOW @  (603) 952-4790                                    ■  Apply for our guaranteed financing NOW and drive home today contact us @  (603) 952-4790       ■  HIGH LINE AUTO has programs for all credit includingPOOR CREDIT FINANCING!  We work with multiple lenders to cover all types of credit, ➡️ \\tFirst time buyer ➡️ \\tSecond chance finance ➡️ \\tSub-prime lending ➡️ \\tPrime lending, APR as low as 1.9% We can have you approved in minutes. Apply now online or call  (603) 952-4790  now for pre-approval.                    Look over a complete list of our inventory and fill out an application now    💻 FOR FAST LOAN APPROVALS VISIT OUR WEBSITE AND FILL OUT THE APPLICATION ON OUR FINANCE TAB @   ➡️ www.highlinesalem.com ⬅️or call us to speak with a professional today at ☎️ (603) 952-4790 for an approval in just minutes.    0.000539\n",
      "VISIT OUR WEBSITE WWW.DIRECTDETAILOFOH.COM HTTPS://DIRECTDETAILOHIO.COM/  WE HAVE A SELECTION OF CARS,TRUCKS,SUV'S. GUARANTEED APPROVAL. BUY HERE PAY HERE. NO CREDIT CHECKS! NO INCOME VERIFICATION!  Vehicle is AS-IS NO Warranty. Information deemed reliable, but not guaranteed. Interested parties should confirm all data before relying on it to make a purchase decision. All prices and specifications are subject to change without notice. Prices may not include additional fees such as government fees and taxes, title and registration fees, finance charges, dealer document preparation fees, processing fees, and emission testing and compliance charges.                                                                                                                                                                                                                                                                                                                                                                                                                                                                                                                                                                                                                                                                                                                                                                                                                                                                                                                                                                                                                                                                                                                                                                                                                                                                                                                                                                                                                                                                                                                   0.000436\n",
      "Call or text today to find out more. (602) 620-6525 Calls only landline (406) 245-1785  Available at Standard Auto Sales 1503 Broadwater Ave. Billings, MT 59102 standardautosales.net   Need help with financing? We have options for most credit situations. We never charge a doc fee! Extended service contracts available. We buy cars and take consignments! Call or text Mike today to find out more. (602) 620-6525  Welcome to Standard Auto Sales, located in Billings, MT, where quality service and customer satisfaction come first. We are here to help you find a vehicle that fits your lifestyle from our wide selection of used cars, trucks, and SUVs. We pride ourselves on a hassle-free car buying experience where your needs come first. Swing by to let us exceed your expectations while finding the perfect vehicle! Do you need financing for your next used vehicle purchase? Do you have a good credit, bad credit or no credit history situation? We work with a variety of financial institutions and we will work hard to get you approved quickly and easily, at the best rate possible! Apply now or call us at (406) 245-1785 or text (602) 620-6525 to schedule a test drive today!                                                                                                                                                                                                                                                                                                                                                                                                                                                                                                                                                                                                                                                                                                                                                                                                                                                                                                                                                                         0.000412\n",
      "2009 Hyundai Santa Fe all wheel drive 3.3 liter engine with 223,000 all highway miles vehicle is very clean with no issues or leaks engine oil and transmission fluid has just been serviced , new drive belt front brakes and tires in great shape, also has (new) front Windsheld because it had a crack very clean vehicle asking 3,500 obo please call  show contact info                                                                                                                                                                                                                                                                                                                                                                                                                                                                                                                                                                                                                                                                                                                                                                                                                                                                                                                                                                                                                                                                                                                                                                                                                                                                                                                                                                                                                                                                                                                                                                                                                                                                                                                                                                                                                    0.000002\n",
      "Top of the line Solara, silver with black interior. Clean title. 77951 miles at this post. Owned and operated in Maryland. I did the Maryland State Inspection at the end of last year and it passed without any added work to be done. Great shape! Minor wear and tear. Leather, navigation, premium sound system. Drives like a dream. I upgraded the navigation to a 2016 Map Update DVD. Timing belt changed 8/18 with 68k miles. Cash only. $8500 obo. I added the Carfax report to the images.                                                                                                                                                                                                                                                                                                                                                                                                                                                                                                                                                                                                                                                                                                                                                                                                                                                                                                                                                                                                                                                                                                                                                                                                                                                                                                                                                                                                                                                                                                                                                                                                                                                                                            0.000002\n",
      "Here's a great deal on this Clean Title 2015 Honda Civic LX 4 door Sedan with 36K MILES. Just arrived!!! Clean Title, 1-Owner. Perfect for long and short commuters. Very reliable vehicle with great handling and excellent gas mileage 30 city and 39 Hwy (4 Cylinder). Rear view Camera and Hands-free wireless Bluetooth ready. Please call to make sure this vehicle is still available. Phone - (858) 707-5215.  2015 Honda Civic LX Features: 1.8 L 4-Cyl. engine. Very fuel-efficient (Great MPG). 36K MILES.  - Clean Title - 1-Owner - Backup Camera - Bluetooth - CD Player / Auxiliary for Iphon / IPod - Power Windows/Locks - Power Mirrors - Keyless entry - Air conditioning / heating - ABS brakes - Tire pressure monitor - Stability Control - Security System - Telescoping steering wheel - Low Tire pressure warning - Outside Temperature display - Steering Wheel Controls - Daytime Running Lights - Covered under manufacture warranty, Buy with confidence!!!  Please Note: This price is only for customers with a pre-approved loan from any credit union or bank, or cash buyers. Trade-ins Welcome!  We specialize in: 2012 2013 2014 2015 2016 2017 2018 2019 2020 HONDA ACCORD LX EX CIVIC CRV CR-V SUV PILOT NISSAN ALTIMA SENTRA LEAF VERSA TOYOTA COROLLA COROLA CAMRY PRIUS AVALON KIA OPTIMA HYUNDAI SONATA 2012 2013 2014 2015 2016 2017 2018 2019 2020 Civic. Price excludes tax and dmv fees.                                                                                                                                                                                                                                                                                                                                                                                                                                                                                                                                                                                                                                                                                                                                                           0.000002\n",
      "Name: description, dtype: float64 \n",
      "\n",
      "state \n",
      " ca    0.113170\n",
      "fl    0.065367\n",
      "tx    0.054246\n",
      "wv    0.002230\n",
      "de    0.002206\n",
      "nd    0.001231\n",
      "Name: state, dtype: float64 \n",
      "\n"
     ]
    },
    {
     "name": "stdout",
     "output_type": "stream",
     "text": [
      "posting_date \n",
      " 2020-11-22T06:14:19-0500    0.000015\n",
      "2020-12-02T07:50:07-0600    0.000015\n",
      "2020-11-28T10:30:29-0500    0.000013\n",
      "2020-11-25T11:24:35-0500    0.000002\n",
      "2020-11-30T12:16:24-0600    0.000002\n",
      "2020-12-02T14:51:11-0800    0.000002\n",
      "Name: posting_date, dtype: float64 \n",
      "\n"
     ]
    }
   ],
   "source": [
    "# view frequency distribution of categorical variables\n",
    "\n",
    "for var in categorical: \n",
    "    print(var,'\\n',(df[var].value_counts()/np.float(len(df))).iloc[np.r_[0:3, -3:0]],'\\n')"
   ]
  },
  {
   "cell_type": "markdown",
   "metadata": {},
   "source": [
    "#### Number of labels: cardinality\n",
    "\n",
    "\n",
    "The number of labels within a categorical variable is known as **cardinality**. A high number of labels within a variable is known as **high cardinality**. High cardinality may pose some serious problems in the machine learning model. So, I will check for high cardinality."
   ]
  },
  {
   "cell_type": "code",
   "execution_count": 18,
   "metadata": {},
   "outputs": [
    {
     "name": "stdout",
     "output_type": "stream",
     "text": [
      "url contains 458213 labels\n",
      "region contains 405 labels\n",
      "region_url contains 413 labels\n",
      "manufacturer contains 44 labels\n",
      "model contains 31521 labels\n",
      "condition contains 7 labels\n",
      "cylinders contains 9 labels\n",
      "fuel contains 6 labels\n",
      "title_status contains 7 labels\n",
      "transmission contains 4 labels\n",
      "VIN contains 133621 labels\n",
      "drive contains 4 labels\n",
      "size contains 5 labels\n",
      "type contains 14 labels\n",
      "paint_color contains 13 labels\n",
      "image_url contains 285405 labels\n",
      "description contains 384348 labels\n",
      "state contains 51 labels\n",
      "posting_date contains 423806 labels\n"
     ]
    }
   ],
   "source": [
    "# check for cardinality in categorical variables\n",
    "\n",
    "for var in categorical:\n",
    "    print(var, 'contains', len(df[var].unique()), 'labels')"
   ]
  },
  {
   "cell_type": "markdown",
   "metadata": {},
   "source": [
    "We can see that there is a `Date` variable which needs to be preprocessed. I will do preprocessing in the following section.\n",
    "\n",
    "\n",
    "All the other variables contain relatively smaller number of variables."
   ]
  },
  {
   "cell_type": "markdown",
   "metadata": {},
   "source": [
    "#### Feature Engineering of Date Variable"
   ]
  },
  {
   "cell_type": "code",
   "execution_count": 19,
   "metadata": {},
   "outputs": [
    {
     "data": {
      "text/plain": [
       "dtype('O')"
      ]
     },
     "execution_count": 19,
     "metadata": {},
     "output_type": "execute_result"
    }
   ],
   "source": [
    "df['posting_date'].dtypes"
   ]
  },
  {
   "cell_type": "code",
   "execution_count": 20,
   "metadata": {
    "scrolled": true
   },
   "outputs": [
    {
     "data": {
      "text/plain": [
       "0    2020-12-02T08:11:30-0600\n",
       "1    2020-12-02T02:11:50-0600\n",
       "2    2020-12-01T19:50:41-0600\n",
       "3    2020-12-01T15:54:45-0600\n",
       "4    2020-12-01T12:53:56-0600\n",
       "Name: posting_date, dtype: object"
      ]
     },
     "execution_count": 20,
     "metadata": {},
     "output_type": "execute_result"
    }
   ],
   "source": [
    "df['posting_date'].head()"
   ]
  },
  {
   "cell_type": "markdown",
   "metadata": {},
   "source": [
    "We can see that the data type of this variable is object. I will parse the date currently coded as object into datetime format."
   ]
  },
  {
   "cell_type": "code",
   "execution_count": 21,
   "metadata": {},
   "outputs": [],
   "source": [
    "# parse the dates, currently coded as strings, into datetime format\n",
    "df['posting_date'] = pd.to_datetime(df['posting_date'],utc=True,errors='coerce')"
   ]
  },
  {
   "cell_type": "code",
   "execution_count": 22,
   "metadata": {},
   "outputs": [],
   "source": [
    "# extract date from date\n",
    "df['Date'] = df['posting_date'].dt.date\n",
    "\n",
    "# extract year from date\n",
    "df['Year'] = df['posting_date'].dt.year\n",
    "\n",
    "# extract quarter from date\n",
    "df['Quarter'] = df['posting_date'].dt.quarter\n",
    "\n",
    "# extract month from date\n",
    "df['Month'] = df['posting_date'].dt.month\n",
    "\n",
    "# extract day from date\n",
    "df['Day'] = df['posting_date'].dt.day\n",
    "\n",
    "# extract day of week from date\n",
    "df['Dayofweek'] = df['posting_date'].dt.dayofweek\n",
    "\n",
    "# extract hour from date\n",
    "df['Hour'] = df['posting_date'].dt.hour"
   ]
  },
  {
   "cell_type": "code",
   "execution_count": 23,
   "metadata": {},
   "outputs": [
    {
     "name": "stdout",
     "output_type": "stream",
     "text": [
      "Date \n",
      " [datetime.date(2020, 12, 2) datetime.date(2020, 12, 1)\n",
      " datetime.date(2020, 11, 30) datetime.date(2020, 11, 29)\n",
      " datetime.date(2020, 11, 28) datetime.date(2020, 11, 27)\n",
      " datetime.date(2020, 11, 26) datetime.date(2020, 11, 25)\n",
      " datetime.date(2020, 11, 24) datetime.date(2020, 11, 23)\n",
      " datetime.date(2020, 11, 22) datetime.date(2020, 11, 21)\n",
      " datetime.date(2020, 11, 20) datetime.date(2020, 11, 19)\n",
      " datetime.date(2020, 11, 18) datetime.date(2020, 11, 17)\n",
      " datetime.date(2020, 11, 16) datetime.date(2020, 11, 15)\n",
      " datetime.date(2020, 11, 14) datetime.date(2020, 11, 13)\n",
      " datetime.date(2020, 11, 12) datetime.date(2020, 11, 11)\n",
      " datetime.date(2020, 11, 10) datetime.date(2020, 11, 9)\n",
      " datetime.date(2020, 11, 8) datetime.date(2020, 11, 7)\n",
      " datetime.date(2020, 11, 6) datetime.date(2020, 11, 5)\n",
      " datetime.date(2020, 11, 4) datetime.date(2020, 11, 3) NaT\n",
      " datetime.date(2020, 12, 3) datetime.date(2020, 10, 28)\n",
      " datetime.date(2020, 10, 23)] \n",
      "\n",
      "Year \n",
      " [2020.   nan] \n",
      "\n",
      "Quarter \n",
      " [ 4. nan] \n",
      "\n",
      "Month \n",
      " [12. 11. nan 10.] \n",
      "\n",
      "Day \n",
      " [ 2.  1. 30. 29. 28. 27. 26. 25. 24. 23. 22. 21. 20. 19. 18. 17. 16. 15.\n",
      " 14. 13. 12. 11. 10.  9.  8.  7.  6.  5.  4.  3. nan] \n",
      "\n",
      "Dayofweek \n",
      " [ 2.  1.  0.  6.  5.  4.  3. nan] \n",
      "\n",
      "Hour \n",
      " [14.  8.  1. 21. 18. 13. 19. 16. 20. 17. 15.  0.  3.  6. 23. 12.  2. 22.\n",
      " 10.  4.  9.  5.  7. 11. nan] \n",
      "\n"
     ]
    }
   ],
   "source": [
    "# show the time features\n",
    "\n",
    "time_feature = ['Date','Year','Quarter','Month','Day','Dayofweek','Hour']\n",
    "\n",
    "for feature in time_feature:\n",
    "    print(feature,'\\n',df[feature].unique(),'\\n')"
   ]
  },
  {
   "cell_type": "markdown",
   "metadata": {},
   "source": [
    "We can see that the values of feature Year and Quarter only has one variable. \n",
    "\n",
    "We should drop this useless feature and the original posting_date column."
   ]
  },
  {
   "cell_type": "code",
   "execution_count": 24,
   "metadata": {},
   "outputs": [],
   "source": [
    "df.drop(labels=['posting_date','Year','Quarter'],axis=1,inplace=True)"
   ]
  },
  {
   "cell_type": "code",
   "execution_count": 25,
   "metadata": {},
   "outputs": [
    {
     "name": "stdout",
     "output_type": "stream",
     "text": [
      "<class 'pandas.core.frame.DataFrame'>\n",
      "Int64Index: 458213 entries, 0 to 458212\n",
      "Data columns (total 29 columns):\n",
      " #   Column        Non-Null Count   Dtype  \n",
      "---  ------        --------------   -----  \n",
      " 0   id            458213 non-null  int64  \n",
      " 1   url           458213 non-null  object \n",
      " 2   region        458213 non-null  object \n",
      " 3   region_url    458213 non-null  object \n",
      " 4   price         458213 non-null  int64  \n",
      " 5   year          457163 non-null  float64\n",
      " 6   manufacturer  439993 non-null  object \n",
      " 7   model         453367 non-null  object \n",
      " 8   condition     265273 non-null  object \n",
      " 9   cylinders     287073 non-null  object \n",
      " 10  fuel          454976 non-null  object \n",
      " 11  odometer      402910 non-null  float64\n",
      " 12  title_status  455636 non-null  object \n",
      " 13  transmission  455771 non-null  object \n",
      " 14  VIN           270664 non-null  object \n",
      " 15  drive         324025 non-null  object \n",
      " 16  size          136865 non-null  object \n",
      " 17  type          345475 non-null  object \n",
      " 18  paint_color   317370 non-null  object \n",
      " 19  image_url     458185 non-null  object \n",
      " 20  description   458143 non-null  object \n",
      " 21  state         458213 non-null  object \n",
      " 22  lat           450765 non-null  float64\n",
      " 23  long          450765 non-null  float64\n",
      " 24  Date          458185 non-null  object \n",
      " 25  Month         458185 non-null  float64\n",
      " 26  Day           458185 non-null  float64\n",
      " 27  Dayofweek     458185 non-null  float64\n",
      " 28  Hour          458185 non-null  float64\n",
      "dtypes: float64(8), int64(2), object(19)\n",
      "memory usage: 104.9+ MB\n"
     ]
    }
   ],
   "source": [
    "df.info()"
   ]
  },
  {
   "cell_type": "code",
   "execution_count": 26,
   "metadata": {
    "scrolled": true
   },
   "outputs": [
    {
     "data": {
      "text/html": [
       "<div>\n",
       "<style scoped>\n",
       "    .dataframe tbody tr th:only-of-type {\n",
       "        vertical-align: middle;\n",
       "    }\n",
       "\n",
       "    .dataframe tbody tr th {\n",
       "        vertical-align: top;\n",
       "    }\n",
       "\n",
       "    .dataframe thead th {\n",
       "        text-align: right;\n",
       "    }\n",
       "</style>\n",
       "<table border=\"1\" class=\"dataframe\">\n",
       "  <thead>\n",
       "    <tr style=\"text-align: right;\">\n",
       "      <th></th>\n",
       "      <th>id</th>\n",
       "      <th>url</th>\n",
       "      <th>region</th>\n",
       "      <th>region_url</th>\n",
       "      <th>price</th>\n",
       "      <th>year</th>\n",
       "      <th>manufacturer</th>\n",
       "      <th>model</th>\n",
       "      <th>condition</th>\n",
       "      <th>cylinders</th>\n",
       "      <th>...</th>\n",
       "      <th>image_url</th>\n",
       "      <th>description</th>\n",
       "      <th>state</th>\n",
       "      <th>lat</th>\n",
       "      <th>long</th>\n",
       "      <th>Date</th>\n",
       "      <th>Month</th>\n",
       "      <th>Day</th>\n",
       "      <th>Dayofweek</th>\n",
       "      <th>Hour</th>\n",
       "    </tr>\n",
       "  </thead>\n",
       "  <tbody>\n",
       "    <tr>\n",
       "      <th>0</th>\n",
       "      <td>7240372487</td>\n",
       "      <td>https://auburn.craigslist.org/ctd/d/auburn-uni...</td>\n",
       "      <td>auburn</td>\n",
       "      <td>https://auburn.craigslist.org</td>\n",
       "      <td>35990</td>\n",
       "      <td>2010.0</td>\n",
       "      <td>chevrolet</td>\n",
       "      <td>corvette grand sport</td>\n",
       "      <td>good</td>\n",
       "      <td>8 cylinders</td>\n",
       "      <td>...</td>\n",
       "      <td>https://images.craigslist.org/00N0N_ipkbHVZYf4...</td>\n",
       "      <td>Carvana is the safer way to buy a car During t...</td>\n",
       "      <td>al</td>\n",
       "      <td>32.590000</td>\n",
       "      <td>-85.480000</td>\n",
       "      <td>2020-12-02</td>\n",
       "      <td>12.0</td>\n",
       "      <td>2.0</td>\n",
       "      <td>2.0</td>\n",
       "      <td>14.0</td>\n",
       "    </tr>\n",
       "    <tr>\n",
       "      <th>1</th>\n",
       "      <td>7240309422</td>\n",
       "      <td>https://auburn.craigslist.org/cto/d/auburn-201...</td>\n",
       "      <td>auburn</td>\n",
       "      <td>https://auburn.craigslist.org</td>\n",
       "      <td>7500</td>\n",
       "      <td>2014.0</td>\n",
       "      <td>hyundai</td>\n",
       "      <td>sonata</td>\n",
       "      <td>excellent</td>\n",
       "      <td>4 cylinders</td>\n",
       "      <td>...</td>\n",
       "      <td>https://images.craigslist.org/00s0s_gBHYmJ5o7y...</td>\n",
       "      <td>I'll move to another city and try to sell my c...</td>\n",
       "      <td>al</td>\n",
       "      <td>32.547500</td>\n",
       "      <td>-85.468200</td>\n",
       "      <td>2020-12-02</td>\n",
       "      <td>12.0</td>\n",
       "      <td>2.0</td>\n",
       "      <td>2.0</td>\n",
       "      <td>8.0</td>\n",
       "    </tr>\n",
       "    <tr>\n",
       "      <th>2</th>\n",
       "      <td>7240224296</td>\n",
       "      <td>https://auburn.craigslist.org/cto/d/auburn-200...</td>\n",
       "      <td>auburn</td>\n",
       "      <td>https://auburn.craigslist.org</td>\n",
       "      <td>4900</td>\n",
       "      <td>2006.0</td>\n",
       "      <td>bmw</td>\n",
       "      <td>x3 3.0i</td>\n",
       "      <td>good</td>\n",
       "      <td>6 cylinders</td>\n",
       "      <td>...</td>\n",
       "      <td>https://images.craigslist.org/00B0B_5zgEGWPOrt...</td>\n",
       "      <td>Clean 2006 BMW X3 3.0I.  Beautiful and rare Bl...</td>\n",
       "      <td>al</td>\n",
       "      <td>32.616807</td>\n",
       "      <td>-85.464149</td>\n",
       "      <td>2020-12-02</td>\n",
       "      <td>12.0</td>\n",
       "      <td>2.0</td>\n",
       "      <td>2.0</td>\n",
       "      <td>1.0</td>\n",
       "    </tr>\n",
       "    <tr>\n",
       "      <th>3</th>\n",
       "      <td>7240103965</td>\n",
       "      <td>https://auburn.craigslist.org/cto/d/lanett-tru...</td>\n",
       "      <td>auburn</td>\n",
       "      <td>https://auburn.craigslist.org</td>\n",
       "      <td>2000</td>\n",
       "      <td>1974.0</td>\n",
       "      <td>chevrolet</td>\n",
       "      <td>c-10</td>\n",
       "      <td>good</td>\n",
       "      <td>4 cylinders</td>\n",
       "      <td>...</td>\n",
       "      <td>https://images.craigslist.org/00M0M_6o7KcDpArw...</td>\n",
       "      <td>1974 chev. truck (LONG BED) NEW starter front ...</td>\n",
       "      <td>al</td>\n",
       "      <td>32.861600</td>\n",
       "      <td>-85.216100</td>\n",
       "      <td>2020-12-01</td>\n",
       "      <td>12.0</td>\n",
       "      <td>1.0</td>\n",
       "      <td>1.0</td>\n",
       "      <td>21.0</td>\n",
       "    </tr>\n",
       "    <tr>\n",
       "      <th>4</th>\n",
       "      <td>7239983776</td>\n",
       "      <td>https://auburn.craigslist.org/cto/d/auburn-200...</td>\n",
       "      <td>auburn</td>\n",
       "      <td>https://auburn.craigslist.org</td>\n",
       "      <td>19500</td>\n",
       "      <td>2005.0</td>\n",
       "      <td>ford</td>\n",
       "      <td>f350 lariat</td>\n",
       "      <td>excellent</td>\n",
       "      <td>8 cylinders</td>\n",
       "      <td>...</td>\n",
       "      <td>https://images.craigslist.org/00p0p_b95l1EgUfl...</td>\n",
       "      <td>2005 Ford F350 Lariat (Bullet Proofed). This t...</td>\n",
       "      <td>al</td>\n",
       "      <td>32.547500</td>\n",
       "      <td>-85.468200</td>\n",
       "      <td>2020-12-01</td>\n",
       "      <td>12.0</td>\n",
       "      <td>1.0</td>\n",
       "      <td>1.0</td>\n",
       "      <td>18.0</td>\n",
       "    </tr>\n",
       "  </tbody>\n",
       "</table>\n",
       "<p>5 rows × 29 columns</p>\n",
       "</div>"
      ],
      "text/plain": [
       "           id                                                url  region  \\\n",
       "0  7240372487  https://auburn.craigslist.org/ctd/d/auburn-uni...  auburn   \n",
       "1  7240309422  https://auburn.craigslist.org/cto/d/auburn-201...  auburn   \n",
       "2  7240224296  https://auburn.craigslist.org/cto/d/auburn-200...  auburn   \n",
       "3  7240103965  https://auburn.craigslist.org/cto/d/lanett-tru...  auburn   \n",
       "4  7239983776  https://auburn.craigslist.org/cto/d/auburn-200...  auburn   \n",
       "\n",
       "                      region_url  price    year manufacturer  \\\n",
       "0  https://auburn.craigslist.org  35990  2010.0    chevrolet   \n",
       "1  https://auburn.craigslist.org   7500  2014.0      hyundai   \n",
       "2  https://auburn.craigslist.org   4900  2006.0          bmw   \n",
       "3  https://auburn.craigslist.org   2000  1974.0    chevrolet   \n",
       "4  https://auburn.craigslist.org  19500  2005.0         ford   \n",
       "\n",
       "                  model  condition    cylinders  ...  \\\n",
       "0  corvette grand sport       good  8 cylinders  ...   \n",
       "1                sonata  excellent  4 cylinders  ...   \n",
       "2               x3 3.0i       good  6 cylinders  ...   \n",
       "3                  c-10       good  4 cylinders  ...   \n",
       "4           f350 lariat  excellent  8 cylinders  ...   \n",
       "\n",
       "                                           image_url  \\\n",
       "0  https://images.craigslist.org/00N0N_ipkbHVZYf4...   \n",
       "1  https://images.craigslist.org/00s0s_gBHYmJ5o7y...   \n",
       "2  https://images.craigslist.org/00B0B_5zgEGWPOrt...   \n",
       "3  https://images.craigslist.org/00M0M_6o7KcDpArw...   \n",
       "4  https://images.craigslist.org/00p0p_b95l1EgUfl...   \n",
       "\n",
       "                                         description state        lat  \\\n",
       "0  Carvana is the safer way to buy a car During t...    al  32.590000   \n",
       "1  I'll move to another city and try to sell my c...    al  32.547500   \n",
       "2  Clean 2006 BMW X3 3.0I.  Beautiful and rare Bl...    al  32.616807   \n",
       "3  1974 chev. truck (LONG BED) NEW starter front ...    al  32.861600   \n",
       "4  2005 Ford F350 Lariat (Bullet Proofed). This t...    al  32.547500   \n",
       "\n",
       "        long        Date Month  Day Dayofweek  Hour  \n",
       "0 -85.480000  2020-12-02  12.0  2.0       2.0  14.0  \n",
       "1 -85.468200  2020-12-02  12.0  2.0       2.0   8.0  \n",
       "2 -85.464149  2020-12-02  12.0  2.0       2.0   1.0  \n",
       "3 -85.216100  2020-12-01  12.0  1.0       1.0  21.0  \n",
       "4 -85.468200  2020-12-01  12.0  1.0       1.0  18.0  \n",
       "\n",
       "[5 rows x 29 columns]"
      ]
     },
     "execution_count": 26,
     "metadata": {},
     "output_type": "execute_result"
    }
   ],
   "source": [
    "# preview the dataset again\n",
    "\n",
    "df.head()"
   ]
  },
  {
   "cell_type": "markdown",
   "metadata": {},
   "source": [
    "### Explore Numerical Variables "
   ]
  },
  {
   "cell_type": "code",
   "execution_count": 27,
   "metadata": {},
   "outputs": [
    {
     "name": "stdout",
     "output_type": "stream",
     "text": [
      "There are 10 numerical variables\n",
      "\n",
      "The numerical variables are : ['id', 'price', 'year', 'odometer', 'lat', 'long', 'Month', 'Day', 'Dayofweek', 'Hour']\n"
     ]
    }
   ],
   "source": [
    "# find numerical variables\n",
    "\n",
    "numerical = [var for var in df.columns if df[var].dtype!='O']\n",
    "\n",
    "print('There are {} numerical variables\\n'.format(len(numerical)))\n",
    "print('The numerical variables are :', numerical)"
   ]
  },
  {
   "cell_type": "code",
   "execution_count": 28,
   "metadata": {},
   "outputs": [
    {
     "data": {
      "text/html": [
       "<div>\n",
       "<style scoped>\n",
       "    .dataframe tbody tr th:only-of-type {\n",
       "        vertical-align: middle;\n",
       "    }\n",
       "\n",
       "    .dataframe tbody tr th {\n",
       "        vertical-align: top;\n",
       "    }\n",
       "\n",
       "    .dataframe thead th {\n",
       "        text-align: right;\n",
       "    }\n",
       "</style>\n",
       "<table border=\"1\" class=\"dataframe\">\n",
       "  <thead>\n",
       "    <tr style=\"text-align: right;\">\n",
       "      <th></th>\n",
       "      <th>id</th>\n",
       "      <th>price</th>\n",
       "      <th>year</th>\n",
       "      <th>odometer</th>\n",
       "      <th>lat</th>\n",
       "      <th>long</th>\n",
       "      <th>Month</th>\n",
       "      <th>Day</th>\n",
       "      <th>Dayofweek</th>\n",
       "      <th>Hour</th>\n",
       "    </tr>\n",
       "  </thead>\n",
       "  <tbody>\n",
       "    <tr>\n",
       "      <th>0</th>\n",
       "      <td>7240372487</td>\n",
       "      <td>35990</td>\n",
       "      <td>2010.0</td>\n",
       "      <td>32742.0</td>\n",
       "      <td>32.590000</td>\n",
       "      <td>-85.480000</td>\n",
       "      <td>12.0</td>\n",
       "      <td>2.0</td>\n",
       "      <td>2.0</td>\n",
       "      <td>14.0</td>\n",
       "    </tr>\n",
       "    <tr>\n",
       "      <th>1</th>\n",
       "      <td>7240309422</td>\n",
       "      <td>7500</td>\n",
       "      <td>2014.0</td>\n",
       "      <td>93600.0</td>\n",
       "      <td>32.547500</td>\n",
       "      <td>-85.468200</td>\n",
       "      <td>12.0</td>\n",
       "      <td>2.0</td>\n",
       "      <td>2.0</td>\n",
       "      <td>8.0</td>\n",
       "    </tr>\n",
       "    <tr>\n",
       "      <th>2</th>\n",
       "      <td>7240224296</td>\n",
       "      <td>4900</td>\n",
       "      <td>2006.0</td>\n",
       "      <td>87046.0</td>\n",
       "      <td>32.616807</td>\n",
       "      <td>-85.464149</td>\n",
       "      <td>12.0</td>\n",
       "      <td>2.0</td>\n",
       "      <td>2.0</td>\n",
       "      <td>1.0</td>\n",
       "    </tr>\n",
       "    <tr>\n",
       "      <th>3</th>\n",
       "      <td>7240103965</td>\n",
       "      <td>2000</td>\n",
       "      <td>1974.0</td>\n",
       "      <td>190000.0</td>\n",
       "      <td>32.861600</td>\n",
       "      <td>-85.216100</td>\n",
       "      <td>12.0</td>\n",
       "      <td>1.0</td>\n",
       "      <td>1.0</td>\n",
       "      <td>21.0</td>\n",
       "    </tr>\n",
       "    <tr>\n",
       "      <th>4</th>\n",
       "      <td>7239983776</td>\n",
       "      <td>19500</td>\n",
       "      <td>2005.0</td>\n",
       "      <td>116000.0</td>\n",
       "      <td>32.547500</td>\n",
       "      <td>-85.468200</td>\n",
       "      <td>12.0</td>\n",
       "      <td>1.0</td>\n",
       "      <td>1.0</td>\n",
       "      <td>18.0</td>\n",
       "    </tr>\n",
       "  </tbody>\n",
       "</table>\n",
       "</div>"
      ],
      "text/plain": [
       "           id  price    year  odometer        lat       long  Month  Day  \\\n",
       "0  7240372487  35990  2010.0   32742.0  32.590000 -85.480000   12.0  2.0   \n",
       "1  7240309422   7500  2014.0   93600.0  32.547500 -85.468200   12.0  2.0   \n",
       "2  7240224296   4900  2006.0   87046.0  32.616807 -85.464149   12.0  2.0   \n",
       "3  7240103965   2000  1974.0  190000.0  32.861600 -85.216100   12.0  1.0   \n",
       "4  7239983776  19500  2005.0  116000.0  32.547500 -85.468200   12.0  1.0   \n",
       "\n",
       "   Dayofweek  Hour  \n",
       "0        2.0  14.0  \n",
       "1        2.0   8.0  \n",
       "2        2.0   1.0  \n",
       "3        1.0  21.0  \n",
       "4        1.0  18.0  "
      ]
     },
     "execution_count": 28,
     "metadata": {},
     "output_type": "execute_result"
    }
   ],
   "source": [
    "# view the numerical variables\n",
    "df[numerical].head()"
   ]
  },
  {
   "cell_type": "markdown",
   "metadata": {},
   "source": [
    "### Explore problems within numerical variables\n",
    "\n",
    "\n",
    "Now, I will explore the numerical variables.\n"
   ]
  },
  {
   "cell_type": "markdown",
   "metadata": {},
   "source": [
    "### Missing values in numerical variables"
   ]
  },
  {
   "cell_type": "code",
   "execution_count": 29,
   "metadata": {},
   "outputs": [
    {
     "data": {
      "text/html": [
       "<div>\n",
       "<style scoped>\n",
       "    .dataframe tbody tr th:only-of-type {\n",
       "        vertical-align: middle;\n",
       "    }\n",
       "\n",
       "    .dataframe tbody tr th {\n",
       "        vertical-align: top;\n",
       "    }\n",
       "\n",
       "    .dataframe thead th {\n",
       "        text-align: right;\n",
       "    }\n",
       "</style>\n",
       "<table border=\"1\" class=\"dataframe\">\n",
       "  <thead>\n",
       "    <tr style=\"text-align: right;\">\n",
       "      <th></th>\n",
       "      <th>Number of NA</th>\n",
       "      <th>Percentage of NA (%)</th>\n",
       "    </tr>\n",
       "  </thead>\n",
       "  <tbody>\n",
       "    <tr>\n",
       "      <th>size</th>\n",
       "      <td>321348.0</td>\n",
       "      <td>70.130703</td>\n",
       "    </tr>\n",
       "    <tr>\n",
       "      <th>condition</th>\n",
       "      <td>192940.0</td>\n",
       "      <td>42.107055</td>\n",
       "    </tr>\n",
       "    <tr>\n",
       "      <th>VIN</th>\n",
       "      <td>187549.0</td>\n",
       "      <td>40.930528</td>\n",
       "    </tr>\n",
       "    <tr>\n",
       "      <th>cylinders</th>\n",
       "      <td>171140.0</td>\n",
       "      <td>37.349442</td>\n",
       "    </tr>\n",
       "    <tr>\n",
       "      <th>paint_color</th>\n",
       "      <td>140843.0</td>\n",
       "      <td>30.737452</td>\n",
       "    </tr>\n",
       "    <tr>\n",
       "      <th>drive</th>\n",
       "      <td>134188.0</td>\n",
       "      <td>29.285070</td>\n",
       "    </tr>\n",
       "    <tr>\n",
       "      <th>type</th>\n",
       "      <td>112738.0</td>\n",
       "      <td>24.603841</td>\n",
       "    </tr>\n",
       "    <tr>\n",
       "      <th>odometer</th>\n",
       "      <td>55303.0</td>\n",
       "      <td>12.069278</td>\n",
       "    </tr>\n",
       "    <tr>\n",
       "      <th>manufacturer</th>\n",
       "      <td>18220.0</td>\n",
       "      <td>3.976317</td>\n",
       "    </tr>\n",
       "    <tr>\n",
       "      <th>long</th>\n",
       "      <td>7448.0</td>\n",
       "      <td>1.625445</td>\n",
       "    </tr>\n",
       "    <tr>\n",
       "      <th>lat</th>\n",
       "      <td>7448.0</td>\n",
       "      <td>1.625445</td>\n",
       "    </tr>\n",
       "    <tr>\n",
       "      <th>model</th>\n",
       "      <td>4846.0</td>\n",
       "      <td>1.057587</td>\n",
       "    </tr>\n",
       "    <tr>\n",
       "      <th>fuel</th>\n",
       "      <td>3237.0</td>\n",
       "      <td>0.706440</td>\n",
       "    </tr>\n",
       "    <tr>\n",
       "      <th>title_status</th>\n",
       "      <td>2577.0</td>\n",
       "      <td>0.562402</td>\n",
       "    </tr>\n",
       "    <tr>\n",
       "      <th>transmission</th>\n",
       "      <td>2442.0</td>\n",
       "      <td>0.532940</td>\n",
       "    </tr>\n",
       "    <tr>\n",
       "      <th>year</th>\n",
       "      <td>1050.0</td>\n",
       "      <td>0.229151</td>\n",
       "    </tr>\n",
       "    <tr>\n",
       "      <th>description</th>\n",
       "      <td>70.0</td>\n",
       "      <td>0.015277</td>\n",
       "    </tr>\n",
       "    <tr>\n",
       "      <th>Date</th>\n",
       "      <td>28.0</td>\n",
       "      <td>0.006111</td>\n",
       "    </tr>\n",
       "    <tr>\n",
       "      <th>Month</th>\n",
       "      <td>28.0</td>\n",
       "      <td>0.006111</td>\n",
       "    </tr>\n",
       "    <tr>\n",
       "      <th>Day</th>\n",
       "      <td>28.0</td>\n",
       "      <td>0.006111</td>\n",
       "    </tr>\n",
       "    <tr>\n",
       "      <th>Dayofweek</th>\n",
       "      <td>28.0</td>\n",
       "      <td>0.006111</td>\n",
       "    </tr>\n",
       "    <tr>\n",
       "      <th>Hour</th>\n",
       "      <td>28.0</td>\n",
       "      <td>0.006111</td>\n",
       "    </tr>\n",
       "    <tr>\n",
       "      <th>image_url</th>\n",
       "      <td>28.0</td>\n",
       "      <td>0.006111</td>\n",
       "    </tr>\n",
       "    <tr>\n",
       "      <th>state</th>\n",
       "      <td>0.0</td>\n",
       "      <td>0.000000</td>\n",
       "    </tr>\n",
       "    <tr>\n",
       "      <th>url</th>\n",
       "      <td>0.0</td>\n",
       "      <td>0.000000</td>\n",
       "    </tr>\n",
       "    <tr>\n",
       "      <th>price</th>\n",
       "      <td>0.0</td>\n",
       "      <td>0.000000</td>\n",
       "    </tr>\n",
       "    <tr>\n",
       "      <th>region_url</th>\n",
       "      <td>0.0</td>\n",
       "      <td>0.000000</td>\n",
       "    </tr>\n",
       "    <tr>\n",
       "      <th>region</th>\n",
       "      <td>0.0</td>\n",
       "      <td>0.000000</td>\n",
       "    </tr>\n",
       "    <tr>\n",
       "      <th>id</th>\n",
       "      <td>0.0</td>\n",
       "      <td>0.000000</td>\n",
       "    </tr>\n",
       "  </tbody>\n",
       "</table>\n",
       "</div>"
      ],
      "text/plain": [
       "              Number of NA  Percentage of NA (%)\n",
       "size              321348.0             70.130703\n",
       "condition         192940.0             42.107055\n",
       "VIN               187549.0             40.930528\n",
       "cylinders         171140.0             37.349442\n",
       "paint_color       140843.0             30.737452\n",
       "drive             134188.0             29.285070\n",
       "type              112738.0             24.603841\n",
       "odometer           55303.0             12.069278\n",
       "manufacturer       18220.0              3.976317\n",
       "long                7448.0              1.625445\n",
       "lat                 7448.0              1.625445\n",
       "model               4846.0              1.057587\n",
       "fuel                3237.0              0.706440\n",
       "title_status        2577.0              0.562402\n",
       "transmission        2442.0              0.532940\n",
       "year                1050.0              0.229151\n",
       "description           70.0              0.015277\n",
       "Date                  28.0              0.006111\n",
       "Month                 28.0              0.006111\n",
       "Day                   28.0              0.006111\n",
       "Dayofweek             28.0              0.006111\n",
       "Hour                  28.0              0.006111\n",
       "image_url             28.0              0.006111\n",
       "state                  0.0              0.000000\n",
       "url                    0.0              0.000000\n",
       "price                  0.0              0.000000\n",
       "region_url             0.0              0.000000\n",
       "region                 0.0              0.000000\n",
       "id                     0.0              0.000000"
      ]
     },
     "execution_count": 29,
     "metadata": {},
     "output_type": "execute_result"
    }
   ],
   "source": [
    "# check missing values in numerical variables\n",
    "\n",
    "df_eda = pd.DataFrame([df.isnull().sum(),\n",
    "                       df.isnull().sum()/len(df)*100],\n",
    "                       index=['Number of NA', 'Percentage of NA (%)']).T\n",
    "\n",
    "df_eda.sort_values('Number of NA',ascending=False)"
   ]
  },
  {
   "cell_type": "code",
   "execution_count": 30,
   "metadata": {},
   "outputs": [
    {
     "data": {
      "text/plain": [
       "<AxesSubplot:>"
      ]
     },
     "execution_count": 30,
     "metadata": {},
     "output_type": "execute_result"
    },
    {
     "data": {
      "image/png": "[encoded data removed]",
      "text/plain": [
       "<Figure size 720x432 with 1 Axes>"
      ]
     },
     "metadata": {
      "needs_background": "light"
     },
     "output_type": "display_data"
    }
   ],
   "source": [
    "# plot the missing value using heatmap\n",
    "plt.figure(figsize=(10,6))\n",
    "sns.heatmap(df[numerical].isna(),yticklabels=False,cbar=False,cmap='viridis')"
   ]
  },
  {
   "cell_type": "markdown",
   "metadata": {},
   "source": [
    "We can see that 9 numerical variables contain missing values.\n",
    "\n",
    "28 rows lack the information of date and time, 7448 rows lack the information of size."
   ]
  },
  {
   "cell_type": "markdown",
   "metadata": {},
   "source": [
    "### Outliers in numerical variables"
   ]
  },
  {
   "cell_type": "code",
   "execution_count": 31,
   "metadata": {},
   "outputs": [
    {
     "data": {
      "text/html": [
       "<div>\n",
       "<style scoped>\n",
       "    .dataframe tbody tr th:only-of-type {\n",
       "        vertical-align: middle;\n",
       "    }\n",
       "\n",
       "    .dataframe tbody tr th {\n",
       "        vertical-align: top;\n",
       "    }\n",
       "\n",
       "    .dataframe thead th {\n",
       "        text-align: right;\n",
       "    }\n",
       "</style>\n",
       "<table border=\"1\" class=\"dataframe\">\n",
       "  <thead>\n",
       "    <tr style=\"text-align: right;\">\n",
       "      <th></th>\n",
       "      <th>id</th>\n",
       "      <th>price</th>\n",
       "      <th>year</th>\n",
       "      <th>odometer</th>\n",
       "      <th>lat</th>\n",
       "      <th>long</th>\n",
       "      <th>Month</th>\n",
       "      <th>Day</th>\n",
       "      <th>Dayofweek</th>\n",
       "      <th>Hour</th>\n",
       "    </tr>\n",
       "  </thead>\n",
       "  <tbody>\n",
       "    <tr>\n",
       "      <th>count</th>\n",
       "      <td>4.582130e+05</td>\n",
       "      <td>4.582130e+05</td>\n",
       "      <td>457163.0</td>\n",
       "      <td>4.029100e+05</td>\n",
       "      <td>450765.0</td>\n",
       "      <td>450765.0</td>\n",
       "      <td>458185.0</td>\n",
       "      <td>458185.0</td>\n",
       "      <td>458185.0</td>\n",
       "      <td>458185.0</td>\n",
       "    </tr>\n",
       "    <tr>\n",
       "      <th>mean</th>\n",
       "      <td>7.235233e+09</td>\n",
       "      <td>4.042090e+04</td>\n",
       "      <td>2010.7</td>\n",
       "      <td>1.016698e+05</td>\n",
       "      <td>38.5</td>\n",
       "      <td>-94.4</td>\n",
       "      <td>11.2</td>\n",
       "      <td>15.8</td>\n",
       "      <td>2.7</td>\n",
       "      <td>15.1</td>\n",
       "    </tr>\n",
       "    <tr>\n",
       "      <th>std</th>\n",
       "      <td>4.594362e+06</td>\n",
       "      <td>8.194599e+06</td>\n",
       "      <td>8.9</td>\n",
       "      <td>3.228622e+06</td>\n",
       "      <td>5.9</td>\n",
       "      <td>18.1</td>\n",
       "      <td>0.4</td>\n",
       "      <td>10.1</td>\n",
       "      <td>1.9</td>\n",
       "      <td>6.3</td>\n",
       "    </tr>\n",
       "    <tr>\n",
       "      <th>min</th>\n",
       "      <td>7.208550e+09</td>\n",
       "      <td>0.000000e+00</td>\n",
       "      <td>1900.0</td>\n",
       "      <td>0.000000e+00</td>\n",
       "      <td>-82.6</td>\n",
       "      <td>-164.1</td>\n",
       "      <td>10.0</td>\n",
       "      <td>1.0</td>\n",
       "      <td>0.0</td>\n",
       "      <td>0.0</td>\n",
       "    </tr>\n",
       "    <tr>\n",
       "      <th>25%</th>\n",
       "      <td>7.231953e+09</td>\n",
       "      <td>4.900000e+03</td>\n",
       "      <td>2008.0</td>\n",
       "      <td>4.087700e+04</td>\n",
       "      <td>34.6</td>\n",
       "      <td>-110.9</td>\n",
       "      <td>11.0</td>\n",
       "      <td>5.0</td>\n",
       "      <td>1.0</td>\n",
       "      <td>14.0</td>\n",
       "    </tr>\n",
       "    <tr>\n",
       "      <th>50%</th>\n",
       "      <td>7.236409e+09</td>\n",
       "      <td>1.099500e+04</td>\n",
       "      <td>2013.0</td>\n",
       "      <td>8.764100e+04</td>\n",
       "      <td>39.2</td>\n",
       "      <td>-88.3</td>\n",
       "      <td>11.0</td>\n",
       "      <td>17.0</td>\n",
       "      <td>2.0</td>\n",
       "      <td>16.0</td>\n",
       "    </tr>\n",
       "    <tr>\n",
       "      <th>75%</th>\n",
       "      <td>7.239321e+09</td>\n",
       "      <td>2.149500e+04</td>\n",
       "      <td>2016.0</td>\n",
       "      <td>1.340000e+05</td>\n",
       "      <td>42.5</td>\n",
       "      <td>-81.0</td>\n",
       "      <td>11.0</td>\n",
       "      <td>25.0</td>\n",
       "      <td>4.0</td>\n",
       "      <td>19.0</td>\n",
       "    </tr>\n",
       "    <tr>\n",
       "      <th>max</th>\n",
       "      <td>7.241019e+09</td>\n",
       "      <td>3.615215e+09</td>\n",
       "      <td>2021.0</td>\n",
       "      <td>2.043756e+09</td>\n",
       "      <td>82.0</td>\n",
       "      <td>150.9</td>\n",
       "      <td>12.0</td>\n",
       "      <td>30.0</td>\n",
       "      <td>6.0</td>\n",
       "      <td>23.0</td>\n",
       "    </tr>\n",
       "  </tbody>\n",
       "</table>\n",
       "</div>"
      ],
      "text/plain": [
       "                 id         price      year      odometer       lat      long  \\\n",
       "count  4.582130e+05  4.582130e+05  457163.0  4.029100e+05  450765.0  450765.0   \n",
       "mean   7.235233e+09  4.042090e+04    2010.7  1.016698e+05      38.5     -94.4   \n",
       "std    4.594362e+06  8.194599e+06       8.9  3.228622e+06       5.9      18.1   \n",
       "min    7.208550e+09  0.000000e+00    1900.0  0.000000e+00     -82.6    -164.1   \n",
       "25%    7.231953e+09  4.900000e+03    2008.0  4.087700e+04      34.6    -110.9   \n",
       "50%    7.236409e+09  1.099500e+04    2013.0  8.764100e+04      39.2     -88.3   \n",
       "75%    7.239321e+09  2.149500e+04    2016.0  1.340000e+05      42.5     -81.0   \n",
       "max    7.241019e+09  3.615215e+09    2021.0  2.043756e+09      82.0     150.9   \n",
       "\n",
       "          Month       Day  Dayofweek      Hour  \n",
       "count  458185.0  458185.0   458185.0  458185.0  \n",
       "mean       11.2      15.8        2.7      15.1  \n",
       "std         0.4      10.1        1.9       6.3  \n",
       "min        10.0       1.0        0.0       0.0  \n",
       "25%        11.0       5.0        1.0      14.0  \n",
       "50%        11.0      17.0        2.0      16.0  \n",
       "75%        11.0      25.0        4.0      19.0  \n",
       "max        12.0      30.0        6.0      23.0  "
      ]
     },
     "execution_count": 31,
     "metadata": {},
     "output_type": "execute_result"
    }
   ],
   "source": [
    "# view summary statistics in numerical variables\n",
    "round(df[numerical].describe(),1)"
   ]
  },
  {
   "cell_type": "markdown",
   "metadata": {},
   "source": [
    "On closer inspection, we can see that the `odometer`, `lat`, `long` and `price` columns may contain outliers.\n",
    "\n",
    "\n",
    "I will draw boxplots to visualise outliers in the above variables. "
   ]
  },
  {
   "cell_type": "code",
   "execution_count": 32,
   "metadata": {},
   "outputs": [
    {
     "data": {
      "text/plain": [
       "Text(0, 0.5, 'price')"
      ]
     },
     "execution_count": 32,
     "metadata": {},
     "output_type": "execute_result"
    },
    {
     "data": {
      "image/png": "[encoded data removed]",
      "text/plain": [
       "<Figure size 1080x720 with 4 Axes>"
      ]
     },
     "metadata": {
      "needs_background": "light"
     },
     "output_type": "display_data"
    }
   ],
   "source": [
    "# draw boxplots to visualize outliers\n",
    "plt.figure(figsize=(15,10))\n",
    "\n",
    "plt.subplot(2, 2, 1)\n",
    "fig = df.boxplot(column='odometer')\n",
    "fig.set_title('')\n",
    "fig.set_ylabel('odometer')\n",
    "\n",
    "plt.subplot(2, 2, 2)\n",
    "fig = df.boxplot(column='long')\n",
    "fig.set_title('')\n",
    "fig.set_ylabel('long')\n",
    "\n",
    "plt.subplot(2, 2, 3)\n",
    "fig = df.boxplot(column='lat')\n",
    "fig.set_title('')\n",
    "fig.set_ylabel('lat')\n",
    "\n",
    "plt.subplot(2, 2, 4)\n",
    "fig = df.boxplot(column='price')\n",
    "fig.set_title('')\n",
    "fig.set_ylabel('price')"
   ]
  },
  {
   "cell_type": "markdown",
   "metadata": {},
   "source": [
    "The above boxplots confirm that there are lot of outliers in these variables."
   ]
  },
  {
   "cell_type": "markdown",
   "metadata": {},
   "source": [
    "## 4.3. Multivariate Analysis <a class=\"anchor\" id=\"4.3\"></a>\n",
    "\n",
    "\n",
    "- An important step in EDA is to discover patterns and relationships between variables in the dataset."
   ]
  },
  {
   "cell_type": "code",
   "execution_count": 33,
   "metadata": {},
   "outputs": [],
   "source": [
    "correlation = df.corr()"
   ]
  },
  {
   "cell_type": "code",
   "execution_count": 34,
   "metadata": {
    "scrolled": true
   },
   "outputs": [
    {
     "data": {
      "text/plain": [
       "[Text(0, 0.5, 'id'),\n",
       " Text(0, 1.5, 'price'),\n",
       " Text(0, 2.5, 'year'),\n",
       " Text(0, 3.5, 'odometer'),\n",
       " Text(0, 4.5, 'lat'),\n",
       " Text(0, 5.5, 'long'),\n",
       " Text(0, 6.5, 'Month'),\n",
       " Text(0, 7.5, 'Day'),\n",
       " Text(0, 8.5, 'Dayofweek'),\n",
       " Text(0, 9.5, 'Hour')]"
      ]
     },
     "execution_count": 34,
     "metadata": {},
     "output_type": "execute_result"
    },
    {
     "data": {
      "image/png": "[encoded data removed]",
      "text/plain": [
       "<Figure size 1152x864 with 2 Axes>"
      ]
     },
     "metadata": {
      "needs_background": "light"
     },
     "output_type": "display_data"
    }
   ],
   "source": [
    "# draw a heat map to show the correlations between features\n",
    "\n",
    "plt.figure(figsize=(16,12))\n",
    "plt.title('Correlation Heatmap of Dataset')\n",
    "\n",
    "ax = sns.heatmap(correlation, square=True, annot=True, fmt='.2f', linecolor='white')\n",
    "\n",
    "ax.set_xticklabels(ax.get_xticklabels(), rotation=90)\n",
    "ax.set_yticklabels(ax.get_yticklabels(), rotation=30)           "
   ]
  },
  {
   "cell_type": "code",
   "execution_count": 35,
   "metadata": {},
   "outputs": [
    {
     "data": {
      "image/png": "[encoded data removed]",
      "text/plain": [
       "<Figure size 576x288 with 1 Axes>"
      ]
     },
     "metadata": {
      "needs_background": "light"
     },
     "output_type": "display_data"
    },
    {
     "data": {
      "image/png": "[encoded data removed]",
      "text/plain": [
       "<Figure size 576x288 with 1 Axes>"
      ]
     },
     "metadata": {
      "needs_background": "light"
     },
     "output_type": "display_data"
    },
    {
     "data": {
      "image/png": "[encoded data removed]",
      "text/plain": [
       "<Figure size 576x288 with 1 Axes>"
      ]
     },
     "metadata": {
      "needs_background": "light"
     },
     "output_type": "display_data"
    },
    {
     "data": {
      "image/png": "[encoded data removed]",
      "text/plain": [
       "<Figure size 576x288 with 1 Axes>"
      ]
     },
     "metadata": {
      "needs_background": "light"
     },
     "output_type": "display_data"
    },
    {
     "data": {
      "image/png": "[encoded data removed]",
      "text/plain": [
       "<Figure size 576x288 with 1 Axes>"
      ]
     },
     "metadata": {
      "needs_background": "light"
     },
     "output_type": "display_data"
    }
   ],
   "source": [
    "# plot the sales per year,month,day,day of week and hour\n",
    "time_feature = ['Date', 'Month', 'Day', 'Dayofweek', 'Hour']\n",
    "\n",
    "for feature in time_feature:\n",
    "    price_per_time = df.groupby(feature, as_index=False).price.sum()\n",
    "    plt.figure(figsize=(8,4))\n",
    "    sns.lineplot(x=feature, y=\"price\", data=price_per_time)"
   ]
  },
  {
   "cell_type": "code",
   "execution_count": 36,
   "metadata": {},
   "outputs": [
    {
     "data": {
      "text/plain": [
       "Text(0.5, 1.0, 'State Price')"
      ]
     },
     "execution_count": 36,
     "metadata": {},
     "output_type": "execute_result"
    },
    {
     "data": {
      "image/png": "[encoded data removed]",
      "text/plain": [
       "<Figure size 1080x432 with 1 Axes>"
      ]
     },
     "metadata": {
      "needs_background": "light"
     },
     "output_type": "display_data"
    }
   ],
   "source": [
    "# show the mean price of each state\n",
    "price_per_state = df.groupby('state',as_index=False).agg({'price': ['mean']})\n",
    "price_per_state.columns = ['state', 'mean']\n",
    "price_per_state = price_per_state.sort_values(by='mean', ascending=False)\n",
    "\n",
    "# plot the categories with mean price\n",
    "plt.figure(figsize=(15,6))\n",
    "ax = sns.barplot(y=\"mean\", x=\"state\", data=price_per_state)\n",
    "ax.set_title('State Price')"
   ]
  },
  {
   "cell_type": "code",
   "execution_count": 37,
   "metadata": {},
   "outputs": [
    {
     "data": {
      "text/plain": [
       "<AxesSubplot:xlabel='price', ylabel='manufacturer'>"
      ]
     },
     "execution_count": 37,
     "metadata": {},
     "output_type": "execute_result"
    },
    {
     "data": {
      "image/png": "[encoded data removed]",
      "text/plain": [
       "<Figure size 1080x1080 with 1 Axes>"
      ]
     },
     "metadata": {
      "needs_background": "light"
     },
     "output_type": "display_data"
    }
   ],
   "source": [
    "# show the price distribution of each manufacturer\n",
    "plt.figure(figsize=(15,15))\n",
    "sns.boxplot(x='price',y='manufacturer',data=df[df['price']<=0.005e+7])"
   ]
  },
  {
   "cell_type": "code",
   "execution_count": 38,
   "metadata": {},
   "outputs": [
    {
     "data": {
      "text/plain": [
       "Text(0.5, 1.0, 'Condition Price')"
      ]
     },
     "execution_count": 38,
     "metadata": {},
     "output_type": "execute_result"
    },
    {
     "data": {
      "image/png": "[encoded data removed]",
      "text/plain": [
       "<Figure size 576x432 with 1 Axes>"
      ]
     },
     "metadata": {
      "needs_background": "light"
     },
     "output_type": "display_data"
    }
   ],
   "source": [
    "# show the mean price of each condition\n",
    "price_per_condition = df.groupby('condition',as_index=False).agg({'price': ['mean']})\n",
    "price_per_condition.columns = ['condition', 'mean']\n",
    "price_per_condition = price_per_condition.sort_values(by='mean', ascending=False)\n",
    "\n",
    "# plot the categories with mean price\n",
    "plt.figure(figsize=(8,6))\n",
    "ax = sns.barplot(y=\"mean\", x=\"condition\", data=price_per_condition)\n",
    "ax.set_title('Condition Price')"
   ]
  },
  {
   "cell_type": "markdown",
   "metadata": {},
   "source": [
    "#### Interpretation\n",
    "\n",
    "\n",
    "\n",
    "From the above correlation heat map, we can conclude that :-\n",
    "\n",
    "-  Day and Month variables are highly negatively correlated (correlation coefficient = -0.72).\n",
    "-  The price is obviously higher in state al, wi and tx.\n",
    "-  The price is higher on weekdays and at midnight.\n",
    "-  Good and newer used cars have higher price.\n",
    "-  Cars of aston-martin and tesla are obviously expensiver than cars like satum,hyundai and mercury."
   ]
  },
  {
   "cell_type": "markdown",
   "metadata": {},
   "source": [
    "## 5. Declare feature vector and target variable <a class=\"anchor\" id=\"5\"></a>"
   ]
  },
  {
   "cell_type": "markdown",
   "metadata": {},
   "source": [
    "Choose only 10% of the dataset to build the model."
   ]
  },
  {
   "cell_type": "code",
   "execution_count": 39,
   "metadata": {},
   "outputs": [],
   "source": [
    "df1 = df.sample(frac=0.05, replace=False, random_state=101, axis=0)"
   ]
  },
  {
   "cell_type": "code",
   "execution_count": 40,
   "metadata": {},
   "outputs": [],
   "source": [
    "X = df1.drop(['price'], axis=1)\n",
    "\n",
    "y = df1['price']"
   ]
  },
  {
   "cell_type": "markdown",
   "metadata": {},
   "source": [
    "Drop some features which are not useful for the prediction."
   ]
  },
  {
   "cell_type": "code",
   "execution_count": 41,
   "metadata": {},
   "outputs": [],
   "source": [
    "X.drop(labels=['id', 'url','region_url','image_url','VIN','Date','description'],axis=1,inplace=True)"
   ]
  },
  {
   "cell_type": "markdown",
   "metadata": {},
   "source": [
    "## 6. Split data into separate training and test set <a class=\"anchor\" id=\"6\"></a>"
   ]
  },
  {
   "cell_type": "code",
   "execution_count": 42,
   "metadata": {},
   "outputs": [],
   "source": [
    "# split X and y into training and testing sets\n",
    "from sklearn.model_selection import train_test_split\n",
    "\n",
    "X_train, X_test, y_train, y_test = train_test_split(X, y, test_size=0.33, random_state=101)"
   ]
  },
  {
   "cell_type": "code",
   "execution_count": 43,
   "metadata": {},
   "outputs": [
    {
     "data": {
      "text/plain": [
       "((15350, 21), (7561, 21))"
      ]
     },
     "execution_count": 43,
     "metadata": {},
     "output_type": "execute_result"
    }
   ],
   "source": [
    "# check the shape of X_train and X_test\n",
    "X_train.shape, X_test.shape"
   ]
  },
  {
   "cell_type": "markdown",
   "metadata": {},
   "source": [
    "## 7. Feature Engineering <a class=\"anchor\" id=\"7\"></a>\n",
    "\n",
    "\n",
    "**Feature Engineering** is the process of transforming raw data into useful features that help us to understand our model better and increase its predictive power. I will carry out feature engineering on different types of variables.\n",
    "\n",
    "\n",
    "First, I will display the categorical and numerical variables again separately."
   ]
  },
  {
   "cell_type": "code",
   "execution_count": 44,
   "metadata": {},
   "outputs": [
    {
     "data": {
      "text/plain": [
       "region           object\n",
       "year            float64\n",
       "manufacturer     object\n",
       "model            object\n",
       "condition        object\n",
       "cylinders        object\n",
       "fuel             object\n",
       "odometer        float64\n",
       "title_status     object\n",
       "transmission     object\n",
       "drive            object\n",
       "size             object\n",
       "type             object\n",
       "paint_color      object\n",
       "state            object\n",
       "lat             float64\n",
       "long            float64\n",
       "Month           float64\n",
       "Day             float64\n",
       "Dayofweek       float64\n",
       "Hour            float64\n",
       "dtype: object"
      ]
     },
     "execution_count": 44,
     "metadata": {},
     "output_type": "execute_result"
    }
   ],
   "source": [
    "# check data types in X_train\n",
    "X_train.dtypes"
   ]
  },
  {
   "cell_type": "code",
   "execution_count": 45,
   "metadata": {},
   "outputs": [
    {
     "name": "stdout",
     "output_type": "stream",
     "text": [
      "Categorical variables are:  ['region', 'manufacturer', 'model', 'condition', 'cylinders', 'fuel', 'title_status', 'transmission', 'drive', 'size', 'type', 'paint_color', 'state'] \n",
      "Numerical variables are:  ['year', 'odometer', 'lat', 'long', 'Month', 'Day', 'Dayofweek', 'Hour']\n"
     ]
    }
   ],
   "source": [
    "# display categorical and numerical variables\n",
    "\n",
    "categorical = [col for col in X_train.columns if X_train[col].dtypes == 'O']\n",
    "numerical = [col for col in X_train.columns if X_train[col].dtypes != 'O']\n",
    "\n",
    "print('Categorical variables are: ', categorical, '\\nNumerical variables are: ',numerical)"
   ]
  },
  {
   "cell_type": "markdown",
   "metadata": {},
   "source": [
    "### Engineering missing values in numerical variables\n",
    "\n"
   ]
  },
  {
   "cell_type": "code",
   "execution_count": 46,
   "metadata": {},
   "outputs": [
    {
     "data": {
      "text/plain": [
       "year           36\n",
       "odometer     1887\n",
       "lat           260\n",
       "long          260\n",
       "Month           0\n",
       "Day             0\n",
       "Dayofweek       0\n",
       "Hour            0\n",
       "dtype: int64"
      ]
     },
     "execution_count": 46,
     "metadata": {},
     "output_type": "execute_result"
    }
   ],
   "source": [
    "# check missing values in numerical variables in X_train\n",
    "X_train[numerical].isnull().sum()"
   ]
  },
  {
   "cell_type": "code",
   "execution_count": 47,
   "metadata": {},
   "outputs": [
    {
     "data": {
      "text/plain": [
       "year          23\n",
       "odometer     927\n",
       "lat          114\n",
       "long         114\n",
       "Month          1\n",
       "Day            1\n",
       "Dayofweek      1\n",
       "Hour           1\n",
       "dtype: int64"
      ]
     },
     "execution_count": 47,
     "metadata": {},
     "output_type": "execute_result"
    }
   ],
   "source": [
    "# check missing values in numerical variables in X_test\n",
    "X_test[numerical].isnull().sum()"
   ]
  },
  {
   "cell_type": "code",
   "execution_count": 48,
   "metadata": {},
   "outputs": [
    {
     "name": "stdout",
     "output_type": "stream",
     "text": [
      "year 0.0023\n",
      "odometer 0.1229\n",
      "lat 0.0169\n",
      "long 0.0169\n"
     ]
    }
   ],
   "source": [
    "# print percentage of missing values in the numerical variables in training set\n",
    "\n",
    "for col in numerical:\n",
    "    if X_train[col].isnull().mean()>0:\n",
    "        print(col, round(X_train[col].isnull().mean(),4))"
   ]
  },
  {
   "cell_type": "markdown",
   "metadata": {},
   "source": [
    "#### Assumption\n",
    "\n",
    "\n",
    "Assume that the data are missing completely at random (MCAR). There are two methods which can be used to impute missing values. One is mean or median imputation and other one is random sample imputation. When there are outliers in the dataset, we should use median imputation. So, I will use median imputation because median imputation is robust to outliers.\n",
    "\n",
    "\n",
    "I will impute missing values with the appropriate statistical measures of the data, in this case median. Imputation should be done over the training set, and then propagated to the test set, in order to avoid overfitting."
   ]
  },
  {
   "cell_type": "code",
   "execution_count": 49,
   "metadata": {},
   "outputs": [],
   "source": [
    "# impute missing values in X_train and X_test with respective column median in X_train\n",
    "\n",
    "from feature_engine.imputation import MeanMedianImputer as MMI\n",
    "\n",
    "imputer = MMI(imputation_method='median',variables=numerical)\n",
    "imputer.fit(X_train)\n",
    "\n",
    "# transform the datasets\n",
    "X_train = imputer.transform(X_train)\n",
    "X_test = imputer.transform(X_test)"
   ]
  },
  {
   "cell_type": "code",
   "execution_count": 50,
   "metadata": {},
   "outputs": [
    {
     "data": {
      "text/plain": [
       "{'year': 2013.0,\n",
       " 'odometer': 88000.0,\n",
       " 'lat': 39.1435775,\n",
       " 'long': -88.728009,\n",
       " 'Month': 11.0,\n",
       " 'Day': 17.0,\n",
       " 'Dayofweek': 2.0,\n",
       " 'Hour': 16.0}"
      ]
     },
     "execution_count": 50,
     "metadata": {},
     "output_type": "execute_result"
    }
   ],
   "source": [
    "# check the mean assigned to each variable\n",
    "imputer.imputer_dict_"
   ]
  },
  {
   "cell_type": "code",
   "execution_count": 51,
   "metadata": {},
   "outputs": [
    {
     "data": {
      "text/plain": [
       "year         0\n",
       "odometer     0\n",
       "lat          0\n",
       "long         0\n",
       "Month        0\n",
       "Day          0\n",
       "Dayofweek    0\n",
       "Hour         0\n",
       "dtype: int64"
      ]
     },
     "execution_count": 51,
     "metadata": {},
     "output_type": "execute_result"
    }
   ],
   "source": [
    "# check again missing values in numerical variables in X_train\n",
    "X_train[numerical].isnull().sum()"
   ]
  },
  {
   "cell_type": "code",
   "execution_count": 52,
   "metadata": {},
   "outputs": [
    {
     "data": {
      "text/plain": [
       "year         0\n",
       "odometer     0\n",
       "lat          0\n",
       "long         0\n",
       "Month        0\n",
       "Day          0\n",
       "Dayofweek    0\n",
       "Hour         0\n",
       "dtype: int64"
      ]
     },
     "execution_count": 52,
     "metadata": {},
     "output_type": "execute_result"
    }
   ],
   "source": [
    "# check missing values in numerical variables in X_test\n",
    "X_test[numerical].isnull().sum()"
   ]
  },
  {
   "cell_type": "markdown",
   "metadata": {},
   "source": [
    "Now, we can see that there are no missing values in the numerical columns of training and test set."
   ]
  },
  {
   "cell_type": "markdown",
   "metadata": {},
   "source": [
    "### Engineering missing values in categorical variables"
   ]
  },
  {
   "cell_type": "code",
   "execution_count": 53,
   "metadata": {},
   "outputs": [
    {
     "name": "stdout",
     "output_type": "stream",
     "text": [
      "The percentage of missing data in manufacturer is about:  4.0 %.\n",
      "The percentage of missing data in model is about:  1.0 %.\n",
      "The percentage of missing data in condition is about:  42.0 %.\n",
      "The percentage of missing data in cylinders is about:  37.0 %.\n",
      "The percentage of missing data in fuel is about:  1.0 %.\n",
      "The percentage of missing data in title_status is about:  1.0 %.\n",
      "The percentage of missing data in transmission is about:  1.0 %.\n",
      "The percentage of missing data in drive is about:  30.0 %.\n",
      "The percentage of missing data in size is about:  71.0 %.\n",
      "The percentage of missing data in type is about:  25.0 %.\n",
      "The percentage of missing data in paint_color is about:  31.0 %.\n"
     ]
    }
   ],
   "source": [
    "# print categorical variables with missing data\n",
    "\n",
    "for col in categorical:\n",
    "    if X_train[col].isnull().mean()>0:\n",
    "        print('The percentage of missing data in',col,'is about: ', round(X_train[col].isnull().mean(),2)*100,'%.')"
   ]
  },
  {
   "cell_type": "markdown",
   "metadata": {},
   "source": [
    "For feature with large number of missing data, we should not ignore this information.\n",
    "\n",
    "We can add an indicator to these features and impute the missing data with the most frequent category."
   ]
  },
  {
   "cell_type": "code",
   "execution_count": 54,
   "metadata": {},
   "outputs": [],
   "source": [
    "# add new category \"unknown\"\n",
    "\n",
    "for col in ['condition','cylinders','size','drive','type','paint_color']:\n",
    "    df[col].fillna('unknown',inplace=True)"
   ]
  },
  {
   "cell_type": "code",
   "execution_count": 55,
   "metadata": {},
   "outputs": [],
   "source": [
    "from feature_engine.imputation import CategoricalImputer\n",
    "\n",
    "imputer_cat = CategoricalImputer(imputation_method='frequent', \n",
    "                                 variables=categorical)\n",
    "\n",
    "imputer_cat.fit(X_train)\n",
    "\n",
    "# transform the dataset\n",
    "X_train = imputer_cat.transform(X_train)\n",
    "X_test = imputer_cat.transform(X_test)"
   ]
  },
  {
   "cell_type": "markdown",
   "metadata": {},
   "source": [
    "As a final check, I will check for missing values in X_train and X_test."
   ]
  },
  {
   "cell_type": "code",
   "execution_count": 56,
   "metadata": {},
   "outputs": [
    {
     "data": {
      "text/plain": [
       "region          0\n",
       "year            0\n",
       "manufacturer    0\n",
       "model           0\n",
       "condition       0\n",
       "cylinders       0\n",
       "fuel            0\n",
       "odometer        0\n",
       "title_status    0\n",
       "transmission    0\n",
       "drive           0\n",
       "size            0\n",
       "type            0\n",
       "paint_color     0\n",
       "state           0\n",
       "lat             0\n",
       "long            0\n",
       "Month           0\n",
       "Day             0\n",
       "Dayofweek       0\n",
       "Hour            0\n",
       "dtype: int64"
      ]
     },
     "execution_count": 56,
     "metadata": {},
     "output_type": "execute_result"
    }
   ],
   "source": [
    "# check missing values in X_train\n",
    "\n",
    "X_train.isnull().sum()"
   ]
  },
  {
   "cell_type": "code",
   "execution_count": 57,
   "metadata": {},
   "outputs": [
    {
     "data": {
      "text/plain": [
       "region          0\n",
       "year            0\n",
       "manufacturer    0\n",
       "model           0\n",
       "condition       0\n",
       "cylinders       0\n",
       "fuel            0\n",
       "odometer        0\n",
       "title_status    0\n",
       "transmission    0\n",
       "drive           0\n",
       "size            0\n",
       "type            0\n",
       "paint_color     0\n",
       "state           0\n",
       "lat             0\n",
       "long            0\n",
       "Month           0\n",
       "Day             0\n",
       "Dayofweek       0\n",
       "Hour            0\n",
       "dtype: int64"
      ]
     },
     "execution_count": 57,
     "metadata": {},
     "output_type": "execute_result"
    }
   ],
   "source": [
    "# check missing values in X_test\n",
    "\n",
    "X_test.isnull().sum()"
   ]
  },
  {
   "cell_type": "markdown",
   "metadata": {},
   "source": [
    "We can see that there are no missing values in datasets X_train and X_test."
   ]
  },
  {
   "cell_type": "markdown",
   "metadata": {},
   "source": [
    "### Engineering outliers in numerical variables \n",
    "\n",
    "Some numerical columns contain outliers. We should remove the outliers to improve the algorithm performance."
   ]
  },
  {
   "cell_type": "code",
   "execution_count": 58,
   "metadata": {
    "scrolled": false
   },
   "outputs": [
    {
     "data": {
      "image/png": "[encoded data removed]",
      "text/plain": [
       "<Figure size 1152x288 with 2 Axes>"
      ]
     },
     "metadata": {
      "needs_background": "light"
     },
     "output_type": "display_data"
    },
    {
     "data": {
      "image/png": "[encoded data removed]",
      "text/plain": [
       "<Figure size 1152x288 with 2 Axes>"
      ]
     },
     "metadata": {
      "needs_background": "light"
     },
     "output_type": "display_data"
    },
    {
     "data": {
      "image/png": "[encoded data removed]",
      "text/plain": [
       "<Figure size 1152x288 with 2 Axes>"
      ]
     },
     "metadata": {
      "needs_background": "light"
     },
     "output_type": "display_data"
    },
    {
     "data": {
      "image/png": "[encoded data removed]",
      "text/plain": [
       "<Figure size 1152x288 with 2 Axes>"
      ]
     },
     "metadata": {
      "needs_background": "light"
     },
     "output_type": "display_data"
    },
    {
     "data": {
      "image/png": "[encoded data removed]",
      "text/plain": [
       "<Figure size 1152x288 with 2 Axes>"
      ]
     },
     "metadata": {
      "needs_background": "light"
     },
     "output_type": "display_data"
    },
    {
     "data": {
      "image/png": "[encoded data removed]",
      "text/plain": [
       "<Figure size 1152x288 with 2 Axes>"
      ]
     },
     "metadata": {
      "needs_background": "light"
     },
     "output_type": "display_data"
    },
    {
     "data": {
      "image/png": "[encoded data removed]",
      "text/plain": [
       "<Figure size 1152x288 with 2 Axes>"
      ]
     },
     "metadata": {
      "needs_background": "light"
     },
     "output_type": "display_data"
    },
    {
     "data": {
      "image/png": "[encoded data removed]",
      "text/plain": [
       "<Figure size 1152x288 with 2 Axes>"
      ]
     },
     "metadata": {
      "needs_background": "light"
     },
     "output_type": "display_data"
    }
   ],
   "source": [
    "# show the distribution of each numerical features\n",
    "for feature in numerical:\n",
    "    plt.figure(figsize=(16, 4))\n",
    "    \n",
    "    plt.subplot(1, 3, 1)\n",
    "    sns.histplot(x=feature,data=X_train,bins=80)\n",
    "    plt.subplot(1, 3, 2)\n",
    "    sns.boxplot(x=feature,data=X_train)"
   ]
  },
  {
   "cell_type": "markdown",
   "metadata": {},
   "source": [
    "Values of feature year are too large. We could do some encoding."
   ]
  },
  {
   "cell_type": "code",
   "execution_count": 59,
   "metadata": {},
   "outputs": [],
   "source": [
    "X_train['year'] = (2021-X_train['year']).astype(int)\n",
    "X_test['year'] = (2021-X_test['year']).astype(int)"
   ]
  },
  {
   "cell_type": "code",
   "execution_count": 60,
   "metadata": {},
   "outputs": [],
   "source": [
    "# import the library to remove the outliers\n",
    "from feature_engine.outliers import Winsorizer\n",
    "\n",
    "# create the capper\n",
    "windsoriser_num = Winsorizer(capping_method='iqr',tail='both',fold=1.5,variables=numerical)"
   ]
  },
  {
   "cell_type": "code",
   "execution_count": 61,
   "metadata": {},
   "outputs": [],
   "source": [
    "windsoriser_num.fit(X_train)\n",
    "\n",
    "X_train = windsoriser_num.transform(X_train)\n",
    "X_test = windsoriser_num.transform(X_test)"
   ]
  },
  {
   "cell_type": "code",
   "execution_count": 62,
   "metadata": {},
   "outputs": [
    {
     "data": {
      "image/png": "[encoded data removed]",
      "text/plain": [
       "<Figure size 1152x288 with 2 Axes>"
      ]
     },
     "metadata": {
      "needs_background": "light"
     },
     "output_type": "display_data"
    },
    {
     "data": {
      "image/png": "[encoded data removed]",
      "text/plain": [
       "<Figure size 1152x288 with 2 Axes>"
      ]
     },
     "metadata": {
      "needs_background": "light"
     },
     "output_type": "display_data"
    },
    {
     "data": {
      "image/png": "[encoded data removed]",
      "text/plain": [
       "<Figure size 1152x288 with 2 Axes>"
      ]
     },
     "metadata": {
      "needs_background": "light"
     },
     "output_type": "display_data"
    },
    {
     "data": {
      "image/png": "[encoded data removed]",
      "text/plain": [
       "<Figure size 1152x288 with 2 Axes>"
      ]
     },
     "metadata": {
      "needs_background": "light"
     },
     "output_type": "display_data"
    },
    {
     "data": {
      "image/png": "[encoded data removed]",
      "text/plain": [
       "<Figure size 1152x288 with 2 Axes>"
      ]
     },
     "metadata": {
      "needs_background": "light"
     },
     "output_type": "display_data"
    },
    {
     "data": {
      "image/png": "[encoded data removed]",
      "text/plain": [
       "<Figure size 1152x288 with 2 Axes>"
      ]
     },
     "metadata": {
      "needs_background": "light"
     },
     "output_type": "display_data"
    },
    {
     "data": {
      "image/png": "[encoded data removed]",
      "text/plain": [
       "<Figure size 1152x288 with 2 Axes>"
      ]
     },
     "metadata": {
      "needs_background": "light"
     },
     "output_type": "display_data"
    },
    {
     "data": {
      "image/png": "[encoded data removed]",
      "text/plain": [
       "<Figure size 1152x288 with 2 Axes>"
      ]
     },
     "metadata": {
      "needs_background": "light"
     },
     "output_type": "display_data"
    }
   ],
   "source": [
    "# show the distribution of each numerical features again\n",
    "for feature in numerical:\n",
    "    plt.figure(figsize=(16, 4))\n",
    "    \n",
    "    plt.subplot(1, 3, 1)\n",
    "    sns.histplot(x=feature,data=X_train,bins=80)\n",
    "    plt.subplot(1, 3, 2)\n",
    "    sns.boxplot(x=feature,data=X_train)"
   ]
  },
  {
   "cell_type": "markdown",
   "metadata": {},
   "source": [
    "We can now see that the outliers in numerical variables are removed."
   ]
  },
  {
   "cell_type": "markdown",
   "metadata": {},
   "source": [
    "### Gaussian Transformation of numerical variables\n",
    "\n",
    "Some machine learning models like linear and logistic regression assume that the variables are normally distributed. \n",
    "Transforming the variables to map their distribution to a Gaussian distribution may improve the performance of the machine learning algorithm."
   ]
  },
  {
   "cell_type": "code",
   "execution_count": 63,
   "metadata": {},
   "outputs": [],
   "source": [
    "from feature_engine.transformation import PowerTransformer as PTF\n",
    "\n",
    "ptf = PTF(variables=numerical)\n",
    "ptf.fit(X_train)\n",
    "\n",
    "X_train = ptf.transform(X_train)\n",
    "X_test = ptf.transform(X_test)"
   ]
  },
  {
   "cell_type": "code",
   "execution_count": 64,
   "metadata": {},
   "outputs": [
    {
     "data": {
      "image/png": "[encoded data removed]",
      "text/plain": [
       "<Figure size 576x288 with 1 Axes>"
      ]
     },
     "metadata": {
      "needs_background": "light"
     },
     "output_type": "display_data"
    },
    {
     "data": {
      "image/png": "[encoded data removed]",
      "text/plain": [
       "<Figure size 576x288 with 1 Axes>"
      ]
     },
     "metadata": {
      "needs_background": "light"
     },
     "output_type": "display_data"
    },
    {
     "data": {
      "image/png": "[encoded data removed]",
      "text/plain": [
       "<Figure size 576x288 with 1 Axes>"
      ]
     },
     "metadata": {
      "needs_background": "light"
     },
     "output_type": "display_data"
    },
    {
     "data": {
      "image/png": "[encoded data removed]",
      "text/plain": [
       "<Figure size 576x288 with 1 Axes>"
      ]
     },
     "metadata": {
      "needs_background": "light"
     },
     "output_type": "display_data"
    },
    {
     "data": {
      "image/png": "[encoded data removed]",
      "text/plain": [
       "<Figure size 576x288 with 1 Axes>"
      ]
     },
     "metadata": {
      "needs_background": "light"
     },
     "output_type": "display_data"
    },
    {
     "data": {
      "image/png": "[encoded data removed]",
      "text/plain": [
       "<Figure size 576x288 with 1 Axes>"
      ]
     },
     "metadata": {
      "needs_background": "light"
     },
     "output_type": "display_data"
    },
    {
     "data": {
      "image/png": "[encoded data removed]",
      "text/plain": [
       "<Figure size 576x288 with 1 Axes>"
      ]
     },
     "metadata": {
      "needs_background": "light"
     },
     "output_type": "display_data"
    },
    {
     "data": {
      "image/png": "[encoded data removed]",
      "text/plain": [
       "<Figure size 576x288 with 1 Axes>"
      ]
     },
     "metadata": {
      "needs_background": "light"
     },
     "output_type": "display_data"
    }
   ],
   "source": [
    "for var in numerical:\n",
    "    plt.figure(figsize=(8,4))\n",
    "    sns.histplot(X_train[var])"
   ]
  },
  {
   "cell_type": "markdown",
   "metadata": {},
   "source": [
    "### Encode categorical variables "
   ]
  },
  {
   "cell_type": "code",
   "execution_count": 65,
   "metadata": {},
   "outputs": [
    {
     "data": {
      "text/plain": [
       "['region',\n",
       " 'manufacturer',\n",
       " 'model',\n",
       " 'condition',\n",
       " 'cylinders',\n",
       " 'fuel',\n",
       " 'title_status',\n",
       " 'transmission',\n",
       " 'drive',\n",
       " 'size',\n",
       " 'type',\n",
       " 'paint_color',\n",
       " 'state']"
      ]
     },
     "execution_count": 65,
     "metadata": {},
     "output_type": "execute_result"
    }
   ],
   "source": [
    "# print categorical variables\n",
    "categorical"
   ]
  },
  {
   "cell_type": "code",
   "execution_count": 66,
   "metadata": {},
   "outputs": [
    {
     "data": {
      "text/html": [
       "<div>\n",
       "<style scoped>\n",
       "    .dataframe tbody tr th:only-of-type {\n",
       "        vertical-align: middle;\n",
       "    }\n",
       "\n",
       "    .dataframe tbody tr th {\n",
       "        vertical-align: top;\n",
       "    }\n",
       "\n",
       "    .dataframe thead th {\n",
       "        text-align: right;\n",
       "    }\n",
       "</style>\n",
       "<table border=\"1\" class=\"dataframe\">\n",
       "  <thead>\n",
       "    <tr style=\"text-align: right;\">\n",
       "      <th></th>\n",
       "      <th>region</th>\n",
       "      <th>manufacturer</th>\n",
       "      <th>model</th>\n",
       "      <th>condition</th>\n",
       "      <th>cylinders</th>\n",
       "      <th>fuel</th>\n",
       "      <th>title_status</th>\n",
       "      <th>transmission</th>\n",
       "      <th>drive</th>\n",
       "      <th>size</th>\n",
       "      <th>type</th>\n",
       "      <th>paint_color</th>\n",
       "      <th>state</th>\n",
       "    </tr>\n",
       "  </thead>\n",
       "  <tbody>\n",
       "    <tr>\n",
       "      <th>87111</th>\n",
       "      <td>daytona beach</td>\n",
       "      <td>ford</td>\n",
       "      <td>focus</td>\n",
       "      <td>excellent</td>\n",
       "      <td>4 cylinders</td>\n",
       "      <td>gas</td>\n",
       "      <td>clean</td>\n",
       "      <td>automatic</td>\n",
       "      <td>fwd</td>\n",
       "      <td>full-size</td>\n",
       "      <td>mini-van</td>\n",
       "      <td>green</td>\n",
       "      <td>fl</td>\n",
       "    </tr>\n",
       "    <tr>\n",
       "      <th>162653</th>\n",
       "      <td>kansas city, MO</td>\n",
       "      <td>ford</td>\n",
       "      <td>f-150</td>\n",
       "      <td>good</td>\n",
       "      <td>6 cylinders</td>\n",
       "      <td>other</td>\n",
       "      <td>clean</td>\n",
       "      <td>automatic</td>\n",
       "      <td>4wd</td>\n",
       "      <td>full-size</td>\n",
       "      <td>sedan</td>\n",
       "      <td>white</td>\n",
       "      <td>ks</td>\n",
       "    </tr>\n",
       "    <tr>\n",
       "      <th>8275</th>\n",
       "      <td>anchorage / mat-su</td>\n",
       "      <td>ford</td>\n",
       "      <td>fusion</td>\n",
       "      <td>excellent</td>\n",
       "      <td>6 cylinders</td>\n",
       "      <td>gas</td>\n",
       "      <td>clean</td>\n",
       "      <td>automatic</td>\n",
       "      <td>4wd</td>\n",
       "      <td>full-size</td>\n",
       "      <td>sedan</td>\n",
       "      <td>purple</td>\n",
       "      <td>ak</td>\n",
       "    </tr>\n",
       "    <tr>\n",
       "      <th>361534</th>\n",
       "      <td>knoxville</td>\n",
       "      <td>chevrolet</td>\n",
       "      <td>city express</td>\n",
       "      <td>good</td>\n",
       "      <td>6 cylinders</td>\n",
       "      <td>gas</td>\n",
       "      <td>clean</td>\n",
       "      <td>automatic</td>\n",
       "      <td>4wd</td>\n",
       "      <td>full-size</td>\n",
       "      <td>other</td>\n",
       "      <td>white</td>\n",
       "      <td>tn</td>\n",
       "    </tr>\n",
       "    <tr>\n",
       "      <th>421586</th>\n",
       "      <td>yakima</td>\n",
       "      <td>mini</td>\n",
       "      <td>countryman base</td>\n",
       "      <td>good</td>\n",
       "      <td>6 cylinders</td>\n",
       "      <td>gas</td>\n",
       "      <td>clean</td>\n",
       "      <td>manual</td>\n",
       "      <td>fwd</td>\n",
       "      <td>full-size</td>\n",
       "      <td>sedan</td>\n",
       "      <td>white</td>\n",
       "      <td>wa</td>\n",
       "    </tr>\n",
       "  </tbody>\n",
       "</table>\n",
       "</div>"
      ],
      "text/plain": [
       "                    region manufacturer            model  condition  \\\n",
       "87111        daytona beach         ford            focus  excellent   \n",
       "162653     kansas city, MO         ford            f-150       good   \n",
       "8275    anchorage / mat-su         ford           fusion  excellent   \n",
       "361534           knoxville    chevrolet     city express       good   \n",
       "421586              yakima         mini  countryman base       good   \n",
       "\n",
       "          cylinders   fuel title_status transmission drive       size  \\\n",
       "87111   4 cylinders    gas        clean    automatic   fwd  full-size   \n",
       "162653  6 cylinders  other        clean    automatic   4wd  full-size   \n",
       "8275    6 cylinders    gas        clean    automatic   4wd  full-size   \n",
       "361534  6 cylinders    gas        clean    automatic   4wd  full-size   \n",
       "421586  6 cylinders    gas        clean       manual   fwd  full-size   \n",
       "\n",
       "            type paint_color state  \n",
       "87111   mini-van       green    fl  \n",
       "162653     sedan       white    ks  \n",
       "8275       sedan      purple    ak  \n",
       "361534     other       white    tn  \n",
       "421586     sedan       white    wa  "
      ]
     },
     "execution_count": 66,
     "metadata": {},
     "output_type": "execute_result"
    }
   ],
   "source": [
    "X_train[categorical].head()"
   ]
  },
  {
   "cell_type": "code",
   "execution_count": 67,
   "metadata": {
    "scrolled": false
   },
   "outputs": [
    {
     "name": "stdout",
     "output_type": "stream",
     "text": [
      "region 402 \n",
      " columbus           0.008013\n",
      "jacksonville       0.007883\n",
      "san diego          0.007687\n",
      "fresno / madera    0.007687\n",
      "tucson             0.007622\n",
      "sacramento         0.007622\n",
      "springfield        0.007622\n",
      "grand rapids       0.007557\n",
      "cleveland          0.007492\n",
      "rochester          0.007427\n",
      "Name: region, dtype: float64 \n",
      "\n",
      "manufacturer 40 \n",
      " ford         0.211792\n",
      "chevrolet    0.143713\n",
      "toyota       0.083779\n",
      "honda        0.053616\n",
      "nissan       0.051792\n",
      "jeep         0.043844\n",
      "gmc          0.039544\n",
      "ram          0.037459\n",
      "dodge        0.037459\n",
      "hyundai      0.026775\n",
      "Name: manufacturer, dtype: float64 \n",
      "\n",
      "model 4346 \n",
      " f-150             0.027492\n",
      "silverado 1500    0.012117\n",
      "1500              0.009381\n",
      "altima            0.008599\n",
      "civic             0.007492\n",
      "escape            0.007296\n",
      "camry             0.007231\n",
      "accord            0.007166\n",
      "fusion            0.006515\n",
      "silverado         0.006254\n",
      "Name: model, dtype: float64 \n",
      "\n",
      "condition 6 \n",
      " good         0.677134\n",
      "excellent    0.251336\n",
      "like new     0.052704\n",
      "fair         0.014984\n",
      "new          0.002541\n",
      "salvage      0.001303\n",
      "Name: condition, dtype: float64 \n",
      "\n",
      "cylinders 8 \n",
      " 6 cylinders     0.604300\n",
      "4 cylinders     0.209446\n",
      "8 cylinders     0.174658\n",
      "5 cylinders     0.004104\n",
      "10 cylinders    0.003453\n",
      "other           0.002736\n",
      "3 cylinders     0.000977\n",
      "12 cylinders    0.000326\n",
      "Name: cylinders, dtype: float64 \n",
      "\n",
      "fuel 5 \n",
      " gas         0.878762\n",
      "diesel      0.068078\n",
      "other       0.033941\n",
      "hybrid      0.014202\n",
      "electric    0.005016\n",
      "Name: fuel, dtype: float64 \n",
      "\n",
      "title_status 6 \n",
      " clean         0.964430\n",
      "rebuilt       0.020130\n",
      "salvage       0.009251\n",
      "lien          0.004104\n",
      "missing       0.001694\n",
      "parts only    0.000391\n",
      "Name: title_status, dtype: float64 \n",
      "\n",
      "transmission 3 \n",
      " automatic    0.873616\n",
      "other        0.066645\n",
      "manual       0.059739\n",
      "Name: transmission, dtype: float64 \n",
      "\n",
      "drive 3 \n",
      " 4wd    0.607427\n",
      "fwd    0.263388\n",
      "rwd    0.129186\n",
      "Name: drive, dtype: float64 \n",
      "\n",
      "size 4 \n",
      " full-size      0.857264\n",
      "mid-size       0.090423\n",
      "compact        0.045081\n",
      "sub-compact    0.007231\n",
      "Name: size, dtype: float64 \n",
      "\n",
      "type 13 \n",
      " sedan          0.448208\n",
      "SUV            0.179088\n",
      "pickup         0.091661\n",
      "truck          0.077264\n",
      "other          0.051466\n",
      "coupe          0.042801\n",
      "hatchback      0.033746\n",
      "wagon          0.022606\n",
      "van            0.020586\n",
      "convertible    0.014984\n",
      "Name: type, dtype: float64 \n",
      "\n",
      "paint_color 12 \n",
      " white     0.491987\n",
      "black     0.138567\n",
      "silver    0.102410\n",
      "red       0.074397\n",
      "blue      0.070098\n",
      "grey      0.062150\n",
      "custom    0.019805\n",
      "green     0.016221\n",
      "brown     0.013616\n",
      "orange    0.004756\n",
      "Name: paint_color, dtype: float64 \n",
      "\n",
      "state 51 \n",
      " ca    0.116352\n",
      "fl    0.064691\n",
      "tx    0.054593\n",
      "mi    0.043062\n",
      "ny    0.042085\n",
      "oh    0.040391\n",
      "or    0.037915\n",
      "nc    0.033876\n",
      "wa    0.030879\n",
      "pa    0.029642\n",
      "Name: state, dtype: float64 \n",
      "\n"
     ]
    }
   ],
   "source": [
    "for feature in categorical:\n",
    "    print(feature, X_train[feature].nunique(),'\\n',\n",
    "          (X_train[feature].value_counts()/len(X_train)).head(10),'\\n')"
   ]
  },
  {
   "cell_type": "markdown",
   "metadata": {},
   "source": [
    "Encode the categories with only few percentage into new category \"rare\"."
   ]
  },
  {
   "cell_type": "code",
   "execution_count": 68,
   "metadata": {},
   "outputs": [
    {
     "data": {
      "text/plain": [
       "RareLabelEncoder(n_categories=8, tol=0.005,\n",
       "                 variables=['region', 'manufacturer', 'state', 'model'])"
      ]
     },
     "execution_count": 68,
     "metadata": {},
     "output_type": "execute_result"
    }
   ],
   "source": [
    "from feature_engine.encoding import RareLabelEncoder\n",
    "\n",
    "rare_encoder1 = RareLabelEncoder(tol=0.005, n_categories=8,variables=['region','manufacturer','state','model'])\n",
    "\n",
    "rare_encoder1.fit(X_train)"
   ]
  },
  {
   "cell_type": "code",
   "execution_count": 69,
   "metadata": {},
   "outputs": [],
   "source": [
    "# transform the dataset\n",
    "X_train = rare_encoder1.transform(X_train)\n",
    "X_test = rare_encoder1.transform(X_test)"
   ]
  },
  {
   "cell_type": "markdown",
   "metadata": {},
   "source": [
    "Encode the rest features."
   ]
  },
  {
   "cell_type": "code",
   "execution_count": 70,
   "metadata": {},
   "outputs": [],
   "source": [
    "rare_encoder2 = RareLabelEncoder(tol=0.01, n_categories=3,\n",
    "                                 variables=['cylinders','condition','title_status','size','type','paint_color','drive'])\n",
    "\n",
    "rare_encoder2.fit(X_train)\n",
    "\n",
    "# transform the dataset\n",
    "X_train = rare_encoder2.transform(X_train)\n",
    "X_test = rare_encoder2.transform(X_test)"
   ]
  },
  {
   "cell_type": "markdown",
   "metadata": {},
   "source": [
    "Encode the categorical variables into numerical variables using one hot encoder and count encoder."
   ]
  },
  {
   "cell_type": "code",
   "execution_count": 71,
   "metadata": {},
   "outputs": [
    {
     "name": "stdout",
     "output_type": "stream",
     "text": [
      "region 92\n",
      "manufacturer 28\n",
      "model 25\n",
      "condition 5\n",
      "cylinders 4\n",
      "fuel 5\n",
      "title_status 3\n",
      "transmission 3\n",
      "drive 3\n",
      "size 4\n",
      "type 12\n",
      "paint_color 10\n",
      "state 44\n"
     ]
    }
   ],
   "source": [
    "for c in categorical:\n",
    "    print(c,X_train[c].nunique())"
   ]
  },
  {
   "cell_type": "code",
   "execution_count": 72,
   "metadata": {},
   "outputs": [],
   "source": [
    "from feature_engine.encoding import OneHotEncoder,CountFrequencyEncoder\n",
    "\n",
    "ohe_enc = OneHotEncoder(variables=['manufacturer','model','condition','cylinders',\n",
    "                                   'fuel','title_status','transmission','drive',\n",
    "                                   'size','type','paint_color'],drop_last=True)\n",
    "\n",
    "ohe_enc.fit(X_train)\n",
    "\n",
    "# transform the dataset\n",
    "X_train = ohe_enc.transform(X_train)\n",
    "X_test = ohe_enc.transform(X_test)"
   ]
  },
  {
   "cell_type": "code",
   "execution_count": 73,
   "metadata": {},
   "outputs": [
    {
     "data": {
      "text/plain": [
       "CountFrequencyEncoder(encoding_method='frequency',\n",
       "                      variables=['state', 'region'])"
      ]
     },
     "execution_count": 73,
     "metadata": {},
     "output_type": "execute_result"
    }
   ],
   "source": [
    "fre_enc = CountFrequencyEncoder(encoding_method='frequency',variables=['state','region'])\n",
    "\n",
    "fre_enc.fit(X_train)"
   ]
  },
  {
   "cell_type": "code",
   "execution_count": 74,
   "metadata": {},
   "outputs": [],
   "source": [
    "# transform the dataset\n",
    "X_train = fre_enc.transform(X_train)\n",
    "X_test = fre_enc.transform(X_test)"
   ]
  },
  {
   "cell_type": "markdown",
   "metadata": {},
   "source": [
    "We now have training and testing set ready for model building. Before that, we should map all the feature variables onto the same scale. "
   ]
  },
  {
   "cell_type": "markdown",
   "metadata": {},
   "source": [
    "## 8. Feature Selection and Feature Scaling <a class=\"anchor\" id=\"8\"></a>"
   ]
  },
  {
   "cell_type": "code",
   "execution_count": 75,
   "metadata": {},
   "outputs": [
    {
     "name": "stdout",
     "output_type": "stream",
     "text": [
      "[]\n"
     ]
    }
   ],
   "source": [
    "# find the columns with constant and quasi-constant feature\n",
    "constant_features = [feat for feat in X_train.columns if X_train[feat].std() == 0]\n",
    "print(constant_features)\n",
    "\n",
    "# drop these columns\n",
    "X_train.drop(labels=constant_features,axis=1,inplace=True)\n",
    "X_test.drop(labels=constant_features,axis=1,inplace=True)"
   ]
  },
  {
   "cell_type": "code",
   "execution_count": 76,
   "metadata": {},
   "outputs": [
    {
     "data": {
      "text/plain": [
       "VarianceThreshold(threshold=0.025)"
      ]
     },
     "execution_count": 76,
     "metadata": {},
     "output_type": "execute_result"
    }
   ],
   "source": [
    "# select coloumns with quasi_constant feature\n",
    "from sklearn.feature_selection import VarianceThreshold\n",
    "\n",
    "sel = VarianceThreshold(threshold = 0.025)\n",
    "sel.fit(X_train)"
   ]
  },
  {
   "cell_type": "code",
   "execution_count": 77,
   "metadata": {},
   "outputs": [],
   "source": [
    "# print the number of quasi-constant features\n",
    "quasi_constant = X_train.columns[~sel.get_support()]\n",
    "\n",
    "len(quasi_constant),quasi_constant\n",
    "\n",
    "X_train.drop(labels=quasi_constant,axis=1,inplace=True)\n",
    "X_test.drop(labels=quasi_constant,axis=1,inplace=True)"
   ]
  },
  {
   "cell_type": "code",
   "execution_count": 78,
   "metadata": {},
   "outputs": [
    {
     "name": "stdout",
     "output_type": "stream",
     "text": [
      "0\n",
      "10\n",
      "20\n",
      "30\n",
      "40\n",
      "50\n"
     ]
    },
    {
     "data": {
      "text/plain": [
       "0"
      ]
     },
     "execution_count": 78,
     "metadata": {},
     "output_type": "execute_result"
    }
   ],
   "source": [
    "# check for duplicated features in the training set\n",
    "\n",
    "duplicated_feat = []\n",
    "for i in range(0, len(X_train.columns)):\n",
    "    if i % 10 == 0:\n",
    "        print(i)\n",
    "\n",
    "    col_1 = X_train.columns[i]\n",
    "\n",
    "    for col_2 in X_train.columns[i + 1:]:\n",
    "        if X_train[col_1].equals(X_train[col_2]):\n",
    "            duplicated_feat.append(col_2)\n",
    "            \n",
    "len(duplicated_feat)"
   ]
  },
  {
   "cell_type": "code",
   "execution_count": 79,
   "metadata": {},
   "outputs": [
    {
     "name": "stdout",
     "output_type": "stream",
     "text": [
      "correlated features:  0\n"
     ]
    }
   ],
   "source": [
    "# find and drop correlated features\n",
    "def correlation(dataset, threshold):\n",
    "    col_corr = set()\n",
    "    corr_matrix = dataset.corr()\n",
    "    for i in range(len(corr_matrix.columns)):\n",
    "        for j in range(i):\n",
    "            if abs(corr_matrix.iloc[i, j]) > threshold: \n",
    "                colname = corr_matrix.columns[i]  # getting the name of column\n",
    "                col_corr.add(colname)\n",
    "    return col_corr\n",
    "\n",
    "corr_features = correlation(X_train, 0.9)\n",
    "print('correlated features: ', len(set(corr_features)) )\n",
    "\n",
    "# removed correlated  features\n",
    "X_train.drop(labels=corr_features, axis=1, inplace=True)\n",
    "X_test.drop(labels=corr_features, axis=1, inplace=True)"
   ]
  },
  {
   "cell_type": "code",
   "execution_count": 80,
   "metadata": {},
   "outputs": [
    {
     "name": "stderr",
     "output_type": "stream",
     "text": [
      "[Parallel(n_jobs=1)]: Using backend SequentialBackend with 1 concurrent workers.\n",
      "[Parallel(n_jobs=1)]: Done   1 out of   1 | elapsed:    0.4s remaining:    0.0s\n",
      "[Parallel(n_jobs=1)]: Done  51 out of  51 | elapsed:    2.4s finished\n",
      "\n",
      "[2021-04-23 21:14:51] Features: 1/25 -- score: 0.09825024749285124[Parallel(n_jobs=1)]: Using backend SequentialBackend with 1 concurrent workers.\n",
      "[Parallel(n_jobs=1)]: Done   1 out of   1 | elapsed:    0.0s remaining:    0.0s\n",
      "[Parallel(n_jobs=1)]: Done  50 out of  50 | elapsed:    2.2s finished\n",
      "\n",
      "[2021-04-23 21:14:53] Features: 2/25 -- score: 0.12810474301421482[Parallel(n_jobs=1)]: Using backend SequentialBackend with 1 concurrent workers.\n",
      "[Parallel(n_jobs=1)]: Done   1 out of   1 | elapsed:    0.1s remaining:    0.0s\n",
      "[Parallel(n_jobs=1)]: Done  49 out of  49 | elapsed:    2.3s finished\n",
      "\n",
      "[2021-04-23 21:14:56] Features: 3/25 -- score: 0.14821020968090143[Parallel(n_jobs=1)]: Using backend SequentialBackend with 1 concurrent workers.\n",
      "[Parallel(n_jobs=1)]: Done   1 out of   1 | elapsed:    0.0s remaining:    0.0s\n",
      "[Parallel(n_jobs=1)]: Done  48 out of  48 | elapsed:    2.4s finished\n",
      "\n",
      "[2021-04-23 21:14:58] Features: 4/25 -- score: 0.16273884398234145[Parallel(n_jobs=1)]: Using backend SequentialBackend with 1 concurrent workers.\n",
      "[Parallel(n_jobs=1)]: Done   1 out of   1 | elapsed:    0.0s remaining:    0.0s\n",
      "[Parallel(n_jobs=1)]: Done  47 out of  47 | elapsed:    2.5s finished\n",
      "\n",
      "[2021-04-23 21:15:01] Features: 5/25 -- score: 0.17405793503215075[Parallel(n_jobs=1)]: Using backend SequentialBackend with 1 concurrent workers.\n",
      "[Parallel(n_jobs=1)]: Done   1 out of   1 | elapsed:    0.0s remaining:    0.0s\n",
      "[Parallel(n_jobs=1)]: Done  46 out of  46 | elapsed:    2.4s finished\n",
      "\n",
      "[2021-04-23 21:15:03] Features: 6/25 -- score: 0.18123109682745983[Parallel(n_jobs=1)]: Using backend SequentialBackend with 1 concurrent workers.\n",
      "[Parallel(n_jobs=1)]: Done   1 out of   1 | elapsed:    0.0s remaining:    0.0s\n",
      "[Parallel(n_jobs=1)]: Done  45 out of  45 | elapsed:    2.6s finished\n",
      "\n",
      "[2021-04-23 21:15:06] Features: 7/25 -- score: 0.1861522397271164[Parallel(n_jobs=1)]: Using backend SequentialBackend with 1 concurrent workers.\n",
      "[Parallel(n_jobs=1)]: Done   1 out of   1 | elapsed:    0.0s remaining:    0.0s\n",
      "[Parallel(n_jobs=1)]: Done  44 out of  44 | elapsed:    2.6s finished\n",
      "\n",
      "[2021-04-23 21:15:09] Features: 8/25 -- score: 0.18750616917471746[Parallel(n_jobs=1)]: Using backend SequentialBackend with 1 concurrent workers.\n",
      "[Parallel(n_jobs=1)]: Done   1 out of   1 | elapsed:    0.1s remaining:    0.0s\n",
      "[Parallel(n_jobs=1)]: Done  43 out of  43 | elapsed:    2.9s finished\n",
      "\n",
      "[2021-04-23 21:15:12] Features: 9/25 -- score: 0.18822029165695162[Parallel(n_jobs=1)]: Using backend SequentialBackend with 1 concurrent workers.\n",
      "[Parallel(n_jobs=1)]: Done   1 out of   1 | elapsed:    0.0s remaining:    0.0s\n",
      "[Parallel(n_jobs=1)]: Done  42 out of  42 | elapsed:    2.8s finished\n",
      "\n",
      "[2021-04-23 21:15:15] Features: 10/25 -- score: 0.1888190812389123[Parallel(n_jobs=1)]: Using backend SequentialBackend with 1 concurrent workers.\n",
      "[Parallel(n_jobs=1)]: Done   1 out of   1 | elapsed:    0.0s remaining:    0.0s\n",
      "[Parallel(n_jobs=1)]: Done  41 out of  41 | elapsed:    3.5s finished\n",
      "\n",
      "[2021-04-23 21:15:18] Features: 11/25 -- score: 0.18937776745153373[Parallel(n_jobs=1)]: Using backend SequentialBackend with 1 concurrent workers.\n",
      "[Parallel(n_jobs=1)]: Done   1 out of   1 | elapsed:    0.0s remaining:    0.0s\n",
      "[Parallel(n_jobs=1)]: Done  40 out of  40 | elapsed:    3.5s finished\n",
      "\n",
      "[2021-04-23 21:15:22] Features: 12/25 -- score: 0.18980297186697817[Parallel(n_jobs=1)]: Using backend SequentialBackend with 1 concurrent workers.\n",
      "[Parallel(n_jobs=1)]: Done   1 out of   1 | elapsed:    0.0s remaining:    0.0s\n",
      "[Parallel(n_jobs=1)]: Done  39 out of  39 | elapsed:    3.5s finished\n",
      "\n",
      "[2021-04-23 21:15:26] Features: 13/25 -- score: 0.18994889918463337[Parallel(n_jobs=1)]: Using backend SequentialBackend with 1 concurrent workers.\n",
      "[Parallel(n_jobs=1)]: Done   1 out of   1 | elapsed:    0.0s remaining:    0.0s\n",
      "[Parallel(n_jobs=1)]: Done  38 out of  38 | elapsed:    3.4s finished\n",
      "\n",
      "[2021-04-23 21:15:29] Features: 14/25 -- score: 0.19005626327936126[Parallel(n_jobs=1)]: Using backend SequentialBackend with 1 concurrent workers.\n",
      "[Parallel(n_jobs=1)]: Done   1 out of   1 | elapsed:    0.0s remaining:    0.0s\n",
      "[Parallel(n_jobs=1)]: Done  37 out of  37 | elapsed:    3.7s finished\n",
      "\n",
      "[2021-04-23 21:15:33] Features: 15/25 -- score: 0.19004279609492117[Parallel(n_jobs=1)]: Using backend SequentialBackend with 1 concurrent workers.\n",
      "[Parallel(n_jobs=1)]: Done   1 out of   1 | elapsed:    0.0s remaining:    0.0s\n",
      "[Parallel(n_jobs=1)]: Done  36 out of  36 | elapsed:    3.7s finished\n",
      "\n",
      "[2021-04-23 21:15:37] Features: 16/25 -- score: 0.18994667738034107[Parallel(n_jobs=1)]: Using backend SequentialBackend with 1 concurrent workers.\n",
      "[Parallel(n_jobs=1)]: Done   1 out of   1 | elapsed:    0.0s remaining:    0.0s\n",
      "[Parallel(n_jobs=1)]: Done  35 out of  35 | elapsed:    4.0s finished\n",
      "\n",
      "[2021-04-23 21:15:41] Features: 17/25 -- score: 0.18980834428141752[Parallel(n_jobs=1)]: Using backend SequentialBackend with 1 concurrent workers.\n",
      "[Parallel(n_jobs=1)]: Done   1 out of   1 | elapsed:    0.5s remaining:    0.0s\n",
      "[Parallel(n_jobs=1)]: Done  34 out of  34 | elapsed:    4.5s finished\n",
      "\n",
      "[2021-04-23 21:15:45] Features: 18/25 -- score: 0.1896434779753509[Parallel(n_jobs=1)]: Using backend SequentialBackend with 1 concurrent workers.\n",
      "[Parallel(n_jobs=1)]: Done   1 out of   1 | elapsed:    0.0s remaining:    0.0s\n",
      "[Parallel(n_jobs=1)]: Done  33 out of  33 | elapsed:    4.1s finished\n",
      "\n",
      "[2021-04-23 21:15:49] Features: 19/25 -- score: 0.18942109343841446[Parallel(n_jobs=1)]: Using backend SequentialBackend with 1 concurrent workers.\n",
      "[Parallel(n_jobs=1)]: Done   1 out of   1 | elapsed:    0.0s remaining:    0.0s\n",
      "[Parallel(n_jobs=1)]: Done  32 out of  32 | elapsed:    3.8s finished\n",
      "\n",
      "[2021-04-23 21:15:53] Features: 20/25 -- score: 0.18912154277771878[Parallel(n_jobs=1)]: Using backend SequentialBackend with 1 concurrent workers.\n",
      "[Parallel(n_jobs=1)]: Done   1 out of   1 | elapsed:    0.0s remaining:    0.0s\n",
      "[Parallel(n_jobs=1)]: Done  31 out of  31 | elapsed:    3.7s finished\n",
      "\n",
      "[2021-04-23 21:15:57] Features: 21/25 -- score: 0.18862798502907693[Parallel(n_jobs=1)]: Using backend SequentialBackend with 1 concurrent workers.\n",
      "[Parallel(n_jobs=1)]: Done   1 out of   1 | elapsed:    0.0s remaining:    0.0s\n",
      "[Parallel(n_jobs=1)]: Done  30 out of  30 | elapsed:    3.8s finished\n",
      "\n",
      "[2021-04-23 21:16:01] Features: 22/25 -- score: 0.18814192490219772[Parallel(n_jobs=1)]: Using backend SequentialBackend with 1 concurrent workers.\n",
      "[Parallel(n_jobs=1)]: Done   1 out of   1 | elapsed:    0.0s remaining:    0.0s\n",
      "[Parallel(n_jobs=1)]: Done  29 out of  29 | elapsed:    3.6s finished\n",
      "\n",
      "[2021-04-23 21:16:05] Features: 23/25 -- score: 0.1875183464529338[Parallel(n_jobs=1)]: Using backend SequentialBackend with 1 concurrent workers.\n",
      "[Parallel(n_jobs=1)]: Done   1 out of   1 | elapsed:    0.0s remaining:    0.0s\n",
      "[Parallel(n_jobs=1)]: Done  28 out of  28 | elapsed:    3.8s finished\n",
      "\n",
      "[2021-04-23 21:16:09] Features: 24/25 -- score: 0.18681244971543057[Parallel(n_jobs=1)]: Using backend SequentialBackend with 1 concurrent workers.\n",
      "[Parallel(n_jobs=1)]: Done   1 out of   1 | elapsed:    0.0s remaining:    0.0s\n",
      "[Parallel(n_jobs=1)]: Done  27 out of  27 | elapsed:    3.8s finished\n",
      "\n",
      "[2021-04-23 21:16:13] Features: 25/25 -- score: 0.1858291832461116"
     ]
    }
   ],
   "source": [
    "# use Wrapper model to select features\n",
    "from mlxtend.feature_selection import SequentialFeatureSelector as SFS\n",
    "from sklearn.linear_model import LinearRegression\n",
    "\n",
    "sfs = SFS(LinearRegression(),k_features=25,forward=True, \n",
    "          floating=False,verbose=2,scoring='r2')\n",
    "\n",
    "sfs = sfs.fit(X_train, y_train)"
   ]
  },
  {
   "cell_type": "code",
   "execution_count": 81,
   "metadata": {},
   "outputs": [
    {
     "data": {
      "text/plain": [
       "Index(['region', 'year', 'odometer', 'Day', 'manufacturer_bmw',\n",
       "       'manufacturer_jeep', 'manufacturer_ram', 'manufacturer_gmc',\n",
       "       'manufacturer_Rare', 'manufacturer_dodge', 'manufacturer_hyundai',\n",
       "       'model_f-150', 'cylinders_4 cylinders', 'cylinders_6 cylinders',\n",
       "       'cylinders_8 cylinders', 'fuel_other', 'fuel_diesel',\n",
       "       'title_status_clean', 'drive_fwd', 'type_sedan', 'type_other',\n",
       "       'type_pickup', 'type_truck', 'paint_color_white', 'paint_color_red'],\n",
       "      dtype='object')"
      ]
     },
     "execution_count": 81,
     "metadata": {},
     "output_type": "execute_result"
    }
   ],
   "source": [
    "# show the feature we just selected\n",
    "selected_feat = X_train.columns[list(sfs.k_feature_idx_)]\n",
    "\n",
    "selected_feat"
   ]
  },
  {
   "cell_type": "code",
   "execution_count": 82,
   "metadata": {},
   "outputs": [],
   "source": [
    "# transform the datasets\n",
    "X_train = X_train[selected_feat]\n",
    "X_test = X_test[selected_feat]"
   ]
  },
  {
   "cell_type": "code",
   "execution_count": 83,
   "metadata": {},
   "outputs": [],
   "source": [
    "# data preprocessing\n",
    "from sklearn.preprocessing import StandardScaler\n",
    "\n",
    "scaler = StandardScaler()\n",
    "scaler.fit(X_train)\n",
    "\n",
    "X_train = scaler.transform(X_train)\n",
    "X_test = scaler.transform(X_test)"
   ]
  },
  {
   "cell_type": "code",
   "execution_count": 84,
   "metadata": {},
   "outputs": [],
   "source": [
    "# create the capper to remove outliers in y datasets\n",
    "windsoriser_target = Winsorizer(capping_method='iqr',tail='both',fold=1.5,variables='price')\n",
    "windsoriser_target.fit(pd.DataFrame(y_train))\n",
    "\n",
    "y_train = windsoriser_target.transform(pd.DataFrame(y_train))['price']\n",
    "y_test = windsoriser_target.transform(pd.DataFrame(y_test))['price']"
   ]
  },
  {
   "cell_type": "code",
   "execution_count": 85,
   "metadata": {},
   "outputs": [
    {
     "data": {
      "text/plain": [
       "<AxesSubplot:xlabel='price'>"
      ]
     },
     "execution_count": 85,
     "metadata": {},
     "output_type": "execute_result"
    },
    {
     "data": {
      "image/png": "[encoded data removed]",
      "text/plain": [
       "<Figure size 432x288 with 1 Axes>"
      ]
     },
     "metadata": {
      "needs_background": "light"
     },
     "output_type": "display_data"
    }
   ],
   "source": [
    "# check if there is still outlier\n",
    "\n",
    "sns.boxplot(y_train)"
   ]
  },
  {
   "cell_type": "markdown",
   "metadata": {},
   "source": [
    "## 9. Model training<a class=\"anchor\" id=\"9\"></a>"
   ]
  },
  {
   "cell_type": "markdown",
   "metadata": {},
   "source": [
    "Now we are ready to train a model and predict the required solution. There are a large number of predictive modelling algorithms to choose from. \n",
    "\n",
    "First of all, we need to import the libraries of the algorithms."
   ]
  },
  {
   "cell_type": "code",
   "execution_count": 86,
   "metadata": {},
   "outputs": [],
   "source": [
    "from sklearn.linear_model import LinearRegression,RidgeCV\n",
    "from sklearn.svm import LinearSVR\n",
    "from sklearn.tree import DecisionTreeRegressor\n",
    "from sklearn.ensemble import RandomForestRegressor, GradientBoostingRegressor\n",
    "from sklearn.neural_network import MLPRegressor\n",
    "import lightgbm\n",
    "import xgboost"
   ]
  },
  {
   "cell_type": "markdown",
   "metadata": {},
   "source": [
    "Build model baseline."
   ]
  },
  {
   "cell_type": "code",
   "execution_count": 87,
   "metadata": {},
   "outputs": [],
   "source": [
    "# Linear Regression\n",
    "linreg = LinearRegression()\n",
    "\n",
    "# LinearSVR\n",
    "lsvr = LinearSVR()\n",
    "\n",
    "# RidgeCV\n",
    "rcv = RidgeCV()\n",
    "\n",
    "# DecisionTreeRegressor\n",
    "dtr = DecisionTreeRegressor()\n",
    "\n",
    "# RandomForestRegressor\n",
    "rfr = RandomForestRegressor()\n",
    "\n",
    "# GradientBoostingRegressor\n",
    "gbr = GradientBoostingRegressor()\n",
    "\n",
    "# MLPRegressor\n",
    "mlpr = MLPRegressor()\n",
    "\n",
    "# lightgbm\n",
    "lg = lightgbm.LGBMRegressor()\n",
    "\n",
    "# xgboost \n",
    "xgb = xgboost.XGBRegressor()"
   ]
  },
  {
   "cell_type": "code",
   "execution_count": 88,
   "metadata": {},
   "outputs": [
    {
     "data": {
      "text/plain": [
       "LinearRegression()"
      ]
     },
     "execution_count": 88,
     "metadata": {},
     "output_type": "execute_result"
    }
   ],
   "source": [
    "# Linear Regression\n",
    "linreg.fit(X_train,y_train)"
   ]
  },
  {
   "cell_type": "code",
   "execution_count": 89,
   "metadata": {},
   "outputs": [
    {
     "data": {
      "text/plain": [
       "RidgeCV(alphas=array([ 0.1,  1. , 10. ]))"
      ]
     },
     "execution_count": 89,
     "metadata": {},
     "output_type": "execute_result"
    }
   ],
   "source": [
    "# RidgeCV\n",
    "rcv.fit(X_train,y_train)"
   ]
  },
  {
   "cell_type": "code",
   "execution_count": 90,
   "metadata": {},
   "outputs": [
    {
     "data": {
      "text/plain": [
       "DecisionTreeRegressor()"
      ]
     },
     "execution_count": 90,
     "metadata": {},
     "output_type": "execute_result"
    }
   ],
   "source": [
    "# DecisionTreeRegressor\n",
    "dtr.fit(X_train,y_train)"
   ]
  },
  {
   "cell_type": "code",
   "execution_count": 91,
   "metadata": {},
   "outputs": [
    {
     "data": {
      "text/plain": [
       "LinearSVR()"
      ]
     },
     "execution_count": 91,
     "metadata": {},
     "output_type": "execute_result"
    }
   ],
   "source": [
    "# Linear SVR\n",
    "lsvr.fit(X_train,y_train)"
   ]
  },
  {
   "cell_type": "code",
   "execution_count": 92,
   "metadata": {},
   "outputs": [
    {
     "data": {
      "text/plain": [
       "MLPRegressor()"
      ]
     },
     "execution_count": 92,
     "metadata": {},
     "output_type": "execute_result"
    }
   ],
   "source": [
    "# MLPRegressor\n",
    "mlpr.fit(X_train,y_train)"
   ]
  },
  {
   "cell_type": "code",
   "execution_count": 93,
   "metadata": {},
   "outputs": [
    {
     "data": {
      "text/plain": [
       "LGBMRegressor()"
      ]
     },
     "execution_count": 93,
     "metadata": {},
     "output_type": "execute_result"
    }
   ],
   "source": [
    "# lightgbm\n",
    "lg.fit(X_train,y_train)"
   ]
  },
  {
   "cell_type": "code",
   "execution_count": 94,
   "metadata": {},
   "outputs": [
    {
     "data": {
      "text/plain": [
       "RandomForestRegressor()"
      ]
     },
     "execution_count": 94,
     "metadata": {},
     "output_type": "execute_result"
    }
   ],
   "source": [
    "# RandomForestRegressor\n",
    "rfr.fit(X_train,y_train)"
   ]
  },
  {
   "cell_type": "code",
   "execution_count": 95,
   "metadata": {},
   "outputs": [
    {
     "data": {
      "text/plain": [
       "GradientBoostingRegressor()"
      ]
     },
     "execution_count": 95,
     "metadata": {},
     "output_type": "execute_result"
    }
   ],
   "source": [
    "# GradientBoostingRegressor\n",
    "gbr.fit(X_train,y_train)"
   ]
  },
  {
   "cell_type": "code",
   "execution_count": 96,
   "metadata": {
    "scrolled": true
   },
   "outputs": [
    {
     "data": {
      "text/plain": [
       "XGBRegressor(base_score=0.5, booster='gbtree', colsample_bylevel=1,\n",
       "             colsample_bynode=1, colsample_bytree=1, gamma=0, gpu_id=-1,\n",
       "             importance_type='gain', interaction_constraints='',\n",
       "             learning_rate=0.300000012, max_delta_step=0, max_depth=6,\n",
       "             min_child_weight=1, missing=nan, monotone_constraints='()',\n",
       "             n_estimators=100, n_jobs=4, num_parallel_tree=1, random_state=0,\n",
       "             reg_alpha=0, reg_lambda=1, scale_pos_weight=1, subsample=1,\n",
       "             tree_method='exact', validate_parameters=1, verbosity=None)"
      ]
     },
     "execution_count": 96,
     "metadata": {},
     "output_type": "execute_result"
    }
   ],
   "source": [
    "# XGBoost\n",
    "xgb.fit(X_train,y_train)"
   ]
  },
  {
   "cell_type": "markdown",
   "metadata": {},
   "source": [
    "## 10. Predict results and check the score <a class=\"anchor\" id=\"10\"></a>"
   ]
  },
  {
   "cell_type": "code",
   "execution_count": 97,
   "metadata": {},
   "outputs": [],
   "source": [
    "from sklearn import metrics\n",
    "\n",
    "def model_error(pred):\n",
    "    print('R2 Score:',metrics.r2_score(y_test,pred))\n",
    "    print('MAE:', metrics.mean_absolute_error(y_test, pred))\n",
    "    print('RMSE:', metrics.mean_squared_error(y_test, pred,squared=False))"
   ]
  },
  {
   "cell_type": "markdown",
   "metadata": {},
   "source": [
    "Now we redict the price and print the score."
   ]
  },
  {
   "cell_type": "code",
   "execution_count": 98,
   "metadata": {},
   "outputs": [
    {
     "name": "stdout",
     "output_type": "stream",
     "text": [
      "R2 Score: 0.4352918141311597\n",
      "MAE: 6466.262517179603\n",
      "RMSE: 9316.820784744568\n"
     ]
    },
    {
     "data": {
      "text/plain": [
       "Text(0.5, 1.0, 'Linear Regression')"
      ]
     },
     "execution_count": 98,
     "metadata": {},
     "output_type": "execute_result"
    },
    {
     "data": {
      "image/png": "[encoded data removed]",
      "text/plain": [
       "<Figure size 432x288 with 1 Axes>"
      ]
     },
     "metadata": {
      "needs_background": "light"
     },
     "output_type": "display_data"
    }
   ],
   "source": [
    "# Linear Regression\n",
    "pred_linreg = linreg.predict(X_test)\n",
    "\n",
    "model_error(pred_linreg)\n",
    "\n",
    "sns.distplot((y_test-pred_linreg),bins=100)\n",
    "plt.title('Linear Regression')"
   ]
  },
  {
   "cell_type": "code",
   "execution_count": 99,
   "metadata": {},
   "outputs": [
    {
     "name": "stdout",
     "output_type": "stream",
     "text": [
      "R2 Score: -0.006243474105783298\n",
      "MAE: 8804.42352635033\n",
      "RMSE: 12436.75956680565\n"
     ]
    },
    {
     "data": {
      "text/plain": [
       "Text(0.5, 1.0, 'Linear SVR')"
      ]
     },
     "execution_count": 99,
     "metadata": {},
     "output_type": "execute_result"
    },
    {
     "data": {
      "image/png": "[encoded data removed]",
      "text/plain": [
       "<Figure size 432x288 with 1 Axes>"
      ]
     },
     "metadata": {
      "needs_background": "light"
     },
     "output_type": "display_data"
    }
   ],
   "source": [
    "# LinearSVR\n",
    "pred_lsvr = lsvr.predict(X_test)\n",
    "\n",
    "model_error(pred_lsvr)\n",
    "\n",
    "sns.distplot((y_test-pred_lsvr),bins=100)\n",
    "plt.title('Linear SVR')"
   ]
  },
  {
   "cell_type": "code",
   "execution_count": 100,
   "metadata": {},
   "outputs": [
    {
     "name": "stdout",
     "output_type": "stream",
     "text": [
      "R2 Score: 0.4353181194244664\n",
      "MAE: 6466.142421689705\n",
      "RMSE: 9316.603783677707\n"
     ]
    },
    {
     "data": {
      "text/plain": [
       "Text(0.5, 1.0, 'RidgeCV')"
      ]
     },
     "execution_count": 100,
     "metadata": {},
     "output_type": "execute_result"
    },
    {
     "data": {
      "image/png": "[encoded data removed]",
      "text/plain": [
       "<Figure size 432x288 with 1 Axes>"
      ]
     },
     "metadata": {
      "needs_background": "light"
     },
     "output_type": "display_data"
    }
   ],
   "source": [
    "# RidgeCV\n",
    "pred_rcv = rcv.predict(X_test)\n",
    "\n",
    "model_error(pred_rcv)\n",
    "\n",
    "sns.distplot((y_test-pred_rcv),bins=100)\n",
    "plt.title('RidgeCV')"
   ]
  },
  {
   "cell_type": "code",
   "execution_count": 101,
   "metadata": {},
   "outputs": [
    {
     "name": "stdout",
     "output_type": "stream",
     "text": [
      "R2 Score: 0.12732167376028114\n",
      "MAE: 7273.5549310055985\n",
      "RMSE: 11581.979583271079\n"
     ]
    },
    {
     "data": {
      "text/plain": [
       "Text(0.5, 1.0, 'Decision Tree Regression')"
      ]
     },
     "execution_count": 101,
     "metadata": {},
     "output_type": "execute_result"
    },
    {
     "data": {
      "image/png": "[encoded data removed]",
      "text/plain": [
       "<Figure size 432x288 with 1 Axes>"
      ]
     },
     "metadata": {
      "needs_background": "light"
     },
     "output_type": "display_data"
    }
   ],
   "source": [
    "# DecisionTreeRegressor\n",
    "pred_dtr = dtr.predict(X_test)\n",
    "\n",
    "model_error(pred_dtr)\n",
    "\n",
    "sns.distplot((y_test-pred_dtr),bins=100)\n",
    "plt.title('Decision Tree Regression')"
   ]
  },
  {
   "cell_type": "code",
   "execution_count": 102,
   "metadata": {},
   "outputs": [
    {
     "name": "stdout",
     "output_type": "stream",
     "text": [
      "R2 Score: 0.5238720090404834\n",
      "MAE: 5658.317821464594\n",
      "RMSE: 8554.95160197541\n"
     ]
    },
    {
     "data": {
      "text/plain": [
       "Text(0.5, 1.0, 'Random Forest Regression')"
      ]
     },
     "execution_count": 102,
     "metadata": {},
     "output_type": "execute_result"
    },
    {
     "data": {
      "image/png": "[encoded data removed]",
      "text/plain": [
       "<Figure size 432x288 with 1 Axes>"
      ]
     },
     "metadata": {
      "needs_background": "light"
     },
     "output_type": "display_data"
    }
   ],
   "source": [
    "# RandomForestRegressor\n",
    "\n",
    "pred_rfr = rfr.predict(X_test)\n",
    "\n",
    "model_error(pred_rfr)\n",
    "\n",
    "sns.distplot((y_test-pred_rfr),bins=100)\n",
    "plt.title('Random Forest Regression')"
   ]
  },
  {
   "cell_type": "code",
   "execution_count": 103,
   "metadata": {},
   "outputs": [
    {
     "name": "stdout",
     "output_type": "stream",
     "text": [
      "R2 Score: 0.4356099038790253\n",
      "MAE: 6444.558322369365\n",
      "RMSE: 9314.196418125357\n"
     ]
    },
    {
     "data": {
      "text/plain": [
       "Text(0.5, 1.0, 'MLPRegressor')"
      ]
     },
     "execution_count": 103,
     "metadata": {},
     "output_type": "execute_result"
    },
    {
     "data": {
      "image/png": "[encoded data removed]",
      "text/plain": [
       "<Figure size 432x288 with 1 Axes>"
      ]
     },
     "metadata": {
      "needs_background": "light"
     },
     "output_type": "display_data"
    }
   ],
   "source": [
    "# MLPRegressor\n",
    "pred_mlpr = mlpr.predict(X_test)\n",
    "\n",
    "model_error(pred_mlpr)\n",
    "\n",
    "sns.distplot((y_test-pred_mlpr),bins=100)\n",
    "plt.title('MLPRegressor')"
   ]
  },
  {
   "cell_type": "code",
   "execution_count": 104,
   "metadata": {},
   "outputs": [
    {
     "name": "stdout",
     "output_type": "stream",
     "text": [
      "R2 Score: 0.5238834800544302\n",
      "MAE: 5691.580966213307\n",
      "RMSE: 8554.848547164436\n"
     ]
    },
    {
     "data": {
      "text/plain": [
       "Text(0.5, 1.0, 'LGBM')"
      ]
     },
     "execution_count": 104,
     "metadata": {},
     "output_type": "execute_result"
    },
    {
     "data": {
      "image/png": "[encoded data removed]",
      "text/plain": [
       "<Figure size 432x288 with 1 Axes>"
      ]
     },
     "metadata": {
      "needs_background": "light"
     },
     "output_type": "display_data"
    }
   ],
   "source": [
    "# lightgbm\n",
    "pred_lg = lg.predict(X_test)\n",
    "\n",
    "model_error(pred_lg)\n",
    "\n",
    "sns.distplot((y_test-pred_lg),bins=100)\n",
    "plt.title('LGBM')"
   ]
  },
  {
   "cell_type": "code",
   "execution_count": 105,
   "metadata": {},
   "outputs": [
    {
     "name": "stdout",
     "output_type": "stream",
     "text": [
      "R2 Score: 0.5027088999415807\n",
      "MAE: 5896.327265860186\n",
      "RMSE: 8743.01137499371\n"
     ]
    },
    {
     "data": {
      "text/plain": [
       "Text(0.5, 1.0, 'GradientBoost')"
      ]
     },
     "execution_count": 105,
     "metadata": {},
     "output_type": "execute_result"
    },
    {
     "data": {
      "image/png": "[encoded data removed]",
      "text/plain": [
       "<Figure size 432x288 with 1 Axes>"
      ]
     },
     "metadata": {
      "needs_background": "light"
     },
     "output_type": "display_data"
    }
   ],
   "source": [
    "# GradientBoost\n",
    "pred_gbr = gbr.predict(X_test)\n",
    "\n",
    "model_error(pred_gbr)\n",
    "\n",
    "sns.distplot((y_test-pred_gbr),bins=100)\n",
    "plt.title('GradientBoost')"
   ]
  },
  {
   "cell_type": "code",
   "execution_count": 106,
   "metadata": {},
   "outputs": [
    {
     "name": "stdout",
     "output_type": "stream",
     "text": [
      "R2 Score: 0.5234822442757071\n",
      "MAE: 5678.902484814589\n",
      "RMSE: 8558.452484764606\n"
     ]
    },
    {
     "data": {
      "text/plain": [
       "Text(0.5, 1.0, 'XGBoosting')"
      ]
     },
     "execution_count": 106,
     "metadata": {},
     "output_type": "execute_result"
    },
    {
     "data": {
      "image/png": "[encoded data removed]",
      "text/plain": [
       "<Figure size 432x288 with 1 Axes>"
      ]
     },
     "metadata": {
      "needs_background": "light"
     },
     "output_type": "display_data"
    }
   ],
   "source": [
    "# xgboost\n",
    "pred_xgb = xgb.predict(X_test)\n",
    "\n",
    "model_error(pred_xgb)\n",
    "\n",
    "sns.distplot((y_test-pred_xgb),bins=100)\n",
    "plt.title('XGBoosting')"
   ]
  },
  {
   "cell_type": "markdown",
   "metadata": {},
   "source": [
    "We can see that some algorithms work very well."
   ]
  },
  {
   "cell_type": "markdown",
   "metadata": {},
   "source": [
    "Try to search the best parameters of decision tree and linear svc."
   ]
  },
  {
   "cell_type": "code",
   "execution_count": 107,
   "metadata": {},
   "outputs": [
    {
     "data": {
      "text/plain": [
       "GridSearchCV(cv=5, estimator=DecisionTreeRegressor(),\n",
       "             param_grid={'max_depth': [3, 4, 5, 6, 7, 8, 9, 10, 11, 12, 15, 20,\n",
       "                                       30, 40, 50, 70, 90],\n",
       "                         'min_impurity_decrease': [0.1, 0.2, 0.3, 0.5],\n",
       "                         'min_samples_leaf': [2, 3, 5, 7, 9, 10]})"
      ]
     },
     "execution_count": 107,
     "metadata": {},
     "output_type": "execute_result"
    }
   ],
   "source": [
    "from sklearn.model_selection import GridSearchCV\n",
    "\n",
    "tree_para = {'max_depth':[3,4,5,6,7,8,9,10,11,12,15,20,30,40,50,70,90],\n",
    "             'min_samples_leaf':[2,3,5,7,9,10],'min_impurity_decrease':[0.1,0.2,0.3,0.5]}\n",
    "\n",
    "dtr_search = GridSearchCV(dtr,tree_para,cv=5)\n",
    "\n",
    "dtr_search.fit(X_train,y_train)"
   ]
  },
  {
   "cell_type": "code",
   "execution_count": 108,
   "metadata": {},
   "outputs": [
    {
     "data": {
      "text/plain": [
       "{'max_depth': 9, 'min_impurity_decrease': 0.1, 'min_samples_leaf': 9}"
      ]
     },
     "execution_count": 108,
     "metadata": {},
     "output_type": "execute_result"
    }
   ],
   "source": [
    "dtr_search.best_params_"
   ]
  },
  {
   "cell_type": "code",
   "execution_count": 109,
   "metadata": {},
   "outputs": [
    {
     "name": "stdout",
     "output_type": "stream",
     "text": [
      "R2 Score: 0.44811042186330907\n",
      "MAE: 6200.474734311866\n",
      "RMSE: 9210.4700883911\n"
     ]
    },
    {
     "data": {
      "text/plain": [
       "Text(0.5, 1.0, 'Decision Tree Regression')"
      ]
     },
     "execution_count": 109,
     "metadata": {},
     "output_type": "execute_result"
    },
    {
     "data": {
      "image/png": "[encoded data removed]",
      "text/plain": [
       "<Figure size 432x288 with 1 Axes>"
      ]
     },
     "metadata": {
      "needs_background": "light"
     },
     "output_type": "display_data"
    }
   ],
   "source": [
    "# DecisionTreeRegressor with the best parameters\n",
    "pred_dtr_best = dtr_search.predict(X_test)\n",
    "\n",
    "model_error(pred_dtr_best)\n",
    "\n",
    "sns.distplot((y_test-pred_dtr_best),bins=100)\n",
    "plt.title('Decision Tree Regression')"
   ]
  },
  {
   "cell_type": "code",
   "execution_count": 110,
   "metadata": {},
   "outputs": [
    {
     "data": {
      "text/plain": [
       "GridSearchCV(cv=5, estimator=LinearSVR(),\n",
       "             param_grid={'C': [0.1, 0.5, 1, 2, 5, 10],\n",
       "                         'intercept_scaling': [0.1, 0.2, 0.5, 1, 2, 5, 10]})"
      ]
     },
     "execution_count": 110,
     "metadata": {},
     "output_type": "execute_result"
    }
   ],
   "source": [
    "lsvr_para = {'C':[0.1,0.5,1,2,5,10],'intercept_scaling':[0.1,0.2,0.5,1,2,5,10]}\n",
    "\n",
    "lsvr_search = GridSearchCV(lsvr,lsvr_para,cv=5)\n",
    "\n",
    "lsvr_search.fit(X_train,y_train)"
   ]
  },
  {
   "cell_type": "code",
   "execution_count": 111,
   "metadata": {},
   "outputs": [
    {
     "data": {
      "text/plain": [
       "{'max_depth': 9, 'min_impurity_decrease': 0.1, 'min_samples_leaf': 9}"
      ]
     },
     "execution_count": 111,
     "metadata": {},
     "output_type": "execute_result"
    }
   ],
   "source": [
    "dtr_search.best_params_"
   ]
  },
  {
   "cell_type": "code",
   "execution_count": 112,
   "metadata": {},
   "outputs": [
    {
     "name": "stdout",
     "output_type": "stream",
     "text": [
      "R2 Score: 0.42510653489960626\n",
      "MAE: 6383.437175944142\n",
      "RMSE: 9400.466065588558\n"
     ]
    },
    {
     "data": {
      "text/plain": [
       "Text(0.5, 1.0, 'Linear SVC')"
      ]
     },
     "execution_count": 112,
     "metadata": {},
     "output_type": "execute_result"
    },
    {
     "data": {
      "image/png": "[encoded data removed]",
      "text/plain": [
       "<Figure size 432x288 with 1 Axes>"
      ]
     },
     "metadata": {
      "needs_background": "light"
     },
     "output_type": "display_data"
    }
   ],
   "source": [
    "# Linear SVC with the best parameters\n",
    "pred_lsvr_best = lsvr_search.predict(X_test)\n",
    "\n",
    "model_error(pred_lsvr_best)\n",
    "\n",
    "sns.distplot((y_test-pred_lsvr_best),bins=100)\n",
    "plt.title('Linear SVC')"
   ]
  },
  {
   "cell_type": "markdown",
   "metadata": {},
   "source": [
    "We can see that these two models work much better than before."
   ]
  },
  {
   "cell_type": "code",
   "execution_count": null,
   "metadata": {},
   "outputs": [],
   "source": []
  }
 ],
 "metadata": {
  "kernelspec": {
   "display_name": "Python 3",
   "language": "python",
   "name": "python3"
  },
  "language_info": {
   "codemirror_mode": {
    "name": "ipython",
    "version": 3
   },
   "file_extension": ".py",
   "mimetype": "text/x-python",
   "name": "python",
   "nbconvert_exporter": "python",
   "pygments_lexer": "ipython3",
   "version": "3.8.5"
  }
 },
 "nbformat": 4,
 "nbformat_minor": 4
}
