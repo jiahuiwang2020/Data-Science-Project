{
 "cells": [
  {
   "cell_type": "markdown",
   "metadata": {},
   "source": [
    "# HR Analytics: Job Change of Data Scientists\n",
    "\n",
    "### Data Science project from Kaggle: \n",
    "https://www.kaggle.com/arashnic/hr-analytics-job-change-of-data-scientists\n",
    "\n",
    "#### \n",
    "### Task description\n",
    "\n",
    "\n",
    "A Company wants to know which of its candidates of data scientists are really wants to work for the company after training or looking for a new employment because it helps to reduce the cost and time as well as the quality of training or planning the courses and categorization of candidates. Information related to demographics, education, experience are in hands from candidates signup and enrollment.\n",
    "\n",
    "\n",
    "This dataset designed to understand the factors that lead a person to leave current job for HR researches too. By model(s) that uses the current credentials, demographics, experience data we will predict the probability of a candidate to look for a new job or will work for the company, as well as interpreting affected factors on employee decision.\n",
    "\n",
    "#### "
   ]
  },
  {
   "cell_type": "markdown",
   "metadata": {},
   "source": [
    "### Load dataset"
   ]
  },
  {
   "cell_type": "code",
   "execution_count": 1,
   "metadata": {},
   "outputs": [],
   "source": [
    "# import libraries for exploratory data analysis\n",
    "import pandas as pd # data analysis\n",
    "import numpy as np # linear algebra\n",
    "\n",
    "# import libraries to visualise the data\n",
    "import matplotlib.pyplot as plt\n",
    "import seaborn as sns\n",
    "%matplotlib inline"
   ]
  },
  {
   "cell_type": "code",
   "execution_count": 2,
   "metadata": {},
   "outputs": [],
   "source": [
    "# load dataset\n",
    "data = pd.read_csv('dataset/aug_train.csv')"
   ]
  },
  {
   "cell_type": "code",
   "execution_count": 3,
   "metadata": {
    "scrolled": false
   },
   "outputs": [
    {
     "data": {
      "text/html": [
       "<div>\n",
       "<style scoped>\n",
       "    .dataframe tbody tr th:only-of-type {\n",
       "        vertical-align: middle;\n",
       "    }\n",
       "\n",
       "    .dataframe tbody tr th {\n",
       "        vertical-align: top;\n",
       "    }\n",
       "\n",
       "    .dataframe thead th {\n",
       "        text-align: right;\n",
       "    }\n",
       "</style>\n",
       "<table border=\"1\" class=\"dataframe\">\n",
       "  <thead>\n",
       "    <tr style=\"text-align: right;\">\n",
       "      <th></th>\n",
       "      <th>enrollee_id</th>\n",
       "      <th>city</th>\n",
       "      <th>city_development_index</th>\n",
       "      <th>gender</th>\n",
       "      <th>relevent_experience</th>\n",
       "      <th>enrolled_university</th>\n",
       "      <th>education_level</th>\n",
       "      <th>major_discipline</th>\n",
       "      <th>experience</th>\n",
       "      <th>company_size</th>\n",
       "      <th>company_type</th>\n",
       "      <th>last_new_job</th>\n",
       "      <th>training_hours</th>\n",
       "      <th>target</th>\n",
       "    </tr>\n",
       "  </thead>\n",
       "  <tbody>\n",
       "    <tr>\n",
       "      <th>0</th>\n",
       "      <td>8949</td>\n",
       "      <td>city_103</td>\n",
       "      <td>0.920</td>\n",
       "      <td>Male</td>\n",
       "      <td>Has relevent experience</td>\n",
       "      <td>no_enrollment</td>\n",
       "      <td>Graduate</td>\n",
       "      <td>STEM</td>\n",
       "      <td>&gt;20</td>\n",
       "      <td>NaN</td>\n",
       "      <td>NaN</td>\n",
       "      <td>1</td>\n",
       "      <td>36</td>\n",
       "      <td>1.0</td>\n",
       "    </tr>\n",
       "    <tr>\n",
       "      <th>1</th>\n",
       "      <td>29725</td>\n",
       "      <td>city_40</td>\n",
       "      <td>0.776</td>\n",
       "      <td>Male</td>\n",
       "      <td>No relevent experience</td>\n",
       "      <td>no_enrollment</td>\n",
       "      <td>Graduate</td>\n",
       "      <td>STEM</td>\n",
       "      <td>15</td>\n",
       "      <td>50-99</td>\n",
       "      <td>Pvt Ltd</td>\n",
       "      <td>&gt;4</td>\n",
       "      <td>47</td>\n",
       "      <td>0.0</td>\n",
       "    </tr>\n",
       "    <tr>\n",
       "      <th>2</th>\n",
       "      <td>11561</td>\n",
       "      <td>city_21</td>\n",
       "      <td>0.624</td>\n",
       "      <td>NaN</td>\n",
       "      <td>No relevent experience</td>\n",
       "      <td>Full time course</td>\n",
       "      <td>Graduate</td>\n",
       "      <td>STEM</td>\n",
       "      <td>5</td>\n",
       "      <td>NaN</td>\n",
       "      <td>NaN</td>\n",
       "      <td>never</td>\n",
       "      <td>83</td>\n",
       "      <td>0.0</td>\n",
       "    </tr>\n",
       "  </tbody>\n",
       "</table>\n",
       "</div>"
      ],
      "text/plain": [
       "   enrollee_id      city  city_development_index gender  \\\n",
       "0         8949  city_103                   0.920   Male   \n",
       "1        29725   city_40                   0.776   Male   \n",
       "2        11561   city_21                   0.624    NaN   \n",
       "\n",
       "       relevent_experience enrolled_university education_level  \\\n",
       "0  Has relevent experience       no_enrollment        Graduate   \n",
       "1   No relevent experience       no_enrollment        Graduate   \n",
       "2   No relevent experience    Full time course        Graduate   \n",
       "\n",
       "  major_discipline experience company_size company_type last_new_job  \\\n",
       "0             STEM        >20          NaN          NaN            1   \n",
       "1             STEM         15        50-99      Pvt Ltd           >4   \n",
       "2             STEM          5          NaN          NaN        never   \n",
       "\n",
       "   training_hours  target  \n",
       "0              36     1.0  \n",
       "1              47     0.0  \n",
       "2              83     0.0  "
      ]
     },
     "execution_count": 3,
     "metadata": {},
     "output_type": "execute_result"
    }
   ],
   "source": [
    "# check the dataset\n",
    "data.head(3)"
   ]
  },
  {
   "cell_type": "code",
   "execution_count": 4,
   "metadata": {},
   "outputs": [
    {
     "data": {
      "text/plain": [
       "Index(['enrollee_id', 'city', 'city_development_index', 'gender',\n",
       "       'relevent_experience', 'enrolled_university', 'education_level',\n",
       "       'major_discipline', 'experience', 'company_size', 'company_type',\n",
       "       'last_new_job', 'training_hours', 'target'],\n",
       "      dtype='object')"
      ]
     },
     "execution_count": 4,
     "metadata": {},
     "output_type": "execute_result"
    }
   ],
   "source": [
    "data.columns"
   ]
  },
  {
   "cell_type": "code",
   "execution_count": 5,
   "metadata": {},
   "outputs": [
    {
     "name": "stdout",
     "output_type": "stream",
     "text": [
      "<class 'pandas.core.frame.DataFrame'>\n",
      "RangeIndex: 19158 entries, 0 to 19157\n",
      "Data columns (total 14 columns):\n",
      " #   Column                  Non-Null Count  Dtype  \n",
      "---  ------                  --------------  -----  \n",
      " 0   enrollee_id             19158 non-null  int64  \n",
      " 1   city                    19158 non-null  object \n",
      " 2   city_development_index  19158 non-null  float64\n",
      " 3   gender                  14650 non-null  object \n",
      " 4   relevent_experience     19158 non-null  object \n",
      " 5   enrolled_university     18772 non-null  object \n",
      " 6   education_level         18698 non-null  object \n",
      " 7   major_discipline        16345 non-null  object \n",
      " 8   experience              19093 non-null  object \n",
      " 9   company_size            13220 non-null  object \n",
      " 10  company_type            13018 non-null  object \n",
      " 11  last_new_job            18735 non-null  object \n",
      " 12  training_hours          19158 non-null  int64  \n",
      " 13  target                  19158 non-null  float64\n",
      "dtypes: float64(2), int64(2), object(10)\n",
      "memory usage: 2.0+ MB\n"
     ]
    }
   ],
   "source": [
    "data.info()"
   ]
  },
  {
   "cell_type": "code",
   "execution_count": 6,
   "metadata": {},
   "outputs": [],
   "source": [
    "# feature ID is not useful for the model,we drop it\n",
    "data.drop('enrollee_id',axis=1,inplace=True)"
   ]
  },
  {
   "cell_type": "markdown",
   "metadata": {},
   "source": [
    "### Features\n",
    "\n",
    "enrollee_id : Unique ID for candidate\n",
    "\n",
    "city: City code\n",
    "\n",
    "city_ development _index : Developement index of the city (scaled)\n",
    "\n",
    "gender: Gender of candidate\n",
    "\n",
    "relevent_experience: Relevant experience of candidate\n",
    "\n",
    "enrolled_university: Type of University course enrolled if any\n",
    "\n",
    "education_level: Education level of candidate\n",
    "\n",
    "major_discipline :Education major discipline of candidate\n",
    "\n",
    "experience: Candidate total experience in years\n",
    "\n",
    "company_size: No of employees in current employer's company\n",
    "\n",
    "company_type : Type of current employer\n",
    "\n",
    "lastnewjob: Difference in years between previous job and current job\n",
    "\n",
    "training_hours: training hours completed\n",
    "\n",
    "target: 0 – Not looking for job change, 1 – Looking for a job change\n",
    "#### "
   ]
  },
  {
   "cell_type": "markdown",
   "metadata": {},
   "source": [
    "### Seperate dataset into train and test data"
   ]
  },
  {
   "cell_type": "code",
   "execution_count": 7,
   "metadata": {},
   "outputs": [
    {
     "data": {
      "text/plain": [
       "((15326, 12), (3832, 12))"
      ]
     },
     "execution_count": 7,
     "metadata": {},
     "output_type": "execute_result"
    }
   ],
   "source": [
    "# split these datasets into normal train data and test data\n",
    "from sklearn.model_selection import train_test_split\n",
    "\n",
    "X = data.drop(labels='target',axis=1)\n",
    "y = data['target']\n",
    "X_train, X_test, y_train, y_test = train_test_split(X, y, test_size=0.20, random_state=101)\n",
    "\n",
    "X_train.shape, X_test.shape"
   ]
  },
  {
   "cell_type": "markdown",
   "metadata": {},
   "source": [
    "#### \n",
    "### Data cleaning and feature engineering"
   ]
  },
  {
   "cell_type": "markdown",
   "metadata": {},
   "source": [
    "### Handle Missing value"
   ]
  },
  {
   "cell_type": "code",
   "execution_count": 8,
   "metadata": {},
   "outputs": [
    {
     "data": {
      "text/html": [
       "<div>\n",
       "<style scoped>\n",
       "    .dataframe tbody tr th:only-of-type {\n",
       "        vertical-align: middle;\n",
       "    }\n",
       "\n",
       "    .dataframe tbody tr th {\n",
       "        vertical-align: top;\n",
       "    }\n",
       "\n",
       "    .dataframe thead th {\n",
       "        text-align: right;\n",
       "    }\n",
       "</style>\n",
       "<table border=\"1\" class=\"dataframe\">\n",
       "  <thead>\n",
       "    <tr style=\"text-align: right;\">\n",
       "      <th></th>\n",
       "      <th>Data Type</th>\n",
       "      <th>Unique Value</th>\n",
       "      <th>Percentage of NA</th>\n",
       "    </tr>\n",
       "  </thead>\n",
       "  <tbody>\n",
       "    <tr>\n",
       "      <th>city</th>\n",
       "      <td>object</td>\n",
       "      <td>123</td>\n",
       "      <td>0</td>\n",
       "    </tr>\n",
       "    <tr>\n",
       "      <th>city_development_index</th>\n",
       "      <td>float64</td>\n",
       "      <td>93</td>\n",
       "      <td>0</td>\n",
       "    </tr>\n",
       "    <tr>\n",
       "      <th>gender</th>\n",
       "      <td>object</td>\n",
       "      <td>4</td>\n",
       "      <td>0.234503</td>\n",
       "    </tr>\n",
       "    <tr>\n",
       "      <th>relevent_experience</th>\n",
       "      <td>object</td>\n",
       "      <td>2</td>\n",
       "      <td>0</td>\n",
       "    </tr>\n",
       "    <tr>\n",
       "      <th>enrolled_university</th>\n",
       "      <td>object</td>\n",
       "      <td>4</td>\n",
       "      <td>0.0197703</td>\n",
       "    </tr>\n",
       "    <tr>\n",
       "      <th>education_level</th>\n",
       "      <td>object</td>\n",
       "      <td>6</td>\n",
       "      <td>0.0242072</td>\n",
       "    </tr>\n",
       "    <tr>\n",
       "      <th>major_discipline</th>\n",
       "      <td>object</td>\n",
       "      <td>7</td>\n",
       "      <td>0.146092</td>\n",
       "    </tr>\n",
       "    <tr>\n",
       "      <th>experience</th>\n",
       "      <td>object</td>\n",
       "      <td>23</td>\n",
       "      <td>0.00345818</td>\n",
       "    </tr>\n",
       "    <tr>\n",
       "      <th>company_size</th>\n",
       "      <td>object</td>\n",
       "      <td>9</td>\n",
       "      <td>0.310388</td>\n",
       "    </tr>\n",
       "    <tr>\n",
       "      <th>company_type</th>\n",
       "      <td>object</td>\n",
       "      <td>7</td>\n",
       "      <td>0.32024</td>\n",
       "    </tr>\n",
       "    <tr>\n",
       "      <th>last_new_job</th>\n",
       "      <td>object</td>\n",
       "      <td>7</td>\n",
       "      <td>0.021271</td>\n",
       "    </tr>\n",
       "    <tr>\n",
       "      <th>training_hours</th>\n",
       "      <td>int64</td>\n",
       "      <td>241</td>\n",
       "      <td>0</td>\n",
       "    </tr>\n",
       "  </tbody>\n",
       "</table>\n",
       "</div>"
      ],
      "text/plain": [
       "                       Data Type Unique Value Percentage of NA\n",
       "city                      object          123                0\n",
       "city_development_index   float64           93                0\n",
       "gender                    object            4         0.234503\n",
       "relevent_experience       object            2                0\n",
       "enrolled_university       object            4        0.0197703\n",
       "education_level           object            6        0.0242072\n",
       "major_discipline          object            7         0.146092\n",
       "experience                object           23       0.00345818\n",
       "company_size              object            9         0.310388\n",
       "company_type              object            7          0.32024\n",
       "last_new_job              object            7         0.021271\n",
       "training_hours             int64          241                0"
      ]
     },
     "execution_count": 8,
     "metadata": {},
     "output_type": "execute_result"
    }
   ],
   "source": [
    "# check some basic information\n",
    "\n",
    "def unqiue_element(x):\n",
    "    a = len(np.unique(x))\n",
    "    return a\n",
    "\n",
    "df_eda = pd.DataFrame(\n",
    "    [X_train.dtypes, X_train.astype(str).apply(unqiue_element), \n",
    "    X_train.isnull().sum()/X_train.shape[0]]\n",
    "    ).T\n",
    "\n",
    "df_eda.columns = ['Data Type', 'Unique Value', 'Percentage of NA']\n",
    "df_eda"
   ]
  },
  {
   "cell_type": "code",
   "execution_count": 9,
   "metadata": {},
   "outputs": [
    {
     "data": {
      "text/plain": [
       "8"
      ]
     },
     "execution_count": 9,
     "metadata": {},
     "output_type": "execute_result"
    }
   ],
   "source": [
    "# number of columns with missing values\n",
    "sum(data.isnull().sum()>0)"
   ]
  },
  {
   "cell_type": "code",
   "execution_count": 10,
   "metadata": {},
   "outputs": [
    {
     "data": {
      "text/plain": [
       "company_type              0.320493\n",
       "company_size              0.309949\n",
       "gender                    0.235306\n",
       "major_discipline          0.146832\n",
       "education_level           0.024011\n",
       "last_new_job              0.022080\n",
       "enrolled_university       0.020148\n",
       "experience                0.003393\n",
       "target                    0.000000\n",
       "training_hours            0.000000\n",
       "relevent_experience       0.000000\n",
       "city_development_index    0.000000\n",
       "city                      0.000000\n",
       "dtype: float64"
      ]
     },
     "execution_count": 10,
     "metadata": {},
     "output_type": "execute_result"
    }
   ],
   "source": [
    "# number of missing values in each columns\n",
    "data.isnull().sum().sort_values(ascending=False)/len(data)"
   ]
  },
  {
   "cell_type": "code",
   "execution_count": 11,
   "metadata": {},
   "outputs": [
    {
     "data": {
      "text/plain": [
       "<AxesSubplot:>"
      ]
     },
     "execution_count": 11,
     "metadata": {},
     "output_type": "execute_result"
    },
    {
     "data": {
      "image/png": "[encoded data removed]",
      "text/plain": [
       "<Figure size 864x648 with 1 Axes>"
      ]
     },
     "metadata": {
      "needs_background": "light"
     },
     "output_type": "display_data"
    }
   ],
   "source": [
    "# plot the missing value using heatmap\n",
    "plt.figure(figsize=(12,9))\n",
    "\n",
    "sns.heatmap(data.isnull(),yticklabels=False,cbar=False,cmap='viridis')"
   ]
  },
  {
   "cell_type": "code",
   "execution_count": 12,
   "metadata": {},
   "outputs": [
    {
     "name": "stdout",
     "output_type": "stream",
     "text": [
      "city ['city_103' 'city_40' 'city_21' 'city_115' 'city_162' 'city_176'\n",
      " 'city_160' 'city_46' 'city_61' 'city_114' 'city_13' 'city_159' 'city_102'\n",
      " 'city_67' 'city_100' 'city_16' 'city_71' 'city_104' 'city_64' 'city_101'\n",
      " 'city_83' 'city_105' 'city_73' 'city_75' 'city_41' 'city_11' 'city_93'\n",
      " 'city_90' 'city_36' 'city_20' 'city_57' 'city_152' 'city_19' 'city_65'\n",
      " 'city_74' 'city_173' 'city_136' 'city_98' 'city_97' 'city_50' 'city_138'\n",
      " 'city_82' 'city_157' 'city_89' 'city_150' 'city_70' 'city_175' 'city_94'\n",
      " 'city_28' 'city_59' 'city_165' 'city_145' 'city_142' 'city_26' 'city_12'\n",
      " 'city_37' 'city_43' 'city_116' 'city_23' 'city_99' 'city_149' 'city_10'\n",
      " 'city_45' 'city_80' 'city_128' 'city_158' 'city_123' 'city_7' 'city_72'\n",
      " 'city_106' 'city_143' 'city_78' 'city_109' 'city_24' 'city_134' 'city_48'\n",
      " 'city_144' 'city_91' 'city_146' 'city_133' 'city_126' 'city_118' 'city_9'\n",
      " 'city_167' 'city_27' 'city_84' 'city_54' 'city_39' 'city_79' 'city_76'\n",
      " 'city_77' 'city_81' 'city_131' 'city_44' 'city_117' 'city_155' 'city_33'\n",
      " 'city_141' 'city_127' 'city_62' 'city_53' 'city_25' 'city_2' 'city_69'\n",
      " 'city_120' 'city_111' 'city_30' 'city_1' 'city_140' 'city_179' 'city_55'\n",
      " 'city_14' 'city_42' 'city_107' 'city_18' 'city_139' 'city_180' 'city_166'\n",
      " 'city_121' 'city_129' 'city_8' 'city_31' 'city_171'] \n",
      "\n",
      "city_development_index [0.92  0.776 0.624 0.789 0.767 0.764 0.762 0.913 0.926 0.827 0.843 0.804\n",
      " 0.855 0.887 0.91  0.884 0.924 0.666 0.558 0.923 0.794 0.754 0.939 0.55\n",
      " 0.865 0.698 0.893 0.796 0.866 0.682 0.802 0.579 0.878 0.897 0.949 0.925\n",
      " 0.896 0.836 0.693 0.769 0.775 0.903 0.555 0.727 0.64  0.516 0.743 0.899\n",
      " 0.915 0.689 0.895 0.89  0.847 0.527 0.766 0.738 0.647 0.795 0.74  0.701\n",
      " 0.493 0.84  0.691 0.735 0.742 0.479 0.722 0.921 0.848 0.856 0.898 0.83\n",
      " 0.73  0.68  0.725 0.556 0.448 0.763 0.745 0.645 0.788 0.78  0.512 0.739\n",
      " 0.563 0.518 0.824 0.487 0.649 0.781 0.625 0.807 0.664] \n",
      "\n",
      "gender ['Male' nan 'Female' 'Other'] \n",
      "\n",
      "relevent_experience ['Has relevent experience' 'No relevent experience'] \n",
      "\n",
      "enrolled_university ['no_enrollment' 'Full time course' nan 'Part time course'] \n",
      "\n",
      "education_level ['Graduate' 'Masters' 'High School' nan 'Phd' 'Primary School'] \n",
      "\n",
      "major_discipline ['STEM' 'Business Degree' nan 'Arts' 'Humanities' 'No Major' 'Other'] \n",
      "\n",
      "experience ['>20' '15' '5' '<1' '11' '13' '7' '17' '2' '16' '1' '4' '10' '14' '18'\n",
      " '19' '12' '3' '6' '9' '8' '20' nan] \n",
      "\n",
      "company_size [nan '50-99' '<10' '10000+' '5000-9999' '1000-4999' '10/49' '100-500'\n",
      " '500-999'] \n",
      "\n",
      "company_type [nan 'Pvt Ltd' 'Funded Startup' 'Early Stage Startup' 'Other'\n",
      " 'Public Sector' 'NGO'] \n",
      "\n",
      "last_new_job ['1' '>4' 'never' '4' '3' '2' nan] \n",
      "\n",
      "training_hours [ 36  47  83  52   8  24  18  46 123  32 108  23  26 106   7 132  68  50\n",
      "  48  65  13  22 148  72  40 141  82 145 206 152  42  14 112  87  20  21\n",
      "  92 102  43  45  19  90  25  15  98 142  28 228  29  12  17  35   4 136\n",
      "  27  74  86  75 332 140 182 172  33  34 150 160   3   2 210 101  59 260\n",
      " 131 109  70  51  60 164 290 133  76 156 120 100  39  55  49   6 125 326\n",
      " 198  11  41 114 246  81  31  84 105  38 178 104 202  88 218  62  10  80\n",
      "  77  37 162 190  30  16   5  54  44 110 262 107 134 103  96  57 240  94\n",
      " 113  56  64 320   9 129  58 126 166  95  97 204 116 161 146 302  53 143\n",
      " 124 214 288 306 322  67  61 130 220  78 314 226 280  91 234 163 151  85\n",
      " 256 168 144  66 128  73 122 154  63 292 188  71 135 138 184  89 157 118\n",
      " 111 192 127 216 139 196  99 167 276 121  69 155 316 242 304 284 278 310\n",
      " 222 212 250 180 258 330 158 149 165  79 194 176 174 312 200 328 300 153\n",
      " 232 336 308 147 298 224 254 248 236 170 264 119 117 334 324   1 238 266\n",
      " 282 268 244 272 294 270 286] \n",
      "\n",
      "target [1. 0.] \n",
      "\n"
     ]
    }
   ],
   "source": [
    "# check all unique values of each feature\n",
    "for i in data.columns:\n",
    "    print(i, data[i].unique(),'\\n')"
   ]
  },
  {
   "cell_type": "markdown",
   "metadata": {},
   "source": [
    "#### For features with no more than 5% missing value, we use frequent category imputation\n",
    "#### For those features with a big number of missing value, we should not ignore this information."
   ]
  },
  {
   "cell_type": "code",
   "execution_count": 13,
   "metadata": {},
   "outputs": [
    {
     "data": {
      "text/plain": [
       "CategoricalImputer(imputation_method='frequent',\n",
       "                   variables=['education_level', 'last_new_job',\n",
       "                              'enrolled_university', 'experience'])"
      ]
     },
     "execution_count": 13,
     "metadata": {},
     "output_type": "execute_result"
    }
   ],
   "source": [
    "# impute the missing data less than 5 percent\n",
    "from feature_engine.imputation import CategoricalImputer\n",
    "\n",
    "imputer = CategoricalImputer(\n",
    "    imputation_method='frequent',\n",
    "    variables=['education_level','last_new_job','enrolled_university','experience']\n",
    ")\n",
    "\n",
    "imputer.fit(X_train)"
   ]
  },
  {
   "cell_type": "code",
   "execution_count": 14,
   "metadata": {},
   "outputs": [
    {
     "data": {
      "text/plain": [
       "{'education_level': 'Graduate',\n",
       " 'last_new_job': '1',\n",
       " 'enrolled_university': 'no_enrollment',\n",
       " 'experience': '>20'}"
      ]
     },
     "execution_count": 14,
     "metadata": {},
     "output_type": "execute_result"
    }
   ],
   "source": [
    "# the values that will be used to replace NA for each variable\n",
    "imputer.imputer_dict_"
   ]
  },
  {
   "cell_type": "code",
   "execution_count": 15,
   "metadata": {},
   "outputs": [],
   "source": [
    "# transform the train and test data\n",
    "X_train = imputer.transform(X_train)\n",
    "X_test = imputer.transform(X_test)"
   ]
  },
  {
   "cell_type": "code",
   "execution_count": 16,
   "metadata": {},
   "outputs": [
    {
     "data": {
      "text/plain": [
       "city                         0\n",
       "city_development_index       0\n",
       "relevent_experience          0\n",
       "enrolled_university          0\n",
       "education_level              0\n",
       "experience                   0\n",
       "last_new_job                 0\n",
       "training_hours               0\n",
       "major_discipline          2239\n",
       "gender                    3594\n",
       "company_size              4757\n",
       "company_type              4908\n",
       "dtype: int64"
      ]
     },
     "execution_count": 16,
     "metadata": {},
     "output_type": "execute_result"
    }
   ],
   "source": [
    "# check features again,there is no missing value in these two columns now\n",
    "X_train.isnull().sum().sort_values()"
   ]
  },
  {
   "cell_type": "code",
   "execution_count": 17,
   "metadata": {},
   "outputs": [
    {
     "data": {
      "text/plain": [
       "AddMissingIndicator()"
      ]
     },
     "execution_count": 17,
     "metadata": {},
     "output_type": "execute_result"
    }
   ],
   "source": [
    "# encode features with big number of missing values\n",
    "from feature_engine.imputation import AddMissingIndicator\n",
    "\n",
    "imputer_add = AddMissingIndicator(missing_only=True)\n",
    "imputer_add.fit(X_train)"
   ]
  },
  {
   "cell_type": "code",
   "execution_count": 18,
   "metadata": {},
   "outputs": [
    {
     "data": {
      "text/plain": [
       "['gender', 'major_discipline', 'company_size', 'company_type']"
      ]
     },
     "execution_count": 18,
     "metadata": {},
     "output_type": "execute_result"
    }
   ],
   "source": [
    "# show the features with missing values\n",
    "imputer_add.variables_"
   ]
  },
  {
   "cell_type": "code",
   "execution_count": 19,
   "metadata": {},
   "outputs": [],
   "source": [
    "# transform the datasets\n",
    "X_train = imputer_add.transform(X_train)\n",
    "X_test = imputer_add.transform(X_test)"
   ]
  },
  {
   "cell_type": "code",
   "execution_count": 20,
   "metadata": {},
   "outputs": [
    {
     "data": {
      "text/plain": [
       "CategoricalImputer(imputation_method='frequent',\n",
       "                   variables=['major_discipline', 'gender', 'company_size',\n",
       "                              'company_type'])"
      ]
     },
     "execution_count": 20,
     "metadata": {},
     "output_type": "execute_result"
    }
   ],
   "source": [
    "# impute the missing value with frequent categories\n",
    "imputer_cat = CategoricalImputer(\n",
    "    imputation_method='frequent',\n",
    "    variables=['major_discipline','gender','company_size','company_type']\n",
    ")\n",
    "\n",
    "imputer_cat.fit(X_train)"
   ]
  },
  {
   "cell_type": "code",
   "execution_count": 21,
   "metadata": {},
   "outputs": [
    {
     "data": {
      "text/plain": [
       "{'major_discipline': 'STEM',\n",
       " 'gender': 'Male',\n",
       " 'company_size': '50-99',\n",
       " 'company_type': 'Pvt Ltd'}"
      ]
     },
     "execution_count": 21,
     "metadata": {},
     "output_type": "execute_result"
    }
   ],
   "source": [
    "imputer_cat.imputer_dict_"
   ]
  },
  {
   "cell_type": "code",
   "execution_count": 22,
   "metadata": {},
   "outputs": [],
   "source": [
    "# transform the datasets\n",
    "X_train = imputer_cat.transform(X_train)\n",
    "X_test = imputer_cat.transform(X_test)"
   ]
  },
  {
   "cell_type": "code",
   "execution_count": 23,
   "metadata": {},
   "outputs": [
    {
     "data": {
      "text/plain": [
       "city                      0\n",
       "city_development_index    0\n",
       "gender                    0\n",
       "relevent_experience       0\n",
       "enrolled_university       0\n",
       "education_level           0\n",
       "major_discipline          0\n",
       "experience                0\n",
       "company_size              0\n",
       "company_type              0\n",
       "last_new_job              0\n",
       "training_hours            0\n",
       "gender_na                 0\n",
       "major_discipline_na       0\n",
       "company_size_na           0\n",
       "company_type_na           0\n",
       "dtype: int64"
      ]
     },
     "execution_count": 23,
     "metadata": {},
     "output_type": "execute_result"
    }
   ],
   "source": [
    "# check the missing data again\n",
    "X_train.isnull().sum()"
   ]
  },
  {
   "cell_type": "markdown",
   "metadata": {},
   "source": [
    "### Categorical encoding"
   ]
  },
  {
   "cell_type": "code",
   "execution_count": 24,
   "metadata": {},
   "outputs": [
    {
     "name": "stdout",
     "output_type": "stream",
     "text": [
      "city :  object\n",
      "city_development_index :  float64\n",
      "gender :  object\n",
      "relevent_experience :  object\n",
      "enrolled_university :  object\n",
      "education_level :  object\n",
      "major_discipline :  object\n",
      "experience :  object\n",
      "company_size :  object\n",
      "company_type :  object\n",
      "last_new_job :  object\n",
      "training_hours :  int64\n",
      "gender_na :  int32\n",
      "major_discipline_na :  int32\n",
      "company_size_na :  int32\n",
      "company_type_na :  int32\n",
      "\n",
      "There are 4 discrete variables\n",
      "There are 2 continuous variables\n",
      "There are 10 categorical variables\n"
     ]
    }
   ],
   "source": [
    "# check the data type of each columns\n",
    "for col in X_train.columns:\n",
    "    print(col,\": \",X_train[col].dtype)\n",
    "\n",
    "# make list of variables types\n",
    "\n",
    "# numerical: discrete and continuous\n",
    "discrete = [var for var in X_train.columns if X_train[var].dtype!='O'and X_train[var].nunique()<10]\n",
    "continuous = [var for var in X_train.columns if X_train[var].dtype!='O'and var not in discrete]\n",
    "\n",
    "# categorical\n",
    "categorical = [var for var in X_train.columns if X_train[var].dtype=='O']\n",
    "\n",
    "print('\\nThere are {} discrete variables'.format(len(discrete)))\n",
    "print('There are {} continuous variables'.format(len(continuous)))\n",
    "print('There are {} categorical variables'.format(len(categorical)))"
   ]
  },
  {
   "cell_type": "code",
   "execution_count": 25,
   "metadata": {},
   "outputs": [
    {
     "name": "stdout",
     "output_type": "stream",
     "text": [
      "['city_development_index', 'training_hours']\n"
     ]
    },
    {
     "data": {
      "text/plain": [
       "<seaborn.axisgrid.PairGrid at 0x2aea1043520>"
      ]
     },
     "execution_count": 25,
     "metadata": {},
     "output_type": "execute_result"
    },
    {
     "data": {
      "image/png": "[encoded data removed]",
      "text/plain": [
       "<Figure size 360x360 with 6 Axes>"
      ]
     },
     "metadata": {
      "needs_background": "light"
     },
     "output_type": "display_data"
    }
   ],
   "source": [
    "# plot all continuous variable\n",
    "print(continuous)\n",
    "sns.pairplot(data=X_train[continuous])"
   ]
  },
  {
   "cell_type": "code",
   "execution_count": 26,
   "metadata": {},
   "outputs": [
    {
     "data": {
      "text/plain": [
       "['city',\n",
       " 'gender',\n",
       " 'relevent_experience',\n",
       " 'enrolled_university',\n",
       " 'education_level',\n",
       " 'major_discipline',\n",
       " 'experience',\n",
       " 'company_size',\n",
       " 'company_type',\n",
       " 'last_new_job']"
      ]
     },
     "execution_count": 26,
     "metadata": {},
     "output_type": "execute_result"
    }
   ],
   "source": [
    "# In this section we handle object data\n",
    "categorical"
   ]
  },
  {
   "cell_type": "code",
   "execution_count": 27,
   "metadata": {},
   "outputs": [
    {
     "data": {
      "text/plain": [
       "city                   123\n",
       "gender                   3\n",
       "relevent_experience      2\n",
       "enrolled_university      3\n",
       "education_level          5\n",
       "major_discipline         6\n",
       "experience              22\n",
       "company_size             8\n",
       "company_type             6\n",
       "last_new_job             6\n",
       "dtype: int64"
      ]
     },
     "execution_count": 27,
     "metadata": {},
     "output_type": "execute_result"
    }
   ],
   "source": [
    "X_train[categorical].nunique()"
   ]
  },
  {
   "cell_type": "code",
   "execution_count": 28,
   "metadata": {},
   "outputs": [
    {
     "data": {
      "text/plain": [
       "array(['city_103', 'city_160', 'city_11', 'city_21', 'city_173',\n",
       "       'city_16', 'city_114', 'city_1', 'city_75', 'city_64', 'city_67',\n",
       "       'city_69', 'city_91', 'city_13', 'city_50', 'city_136', 'city_19',\n",
       "       'city_128', 'city_20', 'city_89', 'city_100', 'city_157',\n",
       "       'city_65', 'city_104', 'city_98', 'city_97', 'city_159',\n",
       "       'city_138', 'city_61', 'city_71', 'city_41', 'city_105', 'city_33',\n",
       "       'city_102', 'city_117', 'city_123', 'city_27', 'city_73',\n",
       "       'city_40', 'city_28', 'city_152', 'city_36', 'city_134', 'city_83',\n",
       "       'city_55', 'city_84', 'city_77', 'city_57', 'city_142', 'city_150',\n",
       "       'city_70', 'city_74', 'city_44', 'city_101', 'city_116', 'city_90',\n",
       "       'city_10', 'city_23', 'city_99', 'city_165', 'city_46', 'city_126',\n",
       "       'city_45', 'city_9', 'city_30', 'city_158', 'city_176', 'city_62',\n",
       "       'city_127', 'city_14', 'city_162', 'city_72', 'city_76', 'city_7',\n",
       "       'city_149', 'city_118', 'city_141', 'city_24', 'city_144',\n",
       "       'city_81', 'city_78', 'city_106', 'city_8', 'city_143', 'city_111',\n",
       "       'city_37', 'city_26', 'city_80', 'city_48', 'city_54', 'city_59',\n",
       "       'city_175', 'city_115', 'city_93', 'city_120', 'city_39',\n",
       "       'city_167', 'city_145', 'city_53', 'city_146', 'city_43',\n",
       "       'city_94', 'city_25', 'city_155', 'city_12', 'city_180', 'city_18',\n",
       "       'city_107', 'city_139', 'city_131', 'city_109', 'city_133',\n",
       "       'city_79', 'city_42', 'city_179', 'city_31', 'city_82', 'city_2',\n",
       "       'city_129', 'city_166', 'city_171', 'city_140', 'city_121'],\n",
       "      dtype=object)"
      ]
     },
     "execution_count": 28,
     "metadata": {},
     "output_type": "execute_result"
    }
   ],
   "source": [
    "# check the feature city with high cardinality\n",
    "X_train['city'].unique()"
   ]
  },
  {
   "cell_type": "code",
   "execution_count": 29,
   "metadata": {},
   "outputs": [
    {
     "data": {
      "text/plain": [
       "(12737    103\n",
       " 196      160\n",
       " 12669     11\n",
       " 9890      21\n",
       " 1759      21\n",
       " Name: city, dtype: object,\n",
       " 11335    162\n",
       " 9504      78\n",
       " 4722     100\n",
       " 7737      89\n",
       " 15569     21\n",
       " Name: city, dtype: object)"
      ]
     },
     "execution_count": 29,
     "metadata": {},
     "output_type": "execute_result"
    }
   ],
   "source": [
    "# encode this column into numerical variables\n",
    "X_train['city'] = X_train['city'].str.split(pat='_').apply(lambda x:x[-1])\n",
    "X_test['city'] = X_test['city'].str.split(pat='_').apply(lambda x:x[-1])\n",
    "\n",
    "X_train['city'].head(),X_test['city'].head()"
   ]
  },
  {
   "cell_type": "code",
   "execution_count": 30,
   "metadata": {
    "scrolled": true
   },
   "outputs": [
    {
     "data": {
      "text/plain": [
       "array(['103', '160', '11', '21', '173', '16', '114', '1', '75', '64',\n",
       "       '67', '69', '91', '13', '50', '136', '19', '128', '20', '89',\n",
       "       '100', '157', '65', '104', '98', '97', '159', '138', '61', '71',\n",
       "       '41', '105', '33', '102', '117', '123', '27', '73', '40', '28',\n",
       "       '152', '36', '134', '83', '55', '84', '77', '57', '142', '150',\n",
       "       '70', '74', '44', '101', '116', '90', '10', '23', '99', '165',\n",
       "       '46', '126', '45', '9', '30', '158', '176', '62', '127', '14',\n",
       "       '162', '72', '76', '7', '149', '118', '141', '24', '144', '81',\n",
       "       '78', '106', '8', '143', '111', '37', '26', '80', '48', '54', '59',\n",
       "       '175', '115', '93', '120', '39', '167', '145', '53', '146', '43',\n",
       "       '94', '25', '155', '12', '180', '18', '107', '139', '131', '109',\n",
       "       '133', '79', '42', '179', '31', '82', '2', '129', '166', '171',\n",
       "       '140', '121'], dtype=object)"
      ]
     },
     "execution_count": 30,
     "metadata": {},
     "output_type": "execute_result"
    }
   ],
   "source": [
    "X_train['city'].unique()"
   ]
  },
  {
   "cell_type": "code",
   "execution_count": 31,
   "metadata": {},
   "outputs": [
    {
     "data": {
      "text/plain": [
       "103    3523\n",
       "21     2158\n",
       "16     1237\n",
       "114    1047\n",
       "160     650\n",
       "136     472\n",
       "67      346\n",
       "102     247\n",
       "104     240\n",
       "75      240\n",
       "73      222\n",
       "100     222\n",
       "71      213\n",
       "11      185\n",
       "61      167\n",
       "90      163\n",
       "28      151\n",
       "23      146\n",
       "65      142\n",
       "36      128\n",
       "Name: city, dtype: int64"
      ]
     },
     "execution_count": 31,
     "metadata": {},
     "output_type": "execute_result"
    }
   ],
   "source": [
    "X_train['city'].value_counts().head(20)"
   ]
  },
  {
   "cell_type": "code",
   "execution_count": 32,
   "metadata": {},
   "outputs": [],
   "source": [
    "# apply frequent onehot encoding to reduce the number of cities\n",
    "from feature_engine.encoding import OneHotEncoder\n",
    "\n",
    "ohe_city = OneHotEncoder(\n",
    "    top_categories=5,\n",
    "    variables=['city'],\n",
    "    drop_last=True)  # to return k-1\n",
    "\n",
    "ohe_city.fit(X_train)\n",
    "\n",
    "X_train = ohe_city.transform(X_train)\n",
    "X_test = ohe_city.transform(X_test)"
   ]
  },
  {
   "cell_type": "code",
   "execution_count": 33,
   "metadata": {},
   "outputs": [
    {
     "data": {
      "text/plain": [
       ">20    2638\n",
       "5      1163\n",
       "4      1133\n",
       "3      1072\n",
       "6       978\n",
       "2       904\n",
       "7       833\n",
       "10      790\n",
       "9       784\n",
       "8       654\n",
       "15      553\n",
       "11      541\n",
       "14      461\n",
       "1       439\n",
       "<1      420\n",
       "16      411\n",
       "12      393\n",
       "13      313\n",
       "17      277\n",
       "19      235\n",
       "18      214\n",
       "20      120\n",
       "Name: experience, dtype: int64"
      ]
     },
     "execution_count": 33,
     "metadata": {},
     "output_type": "execute_result"
    }
   ],
   "source": [
    "# show the feature experience\n",
    "X_train['experience'].value_counts()"
   ]
  },
  {
   "cell_type": "code",
   "execution_count": 34,
   "metadata": {
    "scrolled": true
   },
   "outputs": [
    {
     "data": {
      "text/plain": [
       "<AxesSubplot:xlabel='experience', ylabel='Count'>"
      ]
     },
     "execution_count": 34,
     "metadata": {},
     "output_type": "execute_result"
    },
    {
     "data": {
      "image/png": "[encoded data removed]",
      "text/plain": [
       "<Figure size 432x288 with 1 Axes>"
      ]
     },
     "metadata": {
      "needs_background": "light"
     },
     "output_type": "display_data"
    }
   ],
   "source": [
    "sns.histplot(X_train['experience'])"
   ]
  },
  {
   "cell_type": "code",
   "execution_count": 35,
   "metadata": {},
   "outputs": [],
   "source": [
    "# reduce the categories in this feature\n",
    "def cat_reduce(data,col):\n",
    "    data[col].replace(['>20','20'],'over 20 years',inplace=True)\n",
    "    data[col].replace(['19','18','17','16','15','14','13','12','11','10'],'10-20 years',inplace=True)\n",
    "    data[col].replace(['5','6','7','8','9'],'over 5 years',inplace=True)         \n",
    "    data[col].replace(['<1','1','2','3','4'],'less than 5 years',inplace=True)"
   ]
  },
  {
   "cell_type": "code",
   "execution_count": 36,
   "metadata": {},
   "outputs": [],
   "source": [
    "cat_reduce(X_train,'experience')\n",
    "cat_reduce(X_test,'experience')"
   ]
  },
  {
   "cell_type": "code",
   "execution_count": 37,
   "metadata": {
    "scrolled": true
   },
   "outputs": [
    {
     "data": {
      "text/plain": [
       "over 5 years         4412\n",
       "10-20 years          4188\n",
       "less than 5 years    3968\n",
       "over 20 years        2758\n",
       "Name: experience, dtype: int64"
      ]
     },
     "execution_count": 37,
     "metadata": {},
     "output_type": "execute_result"
    }
   ],
   "source": [
    "X_train['experience'].value_counts()"
   ]
  },
  {
   "cell_type": "code",
   "execution_count": 38,
   "metadata": {},
   "outputs": [
    {
     "data": {
      "image/png": "[encoded data removed]",
      "text/plain": [
       "<Figure size 306x360 with 1 Axes>"
      ]
     },
     "metadata": {},
     "output_type": "display_data"
    },
    {
     "data": {
      "image/png": "[encoded data removed]",
      "text/plain": [
       "<Figure size 306x360 with 1 Axes>"
      ]
     },
     "metadata": {},
     "output_type": "display_data"
    },
    {
     "data": {
      "image/png": "[encoded data removed]",
      "text/plain": [
       "<Figure size 306x360 with 1 Axes>"
      ]
     },
     "metadata": {},
     "output_type": "display_data"
    },
    {
     "data": {
      "image/png": "[encoded data removed]",
      "text/plain": [
       "<Figure size 306x360 with 1 Axes>"
      ]
     },
     "metadata": {},
     "output_type": "display_data"
    },
    {
     "data": {
      "image/png": "[encoded data removed]",
      "text/plain": [
       "<Figure size 306x360 with 1 Axes>"
      ]
     },
     "metadata": {},
     "output_type": "display_data"
    },
    {
     "data": {
      "image/png": "[encoded data removed]",
      "text/plain": [
       "<Figure size 306x360 with 1 Axes>"
      ]
     },
     "metadata": {},
     "output_type": "display_data"
    },
    {
     "data": {
      "image/png": "[encoded data removed]",
      "text/plain": [
       "<Figure size 306x360 with 1 Axes>"
      ]
     },
     "metadata": {},
     "output_type": "display_data"
    },
    {
     "data": {
      "image/png": "[encoded data removed]",
      "text/plain": [
       "<Figure size 306x360 with 1 Axes>"
      ]
     },
     "metadata": {},
     "output_type": "display_data"
    },
    {
     "data": {
      "image/png": "[encoded data removed]",
      "text/plain": [
       "<Figure size 306x360 with 1 Axes>"
      ]
     },
     "metadata": {},
     "output_type": "display_data"
    }
   ],
   "source": [
    "categorical.remove('city')\n",
    "sns.set(style=\"darkgrid\")\n",
    "for col in categorical:\n",
    "    sns.displot(x=X_train[col],aspect=0.85)"
   ]
  },
  {
   "cell_type": "code",
   "execution_count": 39,
   "metadata": {},
   "outputs": [],
   "source": [
    "# first we transform feature relevent_experience into binary variables\n",
    "X_train.replace({'Has relevent experience':1, 'No relevent experience':0},inplace=True)\n",
    "X_test.replace({'Has relevent experience':1, 'No relevent experience':0},inplace=True)"
   ]
  },
  {
   "cell_type": "code",
   "execution_count": 40,
   "metadata": {},
   "outputs": [
    {
     "data": {
      "text/plain": [
       "50-99        7228\n",
       "100-500      2041\n",
       "10000+       1587\n",
       "10/49        1183\n",
       "<10          1062\n",
       "1000-4999    1062\n",
       "500-999       710\n",
       "5000-9999     453\n",
       "Name: company_size, dtype: int64"
      ]
     },
     "execution_count": 40,
     "metadata": {},
     "output_type": "execute_result"
    }
   ],
   "source": [
    "X_train['company_size'].value_counts()"
   ]
  },
  {
   "cell_type": "code",
   "execution_count": 41,
   "metadata": {},
   "outputs": [],
   "source": [
    "# encode feature last_new_job, we need numerical variables\n",
    "X_train['last_new_job'].replace('never','0',inplace=True)\n",
    "X_train['last_new_job'].replace('>4','5',inplace=True)\n",
    "\n",
    "X_test['last_new_job'].replace('never','0',inplace=True)\n",
    "X_test['last_new_job'].replace('>4','5',inplace=True)\n",
    "\n",
    "X_train['last_new_job'] = X_train['last_new_job'].apply(pd.to_numeric)\n",
    "X_test['last_new_job'] = X_test['last_new_job'].apply(pd.to_numeric)"
   ]
  },
  {
   "cell_type": "code",
   "execution_count": 42,
   "metadata": {},
   "outputs": [],
   "source": [
    "# encode feature company_size into four categories and reduce the cardinality\n",
    "def size_reduce(dataset,col):\n",
    "    dataset[col].replace(['10000+','5000-9999'],'very large',inplace=True)\n",
    "    dataset[col].replace(['1000-4999','500-999'],'large',inplace=True)\n",
    "    dataset[col].replace(['100-500','50-99'],'medium',inplace=True)\n",
    "    dataset[col].replace(['10/49','<10'],'small',inplace=True)"
   ]
  },
  {
   "cell_type": "code",
   "execution_count": 43,
   "metadata": {},
   "outputs": [],
   "source": [
    "size_reduce(X_train,'company_size')\n",
    "size_reduce(X_test,'company_size')"
   ]
  },
  {
   "cell_type": "code",
   "execution_count": 44,
   "metadata": {},
   "outputs": [
    {
     "data": {
      "text/plain": [
       "OneHotEncoder(drop_last=True,\n",
       "              variables=['experience', 'gender', 'company_size',\n",
       "                         'enrolled_university', 'education_level',\n",
       "                         'major_discipline', 'company_type'])"
      ]
     },
     "execution_count": 44,
     "metadata": {},
     "output_type": "execute_result"
    }
   ],
   "source": [
    "# for categorical variables we use onehotencoder\n",
    "from feature_engine.encoding import OneHotEncoder\n",
    "ohe_enc = OneHotEncoder(\n",
    "    top_categories=None,\n",
    "    variables=['experience','gender', 'company_size','enrolled_university','education_level','major_discipline','company_type'],\n",
    "    drop_last=True)  # to return k-1\n",
    "\n",
    "ohe_enc.fit(X_train)"
   ]
  },
  {
   "cell_type": "code",
   "execution_count": 45,
   "metadata": {},
   "outputs": [],
   "source": [
    "X_train = ohe_enc.transform(X_train)\n",
    "X_test = ohe_enc.transform(X_test)"
   ]
  },
  {
   "cell_type": "code",
   "execution_count": 46,
   "metadata": {},
   "outputs": [
    {
     "data": {
      "text/plain": [
       "['experience',\n",
       " 'gender',\n",
       " 'company_size',\n",
       " 'enrolled_university',\n",
       " 'education_level',\n",
       " 'major_discipline',\n",
       " 'company_type']"
      ]
     },
     "execution_count": 46,
     "metadata": {},
     "output_type": "execute_result"
    }
   ],
   "source": [
    "ohe_enc.variables"
   ]
  },
  {
   "cell_type": "markdown",
   "metadata": {},
   "source": [
    "#### \n",
    "### Outlier Engineering"
   ]
  },
  {
   "cell_type": "code",
   "execution_count": 47,
   "metadata": {},
   "outputs": [
    {
     "data": {
      "text/plain": [
       "Index(['city_development_index', 'gender_na', 'major_discipline_na',\n",
       "       'company_size_na', 'company_type_na', 'city_103', 'city_21', 'city_16',\n",
       "       'city_114', 'city_160', 'experience_over 20 years',\n",
       "       'experience_10-20 years', 'experience_less than 5 years', 'gender_Male',\n",
       "       'gender_Female', 'company_size_large', 'company_size_medium',\n",
       "       'company_size_small', 'enrolled_university_no_enrollment',\n",
       "       'enrolled_university_Full time course', 'education_level_Masters',\n",
       "       'education_level_Graduate', 'education_level_High School',\n",
       "       'education_level_Primary School', 'major_discipline_STEM',\n",
       "       'major_discipline_Other', 'major_discipline_Humanities',\n",
       "       'major_discipline_Arts', 'major_discipline_No Major',\n",
       "       'company_type_Public Sector', 'company_type_Pvt Ltd',\n",
       "       'company_type_Funded Startup', 'company_type_Early Stage Startup',\n",
       "       'company_type_NGO'],\n",
       "      dtype='object')"
      ]
     },
     "execution_count": 47,
     "metadata": {},
     "output_type": "execute_result"
    }
   ],
   "source": [
    "# show all int and float values\n",
    "X_train.select_dtypes(['int','float']).columns"
   ]
  },
  {
   "cell_type": "code",
   "execution_count": 48,
   "metadata": {
    "scrolled": true
   },
   "outputs": [
    {
     "data": {
      "text/plain": [
       "<AxesSubplot:xlabel='city_development_index'>"
      ]
     },
     "execution_count": 48,
     "metadata": {},
     "output_type": "execute_result"
    },
    {
     "data": {
      "image/png": "[encoded data removed]",
      "text/plain": [
       "<Figure size 1152x288 with 2 Axes>"
      ]
     },
     "metadata": {},
     "output_type": "display_data"
    }
   ],
   "source": [
    "# show the distribution of each continuous features\n",
    "plt.figure(figsize=(16, 4))    \n",
    "\n",
    "plt.subplot(1, 3, 1)\n",
    "sns.histplot(x='city_development_index',data=X_train,bins=80)\n",
    "\n",
    "plt.subplot(1, 3, 2)    \n",
    "sns.boxplot(x='city_development_index',data=X_train)"
   ]
  },
  {
   "cell_type": "code",
   "execution_count": 49,
   "metadata": {},
   "outputs": [
    {
     "data": {
      "text/plain": [
       "ArbitraryOutlierCapper(min_capping_dict={'city_development_index': 0.5})"
      ]
     },
     "execution_count": 49,
     "metadata": {},
     "output_type": "execute_result"
    }
   ],
   "source": [
    "# import library to handle the outliers\n",
    "from feature_engine.outliers import ArbitraryOutlierCapper\n",
    "\n",
    "capper = ArbitraryOutlierCapper(max_capping_dict=None,min_capping_dict={'city_development_index':0.5})\n",
    "capper.fit(X_train)"
   ]
  },
  {
   "cell_type": "code",
   "execution_count": 50,
   "metadata": {},
   "outputs": [],
   "source": [
    "X_train = capper.transform(X_train)\n",
    "X_test = capper.transform(X_test)"
   ]
  },
  {
   "cell_type": "markdown",
   "metadata": {},
   "source": [
    "#### \n",
    "### Feature Selection with feature engine"
   ]
  },
  {
   "cell_type": "code",
   "execution_count": 51,
   "metadata": {},
   "outputs": [
    {
     "name": "stdout",
     "output_type": "stream",
     "text": [
      "[]\n"
     ]
    }
   ],
   "source": [
    "# find the columns with constant and quasi-constant feature\n",
    "constant_features = [feat for feat in X_train.columns if X_train[feat].std() == 0]\n",
    "print(constant_features) # there are no constant features"
   ]
  },
  {
   "cell_type": "code",
   "execution_count": 52,
   "metadata": {},
   "outputs": [
    {
     "data": {
      "text/plain": [
       "VarianceThreshold(threshold=0.01)"
      ]
     },
     "execution_count": 52,
     "metadata": {},
     "output_type": "execute_result"
    }
   ],
   "source": [
    "# select coloumns with quasi_constant feature\n",
    "from sklearn.feature_selection import VarianceThreshold\n",
    "\n",
    "sel = VarianceThreshold(threshold = 0.01)\n",
    "sel.fit(X_train)"
   ]
  },
  {
   "cell_type": "code",
   "execution_count": 53,
   "metadata": {},
   "outputs": [
    {
     "data": {
      "text/plain": [
       "0"
      ]
     },
     "execution_count": 53,
     "metadata": {},
     "output_type": "execute_result"
    }
   ],
   "source": [
    "# print the number of quasi-constant features\n",
    "quasi_constant = X_train.columns[~sel.get_support()]\n",
    "\n",
    "len(quasi_constant)"
   ]
  },
  {
   "cell_type": "code",
   "execution_count": 54,
   "metadata": {},
   "outputs": [
    {
     "name": "stdout",
     "output_type": "stream",
     "text": [
      "0\n",
      "10\n",
      "20\n",
      "30\n"
     ]
    },
    {
     "data": {
      "text/plain": [
       "0"
      ]
     },
     "execution_count": 54,
     "metadata": {},
     "output_type": "execute_result"
    }
   ],
   "source": [
    "# check for duplicated features in the training set\n",
    "\n",
    "duplicated_feat = []\n",
    "for i in range(0, len(X_train.columns)):\n",
    "    if i % 10 == 0:\n",
    "        print(i)\n",
    "\n",
    "    col_1 = X_train.columns[i]\n",
    "\n",
    "    for col_2 in X_train.columns[i + 1:]:\n",
    "        if X_train[col_1].equals(X_train[col_2]):\n",
    "            duplicated_feat.append(col_2)\n",
    "            \n",
    "len(duplicated_feat)"
   ]
  },
  {
   "cell_type": "code",
   "execution_count": 55,
   "metadata": {},
   "outputs": [
    {
     "name": "stdout",
     "output_type": "stream",
     "text": [
      "correlated features:  1\n"
     ]
    },
    {
     "data": {
      "text/plain": [
       "((15326, 36), (3832, 36))"
      ]
     },
     "execution_count": 55,
     "metadata": {},
     "output_type": "execute_result"
    }
   ],
   "source": [
    "# find and drop correlated features\n",
    "def correlation(dataset, threshold):\n",
    "    col_corr = set()\n",
    "    corr_matrix = dataset.corr()\n",
    "    for i in range(len(corr_matrix.columns)):\n",
    "        for j in range(i):\n",
    "            if abs(corr_matrix.iloc[i, j]) > threshold: \n",
    "                colname = corr_matrix.columns[i]  # getting the name of column\n",
    "                col_corr.add(colname)\n",
    "    return col_corr\n",
    "\n",
    "corr_features = correlation(X_train, 0.9)\n",
    "print('correlated features: ', len(set(corr_features)) )\n",
    "\n",
    "# removed correlated  features\n",
    "X_train.drop(labels=corr_features, axis=1, inplace=True)\n",
    "X_test.drop(labels=corr_features, axis=1, inplace=True)\n",
    "\n",
    "X_train.shape, X_test.shape"
   ]
  },
  {
   "cell_type": "markdown",
   "metadata": {},
   "source": [
    "#### \n",
    "### Data preprocessing"
   ]
  },
  {
   "cell_type": "code",
   "execution_count": 56,
   "metadata": {},
   "outputs": [],
   "source": [
    "from sklearn.preprocessing import StandardScaler\n",
    "scaler = StandardScaler()\n",
    "\n",
    "scaler.fit(X_train)\n",
    "\n",
    "X_train = scaler.transform(X_train)\n",
    "X_test = scaler.transform(X_test)"
   ]
  },
  {
   "cell_type": "markdown",
   "metadata": {},
   "source": [
    "#### \n",
    "### Model building"
   ]
  },
  {
   "cell_type": "code",
   "execution_count": 57,
   "metadata": {},
   "outputs": [],
   "source": [
    "# import machine learning algorithm model\n",
    "from sklearn.tree import DecisionTreeClassifier\n",
    "from sklearn.linear_model import LogisticRegression\n",
    "from sklearn.svm import SVC\n",
    "from sklearn.neighbors import KNeighborsClassifier\n",
    "from sklearn.ensemble import RandomForestClassifier"
   ]
  },
  {
   "cell_type": "code",
   "execution_count": 58,
   "metadata": {},
   "outputs": [],
   "source": [
    "# train the model\n",
    "KNN = KNeighborsClassifier(n_neighbors=7)\n",
    "rfc = RandomForestClassifier(n_estimators=200)\n",
    "LR = LogisticRegression()\n",
    "dtree = DecisionTreeClassifier()\n",
    "svm = SVC(C=10,gamma=0.01)"
   ]
  },
  {
   "cell_type": "code",
   "execution_count": 59,
   "metadata": {},
   "outputs": [],
   "source": [
    "model_list = [rfc,LR,dtree,svm,KNN]"
   ]
  },
  {
   "cell_type": "code",
   "execution_count": 60,
   "metadata": {},
   "outputs": [
    {
     "name": "stdout",
     "output_type": "stream",
     "text": [
      "RandomForestClassifier(n_estimators=200)\n",
      "[[2540  328]\n",
      " [ 511  453]] \n",
      "\n",
      "              precision    recall  f1-score   support\n",
      "\n",
      "         0.0       0.83      0.89      0.86      2868\n",
      "         1.0       0.58      0.47      0.52       964\n",
      "\n",
      "    accuracy                           0.78      3832\n",
      "   macro avg       0.71      0.68      0.69      3832\n",
      "weighted avg       0.77      0.78      0.77      3832\n",
      "\n",
      "0.6777758005057959 \n",
      "\n",
      "LogisticRegression()\n",
      "[[2656  212]\n",
      " [ 633  331]] \n",
      "\n",
      "              precision    recall  f1-score   support\n",
      "\n",
      "         0.0       0.81      0.93      0.86      2868\n",
      "         1.0       0.61      0.34      0.44       964\n",
      "\n",
      "    accuracy                           0.78      3832\n",
      "   macro avg       0.71      0.63      0.65      3832\n",
      "weighted avg       0.76      0.78      0.76      3832\n",
      "\n",
      "0.6347209442293559 \n",
      "\n",
      "DecisionTreeClassifier()\n",
      "[[2287  581]\n",
      " [ 520  444]] \n",
      "\n",
      "              precision    recall  f1-score   support\n",
      "\n",
      "         0.0       0.81      0.80      0.81      2868\n",
      "         1.0       0.43      0.46      0.45       964\n",
      "\n",
      "    accuracy                           0.71      3832\n",
      "   macro avg       0.62      0.63      0.63      3832\n",
      "weighted avg       0.72      0.71      0.72      3832\n",
      "\n",
      "0.6290003588025255 \n",
      "\n",
      "SVC(C=10, gamma=0.01)\n",
      "[[2533  335]\n",
      " [ 445  519]] \n",
      "\n",
      "              precision    recall  f1-score   support\n",
      "\n",
      "         0.0       0.85      0.88      0.87      2868\n",
      "         1.0       0.61      0.54      0.57       964\n",
      "\n",
      "    accuracy                           0.80      3832\n",
      "   macro avg       0.73      0.71      0.72      3832\n",
      "weighted avg       0.79      0.80      0.79      3832\n",
      "\n",
      "0.7107878030289878 \n",
      "\n",
      "KNeighborsClassifier(n_neighbors=7)\n",
      "[[2548  320]\n",
      " [ 514  450]] \n",
      "\n",
      "              precision    recall  f1-score   support\n",
      "\n",
      "         0.0       0.83      0.89      0.86      2868\n",
      "         1.0       0.58      0.47      0.52       964\n",
      "\n",
      "    accuracy                           0.78      3832\n",
      "   macro avg       0.71      0.68      0.69      3832\n",
      "weighted avg       0.77      0.78      0.77      3832\n",
      "\n",
      "0.6776144840477556 \n",
      "\n"
     ]
    }
   ],
   "source": [
    "# evaluate the algorithm we just build\n",
    "from sklearn.metrics import classification_report,confusion_matrix,roc_auc_score\n",
    "\n",
    "for model in model_list:\n",
    "    model.fit(X_train,y_train)\n",
    "    pred = model.predict(X_test)\n",
    "    print(model)\n",
    "    print(confusion_matrix(y_test,pred),'\\n')\n",
    "    print(classification_report(y_test,pred))\n",
    "    print(roc_auc_score(y_test,pred),'\\n')"
   ]
  },
  {
   "cell_type": "code",
   "execution_count": null,
   "metadata": {},
   "outputs": [],
   "source": []
  },
  {
   "cell_type": "code",
   "execution_count": null,
   "metadata": {},
   "outputs": [],
   "source": []
  }
 ],
 "metadata": {
  "kernelspec": {
   "display_name": "Python 3",
   "language": "python",
   "name": "python3"
  },
  "language_info": {
   "codemirror_mode": {
    "name": "ipython",
    "version": 3
   },
   "file_extension": ".py",
   "mimetype": "text/x-python",
   "name": "python",
   "nbconvert_exporter": "python",
   "pygments_lexer": "ipython3",
   "version": "3.8.5"
  }
 },
 "nbformat": 4,
 "nbformat_minor": 4
}
